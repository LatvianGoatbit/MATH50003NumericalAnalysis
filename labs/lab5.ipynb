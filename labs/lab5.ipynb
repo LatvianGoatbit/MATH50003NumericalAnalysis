{
 "cells": [
  {
   "cell_type": "markdown",
   "metadata": {},
   "source": [
    "# MATH50003 (2024–25)\n",
    "# Lab 5: III.2 LU Factorisation and III.3 Cholesky Factorisation"
   ]
  },
  {
   "cell_type": "markdown",
   "metadata": {},
   "source": [
    "In this lab we explore using LU, PLU and Cholesky factorisations, and\n",
    "implement algorithms for computing a Cholesky factorisation. We explore\n",
    "stability properties of these different factorisations, and see that the\n",
    "Cholesky factorisation is a robust way of determining if a matrix is symmetric\n",
    "postive definite."
   ]
  },
  {
   "cell_type": "markdown",
   "metadata": {},
   "source": [
    "**Learning Outcomes**\n",
    "\n",
    "Mathematical knowledge:\n",
    "\n",
    "1. LU and PLU factorisations\n",
    "2. Cholesky and reverse Cholesky factorisations, including for banded matrices."
   ]
  },
  {
   "cell_type": "markdown",
   "metadata": {},
   "source": [
    "Coding knowledge:\n",
    "\n",
    "1. Using the `lu` and `cholesky` functions."
   ]
  },
  {
   "cell_type": "markdown",
   "metadata": {},
   "source": [
    "We load the following packages:"
   ]
  },
  {
   "cell_type": "code",
   "execution_count": 2,
   "metadata": {},
   "outputs": [],
   "source": [
    "using LinearAlgebra, Plots, Test"
   ]
  },
  {
   "cell_type": "markdown",
   "metadata": {},
   "source": [
    "### III.2 LU and PLU Factorisations"
   ]
  },
  {
   "cell_type": "markdown",
   "metadata": {},
   "source": [
    "LU, PLU and Cholesky factorisations are closely related\n",
    "matrix factorisations that reduce a square matrix to a product of\n",
    "lower and upper triangular matrices, possibly with a permutation matrix.\n",
    "We will only focus on the practical usage of LU and PLU, without digging into the\n",
    "details of implementation."
   ]
  },
  {
   "cell_type": "markdown",
   "metadata": {},
   "source": [
    "### III.2.1 LU Factorisation"
   ]
  },
  {
   "cell_type": "markdown",
   "metadata": {},
   "source": [
    "If $A ∈ 𝔽^{n × n}$ is a square matrix where $𝔽$ is a field ($ℝ$ or $ℂ$)\n",
    "then we can sometimes find lower and upper triangular matrices $L,U ∈ 𝔽^{n × n}$ such that\n",
    "$$\n",
    "A = LU.\n",
    "$$\n",
    "This is equivalent to Gaussian elimination but we will only focus on practical usage in this lab.\n",
    "This factorisation can be computed using the `lu` function, but as the default is a PLU factorisation we add a flag\n",
    "telling it not to use pivoting/permutations:"
   ]
  },
  {
   "cell_type": "code",
   "execution_count": 3,
   "metadata": {},
   "outputs": [
    {
     "data": {
      "text/plain": [
       "LU{Float64, Matrix{Float64}, Vector{Int64}}\n",
       "L factor:\n",
       "3×3 Matrix{Float64}:\n",
       " 1.0  0.0  0.0\n",
       " 2.0  1.0  0.0\n",
       " 1.0  1.5  1.0\n",
       "U factor:\n",
       "3×3 Matrix{Float64}:\n",
       " 1.0  1.0   1.0\n",
       " 0.0  2.0   6.0\n",
       " 0.0  0.0  -1.0"
      ]
     },
     "metadata": {},
     "output_type": "display_data"
    }
   ],
   "source": [
    "A = [1.0 1 1;\n",
    "     2   4 8;\n",
    "     1   4 9]\n",
    "\n",
    "L,U = lu(A, NoPivot()) # NoPivot is a flag that tells lu to not use permutations"
   ]
  },
  {
   "cell_type": "markdown",
   "metadata": {},
   "source": [
    "This matches what we derived by hand in the notes and indeed:"
   ]
  },
  {
   "cell_type": "code",
   "execution_count": 4,
   "metadata": {},
   "outputs": [
    {
     "data": {
      "text/plain": [
       "\u001b[32m\u001b[1mTest Passed\u001b[22m\u001b[39m"
      ]
     },
     "metadata": {},
     "output_type": "display_data"
    }
   ],
   "source": [
    "@test A ≈ L*U"
   ]
  },
  {
   "cell_type": "markdown",
   "metadata": {},
   "source": [
    "We can use an LU factorisation to reduce solving a linear system to inverting triangular matrices:"
   ]
  },
  {
   "cell_type": "code",
   "execution_count": 5,
   "metadata": {},
   "outputs": [
    {
     "data": {
      "text/plain": [
       "\u001b[32m\u001b[1mTest Passed\u001b[22m\u001b[39m"
      ]
     },
     "metadata": {},
     "output_type": "display_data"
    }
   ],
   "source": [
    "b = randn(3)\n",
    "c = L \\ b # computed using forward elimination (even though L is a Matrix, \\ detects it is lower triangular)\n",
    "x = U \\ c # computed using back substitution\n",
    "@test A \\ b ≈ x"
   ]
  },
  {
   "cell_type": "markdown",
   "metadata": {},
   "source": [
    "If a matrix has a zero on a pivot we know by equivalence to Gaussian elimination that an LU factorisation\n",
    "does not exist:"
   ]
  },
  {
   "cell_type": "code",
   "execution_count": 6,
   "metadata": {},
   "outputs": [
    {
     "ename": "ZeroPivotException",
     "evalue": "ZeroPivotException: factorization encountered one or more zero pivots. Consider switching to a pivoted LU factorization.",
     "output_type": "error",
     "traceback": [
      "ZeroPivotException: factorization encountered one or more zero pivots. Consider switching to a pivoted LU factorization.\n",
      "\n",
      "Stacktrace:\n",
      " [1] checknozeropivot\n",
      "   @ C:\\Users\\charu\\AppData\\Local\\Programs\\Julia-1.11.3\\share\\julia\\stdlib\\v1.11\\LinearAlgebra\\src\\factorization.jl:70 [inlined]\n",
      " [2] _check_lu_success\n",
      "   @ C:\\Users\\charu\\AppData\\Local\\Programs\\Julia-1.11.3\\share\\julia\\stdlib\\v1.11\\LinearAlgebra\\src\\lu.jl:82 [inlined]\n",
      " [3] generic_lufact!(A::Matrix{Float64}, pivot::NoPivot; check::Bool, allowsingular::Bool)\n",
      "   @ LinearAlgebra C:\\Users\\charu\\AppData\\Local\\Programs\\Julia-1.11.3\\share\\julia\\stdlib\\v1.11\\LinearAlgebra\\src\\lu.jl:214\n",
      " [4] generic_lufact!\n",
      "   @ C:\\Users\\charu\\AppData\\Local\\Programs\\Julia-1.11.3\\share\\julia\\stdlib\\v1.11\\LinearAlgebra\\src\\lu.jl:152 [inlined]\n",
      " [5] lu!\n",
      "   @ C:\\Users\\charu\\AppData\\Local\\Programs\\Julia-1.11.3\\share\\julia\\stdlib\\v1.11\\LinearAlgebra\\src\\lu.jl:151 [inlined]\n",
      " [6] _lu\n",
      "   @ C:\\Users\\charu\\AppData\\Local\\Programs\\Julia-1.11.3\\share\\julia\\stdlib\\v1.11\\LinearAlgebra\\src\\lu.jl:347 [inlined]\n",
      " [7] lu(A::Matrix{Float64}, args::NoPivot; kwargs::@Kwargs{})\n",
      "   @ LinearAlgebra C:\\Users\\charu\\AppData\\Local\\Programs\\Julia-1.11.3\\share\\julia\\stdlib\\v1.11\\LinearAlgebra\\src\\lu.jl:341\n",
      " [8] lu(A::Matrix{Float64}, args::NoPivot)\n",
      "   @ LinearAlgebra C:\\Users\\charu\\AppData\\Local\\Programs\\Julia-1.11.3\\share\\julia\\stdlib\\v1.11\\LinearAlgebra\\src\\lu.jl:341\n",
      " [9] top-level scope\n",
      "   @ c:\\Users\\charu\\OneDrive\\Documents\\GitHub\\MATH50003NumericalAnalysis\\labs\\jl_notebook_cell_df34fa98e69747e1a8f8a730347b8e2f_X22sZmlsZQ==.jl:2"
     ]
    }
   ],
   "source": [
    "A[1,1] = 0\n",
    "lu(A, NoPivot()) # throws an error"
   ]
  },
  {
   "cell_type": "markdown",
   "metadata": {},
   "source": [
    "But even if it has a very small but non-zero entry we get huge errors:"
   ]
  },
  {
   "cell_type": "code",
   "execution_count": 7,
   "metadata": {},
   "outputs": [
    {
     "data": {
      "text/plain": [
       "LU{Float64, Matrix{Float64}, Vector{Int64}}\n",
       "L factor:\n",
       "3×3 Matrix{Float64}:\n",
       " 1.0     0.0  0.0\n",
       " 2.0e14  1.0  0.0\n",
       " 1.0e14  0.5  1.0\n",
       "U factor:\n",
       "3×3 Matrix{Float64}:\n",
       " 1.0e-14   1.0      1.0\n",
       " 0.0      -2.0e14  -2.0e14\n",
       " 0.0       0.0      3.0"
      ]
     },
     "metadata": {},
     "output_type": "display_data"
    }
   ],
   "source": [
    "A[1,1] = 1E-14\n",
    "L,U = lu(A, NoPivot()) # Succeeds but suddenly U is on order of 2E14!"
   ]
  },
  {
   "cell_type": "code",
   "execution_count": 8,
   "metadata": {},
   "outputs": [
    {
     "data": {
      "text/plain": [
       "0.011310354440202588"
      ]
     },
     "metadata": {},
     "output_type": "display_data"
    }
   ],
   "source": [
    "norm(A \\ b - U\\(L\\b)) # Very large error! A \\ b uses pivoting now."
   ]
  },
  {
   "cell_type": "markdown",
   "metadata": {},
   "source": [
    "**WARNING** The parantheses are important: algebra is left-associative so had we written `U\\L\\b` this would have been interpreted as\n",
    "`(U\\L) \\ b` which would have meant `inv(inv(U)*L)*b == L \\ (U*b)`."
   ]
  },
  {
   "cell_type": "markdown",
   "metadata": {},
   "source": [
    "-----"
   ]
  },
  {
   "cell_type": "markdown",
   "metadata": {},
   "source": [
    "**Problem 1** For `A` defined above, consider setting  `A[1,1] = ε` for `ε = 10.0 ^ (-k)` for `k = 0,…,14`\n",
    "with the right-hand side `b = [1,2,3]`.\n",
    "Plot, scaling the $y$-axis logarithmically, the growth rate in the error of using LU compared to `\\`.\n",
    "Make a conjecture on how the error grows as $k → ∞$.\n",
    "Hint: you can either allocate a vector of errors that is populated in a for-loop or write a simple comprehension."
   ]
  },
  {
   "cell_type": "code",
   "execution_count": 9,
   "metadata": {},
   "outputs": [
    {
     "data": {
      "image/png": "[encoded data removed]",
      "image/svg+xml": [
       "<?xml version=\"1.0\" encoding=\"utf-8\"?>\n",
       "<svg xmlns=\"http://www.w3.org/2000/svg\" xmlns:xlink=\"http://www.w3.org/1999/xlink\" width=\"600\" height=\"400\" viewBox=\"0 0 2400 1600\">\n",
       "<defs>\n",
       "  <clipPath id=\"clip800\">\n",
       "    <rect x=\"0\" y=\"0\" width=\"2400\" height=\"1600\"/>\n",
       "  </clipPath>\n",
       "</defs>\n",
       "<path clip-path=\"url(#clip800)\" d=\"M0 1600 L2400 1600 L2400 0 L0 0  Z\" fill=\"#ffffff\" fill-rule=\"evenodd\" fill-opacity=\"1\"/>\n",
       "<defs>\n",
       "  <clipPath id=\"clip801\">\n",
       "    <rect x=\"480\" y=\"0\" width=\"1681\" height=\"1600\"/>\n",
       "  </clipPath>\n",
       "</defs>\n",
       "<path clip-path=\"url(#clip800)\" d=\"M214.002 1486.45 L2352.76 1486.45 L2352.76 47.2441 L214.002 47.2441  Z\" fill=\"#ffffff\" fill-rule=\"evenodd\" fill-opacity=\"1\"/>\n",
       "<defs>\n",
       "  <clipPath id=\"clip802\">\n",
       "    <rect x=\"214\" y=\"47\" width=\"2140\" height=\"1440\"/>\n",
       "  </clipPath>\n",
       "</defs>\n",
       "<polyline clip-path=\"url(#clip802)\" style=\"stroke:#000000; stroke-linecap:round; stroke-linejoin:round; stroke-width:2; stroke-opacity:0.1; fill:none\" points=\"274.533,1486.45 274.533,47.2441 \"/>\n",
       "<polyline clip-path=\"url(#clip802)\" style=\"stroke:#000000; stroke-linecap:round; stroke-linejoin:round; stroke-width:2; stroke-opacity:0.1; fill:none\" points=\"418.654,1486.45 418.654,47.2441 \"/>\n",
       "<polyline clip-path=\"url(#clip802)\" style=\"stroke:#000000; stroke-linecap:round; stroke-linejoin:round; stroke-width:2; stroke-opacity:0.1; fill:none\" points=\"562.775,1486.45 562.775,47.2441 \"/>\n",
       "<polyline clip-path=\"url(#clip802)\" style=\"stroke:#000000; stroke-linecap:round; stroke-linejoin:round; stroke-width:2; stroke-opacity:0.1; fill:none\" points=\"706.896,1486.45 706.896,47.2441 \"/>\n",
       "<polyline clip-path=\"url(#clip802)\" style=\"stroke:#000000; stroke-linecap:round; stroke-linejoin:round; stroke-width:2; stroke-opacity:0.1; fill:none\" points=\"851.017,1486.45 851.017,47.2441 \"/>\n",
       "<polyline clip-path=\"url(#clip802)\" style=\"stroke:#000000; stroke-linecap:round; stroke-linejoin:round; stroke-width:2; stroke-opacity:0.1; fill:none\" points=\"995.137,1486.45 995.137,47.2441 \"/>\n",
       "<polyline clip-path=\"url(#clip802)\" style=\"stroke:#000000; stroke-linecap:round; stroke-linejoin:round; stroke-width:2; stroke-opacity:0.1; fill:none\" points=\"1139.26,1486.45 1139.26,47.2441 \"/>\n",
       "<polyline clip-path=\"url(#clip802)\" style=\"stroke:#000000; stroke-linecap:round; stroke-linejoin:round; stroke-width:2; stroke-opacity:0.1; fill:none\" points=\"1283.38,1486.45 1283.38,47.2441 \"/>\n",
       "<polyline clip-path=\"url(#clip802)\" style=\"stroke:#000000; stroke-linecap:round; stroke-linejoin:round; stroke-width:2; stroke-opacity:0.1; fill:none\" points=\"1427.5,1486.45 1427.5,47.2441 \"/>\n",
       "<polyline clip-path=\"url(#clip802)\" style=\"stroke:#000000; stroke-linecap:round; stroke-linejoin:round; stroke-width:2; stroke-opacity:0.1; fill:none\" points=\"1571.62,1486.45 1571.62,47.2441 \"/>\n",
       "<polyline clip-path=\"url(#clip802)\" style=\"stroke:#000000; stroke-linecap:round; stroke-linejoin:round; stroke-width:2; stroke-opacity:0.1; fill:none\" points=\"1715.74,1486.45 1715.74,47.2441 \"/>\n",
       "<polyline clip-path=\"url(#clip802)\" style=\"stroke:#000000; stroke-linecap:round; stroke-linejoin:round; stroke-width:2; stroke-opacity:0.1; fill:none\" points=\"1859.86,1486.45 1859.86,47.2441 \"/>\n",
       "<polyline clip-path=\"url(#clip802)\" style=\"stroke:#000000; stroke-linecap:round; stroke-linejoin:round; stroke-width:2; stroke-opacity:0.1; fill:none\" points=\"2003.98,1486.45 2003.98,47.2441 \"/>\n",
       "<polyline clip-path=\"url(#clip802)\" style=\"stroke:#000000; stroke-linecap:round; stroke-linejoin:round; stroke-width:2; stroke-opacity:0.1; fill:none\" points=\"2148.1,1486.45 2148.1,47.2441 \"/>\n",
       "<polyline clip-path=\"url(#clip802)\" style=\"stroke:#000000; stroke-linecap:round; stroke-linejoin:round; stroke-width:2; stroke-opacity:0.1; fill:none\" points=\"2292.23,1486.45 2292.23,47.2441 \"/>\n",
       "<polyline clip-path=\"url(#clip802)\" style=\"stroke:#000000; stroke-linecap:round; stroke-linejoin:round; stroke-width:2; stroke-opacity:0.1; fill:none\" points=\"214.002,1397.28 2352.76,1397.28 \"/>\n",
       "<polyline clip-path=\"url(#clip802)\" style=\"stroke:#000000; stroke-linecap:round; stroke-linejoin:round; stroke-width:2; stroke-opacity:0.1; fill:none\" points=\"214.002,1288.66 2352.76,1288.66 \"/>\n",
       "<polyline clip-path=\"url(#clip802)\" style=\"stroke:#000000; stroke-linecap:round; stroke-linejoin:round; stroke-width:2; stroke-opacity:0.1; fill:none\" points=\"214.002,1180.03 2352.76,1180.03 \"/>\n",
       "<polyline clip-path=\"url(#clip802)\" style=\"stroke:#000000; stroke-linecap:round; stroke-linejoin:round; stroke-width:2; stroke-opacity:0.1; fill:none\" points=\"214.002,1071.41 2352.76,1071.41 \"/>\n",
       "<polyline clip-path=\"url(#clip802)\" style=\"stroke:#000000; stroke-linecap:round; stroke-linejoin:round; stroke-width:2; stroke-opacity:0.1; fill:none\" points=\"214.002,962.784 2352.76,962.784 \"/>\n",
       "<polyline clip-path=\"url(#clip802)\" style=\"stroke:#000000; stroke-linecap:round; stroke-linejoin:round; stroke-width:2; stroke-opacity:0.1; fill:none\" points=\"214.002,854.159 2352.76,854.159 \"/>\n",
       "<polyline clip-path=\"url(#clip802)\" style=\"stroke:#000000; stroke-linecap:round; stroke-linejoin:round; stroke-width:2; stroke-opacity:0.1; fill:none\" points=\"214.002,745.534 2352.76,745.534 \"/>\n",
       "<polyline clip-path=\"url(#clip802)\" style=\"stroke:#000000; stroke-linecap:round; stroke-linejoin:round; stroke-width:2; stroke-opacity:0.1; fill:none\" points=\"214.002,636.91 2352.76,636.91 \"/>\n",
       "<polyline clip-path=\"url(#clip802)\" style=\"stroke:#000000; stroke-linecap:round; stroke-linejoin:round; stroke-width:2; stroke-opacity:0.1; fill:none\" points=\"214.002,528.285 2352.76,528.285 \"/>\n",
       "<polyline clip-path=\"url(#clip802)\" style=\"stroke:#000000; stroke-linecap:round; stroke-linejoin:round; stroke-width:2; stroke-opacity:0.1; fill:none\" points=\"214.002,419.66 2352.76,419.66 \"/>\n",
       "<polyline clip-path=\"url(#clip802)\" style=\"stroke:#000000; stroke-linecap:round; stroke-linejoin:round; stroke-width:2; stroke-opacity:0.1; fill:none\" points=\"214.002,311.035 2352.76,311.035 \"/>\n",
       "<polyline clip-path=\"url(#clip802)\" style=\"stroke:#000000; stroke-linecap:round; stroke-linejoin:round; stroke-width:2; stroke-opacity:0.1; fill:none\" points=\"214.002,202.41 2352.76,202.41 \"/>\n",
       "<polyline clip-path=\"url(#clip802)\" style=\"stroke:#000000; stroke-linecap:round; stroke-linejoin:round; stroke-width:2; stroke-opacity:0.1; fill:none\" points=\"214.002,93.7851 2352.76,93.7851 \"/>\n",
       "<polyline clip-path=\"url(#clip800)\" style=\"stroke:#000000; stroke-linecap:round; stroke-linejoin:round; stroke-width:4; stroke-opacity:1; fill:none\" points=\"214.002,1486.45 2352.76,1486.45 \"/>\n",
       "<polyline clip-path=\"url(#clip800)\" style=\"stroke:#000000; stroke-linecap:round; stroke-linejoin:round; stroke-width:4; stroke-opacity:1; fill:none\" points=\"274.533,1486.45 274.533,1467.55 \"/>\n",
       "<polyline clip-path=\"url(#clip800)\" style=\"stroke:#000000; stroke-linecap:round; stroke-linejoin:round; stroke-width:4; stroke-opacity:1; fill:none\" points=\"418.654,1486.45 418.654,1467.55 \"/>\n",
       "<polyline clip-path=\"url(#clip800)\" style=\"stroke:#000000; stroke-linecap:round; stroke-linejoin:round; stroke-width:4; stroke-opacity:1; fill:none\" points=\"562.775,1486.45 562.775,1467.55 \"/>\n",
       "<polyline clip-path=\"url(#clip800)\" style=\"stroke:#000000; stroke-linecap:round; stroke-linejoin:round; stroke-width:4; stroke-opacity:1; fill:none\" points=\"706.896,1486.45 706.896,1467.55 \"/>\n",
       "<polyline clip-path=\"url(#clip800)\" style=\"stroke:#000000; stroke-linecap:round; stroke-linejoin:round; stroke-width:4; stroke-opacity:1; fill:none\" points=\"851.017,1486.45 851.017,1467.55 \"/>\n",
       "<polyline clip-path=\"url(#clip800)\" style=\"stroke:#000000; stroke-linecap:round; stroke-linejoin:round; stroke-width:4; stroke-opacity:1; fill:none\" points=\"995.137,1486.45 995.137,1467.55 \"/>\n",
       "<polyline clip-path=\"url(#clip800)\" style=\"stroke:#000000; stroke-linecap:round; stroke-linejoin:round; stroke-width:4; stroke-opacity:1; fill:none\" points=\"1139.26,1486.45 1139.26,1467.55 \"/>\n",
       "<polyline clip-path=\"url(#clip800)\" style=\"stroke:#000000; stroke-linecap:round; stroke-linejoin:round; stroke-width:4; stroke-opacity:1; fill:none\" points=\"1283.38,1486.45 1283.38,1467.55 \"/>\n",
       "<polyline clip-path=\"url(#clip800)\" style=\"stroke:#000000; stroke-linecap:round; stroke-linejoin:round; stroke-width:4; stroke-opacity:1; fill:none\" points=\"1427.5,1486.45 1427.5,1467.55 \"/>\n",
       "<polyline clip-path=\"url(#clip800)\" style=\"stroke:#000000; stroke-linecap:round; stroke-linejoin:round; stroke-width:4; stroke-opacity:1; fill:none\" points=\"1571.62,1486.45 1571.62,1467.55 \"/>\n",
       "<polyline clip-path=\"url(#clip800)\" style=\"stroke:#000000; stroke-linecap:round; stroke-linejoin:round; stroke-width:4; stroke-opacity:1; fill:none\" points=\"1715.74,1486.45 1715.74,1467.55 \"/>\n",
       "<polyline clip-path=\"url(#clip800)\" style=\"stroke:#000000; stroke-linecap:round; stroke-linejoin:round; stroke-width:4; stroke-opacity:1; fill:none\" points=\"1859.86,1486.45 1859.86,1467.55 \"/>\n",
       "<polyline clip-path=\"url(#clip800)\" style=\"stroke:#000000; stroke-linecap:round; stroke-linejoin:round; stroke-width:4; stroke-opacity:1; fill:none\" points=\"2003.98,1486.45 2003.98,1467.55 \"/>\n",
       "<polyline clip-path=\"url(#clip800)\" style=\"stroke:#000000; stroke-linecap:round; stroke-linejoin:round; stroke-width:4; stroke-opacity:1; fill:none\" points=\"2148.1,1486.45 2148.1,1467.55 \"/>\n",
       "<polyline clip-path=\"url(#clip800)\" style=\"stroke:#000000; stroke-linecap:round; stroke-linejoin:round; stroke-width:4; stroke-opacity:1; fill:none\" points=\"2292.23,1486.45 2292.23,1467.55 \"/>\n",
       "<path clip-path=\"url(#clip800)\" d=\"M274.533 1517.37 Q270.922 1517.37 269.093 1520.93 Q267.288 1524.47 267.288 1531.6 Q267.288 1538.71 269.093 1542.27 Q270.922 1545.82 274.533 1545.82 Q278.167 1545.82 279.973 1542.27 Q281.802 1538.71 281.802 1531.6 Q281.802 1524.47 279.973 1520.93 Q278.167 1517.37 274.533 1517.37 M274.533 1513.66 Q280.343 1513.66 283.399 1518.27 Q286.478 1522.85 286.478 1531.6 Q286.478 1540.33 283.399 1544.94 Q280.343 1549.52 274.533 1549.52 Q268.723 1549.52 265.644 1544.94 Q262.589 1540.33 262.589 1531.6 Q262.589 1522.85 265.644 1518.27 Q268.723 1513.66 274.533 1513.66 Z\" fill=\"#000000\" fill-rule=\"nonzero\" fill-opacity=\"1\" /><path clip-path=\"url(#clip800)\" d=\"M409.036 1544.91 L416.675 1544.91 L416.675 1518.55 L408.365 1520.21 L408.365 1515.95 L416.629 1514.29 L421.305 1514.29 L421.305 1544.91 L428.943 1544.91 L428.943 1548.85 L409.036 1548.85 L409.036 1544.91 Z\" fill=\"#000000\" fill-rule=\"nonzero\" fill-opacity=\"1\" /><path clip-path=\"url(#clip800)\" d=\"M557.428 1544.91 L573.747 1544.91 L573.747 1548.85 L551.803 1548.85 L551.803 1544.91 Q554.465 1542.16 559.048 1537.53 Q563.655 1532.88 564.835 1531.53 Q567.08 1529.01 567.96 1527.27 Q568.863 1525.51 568.863 1523.82 Q568.863 1521.07 566.918 1519.33 Q564.997 1517.6 561.895 1517.6 Q559.696 1517.6 557.243 1518.36 Q554.812 1519.13 552.034 1520.68 L552.034 1515.95 Q554.858 1514.82 557.312 1514.24 Q559.766 1513.66 561.803 1513.66 Q567.173 1513.66 570.367 1516.35 Q573.562 1519.03 573.562 1523.52 Q573.562 1525.65 572.752 1527.57 Q571.965 1529.47 569.858 1532.07 Q569.28 1532.74 566.178 1535.95 Q563.076 1539.15 557.428 1544.91 Z\" fill=\"#000000\" fill-rule=\"nonzero\" fill-opacity=\"1\" /><path clip-path=\"url(#clip800)\" d=\"M711.143 1530.21 Q714.5 1530.93 716.375 1533.2 Q718.273 1535.47 718.273 1538.8 Q718.273 1543.92 714.755 1546.72 Q711.236 1549.52 704.755 1549.52 Q702.579 1549.52 700.264 1549.08 Q697.972 1548.66 695.519 1547.81 L695.519 1543.29 Q697.463 1544.43 699.778 1545.01 Q702.093 1545.58 704.616 1545.58 Q709.014 1545.58 711.305 1543.85 Q713.62 1542.11 713.62 1538.8 Q713.62 1535.75 711.467 1534.03 Q709.338 1532.3 705.518 1532.3 L701.491 1532.3 L701.491 1528.45 L705.704 1528.45 Q709.153 1528.45 710.981 1527.09 Q712.81 1525.7 712.81 1523.11 Q712.81 1520.45 710.912 1519.03 Q709.037 1517.6 705.518 1517.6 Q703.597 1517.6 701.398 1518.01 Q699.199 1518.43 696.56 1519.31 L696.56 1515.14 Q699.222 1514.4 701.537 1514.03 Q703.875 1513.66 705.935 1513.66 Q711.259 1513.66 714.361 1516.09 Q717.463 1518.5 717.463 1522.62 Q717.463 1525.49 715.819 1527.48 Q714.176 1529.45 711.143 1530.21 Z\" fill=\"#000000\" fill-rule=\"nonzero\" fill-opacity=\"1\" /><path clip-path=\"url(#clip800)\" d=\"M854.026 1518.36 L842.22 1536.81 L854.026 1536.81 L854.026 1518.36 M852.799 1514.29 L858.679 1514.29 L858.679 1536.81 L863.609 1536.81 L863.609 1540.7 L858.679 1540.7 L858.679 1548.85 L854.026 1548.85 L854.026 1540.7 L838.424 1540.7 L838.424 1536.19 L852.799 1514.29 Z\" fill=\"#000000\" fill-rule=\"nonzero\" fill-opacity=\"1\" /><path clip-path=\"url(#clip800)\" d=\"M985.415 1514.29 L1003.77 1514.29 L1003.77 1518.22 L989.698 1518.22 L989.698 1526.7 Q990.716 1526.35 991.735 1526.19 Q992.753 1526 993.772 1526 Q999.559 1526 1002.94 1529.17 Q1006.32 1532.34 1006.32 1537.76 Q1006.32 1543.34 1002.85 1546.44 Q999.374 1549.52 993.054 1549.52 Q990.878 1549.52 988.61 1549.15 Q986.364 1548.78 983.957 1548.04 L983.957 1543.34 Q986.04 1544.47 988.263 1545.03 Q990.485 1545.58 992.962 1545.58 Q996.966 1545.58 999.304 1543.48 Q1001.64 1541.37 1001.64 1537.76 Q1001.64 1534.15 999.304 1532.04 Q996.966 1529.94 992.962 1529.94 Q991.087 1529.94 989.212 1530.35 Q987.36 1530.77 985.415 1531.65 L985.415 1514.29 Z\" fill=\"#000000\" fill-rule=\"nonzero\" fill-opacity=\"1\" /><path clip-path=\"url(#clip800)\" d=\"M1139.66 1529.7 Q1136.52 1529.7 1134.66 1531.86 Q1132.83 1534.01 1132.83 1537.76 Q1132.83 1541.49 1134.66 1543.66 Q1136.52 1545.82 1139.66 1545.82 Q1142.81 1545.82 1144.64 1543.66 Q1146.49 1541.49 1146.49 1537.76 Q1146.49 1534.01 1144.64 1531.86 Q1142.81 1529.7 1139.66 1529.7 M1148.95 1515.05 L1148.95 1519.31 Q1147.19 1518.48 1145.38 1518.04 Q1143.6 1517.6 1141.84 1517.6 Q1137.21 1517.6 1134.76 1520.72 Q1132.33 1523.85 1131.98 1530.17 Q1133.34 1528.15 1135.4 1527.09 Q1137.46 1526 1139.94 1526 Q1145.15 1526 1148.16 1529.17 Q1151.19 1532.32 1151.19 1537.76 Q1151.19 1543.08 1148.04 1546.3 Q1144.89 1549.52 1139.66 1549.52 Q1133.67 1549.52 1130.5 1544.94 Q1127.33 1540.33 1127.33 1531.6 Q1127.33 1523.41 1131.21 1518.55 Q1135.1 1513.66 1141.65 1513.66 Q1143.41 1513.66 1145.2 1514.01 Q1147 1514.36 1148.95 1515.05 Z\" fill=\"#000000\" fill-rule=\"nonzero\" fill-opacity=\"1\" /><path clip-path=\"url(#clip800)\" d=\"M1272.27 1514.29 L1294.49 1514.29 L1294.49 1516.28 L1281.94 1548.85 L1277.06 1548.85 L1288.87 1518.22 L1272.27 1518.22 L1272.27 1514.29 Z\" fill=\"#000000\" fill-rule=\"nonzero\" fill-opacity=\"1\" /><path clip-path=\"url(#clip800)\" d=\"M1427.5 1532.44 Q1424.17 1532.44 1422.25 1534.22 Q1420.35 1536 1420.35 1539.13 Q1420.35 1542.25 1422.25 1544.03 Q1424.17 1545.82 1427.5 1545.82 Q1430.83 1545.82 1432.75 1544.03 Q1434.68 1542.23 1434.68 1539.13 Q1434.68 1536 1432.75 1534.22 Q1430.86 1532.44 1427.5 1532.44 M1422.82 1530.45 Q1419.81 1529.7 1418.13 1527.64 Q1416.46 1525.58 1416.46 1522.62 Q1416.46 1518.48 1419.4 1516.07 Q1422.36 1513.66 1427.5 1513.66 Q1432.66 1513.66 1435.6 1516.07 Q1438.54 1518.48 1438.54 1522.62 Q1438.54 1525.58 1436.85 1527.64 Q1435.19 1529.7 1432.2 1530.45 Q1435.58 1531.23 1437.45 1533.52 Q1439.35 1535.82 1439.35 1539.13 Q1439.35 1544.15 1436.27 1546.83 Q1433.22 1549.52 1427.5 1549.52 Q1421.78 1549.52 1418.7 1546.83 Q1415.65 1544.15 1415.65 1539.13 Q1415.65 1535.82 1417.55 1533.52 Q1419.44 1531.23 1422.82 1530.45 M1421.11 1523.06 Q1421.11 1525.75 1422.78 1527.25 Q1424.47 1528.76 1427.5 1528.76 Q1430.51 1528.76 1432.2 1527.25 Q1433.91 1525.75 1433.91 1523.06 Q1433.91 1520.38 1432.2 1518.87 Q1430.51 1517.37 1427.5 1517.37 Q1424.47 1517.37 1422.78 1518.87 Q1421.11 1520.38 1421.11 1523.06 Z\" fill=\"#000000\" fill-rule=\"nonzero\" fill-opacity=\"1\" /><path clip-path=\"url(#clip800)\" d=\"M1561.92 1548.13 L1561.92 1543.87 Q1563.68 1544.7 1565.49 1545.14 Q1567.29 1545.58 1569.03 1545.58 Q1573.66 1545.58 1576.09 1542.48 Q1578.54 1539.36 1578.89 1533.01 Q1577.55 1535.01 1575.49 1536.07 Q1573.43 1537.13 1570.93 1537.13 Q1565.74 1537.13 1562.71 1534.01 Q1559.7 1530.86 1559.7 1525.42 Q1559.7 1520.1 1562.85 1516.88 Q1566 1513.66 1571.23 1513.66 Q1577.22 1513.66 1580.37 1518.27 Q1583.54 1522.85 1583.54 1531.6 Q1583.54 1539.77 1579.65 1544.66 Q1575.79 1549.52 1569.24 1549.52 Q1567.48 1549.52 1565.67 1549.17 Q1563.87 1548.82 1561.92 1548.13 M1571.23 1533.48 Q1574.38 1533.48 1576.2 1531.32 Q1578.06 1529.17 1578.06 1525.42 Q1578.06 1521.7 1576.2 1519.54 Q1574.38 1517.37 1571.23 1517.37 Q1568.08 1517.37 1566.23 1519.54 Q1564.4 1521.7 1564.4 1525.42 Q1564.4 1529.17 1566.23 1531.32 Q1568.08 1533.48 1571.23 1533.48 Z\" fill=\"#000000\" fill-rule=\"nonzero\" fill-opacity=\"1\" /><path clip-path=\"url(#clip800)\" d=\"M1690.43 1544.91 L1698.07 1544.91 L1698.07 1518.55 L1689.76 1520.21 L1689.76 1515.95 L1698.02 1514.29 L1702.7 1514.29 L1702.7 1544.91 L1710.34 1544.91 L1710.34 1548.85 L1690.43 1548.85 L1690.43 1544.91 Z\" fill=\"#000000\" fill-rule=\"nonzero\" fill-opacity=\"1\" /><path clip-path=\"url(#clip800)\" d=\"M1729.78 1517.37 Q1726.17 1517.37 1724.34 1520.93 Q1722.54 1524.47 1722.54 1531.6 Q1722.54 1538.71 1724.34 1542.27 Q1726.17 1545.82 1729.78 1545.82 Q1733.42 1545.82 1735.22 1542.27 Q1737.05 1538.71 1737.05 1531.6 Q1737.05 1524.47 1735.22 1520.93 Q1733.42 1517.37 1729.78 1517.37 M1729.78 1513.66 Q1735.59 1513.66 1738.65 1518.27 Q1741.73 1522.85 1741.73 1531.6 Q1741.73 1540.33 1738.65 1544.94 Q1735.59 1549.52 1729.78 1549.52 Q1723.97 1549.52 1720.89 1544.94 Q1717.84 1540.33 1717.84 1531.6 Q1717.84 1522.85 1720.89 1518.27 Q1723.97 1513.66 1729.78 1513.66 Z\" fill=\"#000000\" fill-rule=\"nonzero\" fill-opacity=\"1\" /><path clip-path=\"url(#clip800)\" d=\"M1835.16 1544.91 L1842.8 1544.91 L1842.8 1518.55 L1834.49 1520.21 L1834.49 1515.95 L1842.76 1514.29 L1847.43 1514.29 L1847.43 1544.91 L1855.07 1544.91 L1855.07 1548.85 L1835.16 1548.85 L1835.16 1544.91 Z\" fill=\"#000000\" fill-rule=\"nonzero\" fill-opacity=\"1\" /><path clip-path=\"url(#clip800)\" d=\"M1865.33 1544.91 L1872.96 1544.91 L1872.96 1518.55 L1864.65 1520.21 L1864.65 1515.95 L1872.92 1514.29 L1877.59 1514.29 L1877.59 1544.91 L1885.23 1544.91 L1885.23 1548.85 L1865.33 1548.85 L1865.33 1544.91 Z\" fill=\"#000000\" fill-rule=\"nonzero\" fill-opacity=\"1\" /><path clip-path=\"url(#clip800)\" d=\"M1979.47 1544.91 L1987.11 1544.91 L1987.11 1518.55 L1978.8 1520.21 L1978.8 1515.95 L1987.06 1514.29 L1991.74 1514.29 L1991.74 1544.91 L1999.38 1544.91 L1999.38 1548.85 L1979.47 1548.85 L1979.47 1544.91 Z\" fill=\"#000000\" fill-rule=\"nonzero\" fill-opacity=\"1\" /><path clip-path=\"url(#clip800)\" d=\"M2012.85 1544.91 L2029.17 1544.91 L2029.17 1548.85 L2007.22 1548.85 L2007.22 1544.91 Q2009.89 1542.16 2014.47 1537.53 Q2019.08 1532.88 2020.26 1531.53 Q2022.5 1529.01 2023.38 1527.27 Q2024.28 1525.51 2024.28 1523.82 Q2024.28 1521.07 2022.34 1519.33 Q2020.42 1517.6 2017.32 1517.6 Q2015.12 1517.6 2012.66 1518.36 Q2010.23 1519.13 2007.46 1520.68 L2007.46 1515.95 Q2010.28 1514.82 2012.73 1514.24 Q2015.19 1513.66 2017.22 1513.66 Q2022.59 1513.66 2025.79 1516.35 Q2028.98 1519.03 2028.98 1523.52 Q2028.98 1525.65 2028.17 1527.57 Q2027.39 1529.47 2025.28 1532.07 Q2024.7 1532.74 2021.6 1535.95 Q2018.5 1539.15 2012.85 1544.91 Z\" fill=\"#000000\" fill-rule=\"nonzero\" fill-opacity=\"1\" /><path clip-path=\"url(#clip800)\" d=\"M2123.12 1544.91 L2130.75 1544.91 L2130.75 1518.55 L2122.44 1520.21 L2122.44 1515.95 L2130.71 1514.29 L2135.38 1514.29 L2135.38 1544.91 L2143.02 1544.91 L2143.02 1548.85 L2123.12 1548.85 L2123.12 1544.91 Z\" fill=\"#000000\" fill-rule=\"nonzero\" fill-opacity=\"1\" /><path clip-path=\"url(#clip800)\" d=\"M2166.63 1530.21 Q2169.99 1530.93 2171.87 1533.2 Q2173.76 1535.47 2173.76 1538.8 Q2173.76 1543.92 2170.25 1546.72 Q2166.73 1549.52 2160.25 1549.52 Q2158.07 1549.52 2155.75 1549.08 Q2153.46 1548.66 2151.01 1547.81 L2151.01 1543.29 Q2152.95 1544.43 2155.27 1545.01 Q2157.58 1545.58 2160.11 1545.58 Q2164.5 1545.58 2166.8 1543.85 Q2169.11 1542.11 2169.11 1538.8 Q2169.11 1535.75 2166.96 1534.03 Q2164.83 1532.3 2161.01 1532.3 L2156.98 1532.3 L2156.98 1528.45 L2161.19 1528.45 Q2164.64 1528.45 2166.47 1527.09 Q2168.3 1525.7 2168.3 1523.11 Q2168.3 1520.45 2166.4 1519.03 Q2164.53 1517.6 2161.01 1517.6 Q2159.09 1517.6 2156.89 1518.01 Q2154.69 1518.43 2152.05 1519.31 L2152.05 1515.14 Q2154.71 1514.4 2157.03 1514.03 Q2159.37 1513.66 2161.43 1513.66 Q2166.75 1513.66 2169.85 1516.09 Q2172.95 1518.5 2172.95 1522.62 Q2172.95 1525.49 2171.31 1527.48 Q2169.67 1529.45 2166.63 1530.21 Z\" fill=\"#000000\" fill-rule=\"nonzero\" fill-opacity=\"1\" /><path clip-path=\"url(#clip800)\" d=\"M2266.67 1544.91 L2274.31 1544.91 L2274.31 1518.55 L2266 1520.21 L2266 1515.95 L2274.26 1514.29 L2278.94 1514.29 L2278.94 1544.91 L2286.58 1544.91 L2286.58 1548.85 L2266.67 1548.85 L2266.67 1544.91 Z\" fill=\"#000000\" fill-rule=\"nonzero\" fill-opacity=\"1\" /><path clip-path=\"url(#clip800)\" d=\"M2308.87 1518.36 L2297.06 1536.81 L2308.87 1536.81 L2308.87 1518.36 M2307.64 1514.29 L2313.52 1514.29 L2313.52 1536.81 L2318.45 1536.81 L2318.45 1540.7 L2313.52 1540.7 L2313.52 1548.85 L2308.87 1548.85 L2308.87 1540.7 L2293.27 1540.7 L2293.27 1536.19 L2307.64 1514.29 Z\" fill=\"#000000\" fill-rule=\"nonzero\" fill-opacity=\"1\" /><polyline clip-path=\"url(#clip800)\" style=\"stroke:#000000; stroke-linecap:round; stroke-linejoin:round; stroke-width:4; stroke-opacity:1; fill:none\" points=\"214.002,1486.45 214.002,47.2441 \"/>\n",
       "<polyline clip-path=\"url(#clip800)\" style=\"stroke:#000000; stroke-linecap:round; stroke-linejoin:round; stroke-width:4; stroke-opacity:1; fill:none\" points=\"214.002,1397.28 232.9,1397.28 \"/>\n",
       "<polyline clip-path=\"url(#clip800)\" style=\"stroke:#000000; stroke-linecap:round; stroke-linejoin:round; stroke-width:4; stroke-opacity:1; fill:none\" points=\"214.002,1288.66 232.9,1288.66 \"/>\n",
       "<polyline clip-path=\"url(#clip800)\" style=\"stroke:#000000; stroke-linecap:round; stroke-linejoin:round; stroke-width:4; stroke-opacity:1; fill:none\" points=\"214.002,1180.03 232.9,1180.03 \"/>\n",
       "<polyline clip-path=\"url(#clip800)\" style=\"stroke:#000000; stroke-linecap:round; stroke-linejoin:round; stroke-width:4; stroke-opacity:1; fill:none\" points=\"214.002,1071.41 232.9,1071.41 \"/>\n",
       "<polyline clip-path=\"url(#clip800)\" style=\"stroke:#000000; stroke-linecap:round; stroke-linejoin:round; stroke-width:4; stroke-opacity:1; fill:none\" points=\"214.002,962.784 232.9,962.784 \"/>\n",
       "<polyline clip-path=\"url(#clip800)\" style=\"stroke:#000000; stroke-linecap:round; stroke-linejoin:round; stroke-width:4; stroke-opacity:1; fill:none\" points=\"214.002,854.159 232.9,854.159 \"/>\n",
       "<polyline clip-path=\"url(#clip800)\" style=\"stroke:#000000; stroke-linecap:round; stroke-linejoin:round; stroke-width:4; stroke-opacity:1; fill:none\" points=\"214.002,745.534 232.9,745.534 \"/>\n",
       "<polyline clip-path=\"url(#clip800)\" style=\"stroke:#000000; stroke-linecap:round; stroke-linejoin:round; stroke-width:4; stroke-opacity:1; fill:none\" points=\"214.002,636.91 232.9,636.91 \"/>\n",
       "<polyline clip-path=\"url(#clip800)\" style=\"stroke:#000000; stroke-linecap:round; stroke-linejoin:round; stroke-width:4; stroke-opacity:1; fill:none\" points=\"214.002,528.285 232.9,528.285 \"/>\n",
       "<polyline clip-path=\"url(#clip800)\" style=\"stroke:#000000; stroke-linecap:round; stroke-linejoin:round; stroke-width:4; stroke-opacity:1; fill:none\" points=\"214.002,419.66 232.9,419.66 \"/>\n",
       "<polyline clip-path=\"url(#clip800)\" style=\"stroke:#000000; stroke-linecap:round; stroke-linejoin:round; stroke-width:4; stroke-opacity:1; fill:none\" points=\"214.002,311.035 232.9,311.035 \"/>\n",
       "<polyline clip-path=\"url(#clip800)\" style=\"stroke:#000000; stroke-linecap:round; stroke-linejoin:round; stroke-width:4; stroke-opacity:1; fill:none\" points=\"214.002,202.41 232.9,202.41 \"/>\n",
       "<polyline clip-path=\"url(#clip800)\" style=\"stroke:#000000; stroke-linecap:round; stroke-linejoin:round; stroke-width:4; stroke-opacity:1; fill:none\" points=\"214.002,93.7851 232.9,93.7851 \"/>\n",
       "<path clip-path=\"url(#clip800)\" d=\"M51.6634 1417.08 L59.3023 1417.08 L59.3023 1390.71 L50.9921 1392.38 L50.9921 1388.12 L59.256 1386.45 L63.9319 1386.45 L63.9319 1417.08 L71.5707 1417.08 L71.5707 1421.01 L51.6634 1421.01 L51.6634 1417.08 Z\" fill=\"#000000\" fill-rule=\"nonzero\" fill-opacity=\"1\" /><path clip-path=\"url(#clip800)\" d=\"M91.0151 1389.53 Q87.404 1389.53 85.5753 1393.09 Q83.7697 1396.64 83.7697 1403.77 Q83.7697 1410.87 85.5753 1414.44 Q87.404 1417.98 91.0151 1417.98 Q94.6493 1417.98 96.4548 1414.44 Q98.2835 1410.87 98.2835 1403.77 Q98.2835 1396.64 96.4548 1393.09 Q94.6493 1389.53 91.0151 1389.53 M91.0151 1385.83 Q96.8252 1385.83 99.8808 1390.43 Q102.959 1395.02 102.959 1403.77 Q102.959 1412.49 99.8808 1417.1 Q96.8252 1421.68 91.0151 1421.68 Q85.2049 1421.68 82.1262 1417.1 Q79.0707 1412.49 79.0707 1403.77 Q79.0707 1395.02 82.1262 1390.43 Q85.2049 1385.83 91.0151 1385.83 Z\" fill=\"#000000\" fill-rule=\"nonzero\" fill-opacity=\"1\" /><path clip-path=\"url(#clip800)\" d=\"M102.959 1379.93 L127.071 1379.93 L127.071 1383.12 L102.959 1383.12 L102.959 1379.93 Z\" fill=\"#000000\" fill-rule=\"nonzero\" fill-opacity=\"1\" /><path clip-path=\"url(#clip800)\" d=\"M135.929 1390.4 L142.136 1390.4 L142.136 1368.98 L135.384 1370.34 L135.384 1366.88 L142.098 1365.52 L145.898 1365.52 L145.898 1390.4 L152.104 1390.4 L152.104 1393.6 L135.929 1393.6 L135.929 1390.4 Z\" fill=\"#000000\" fill-rule=\"nonzero\" fill-opacity=\"1\" /><path clip-path=\"url(#clip800)\" d=\"M170.216 1368.83 L160.624 1383.82 L170.216 1383.82 L170.216 1368.83 M169.219 1365.52 L173.996 1365.52 L173.996 1383.82 L178.002 1383.82 L178.002 1386.98 L173.996 1386.98 L173.996 1393.6 L170.216 1393.6 L170.216 1386.98 L157.54 1386.98 L157.54 1383.31 L169.219 1365.52 Z\" fill=\"#000000\" fill-rule=\"nonzero\" fill-opacity=\"1\" /><path clip-path=\"url(#clip800)\" d=\"M52.585 1308.45 L60.2238 1308.45 L60.2238 1282.09 L51.9137 1283.75 L51.9137 1279.49 L60.1776 1277.83 L64.8535 1277.83 L64.8535 1308.45 L72.4923 1308.45 L72.4923 1312.39 L52.585 1312.39 L52.585 1308.45 Z\" fill=\"#000000\" fill-rule=\"nonzero\" fill-opacity=\"1\" /><path clip-path=\"url(#clip800)\" d=\"M91.9366 1280.91 Q88.3255 1280.91 86.4969 1284.47 Q84.6913 1288.01 84.6913 1295.14 Q84.6913 1302.25 86.4969 1305.81 Q88.3255 1309.35 91.9366 1309.35 Q95.5709 1309.35 97.3764 1305.81 Q99.2051 1302.25 99.2051 1295.14 Q99.2051 1288.01 97.3764 1284.47 Q95.5709 1280.91 91.9366 1280.91 M91.9366 1277.2 Q97.7468 1277.2 100.802 1281.81 Q103.881 1286.39 103.881 1295.14 Q103.881 1303.87 100.802 1308.47 Q97.7468 1313.06 91.9366 1313.06 Q86.1265 1313.06 83.0478 1308.47 Q79.9923 1303.87 79.9923 1295.14 Q79.9923 1286.39 83.0478 1281.81 Q86.1265 1277.2 91.9366 1277.2 Z\" fill=\"#000000\" fill-rule=\"nonzero\" fill-opacity=\"1\" /><path clip-path=\"url(#clip800)\" d=\"M103.881 1271.3 L127.993 1271.3 L127.993 1274.5 L103.881 1274.5 L103.881 1271.3 Z\" fill=\"#000000\" fill-rule=\"nonzero\" fill-opacity=\"1\" /><path clip-path=\"url(#clip800)\" d=\"M136.851 1281.78 L143.058 1281.78 L143.058 1260.36 L136.306 1261.71 L136.306 1258.25 L143.02 1256.9 L146.819 1256.9 L146.819 1281.78 L153.026 1281.78 L153.026 1284.98 L136.851 1284.98 L136.851 1281.78 Z\" fill=\"#000000\" fill-rule=\"nonzero\" fill-opacity=\"1\" /><path clip-path=\"url(#clip800)\" d=\"M172.21 1269.84 Q174.937 1270.42 176.46 1272.26 Q178.002 1274.11 178.002 1276.81 Q178.002 1280.97 175.144 1283.25 Q172.285 1285.52 167.019 1285.52 Q165.251 1285.52 163.37 1285.16 Q161.508 1284.83 159.514 1284.13 L159.514 1280.46 Q161.094 1281.38 162.975 1281.85 Q164.856 1282.32 166.906 1282.32 Q170.479 1282.32 172.341 1280.91 Q174.222 1279.5 174.222 1276.81 Q174.222 1274.33 172.473 1272.94 Q170.743 1271.53 167.639 1271.53 L164.367 1271.53 L164.367 1268.41 L167.79 1268.41 Q170.592 1268.41 172.078 1267.3 Q173.564 1266.17 173.564 1264.06 Q173.564 1261.9 172.022 1260.75 Q170.498 1259.59 167.639 1259.59 Q166.078 1259.59 164.292 1259.92 Q162.505 1260.26 160.361 1260.98 L160.361 1257.59 Q162.524 1256.99 164.404 1256.69 Q166.304 1256.39 167.978 1256.39 Q172.304 1256.39 174.824 1258.36 Q177.344 1260.32 177.344 1263.67 Q177.344 1266 176.009 1267.62 Q174.673 1269.22 172.21 1269.84 Z\" fill=\"#000000\" fill-rule=\"nonzero\" fill-opacity=\"1\" /><path clip-path=\"url(#clip800)\" d=\"M53.3561 1199.83 L60.995 1199.83 L60.995 1173.46 L52.6848 1175.13 L52.6848 1170.87 L60.9487 1169.2 L65.6246 1169.2 L65.6246 1199.83 L73.2634 1199.83 L73.2634 1203.76 L53.3561 1203.76 L53.3561 1199.83 Z\" fill=\"#000000\" fill-rule=\"nonzero\" fill-opacity=\"1\" /><path clip-path=\"url(#clip800)\" d=\"M92.7078 1172.28 Q89.0967 1172.28 87.268 1175.85 Q85.4624 1179.39 85.4624 1186.52 Q85.4624 1193.62 87.268 1197.19 Q89.0967 1200.73 92.7078 1200.73 Q96.342 1200.73 98.1475 1197.19 Q99.9762 1193.62 99.9762 1186.52 Q99.9762 1179.39 98.1475 1175.85 Q96.342 1172.28 92.7078 1172.28 M92.7078 1168.58 Q98.5179 1168.58 101.573 1173.18 Q104.652 1177.77 104.652 1186.52 Q104.652 1195.24 101.573 1199.85 Q98.5179 1204.43 92.7078 1204.43 Q86.8976 1204.43 83.8189 1199.85 Q80.7634 1195.24 80.7634 1186.52 Q80.7634 1177.77 83.8189 1173.18 Q86.8976 1168.58 92.7078 1168.58 Z\" fill=\"#000000\" fill-rule=\"nonzero\" fill-opacity=\"1\" /><path clip-path=\"url(#clip800)\" d=\"M104.652 1162.68 L128.764 1162.68 L128.764 1165.88 L104.652 1165.88 L104.652 1162.68 Z\" fill=\"#000000\" fill-rule=\"nonzero\" fill-opacity=\"1\" /><path clip-path=\"url(#clip800)\" d=\"M137.622 1173.15 L143.829 1173.15 L143.829 1151.73 L137.077 1153.09 L137.077 1149.63 L143.791 1148.27 L147.59 1148.27 L147.59 1173.15 L153.797 1173.15 L153.797 1176.35 L137.622 1176.35 L137.622 1173.15 Z\" fill=\"#000000\" fill-rule=\"nonzero\" fill-opacity=\"1\" /><path clip-path=\"url(#clip800)\" d=\"M164.743 1173.15 L178.002 1173.15 L178.002 1176.35 L160.173 1176.35 L160.173 1173.15 Q162.336 1170.92 166.06 1167.15 Q169.802 1163.37 170.761 1162.28 Q172.586 1160.23 173.3 1158.82 Q174.034 1157.39 174.034 1156.02 Q174.034 1153.78 172.454 1152.37 Q170.893 1150.96 168.373 1150.96 Q166.586 1150.96 164.593 1151.58 Q162.618 1152.2 160.361 1153.46 L160.361 1149.63 Q162.655 1148.7 164.649 1148.23 Q166.643 1147.76 168.298 1147.76 Q172.661 1147.76 175.257 1149.95 Q177.852 1152.13 177.852 1155.78 Q177.852 1157.51 177.194 1159.07 Q176.554 1160.61 174.843 1162.72 Q174.373 1163.26 171.852 1165.88 Q169.332 1168.47 164.743 1173.15 Z\" fill=\"#000000\" fill-rule=\"nonzero\" fill-opacity=\"1\" /><path clip-path=\"url(#clip800)\" d=\"M53.0552 1091.2 L60.694 1091.2 L60.694 1064.84 L52.3839 1066.5 L52.3839 1062.24 L60.6477 1060.58 L65.3236 1060.58 L65.3236 1091.2 L72.9625 1091.2 L72.9625 1095.14 L53.0552 1095.14 L53.0552 1091.2 Z\" fill=\"#000000\" fill-rule=\"nonzero\" fill-opacity=\"1\" /><path clip-path=\"url(#clip800)\" d=\"M92.4068 1063.66 Q88.7957 1063.66 86.967 1067.22 Q85.1615 1070.76 85.1615 1077.89 Q85.1615 1085 86.967 1088.56 Q88.7957 1092.1 92.4068 1092.1 Q96.0411 1092.1 97.8466 1088.56 Q99.6753 1085 99.6753 1077.89 Q99.6753 1070.76 97.8466 1067.22 Q96.0411 1063.66 92.4068 1063.66 M92.4068 1059.95 Q98.217 1059.95 101.273 1064.56 Q104.351 1069.14 104.351 1077.89 Q104.351 1086.62 101.273 1091.22 Q98.217 1095.81 92.4068 1095.81 Q86.5967 1095.81 83.518 1091.22 Q80.4625 1086.62 80.4625 1077.89 Q80.4625 1069.14 83.518 1064.56 Q86.5967 1059.95 92.4068 1059.95 Z\" fill=\"#000000\" fill-rule=\"nonzero\" fill-opacity=\"1\" /><path clip-path=\"url(#clip800)\" d=\"M104.351 1054.05 L128.463 1054.05 L128.463 1057.25 L104.351 1057.25 L104.351 1054.05 Z\" fill=\"#000000\" fill-rule=\"nonzero\" fill-opacity=\"1\" /><path clip-path=\"url(#clip800)\" d=\"M137.321 1064.53 L143.528 1064.53 L143.528 1043.11 L136.776 1044.46 L136.776 1041 L143.49 1039.65 L147.289 1039.65 L147.289 1064.53 L153.496 1064.53 L153.496 1067.73 L137.321 1067.73 L137.321 1064.53 Z\" fill=\"#000000\" fill-rule=\"nonzero\" fill-opacity=\"1\" /><path clip-path=\"url(#clip800)\" d=\"M161.828 1064.53 L168.034 1064.53 L168.034 1043.11 L161.282 1044.46 L161.282 1041 L167.997 1039.65 L171.796 1039.65 L171.796 1064.53 L178.002 1064.53 L178.002 1067.73 L161.828 1067.73 L161.828 1064.53 Z\" fill=\"#000000\" fill-rule=\"nonzero\" fill-opacity=\"1\" /><path clip-path=\"url(#clip800)\" d=\"M52.0584 982.577 L59.6972 982.577 L59.6972 956.211 L51.3871 957.878 L51.3871 953.618 L59.6509 951.952 L64.3268 951.952 L64.3268 982.577 L71.9657 982.577 L71.9657 986.512 L52.0584 986.512 L52.0584 982.577 Z\" fill=\"#000000\" fill-rule=\"nonzero\" fill-opacity=\"1\" /><path clip-path=\"url(#clip800)\" d=\"M91.41 955.03 Q87.7989 955.03 85.9702 958.595 Q84.1647 962.137 84.1647 969.267 Q84.1647 976.373 85.9702 979.938 Q87.7989 983.479 91.41 983.479 Q95.0443 983.479 96.8498 979.938 Q98.6785 976.373 98.6785 969.267 Q98.6785 962.137 96.8498 958.595 Q95.0443 955.03 91.41 955.03 M91.41 951.327 Q97.2202 951.327 100.276 955.933 Q103.354 960.517 103.354 969.267 Q103.354 977.993 100.276 982.6 Q97.2202 987.183 91.41 987.183 Q85.5999 987.183 82.5212 982.6 Q79.4656 977.993 79.4656 969.267 Q79.4656 960.517 82.5212 955.933 Q85.5999 951.327 91.41 951.327 Z\" fill=\"#000000\" fill-rule=\"nonzero\" fill-opacity=\"1\" /><path clip-path=\"url(#clip800)\" d=\"M103.354 945.428 L127.466 945.428 L127.466 948.625 L103.354 948.625 L103.354 945.428 Z\" fill=\"#000000\" fill-rule=\"nonzero\" fill-opacity=\"1\" /><path clip-path=\"url(#clip800)\" d=\"M136.324 955.904 L142.531 955.904 L142.531 934.482 L135.779 935.836 L135.779 932.376 L142.493 931.021 L146.293 931.021 L146.293 955.904 L152.499 955.904 L152.499 959.101 L136.324 959.101 L136.324 955.904 Z\" fill=\"#000000\" fill-rule=\"nonzero\" fill-opacity=\"1\" /><path clip-path=\"url(#clip800)\" d=\"M168.298 933.523 Q165.364 933.523 163.878 936.419 Q162.411 939.297 162.411 945.09 Q162.411 950.864 163.878 953.76 Q165.364 956.638 168.298 956.638 Q171.25 956.638 172.717 953.76 Q174.203 950.864 174.203 945.09 Q174.203 939.297 172.717 936.419 Q171.25 933.523 168.298 933.523 M168.298 930.514 Q173.018 930.514 175.501 934.256 Q178.002 937.98 178.002 945.09 Q178.002 952.18 175.501 955.923 Q173.018 959.647 168.298 959.647 Q163.577 959.647 161.075 955.923 Q158.593 952.18 158.593 945.09 Q158.593 937.98 161.075 934.256 Q163.577 930.514 168.298 930.514 Z\" fill=\"#000000\" fill-rule=\"nonzero\" fill-opacity=\"1\" /><path clip-path=\"url(#clip800)\" d=\"M76.7154 873.952 L84.3542 873.952 L84.3542 847.586 L76.0441 849.253 L76.0441 844.994 L84.3079 843.327 L88.9838 843.327 L88.9838 873.952 L96.6227 873.952 L96.6227 877.887 L76.7154 877.887 L76.7154 873.952 Z\" fill=\"#000000\" fill-rule=\"nonzero\" fill-opacity=\"1\" /><path clip-path=\"url(#clip800)\" d=\"M116.067 846.406 Q112.456 846.406 110.627 849.97 Q108.822 853.512 108.822 860.642 Q108.822 867.748 110.627 871.313 Q112.456 874.855 116.067 874.855 Q119.701 874.855 121.507 871.313 Q123.335 867.748 123.335 860.642 Q123.335 853.512 121.507 849.97 Q119.701 846.406 116.067 846.406 M116.067 842.702 Q121.877 842.702 124.933 847.308 Q128.011 851.892 128.011 860.642 Q128.011 869.368 124.933 873.975 Q121.877 878.558 116.067 878.558 Q110.257 878.558 107.178 873.975 Q104.123 869.368 104.123 860.642 Q104.123 851.892 107.178 847.308 Q110.257 842.702 116.067 842.702 Z\" fill=\"#000000\" fill-rule=\"nonzero\" fill-opacity=\"1\" /><path clip-path=\"url(#clip800)\" d=\"M128.011 836.803 L152.123 836.803 L152.123 840.001 L128.011 840.001 L128.011 836.803 Z\" fill=\"#000000\" fill-rule=\"nonzero\" fill-opacity=\"1\" /><path clip-path=\"url(#clip800)\" d=\"M160.436 849.893 L160.436 846.433 Q161.865 847.11 163.332 847.467 Q164.799 847.825 166.21 847.825 Q169.972 847.825 171.946 845.304 Q173.94 842.765 174.222 837.612 Q173.131 839.229 171.457 840.095 Q169.783 840.96 167.752 840.96 Q163.539 840.96 161.075 838.421 Q158.63 835.863 158.63 831.443 Q158.63 827.117 161.188 824.503 Q163.746 821.889 167.997 821.889 Q172.868 821.889 175.426 825.631 Q178.002 829.355 178.002 836.465 Q178.002 843.104 174.843 847.072 Q171.702 851.022 166.379 851.022 Q164.95 851.022 163.483 850.74 Q162.016 850.458 160.436 849.893 M167.997 837.988 Q170.555 837.988 172.04 836.239 Q173.545 834.49 173.545 831.443 Q173.545 828.415 172.04 826.666 Q170.555 824.898 167.997 824.898 Q165.439 824.898 163.934 826.666 Q162.448 828.415 162.448 831.443 Q162.448 834.49 163.934 836.239 Q165.439 837.988 167.997 837.988 Z\" fill=\"#000000\" fill-rule=\"nonzero\" fill-opacity=\"1\" /><path clip-path=\"url(#clip800)\" d=\"M76.6401 765.327 L84.279 765.327 L84.279 738.961 L75.9688 740.628 L75.9688 736.369 L84.2327 734.702 L88.9086 734.702 L88.9086 765.327 L96.5474 765.327 L96.5474 769.262 L76.6401 769.262 L76.6401 765.327 Z\" fill=\"#000000\" fill-rule=\"nonzero\" fill-opacity=\"1\" /><path clip-path=\"url(#clip800)\" d=\"M115.992 737.781 Q112.381 737.781 110.552 741.346 Q108.746 744.887 108.746 752.017 Q108.746 759.123 110.552 762.688 Q112.381 766.23 115.992 766.23 Q119.626 766.23 121.432 762.688 Q123.26 759.123 123.26 752.017 Q123.26 744.887 121.432 741.346 Q119.626 737.781 115.992 737.781 M115.992 734.077 Q121.802 734.077 124.857 738.683 Q127.936 743.267 127.936 752.017 Q127.936 760.744 124.857 765.35 Q121.802 769.933 115.992 769.933 Q110.182 769.933 107.103 765.35 Q104.047 760.744 104.047 752.017 Q104.047 743.267 107.103 738.683 Q110.182 734.077 115.992 734.077 Z\" fill=\"#000000\" fill-rule=\"nonzero\" fill-opacity=\"1\" /><path clip-path=\"url(#clip800)\" d=\"M127.936 728.178 L152.048 728.178 L152.048 731.376 L127.936 731.376 L127.936 728.178 Z\" fill=\"#000000\" fill-rule=\"nonzero\" fill-opacity=\"1\" /><path clip-path=\"url(#clip800)\" d=\"M168.373 728.517 Q165.665 728.517 164.103 729.965 Q162.561 731.413 162.561 733.952 Q162.561 736.491 164.103 737.94 Q165.665 739.388 168.373 739.388 Q171.081 739.388 172.642 737.94 Q174.203 736.473 174.203 733.952 Q174.203 731.413 172.642 729.965 Q171.1 728.517 168.373 728.517 M164.574 726.899 Q162.129 726.298 160.756 724.624 Q159.402 722.95 159.402 720.542 Q159.402 717.176 161.79 715.22 Q164.198 713.264 168.373 713.264 Q172.567 713.264 174.956 715.22 Q177.344 717.176 177.344 720.542 Q177.344 722.95 175.971 724.624 Q174.617 726.298 172.191 726.899 Q174.937 727.539 176.46 729.401 Q178.002 731.263 178.002 733.952 Q178.002 738.034 175.501 740.215 Q173.018 742.397 168.373 742.397 Q163.727 742.397 161.226 740.215 Q158.743 738.034 158.743 733.952 Q158.743 731.263 160.286 729.401 Q161.828 727.539 164.574 726.899 M163.182 720.9 Q163.182 723.081 164.536 724.304 Q165.909 725.526 168.373 725.526 Q170.818 725.526 172.191 724.304 Q173.583 723.081 173.583 720.9 Q173.583 718.718 172.191 717.496 Q170.818 716.273 168.373 716.273 Q165.909 716.273 164.536 717.496 Q163.182 718.718 163.182 720.9 Z\" fill=\"#000000\" fill-rule=\"nonzero\" fill-opacity=\"1\" /><path clip-path=\"url(#clip800)\" d=\"M77.2984 656.702 L84.9373 656.702 L84.9373 630.336 L76.6271 632.003 L76.6271 627.744 L84.891 626.077 L89.5669 626.077 L89.5669 656.702 L97.2057 656.702 L97.2057 660.637 L77.2984 660.637 L77.2984 656.702 Z\" fill=\"#000000\" fill-rule=\"nonzero\" fill-opacity=\"1\" /><path clip-path=\"url(#clip800)\" d=\"M116.65 629.156 Q113.039 629.156 111.21 632.721 Q109.405 636.262 109.405 643.392 Q109.405 650.498 111.21 654.063 Q113.039 657.605 116.65 657.605 Q120.284 657.605 122.09 654.063 Q123.919 650.498 123.919 643.392 Q123.919 636.262 122.09 632.721 Q120.284 629.156 116.65 629.156 M116.65 625.452 Q122.46 625.452 125.516 630.059 Q128.594 634.642 128.594 643.392 Q128.594 652.119 125.516 656.725 Q122.46 661.308 116.65 661.308 Q110.84 661.308 107.761 656.725 Q104.706 652.119 104.706 643.392 Q104.706 634.642 107.761 630.059 Q110.84 625.452 116.65 625.452 Z\" fill=\"#000000\" fill-rule=\"nonzero\" fill-opacity=\"1\" /><path clip-path=\"url(#clip800)\" d=\"M128.594 619.553 L152.706 619.553 L152.706 622.751 L128.594 622.751 L128.594 619.553 Z\" fill=\"#000000\" fill-rule=\"nonzero\" fill-opacity=\"1\" /><path clip-path=\"url(#clip800)\" d=\"M159.947 605.147 L178.002 605.147 L178.002 606.764 L167.809 633.227 L163.84 633.227 L173.432 608.344 L159.947 608.344 L159.947 605.147 Z\" fill=\"#000000\" fill-rule=\"nonzero\" fill-opacity=\"1\" /><path clip-path=\"url(#clip800)\" d=\"M76.4333 548.077 L84.0721 548.077 L84.0721 521.711 L75.762 523.378 L75.762 519.119 L84.0258 517.452 L88.7017 517.452 L88.7017 548.077 L96.3406 548.077 L96.3406 552.012 L76.4333 552.012 L76.4333 548.077 Z\" fill=\"#000000\" fill-rule=\"nonzero\" fill-opacity=\"1\" /><path clip-path=\"url(#clip800)\" d=\"M115.785 520.531 Q112.174 520.531 110.345 524.096 Q108.54 527.637 108.54 534.767 Q108.54 541.873 110.345 545.438 Q112.174 548.98 115.785 548.98 Q119.419 548.98 121.225 545.438 Q123.053 541.873 123.053 534.767 Q123.053 527.637 121.225 524.096 Q119.419 520.531 115.785 520.531 M115.785 516.827 Q121.595 516.827 124.651 521.434 Q127.729 526.017 127.729 534.767 Q127.729 543.494 124.651 548.1 Q121.595 552.684 115.785 552.684 Q109.975 552.684 106.896 548.1 Q103.841 543.494 103.841 534.767 Q103.841 526.017 106.896 521.434 Q109.975 516.827 115.785 516.827 Z\" fill=\"#000000\" fill-rule=\"nonzero\" fill-opacity=\"1\" /><path clip-path=\"url(#clip800)\" d=\"M127.729 510.929 L151.841 510.929 L151.841 514.126 L127.729 514.126 L127.729 510.929 Z\" fill=\"#000000\" fill-rule=\"nonzero\" fill-opacity=\"1\" /><path clip-path=\"url(#clip800)\" d=\"M168.636 509.048 Q166.078 509.048 164.574 510.797 Q163.088 512.546 163.088 515.593 Q163.088 518.621 164.574 520.389 Q166.078 522.138 168.636 522.138 Q171.194 522.138 172.68 520.389 Q174.184 518.621 174.184 515.593 Q174.184 512.546 172.68 510.797 Q171.194 509.048 168.636 509.048 M176.178 497.143 L176.178 500.603 Q174.749 499.926 173.282 499.569 Q171.833 499.211 170.404 499.211 Q166.643 499.211 164.649 501.75 Q162.674 504.289 162.392 509.424 Q163.502 507.788 165.176 506.923 Q166.849 506.039 168.862 506.039 Q173.094 506.039 175.539 508.615 Q178.002 511.173 178.002 515.593 Q178.002 519.919 175.445 522.533 Q172.887 525.147 168.636 525.147 Q163.765 525.147 161.188 521.423 Q158.612 517.681 158.612 510.59 Q158.612 503.932 161.771 499.982 Q164.931 496.014 170.254 496.014 Q171.683 496.014 173.131 496.296 Q174.598 496.578 176.178 497.143 Z\" fill=\"#000000\" fill-rule=\"nonzero\" fill-opacity=\"1\" /><path clip-path=\"url(#clip800)\" d=\"M77.3736 439.452 L85.0125 439.452 L85.0125 413.087 L76.7023 414.753 L76.7023 410.494 L84.9662 408.827 L89.6421 408.827 L89.6421 439.452 L97.2809 439.452 L97.2809 443.387 L77.3736 443.387 L77.3736 439.452 Z\" fill=\"#000000\" fill-rule=\"nonzero\" fill-opacity=\"1\" /><path clip-path=\"url(#clip800)\" d=\"M116.725 411.906 Q113.114 411.906 111.285 415.471 Q109.48 419.013 109.48 426.142 Q109.48 433.249 111.285 436.813 Q113.114 440.355 116.725 440.355 Q120.36 440.355 122.165 436.813 Q123.994 433.249 123.994 426.142 Q123.994 419.013 122.165 415.471 Q120.36 411.906 116.725 411.906 M116.725 408.202 Q122.535 408.202 125.591 412.809 Q128.67 417.392 128.67 426.142 Q128.67 434.869 125.591 439.475 Q122.535 444.059 116.725 444.059 Q110.915 444.059 107.836 439.475 Q104.781 434.869 104.781 426.142 Q104.781 417.392 107.836 412.809 Q110.915 408.202 116.725 408.202 Z\" fill=\"#000000\" fill-rule=\"nonzero\" fill-opacity=\"1\" /><path clip-path=\"url(#clip800)\" d=\"M128.67 402.304 L152.781 402.304 L152.781 405.501 L128.67 405.501 L128.67 402.304 Z\" fill=\"#000000\" fill-rule=\"nonzero\" fill-opacity=\"1\" /><path clip-path=\"url(#clip800)\" d=\"M161.019 387.897 L175.934 387.897 L175.934 391.094 L164.498 391.094 L164.498 397.978 Q165.326 397.696 166.154 397.564 Q166.981 397.414 167.809 397.414 Q172.511 397.414 175.257 399.99 Q178.002 402.567 178.002 406.968 Q178.002 411.501 175.181 414.021 Q172.36 416.522 167.226 416.522 Q165.458 416.522 163.614 416.221 Q161.79 415.921 159.834 415.319 L159.834 411.501 Q161.527 412.422 163.332 412.874 Q165.138 413.325 167.15 413.325 Q170.404 413.325 172.304 411.614 Q174.203 409.902 174.203 406.968 Q174.203 404.034 172.304 402.323 Q170.404 400.611 167.15 400.611 Q165.627 400.611 164.103 400.95 Q162.599 401.288 161.019 402.003 L161.019 387.897 Z\" fill=\"#000000\" fill-rule=\"nonzero\" fill-opacity=\"1\" /><path clip-path=\"url(#clip800)\" d=\"M76.1699 330.827 L83.8088 330.827 L83.8088 304.462 L75.4986 306.128 L75.4986 301.869 L83.7625 300.202 L88.4384 300.202 L88.4384 330.827 L96.0772 330.827 L96.0772 334.762 L76.1699 334.762 L76.1699 330.827 Z\" fill=\"#000000\" fill-rule=\"nonzero\" fill-opacity=\"1\" /><path clip-path=\"url(#clip800)\" d=\"M115.522 303.281 Q111.91 303.281 110.082 306.846 Q108.276 310.388 108.276 317.517 Q108.276 324.624 110.082 328.188 Q111.91 331.73 115.522 331.73 Q119.156 331.73 120.961 328.188 Q122.79 324.624 122.79 317.517 Q122.79 310.388 120.961 306.846 Q119.156 303.281 115.522 303.281 M115.522 299.577 Q121.332 299.577 124.387 304.184 Q127.466 308.767 127.466 317.517 Q127.466 326.244 124.387 330.85 Q121.332 335.434 115.522 335.434 Q109.711 335.434 106.633 330.85 Q103.577 326.244 103.577 317.517 Q103.577 308.767 106.633 304.184 Q109.711 299.577 115.522 299.577 Z\" fill=\"#000000\" fill-rule=\"nonzero\" fill-opacity=\"1\" /><path clip-path=\"url(#clip800)\" d=\"M127.466 293.679 L151.578 293.679 L151.578 296.876 L127.466 296.876 L127.466 293.679 Z\" fill=\"#000000\" fill-rule=\"nonzero\" fill-opacity=\"1\" /><path clip-path=\"url(#clip800)\" d=\"M170.216 282.582 L160.624 297.572 L170.216 297.572 L170.216 282.582 M169.219 279.272 L173.996 279.272 L173.996 297.572 L178.002 297.572 L178.002 300.732 L173.996 300.732 L173.996 307.352 L170.216 307.352 L170.216 300.732 L157.54 300.732 L157.54 297.064 L169.219 279.272 Z\" fill=\"#000000\" fill-rule=\"nonzero\" fill-opacity=\"1\" /><path clip-path=\"url(#clip800)\" d=\"M77.0915 222.202 L84.7304 222.202 L84.7304 195.837 L76.4202 197.504 L76.4202 193.244 L84.6841 191.578 L89.36 191.578 L89.36 222.202 L96.9988 222.202 L96.9988 226.138 L77.0915 226.138 L77.0915 222.202 Z\" fill=\"#000000\" fill-rule=\"nonzero\" fill-opacity=\"1\" /><path clip-path=\"url(#clip800)\" d=\"M116.443 194.656 Q112.832 194.656 111.003 198.221 Q109.198 201.763 109.198 208.892 Q109.198 215.999 111.003 219.564 Q112.832 223.105 116.443 223.105 Q120.077 223.105 121.883 219.564 Q123.712 215.999 123.712 208.892 Q123.712 201.763 121.883 198.221 Q120.077 194.656 116.443 194.656 M116.443 190.953 Q122.253 190.953 125.309 195.559 Q128.388 200.142 128.388 208.892 Q128.388 217.619 125.309 222.226 Q122.253 226.809 116.443 226.809 Q110.633 226.809 107.554 222.226 Q104.499 217.619 104.499 208.892 Q104.499 200.142 107.554 195.559 Q110.633 190.953 116.443 190.953 Z\" fill=\"#000000\" fill-rule=\"nonzero\" fill-opacity=\"1\" /><path clip-path=\"url(#clip800)\" d=\"M128.388 185.054 L152.499 185.054 L152.499 188.251 L128.388 188.251 L128.388 185.054 Z\" fill=\"#000000\" fill-rule=\"nonzero\" fill-opacity=\"1\" /><path clip-path=\"url(#clip800)\" d=\"M172.21 183.587 Q174.937 184.17 176.46 186.013 Q178.002 187.856 178.002 190.565 Q178.002 194.721 175.144 196.997 Q172.285 199.273 167.019 199.273 Q165.251 199.273 163.37 198.915 Q161.508 198.577 159.514 197.881 L159.514 194.213 Q161.094 195.135 162.975 195.605 Q164.856 196.075 166.906 196.075 Q170.479 196.075 172.341 194.665 Q174.222 193.254 174.222 190.565 Q174.222 188.082 172.473 186.69 Q170.743 185.28 167.639 185.28 L164.367 185.28 L164.367 182.158 L167.79 182.158 Q170.592 182.158 172.078 181.048 Q173.564 179.919 173.564 177.813 Q173.564 175.65 172.022 174.503 Q170.498 173.337 167.639 173.337 Q166.078 173.337 164.292 173.675 Q162.505 174.014 160.361 174.728 L160.361 171.343 Q162.524 170.741 164.404 170.44 Q166.304 170.139 167.978 170.139 Q172.304 170.139 174.824 172.114 Q177.344 174.07 177.344 177.418 Q177.344 179.75 176.009 181.368 Q174.673 182.966 172.21 183.587 Z\" fill=\"#000000\" fill-rule=\"nonzero\" fill-opacity=\"1\" /><path clip-path=\"url(#clip800)\" d=\"M77.8626 113.578 L85.5015 113.578 L85.5015 87.212 L77.1913 88.8786 L77.1913 84.6194 L85.4552 82.9527 L90.1311 82.9527 L90.1311 113.578 L97.7699 113.578 L97.7699 117.513 L77.8626 117.513 L77.8626 113.578 Z\" fill=\"#000000\" fill-rule=\"nonzero\" fill-opacity=\"1\" /><path clip-path=\"url(#clip800)\" d=\"M117.214 86.0314 Q113.603 86.0314 111.774 89.5962 Q109.969 93.1379 109.969 100.267 Q109.969 107.374 111.774 110.939 Q113.603 114.48 117.214 114.48 Q120.849 114.48 122.654 110.939 Q124.483 107.374 124.483 100.267 Q124.483 93.1379 122.654 89.5962 Q120.849 86.0314 117.214 86.0314 M117.214 82.3277 Q123.024 82.3277 126.08 86.9342 Q129.159 91.5175 129.159 100.267 Q129.159 108.994 126.08 113.601 Q123.024 118.184 117.214 118.184 Q111.404 118.184 108.325 113.601 Q105.27 108.994 105.27 100.267 Q105.27 91.5175 108.325 86.9342 Q111.404 82.3277 117.214 82.3277 Z\" fill=\"#000000\" fill-rule=\"nonzero\" fill-opacity=\"1\" /><path clip-path=\"url(#clip800)\" d=\"M129.159 76.4291 L153.27 76.4291 L153.27 79.6264 L129.159 79.6264 L129.159 76.4291 Z\" fill=\"#000000\" fill-rule=\"nonzero\" fill-opacity=\"1\" /><path clip-path=\"url(#clip800)\" d=\"M164.743 86.905 L178.002 86.905 L178.002 90.1023 L160.173 90.1023 L160.173 86.905 Q162.336 84.6669 166.06 80.9053 Q169.802 77.125 170.761 76.0341 Q172.586 73.9841 173.3 72.5735 Q174.034 71.1441 174.034 69.7711 Q174.034 67.533 172.454 66.1224 Q170.893 64.7118 168.373 64.7118 Q166.586 64.7118 164.593 65.3325 Q162.618 65.9531 160.361 67.2133 L160.361 63.3765 Q162.655 62.4549 164.649 61.9847 Q166.643 61.5145 168.298 61.5145 Q172.661 61.5145 175.257 63.6962 Q177.852 65.8779 177.852 69.5266 Q177.852 71.2569 177.194 72.818 Q176.554 74.3602 174.843 76.4667 Q174.373 77.0121 171.852 79.6264 Q169.332 82.2219 164.743 86.905 Z\" fill=\"#000000\" fill-rule=\"nonzero\" fill-opacity=\"1\" /><circle clip-path=\"url(#clip802)\" cx=\"274.533\" cy=\"1440.84\" r=\"14.4\" fill=\"#009af9\" fill-rule=\"evenodd\" fill-opacity=\"1\" stroke=\"#000000\" stroke-opacity=\"1\" stroke-width=\"3.2\"/>\n",
       "<circle clip-path=\"url(#clip802)\" cx=\"418.654\" cy=\"1445.72\" r=\"14.4\" fill=\"#009af9\" fill-rule=\"evenodd\" fill-opacity=\"1\" stroke=\"#000000\" stroke-opacity=\"1\" stroke-width=\"3.2\"/>\n",
       "<circle clip-path=\"url(#clip802)\" cx=\"562.775\" cy=\"1307.53\" r=\"14.4\" fill=\"#009af9\" fill-rule=\"evenodd\" fill-opacity=\"1\" stroke=\"#000000\" stroke-opacity=\"1\" stroke-width=\"3.2\"/>\n",
       "<circle clip-path=\"url(#clip802)\" cx=\"706.896\" cy=\"1221.63\" r=\"14.4\" fill=\"#009af9\" fill-rule=\"evenodd\" fill-opacity=\"1\" stroke=\"#000000\" stroke-opacity=\"1\" stroke-width=\"3.2\"/>\n",
       "<circle clip-path=\"url(#clip802)\" cx=\"851.017\" cy=\"1215.06\" r=\"14.4\" fill=\"#009af9\" fill-rule=\"evenodd\" fill-opacity=\"1\" stroke=\"#000000\" stroke-opacity=\"1\" stroke-width=\"3.2\"/>\n",
       "<circle clip-path=\"url(#clip802)\" cx=\"995.137\" cy=\"1085.15\" r=\"14.4\" fill=\"#009af9\" fill-rule=\"evenodd\" fill-opacity=\"1\" stroke=\"#000000\" stroke-opacity=\"1\" stroke-width=\"3.2\"/>\n",
       "<circle clip-path=\"url(#clip802)\" cx=\"1139.26\" cy=\"889.094\" r=\"14.4\" fill=\"#009af9\" fill-rule=\"evenodd\" fill-opacity=\"1\" stroke=\"#000000\" stroke-opacity=\"1\" stroke-width=\"3.2\"/>\n",
       "<circle clip-path=\"url(#clip802)\" cx=\"1283.38\" cy=\"884.961\" r=\"14.4\" fill=\"#009af9\" fill-rule=\"evenodd\" fill-opacity=\"1\" stroke=\"#000000\" stroke-opacity=\"1\" stroke-width=\"3.2\"/>\n",
       "<circle clip-path=\"url(#clip802)\" cx=\"1427.5\" cy=\"688.398\" r=\"14.4\" fill=\"#009af9\" fill-rule=\"evenodd\" fill-opacity=\"1\" stroke=\"#000000\" stroke-opacity=\"1\" stroke-width=\"3.2\"/>\n",
       "<circle clip-path=\"url(#clip802)\" cx=\"1571.62\" cy=\"562.434\" r=\"14.4\" fill=\"#009af9\" fill-rule=\"evenodd\" fill-opacity=\"1\" stroke=\"#000000\" stroke-opacity=\"1\" stroke-width=\"3.2\"/>\n",
       "<circle clip-path=\"url(#clip802)\" cx=\"1715.74\" cy=\"534.143\" r=\"14.4\" fill=\"#009af9\" fill-rule=\"evenodd\" fill-opacity=\"1\" stroke=\"#000000\" stroke-opacity=\"1\" stroke-width=\"3.2\"/>\n",
       "<circle clip-path=\"url(#clip802)\" cx=\"1859.86\" cy=\"357.248\" r=\"14.4\" fill=\"#009af9\" fill-rule=\"evenodd\" fill-opacity=\"1\" stroke=\"#000000\" stroke-opacity=\"1\" stroke-width=\"3.2\"/>\n",
       "<circle clip-path=\"url(#clip802)\" cx=\"2003.98\" cy=\"244.68\" r=\"14.4\" fill=\"#009af9\" fill-rule=\"evenodd\" fill-opacity=\"1\" stroke=\"#000000\" stroke-opacity=\"1\" stroke-width=\"3.2\"/>\n",
       "<circle clip-path=\"url(#clip802)\" cx=\"2148.1\" cy=\"163.948\" r=\"14.4\" fill=\"#009af9\" fill-rule=\"evenodd\" fill-opacity=\"1\" stroke=\"#000000\" stroke-opacity=\"1\" stroke-width=\"3.2\"/>\n",
       "<circle clip-path=\"url(#clip802)\" cx=\"2292.23\" cy=\"87.9763\" r=\"14.4\" fill=\"#009af9\" fill-rule=\"evenodd\" fill-opacity=\"1\" stroke=\"#000000\" stroke-opacity=\"1\" stroke-width=\"3.2\"/>\n",
       "<path clip-path=\"url(#clip800)\" d=\"M2015.16 1438.47 L2281.46 1438.47 L2281.46 1334.79 L2015.16 1334.79  Z\" fill=\"#ffffff\" fill-rule=\"evenodd\" fill-opacity=\"1\"/>\n",
       "<polyline clip-path=\"url(#clip800)\" style=\"stroke:#000000; stroke-linecap:round; stroke-linejoin:round; stroke-width:4; stroke-opacity:1; fill:none\" points=\"2015.16,1438.47 2281.46,1438.47 2281.46,1334.79 2015.16,1334.79 2015.16,1438.47 \"/>\n",
       "<circle clip-path=\"url(#clip800)\" cx=\"2110.21\" cy=\"1386.63\" r=\"20.48\" fill=\"#009af9\" fill-rule=\"evenodd\" fill-opacity=\"1\" stroke=\"#000000\" stroke-opacity=\"1\" stroke-width=\"4.55111\"/>\n",
       "<path clip-path=\"url(#clip800)\" d=\"M2219.11 1406.32 Q2217.31 1410.95 2215.59 1412.36 Q2213.88 1413.78 2211.01 1413.78 L2207.61 1413.78 L2207.61 1410.21 L2210.11 1410.21 Q2211.87 1410.21 2212.84 1409.38 Q2213.81 1408.54 2214.99 1405.44 L2215.76 1403.5 L2205.27 1377.99 L2209.78 1377.99 L2217.89 1398.27 L2225.99 1377.99 L2230.5 1377.99 L2219.11 1406.32 Z\" fill=\"#000000\" fill-rule=\"nonzero\" fill-opacity=\"1\" /><path clip-path=\"url(#clip800)\" d=\"M2237.79 1399.98 L2245.43 1399.98 L2245.43 1373.61 L2237.12 1375.28 L2237.12 1371.02 L2245.39 1369.35 L2250.06 1369.35 L2250.06 1399.98 L2257.7 1399.98 L2257.7 1403.91 L2237.79 1403.91 L2237.79 1399.98 Z\" fill=\"#000000\" fill-rule=\"nonzero\" fill-opacity=\"1\" /></svg>\n"
      ],
      "text/html": [
       "<?xml version=\"1.0\" encoding=\"utf-8\"?>\n",
       "<svg xmlns=\"http://www.w3.org/2000/svg\" xmlns:xlink=\"http://www.w3.org/1999/xlink\" width=\"600\" height=\"400\" viewBox=\"0 0 2400 1600\">\n",
       "<defs>\n",
       "  <clipPath id=\"clip850\">\n",
       "    <rect x=\"0\" y=\"0\" width=\"2400\" height=\"1600\"/>\n",
       "  </clipPath>\n",
       "</defs>\n",
       "<path clip-path=\"url(#clip850)\" d=\"M0 1600 L2400 1600 L2400 0 L0 0  Z\" fill=\"#ffffff\" fill-rule=\"evenodd\" fill-opacity=\"1\"/>\n",
       "<defs>\n",
       "  <clipPath id=\"clip851\">\n",
       "    <rect x=\"480\" y=\"0\" width=\"1681\" height=\"1600\"/>\n",
       "  </clipPath>\n",
       "</defs>\n",
       "<path clip-path=\"url(#clip850)\" d=\"M214.002 1486.45 L2352.76 1486.45 L2352.76 47.2441 L214.002 47.2441  Z\" fill=\"#ffffff\" fill-rule=\"evenodd\" fill-opacity=\"1\"/>\n",
       "<defs>\n",
       "  <clipPath id=\"clip852\">\n",
       "    <rect x=\"214\" y=\"47\" width=\"2140\" height=\"1440\"/>\n",
       "  </clipPath>\n",
       "</defs>\n",
       "<polyline clip-path=\"url(#clip852)\" style=\"stroke:#000000; stroke-linecap:round; stroke-linejoin:round; stroke-width:2; stroke-opacity:0.1; fill:none\" points=\"274.533,1486.45 274.533,47.2441 \"/>\n",
       "<polyline clip-path=\"url(#clip852)\" style=\"stroke:#000000; stroke-linecap:round; stroke-linejoin:round; stroke-width:2; stroke-opacity:0.1; fill:none\" points=\"418.654,1486.45 418.654,47.2441 \"/>\n",
       "<polyline clip-path=\"url(#clip852)\" style=\"stroke:#000000; stroke-linecap:round; stroke-linejoin:round; stroke-width:2; stroke-opacity:0.1; fill:none\" points=\"562.775,1486.45 562.775,47.2441 \"/>\n",
       "<polyline clip-path=\"url(#clip852)\" style=\"stroke:#000000; stroke-linecap:round; stroke-linejoin:round; stroke-width:2; stroke-opacity:0.1; fill:none\" points=\"706.896,1486.45 706.896,47.2441 \"/>\n",
       "<polyline clip-path=\"url(#clip852)\" style=\"stroke:#000000; stroke-linecap:round; stroke-linejoin:round; stroke-width:2; stroke-opacity:0.1; fill:none\" points=\"851.017,1486.45 851.017,47.2441 \"/>\n",
       "<polyline clip-path=\"url(#clip852)\" style=\"stroke:#000000; stroke-linecap:round; stroke-linejoin:round; stroke-width:2; stroke-opacity:0.1; fill:none\" points=\"995.137,1486.45 995.137,47.2441 \"/>\n",
       "<polyline clip-path=\"url(#clip852)\" style=\"stroke:#000000; stroke-linecap:round; stroke-linejoin:round; stroke-width:2; stroke-opacity:0.1; fill:none\" points=\"1139.26,1486.45 1139.26,47.2441 \"/>\n",
       "<polyline clip-path=\"url(#clip852)\" style=\"stroke:#000000; stroke-linecap:round; stroke-linejoin:round; stroke-width:2; stroke-opacity:0.1; fill:none\" points=\"1283.38,1486.45 1283.38,47.2441 \"/>\n",
       "<polyline clip-path=\"url(#clip852)\" style=\"stroke:#000000; stroke-linecap:round; stroke-linejoin:round; stroke-width:2; stroke-opacity:0.1; fill:none\" points=\"1427.5,1486.45 1427.5,47.2441 \"/>\n",
       "<polyline clip-path=\"url(#clip852)\" style=\"stroke:#000000; stroke-linecap:round; stroke-linejoin:round; stroke-width:2; stroke-opacity:0.1; fill:none\" points=\"1571.62,1486.45 1571.62,47.2441 \"/>\n",
       "<polyline clip-path=\"url(#clip852)\" style=\"stroke:#000000; stroke-linecap:round; stroke-linejoin:round; stroke-width:2; stroke-opacity:0.1; fill:none\" points=\"1715.74,1486.45 1715.74,47.2441 \"/>\n",
       "<polyline clip-path=\"url(#clip852)\" style=\"stroke:#000000; stroke-linecap:round; stroke-linejoin:round; stroke-width:2; stroke-opacity:0.1; fill:none\" points=\"1859.86,1486.45 1859.86,47.2441 \"/>\n",
       "<polyline clip-path=\"url(#clip852)\" style=\"stroke:#000000; stroke-linecap:round; stroke-linejoin:round; stroke-width:2; stroke-opacity:0.1; fill:none\" points=\"2003.98,1486.45 2003.98,47.2441 \"/>\n",
       "<polyline clip-path=\"url(#clip852)\" style=\"stroke:#000000; stroke-linecap:round; stroke-linejoin:round; stroke-width:2; stroke-opacity:0.1; fill:none\" points=\"2148.1,1486.45 2148.1,47.2441 \"/>\n",
       "<polyline clip-path=\"url(#clip852)\" style=\"stroke:#000000; stroke-linecap:round; stroke-linejoin:round; stroke-width:2; stroke-opacity:0.1; fill:none\" points=\"2292.23,1486.45 2292.23,47.2441 \"/>\n",
       "<polyline clip-path=\"url(#clip852)\" style=\"stroke:#000000; stroke-linecap:round; stroke-linejoin:round; stroke-width:2; stroke-opacity:0.1; fill:none\" points=\"214.002,1397.28 2352.76,1397.28 \"/>\n",
       "<polyline clip-path=\"url(#clip852)\" style=\"stroke:#000000; stroke-linecap:round; stroke-linejoin:round; stroke-width:2; stroke-opacity:0.1; fill:none\" points=\"214.002,1288.66 2352.76,1288.66 \"/>\n",
       "<polyline clip-path=\"url(#clip852)\" style=\"stroke:#000000; stroke-linecap:round; stroke-linejoin:round; stroke-width:2; stroke-opacity:0.1; fill:none\" points=\"214.002,1180.03 2352.76,1180.03 \"/>\n",
       "<polyline clip-path=\"url(#clip852)\" style=\"stroke:#000000; stroke-linecap:round; stroke-linejoin:round; stroke-width:2; stroke-opacity:0.1; fill:none\" points=\"214.002,1071.41 2352.76,1071.41 \"/>\n",
       "<polyline clip-path=\"url(#clip852)\" style=\"stroke:#000000; stroke-linecap:round; stroke-linejoin:round; stroke-width:2; stroke-opacity:0.1; fill:none\" points=\"214.002,962.784 2352.76,962.784 \"/>\n",
       "<polyline clip-path=\"url(#clip852)\" style=\"stroke:#000000; stroke-linecap:round; stroke-linejoin:round; stroke-width:2; stroke-opacity:0.1; fill:none\" points=\"214.002,854.159 2352.76,854.159 \"/>\n",
       "<polyline clip-path=\"url(#clip852)\" style=\"stroke:#000000; stroke-linecap:round; stroke-linejoin:round; stroke-width:2; stroke-opacity:0.1; fill:none\" points=\"214.002,745.534 2352.76,745.534 \"/>\n",
       "<polyline clip-path=\"url(#clip852)\" style=\"stroke:#000000; stroke-linecap:round; stroke-linejoin:round; stroke-width:2; stroke-opacity:0.1; fill:none\" points=\"214.002,636.91 2352.76,636.91 \"/>\n",
       "<polyline clip-path=\"url(#clip852)\" style=\"stroke:#000000; stroke-linecap:round; stroke-linejoin:round; stroke-width:2; stroke-opacity:0.1; fill:none\" points=\"214.002,528.285 2352.76,528.285 \"/>\n",
       "<polyline clip-path=\"url(#clip852)\" style=\"stroke:#000000; stroke-linecap:round; stroke-linejoin:round; stroke-width:2; stroke-opacity:0.1; fill:none\" points=\"214.002,419.66 2352.76,419.66 \"/>\n",
       "<polyline clip-path=\"url(#clip852)\" style=\"stroke:#000000; stroke-linecap:round; stroke-linejoin:round; stroke-width:2; stroke-opacity:0.1; fill:none\" points=\"214.002,311.035 2352.76,311.035 \"/>\n",
       "<polyline clip-path=\"url(#clip852)\" style=\"stroke:#000000; stroke-linecap:round; stroke-linejoin:round; stroke-width:2; stroke-opacity:0.1; fill:none\" points=\"214.002,202.41 2352.76,202.41 \"/>\n",
       "<polyline clip-path=\"url(#clip852)\" style=\"stroke:#000000; stroke-linecap:round; stroke-linejoin:round; stroke-width:2; stroke-opacity:0.1; fill:none\" points=\"214.002,93.7851 2352.76,93.7851 \"/>\n",
       "<polyline clip-path=\"url(#clip850)\" style=\"stroke:#000000; stroke-linecap:round; stroke-linejoin:round; stroke-width:4; stroke-opacity:1; fill:none\" points=\"214.002,1486.45 2352.76,1486.45 \"/>\n",
       "<polyline clip-path=\"url(#clip850)\" style=\"stroke:#000000; stroke-linecap:round; stroke-linejoin:round; stroke-width:4; stroke-opacity:1; fill:none\" points=\"274.533,1486.45 274.533,1467.55 \"/>\n",
       "<polyline clip-path=\"url(#clip850)\" style=\"stroke:#000000; stroke-linecap:round; stroke-linejoin:round; stroke-width:4; stroke-opacity:1; fill:none\" points=\"418.654,1486.45 418.654,1467.55 \"/>\n",
       "<polyline clip-path=\"url(#clip850)\" style=\"stroke:#000000; stroke-linecap:round; stroke-linejoin:round; stroke-width:4; stroke-opacity:1; fill:none\" points=\"562.775,1486.45 562.775,1467.55 \"/>\n",
       "<polyline clip-path=\"url(#clip850)\" style=\"stroke:#000000; stroke-linecap:round; stroke-linejoin:round; stroke-width:4; stroke-opacity:1; fill:none\" points=\"706.896,1486.45 706.896,1467.55 \"/>\n",
       "<polyline clip-path=\"url(#clip850)\" style=\"stroke:#000000; stroke-linecap:round; stroke-linejoin:round; stroke-width:4; stroke-opacity:1; fill:none\" points=\"851.017,1486.45 851.017,1467.55 \"/>\n",
       "<polyline clip-path=\"url(#clip850)\" style=\"stroke:#000000; stroke-linecap:round; stroke-linejoin:round; stroke-width:4; stroke-opacity:1; fill:none\" points=\"995.137,1486.45 995.137,1467.55 \"/>\n",
       "<polyline clip-path=\"url(#clip850)\" style=\"stroke:#000000; stroke-linecap:round; stroke-linejoin:round; stroke-width:4; stroke-opacity:1; fill:none\" points=\"1139.26,1486.45 1139.26,1467.55 \"/>\n",
       "<polyline clip-path=\"url(#clip850)\" style=\"stroke:#000000; stroke-linecap:round; stroke-linejoin:round; stroke-width:4; stroke-opacity:1; fill:none\" points=\"1283.38,1486.45 1283.38,1467.55 \"/>\n",
       "<polyline clip-path=\"url(#clip850)\" style=\"stroke:#000000; stroke-linecap:round; stroke-linejoin:round; stroke-width:4; stroke-opacity:1; fill:none\" points=\"1427.5,1486.45 1427.5,1467.55 \"/>\n",
       "<polyline clip-path=\"url(#clip850)\" style=\"stroke:#000000; stroke-linecap:round; stroke-linejoin:round; stroke-width:4; stroke-opacity:1; fill:none\" points=\"1571.62,1486.45 1571.62,1467.55 \"/>\n",
       "<polyline clip-path=\"url(#clip850)\" style=\"stroke:#000000; stroke-linecap:round; stroke-linejoin:round; stroke-width:4; stroke-opacity:1; fill:none\" points=\"1715.74,1486.45 1715.74,1467.55 \"/>\n",
       "<polyline clip-path=\"url(#clip850)\" style=\"stroke:#000000; stroke-linecap:round; stroke-linejoin:round; stroke-width:4; stroke-opacity:1; fill:none\" points=\"1859.86,1486.45 1859.86,1467.55 \"/>\n",
       "<polyline clip-path=\"url(#clip850)\" style=\"stroke:#000000; stroke-linecap:round; stroke-linejoin:round; stroke-width:4; stroke-opacity:1; fill:none\" points=\"2003.98,1486.45 2003.98,1467.55 \"/>\n",
       "<polyline clip-path=\"url(#clip850)\" style=\"stroke:#000000; stroke-linecap:round; stroke-linejoin:round; stroke-width:4; stroke-opacity:1; fill:none\" points=\"2148.1,1486.45 2148.1,1467.55 \"/>\n",
       "<polyline clip-path=\"url(#clip850)\" style=\"stroke:#000000; stroke-linecap:round; stroke-linejoin:round; stroke-width:4; stroke-opacity:1; fill:none\" points=\"2292.23,1486.45 2292.23,1467.55 \"/>\n",
       "<path clip-path=\"url(#clip850)\" d=\"M274.533 1517.37 Q270.922 1517.37 269.093 1520.93 Q267.288 1524.47 267.288 1531.6 Q267.288 1538.71 269.093 1542.27 Q270.922 1545.82 274.533 1545.82 Q278.167 1545.82 279.973 1542.27 Q281.802 1538.71 281.802 1531.6 Q281.802 1524.47 279.973 1520.93 Q278.167 1517.37 274.533 1517.37 M274.533 1513.66 Q280.343 1513.66 283.399 1518.27 Q286.478 1522.85 286.478 1531.6 Q286.478 1540.33 283.399 1544.94 Q280.343 1549.52 274.533 1549.52 Q268.723 1549.52 265.644 1544.94 Q262.589 1540.33 262.589 1531.6 Q262.589 1522.85 265.644 1518.27 Q268.723 1513.66 274.533 1513.66 Z\" fill=\"#000000\" fill-rule=\"nonzero\" fill-opacity=\"1\" /><path clip-path=\"url(#clip850)\" d=\"M409.036 1544.91 L416.675 1544.91 L416.675 1518.55 L408.365 1520.21 L408.365 1515.95 L416.629 1514.29 L421.305 1514.29 L421.305 1544.91 L428.943 1544.91 L428.943 1548.85 L409.036 1548.85 L409.036 1544.91 Z\" fill=\"#000000\" fill-rule=\"nonzero\" fill-opacity=\"1\" /><path clip-path=\"url(#clip850)\" d=\"M557.428 1544.91 L573.747 1544.91 L573.747 1548.85 L551.803 1548.85 L551.803 1544.91 Q554.465 1542.16 559.048 1537.53 Q563.655 1532.88 564.835 1531.53 Q567.08 1529.01 567.96 1527.27 Q568.863 1525.51 568.863 1523.82 Q568.863 1521.07 566.918 1519.33 Q564.997 1517.6 561.895 1517.6 Q559.696 1517.6 557.243 1518.36 Q554.812 1519.13 552.034 1520.68 L552.034 1515.95 Q554.858 1514.82 557.312 1514.24 Q559.766 1513.66 561.803 1513.66 Q567.173 1513.66 570.367 1516.35 Q573.562 1519.03 573.562 1523.52 Q573.562 1525.65 572.752 1527.57 Q571.965 1529.47 569.858 1532.07 Q569.28 1532.74 566.178 1535.95 Q563.076 1539.15 557.428 1544.91 Z\" fill=\"#000000\" fill-rule=\"nonzero\" fill-opacity=\"1\" /><path clip-path=\"url(#clip850)\" d=\"M711.143 1530.21 Q714.5 1530.93 716.375 1533.2 Q718.273 1535.47 718.273 1538.8 Q718.273 1543.92 714.755 1546.72 Q711.236 1549.52 704.755 1549.52 Q702.579 1549.52 700.264 1549.08 Q697.972 1548.66 695.519 1547.81 L695.519 1543.29 Q697.463 1544.43 699.778 1545.01 Q702.093 1545.58 704.616 1545.58 Q709.014 1545.58 711.305 1543.85 Q713.62 1542.11 713.62 1538.8 Q713.62 1535.75 711.467 1534.03 Q709.338 1532.3 705.518 1532.3 L701.491 1532.3 L701.491 1528.45 L705.704 1528.45 Q709.153 1528.45 710.981 1527.09 Q712.81 1525.7 712.81 1523.11 Q712.81 1520.45 710.912 1519.03 Q709.037 1517.6 705.518 1517.6 Q703.597 1517.6 701.398 1518.01 Q699.199 1518.43 696.56 1519.31 L696.56 1515.14 Q699.222 1514.4 701.537 1514.03 Q703.875 1513.66 705.935 1513.66 Q711.259 1513.66 714.361 1516.09 Q717.463 1518.5 717.463 1522.62 Q717.463 1525.49 715.819 1527.48 Q714.176 1529.45 711.143 1530.21 Z\" fill=\"#000000\" fill-rule=\"nonzero\" fill-opacity=\"1\" /><path clip-path=\"url(#clip850)\" d=\"M854.026 1518.36 L842.22 1536.81 L854.026 1536.81 L854.026 1518.36 M852.799 1514.29 L858.679 1514.29 L858.679 1536.81 L863.609 1536.81 L863.609 1540.7 L858.679 1540.7 L858.679 1548.85 L854.026 1548.85 L854.026 1540.7 L838.424 1540.7 L838.424 1536.19 L852.799 1514.29 Z\" fill=\"#000000\" fill-rule=\"nonzero\" fill-opacity=\"1\" /><path clip-path=\"url(#clip850)\" d=\"M985.415 1514.29 L1003.77 1514.29 L1003.77 1518.22 L989.698 1518.22 L989.698 1526.7 Q990.716 1526.35 991.735 1526.19 Q992.753 1526 993.772 1526 Q999.559 1526 1002.94 1529.17 Q1006.32 1532.34 1006.32 1537.76 Q1006.32 1543.34 1002.85 1546.44 Q999.374 1549.52 993.054 1549.52 Q990.878 1549.52 988.61 1549.15 Q986.364 1548.78 983.957 1548.04 L983.957 1543.34 Q986.04 1544.47 988.263 1545.03 Q990.485 1545.58 992.962 1545.58 Q996.966 1545.58 999.304 1543.48 Q1001.64 1541.37 1001.64 1537.76 Q1001.64 1534.15 999.304 1532.04 Q996.966 1529.94 992.962 1529.94 Q991.087 1529.94 989.212 1530.35 Q987.36 1530.77 985.415 1531.65 L985.415 1514.29 Z\" fill=\"#000000\" fill-rule=\"nonzero\" fill-opacity=\"1\" /><path clip-path=\"url(#clip850)\" d=\"M1139.66 1529.7 Q1136.52 1529.7 1134.66 1531.86 Q1132.83 1534.01 1132.83 1537.76 Q1132.83 1541.49 1134.66 1543.66 Q1136.52 1545.82 1139.66 1545.82 Q1142.81 1545.82 1144.64 1543.66 Q1146.49 1541.49 1146.49 1537.76 Q1146.49 1534.01 1144.64 1531.86 Q1142.81 1529.7 1139.66 1529.7 M1148.95 1515.05 L1148.95 1519.31 Q1147.19 1518.48 1145.38 1518.04 Q1143.6 1517.6 1141.84 1517.6 Q1137.21 1517.6 1134.76 1520.72 Q1132.33 1523.85 1131.98 1530.17 Q1133.34 1528.15 1135.4 1527.09 Q1137.46 1526 1139.94 1526 Q1145.15 1526 1148.16 1529.17 Q1151.19 1532.32 1151.19 1537.76 Q1151.19 1543.08 1148.04 1546.3 Q1144.89 1549.52 1139.66 1549.52 Q1133.67 1549.52 1130.5 1544.94 Q1127.33 1540.33 1127.33 1531.6 Q1127.33 1523.41 1131.21 1518.55 Q1135.1 1513.66 1141.65 1513.66 Q1143.41 1513.66 1145.2 1514.01 Q1147 1514.36 1148.95 1515.05 Z\" fill=\"#000000\" fill-rule=\"nonzero\" fill-opacity=\"1\" /><path clip-path=\"url(#clip850)\" d=\"M1272.27 1514.29 L1294.49 1514.29 L1294.49 1516.28 L1281.94 1548.85 L1277.06 1548.85 L1288.87 1518.22 L1272.27 1518.22 L1272.27 1514.29 Z\" fill=\"#000000\" fill-rule=\"nonzero\" fill-opacity=\"1\" /><path clip-path=\"url(#clip850)\" d=\"M1427.5 1532.44 Q1424.17 1532.44 1422.25 1534.22 Q1420.35 1536 1420.35 1539.13 Q1420.35 1542.25 1422.25 1544.03 Q1424.17 1545.82 1427.5 1545.82 Q1430.83 1545.82 1432.75 1544.03 Q1434.68 1542.23 1434.68 1539.13 Q1434.68 1536 1432.75 1534.22 Q1430.86 1532.44 1427.5 1532.44 M1422.82 1530.45 Q1419.81 1529.7 1418.13 1527.64 Q1416.46 1525.58 1416.46 1522.62 Q1416.46 1518.48 1419.4 1516.07 Q1422.36 1513.66 1427.5 1513.66 Q1432.66 1513.66 1435.6 1516.07 Q1438.54 1518.48 1438.54 1522.62 Q1438.54 1525.58 1436.85 1527.64 Q1435.19 1529.7 1432.2 1530.45 Q1435.58 1531.23 1437.45 1533.52 Q1439.35 1535.82 1439.35 1539.13 Q1439.35 1544.15 1436.27 1546.83 Q1433.22 1549.52 1427.5 1549.52 Q1421.78 1549.52 1418.7 1546.83 Q1415.65 1544.15 1415.65 1539.13 Q1415.65 1535.82 1417.55 1533.52 Q1419.44 1531.23 1422.82 1530.45 M1421.11 1523.06 Q1421.11 1525.75 1422.78 1527.25 Q1424.47 1528.76 1427.5 1528.76 Q1430.51 1528.76 1432.2 1527.25 Q1433.91 1525.75 1433.91 1523.06 Q1433.91 1520.38 1432.2 1518.87 Q1430.51 1517.37 1427.5 1517.37 Q1424.47 1517.37 1422.78 1518.87 Q1421.11 1520.38 1421.11 1523.06 Z\" fill=\"#000000\" fill-rule=\"nonzero\" fill-opacity=\"1\" /><path clip-path=\"url(#clip850)\" d=\"M1561.92 1548.13 L1561.92 1543.87 Q1563.68 1544.7 1565.49 1545.14 Q1567.29 1545.58 1569.03 1545.58 Q1573.66 1545.58 1576.09 1542.48 Q1578.54 1539.36 1578.89 1533.01 Q1577.55 1535.01 1575.49 1536.07 Q1573.43 1537.13 1570.93 1537.13 Q1565.74 1537.13 1562.71 1534.01 Q1559.7 1530.86 1559.7 1525.42 Q1559.7 1520.1 1562.85 1516.88 Q1566 1513.66 1571.23 1513.66 Q1577.22 1513.66 1580.37 1518.27 Q1583.54 1522.85 1583.54 1531.6 Q1583.54 1539.77 1579.65 1544.66 Q1575.79 1549.52 1569.24 1549.52 Q1567.48 1549.52 1565.67 1549.17 Q1563.87 1548.82 1561.92 1548.13 M1571.23 1533.48 Q1574.38 1533.48 1576.2 1531.32 Q1578.06 1529.17 1578.06 1525.42 Q1578.06 1521.7 1576.2 1519.54 Q1574.38 1517.37 1571.23 1517.37 Q1568.08 1517.37 1566.23 1519.54 Q1564.4 1521.7 1564.4 1525.42 Q1564.4 1529.17 1566.23 1531.32 Q1568.08 1533.48 1571.23 1533.48 Z\" fill=\"#000000\" fill-rule=\"nonzero\" fill-opacity=\"1\" /><path clip-path=\"url(#clip850)\" d=\"M1690.43 1544.91 L1698.07 1544.91 L1698.07 1518.55 L1689.76 1520.21 L1689.76 1515.95 L1698.02 1514.29 L1702.7 1514.29 L1702.7 1544.91 L1710.34 1544.91 L1710.34 1548.85 L1690.43 1548.85 L1690.43 1544.91 Z\" fill=\"#000000\" fill-rule=\"nonzero\" fill-opacity=\"1\" /><path clip-path=\"url(#clip850)\" d=\"M1729.78 1517.37 Q1726.17 1517.37 1724.34 1520.93 Q1722.54 1524.47 1722.54 1531.6 Q1722.54 1538.71 1724.34 1542.27 Q1726.17 1545.82 1729.78 1545.82 Q1733.42 1545.82 1735.22 1542.27 Q1737.05 1538.71 1737.05 1531.6 Q1737.05 1524.47 1735.22 1520.93 Q1733.42 1517.37 1729.78 1517.37 M1729.78 1513.66 Q1735.59 1513.66 1738.65 1518.27 Q1741.73 1522.85 1741.73 1531.6 Q1741.73 1540.33 1738.65 1544.94 Q1735.59 1549.52 1729.78 1549.52 Q1723.97 1549.52 1720.89 1544.94 Q1717.84 1540.33 1717.84 1531.6 Q1717.84 1522.85 1720.89 1518.27 Q1723.97 1513.66 1729.78 1513.66 Z\" fill=\"#000000\" fill-rule=\"nonzero\" fill-opacity=\"1\" /><path clip-path=\"url(#clip850)\" d=\"M1835.16 1544.91 L1842.8 1544.91 L1842.8 1518.55 L1834.49 1520.21 L1834.49 1515.95 L1842.76 1514.29 L1847.43 1514.29 L1847.43 1544.91 L1855.07 1544.91 L1855.07 1548.85 L1835.16 1548.85 L1835.16 1544.91 Z\" fill=\"#000000\" fill-rule=\"nonzero\" fill-opacity=\"1\" /><path clip-path=\"url(#clip850)\" d=\"M1865.33 1544.91 L1872.96 1544.91 L1872.96 1518.55 L1864.65 1520.21 L1864.65 1515.95 L1872.92 1514.29 L1877.59 1514.29 L1877.59 1544.91 L1885.23 1544.91 L1885.23 1548.85 L1865.33 1548.85 L1865.33 1544.91 Z\" fill=\"#000000\" fill-rule=\"nonzero\" fill-opacity=\"1\" /><path clip-path=\"url(#clip850)\" d=\"M1979.47 1544.91 L1987.11 1544.91 L1987.11 1518.55 L1978.8 1520.21 L1978.8 1515.95 L1987.06 1514.29 L1991.74 1514.29 L1991.74 1544.91 L1999.38 1544.91 L1999.38 1548.85 L1979.47 1548.85 L1979.47 1544.91 Z\" fill=\"#000000\" fill-rule=\"nonzero\" fill-opacity=\"1\" /><path clip-path=\"url(#clip850)\" d=\"M2012.85 1544.91 L2029.17 1544.91 L2029.17 1548.85 L2007.22 1548.85 L2007.22 1544.91 Q2009.89 1542.16 2014.47 1537.53 Q2019.08 1532.88 2020.26 1531.53 Q2022.5 1529.01 2023.38 1527.27 Q2024.28 1525.51 2024.28 1523.82 Q2024.28 1521.07 2022.34 1519.33 Q2020.42 1517.6 2017.32 1517.6 Q2015.12 1517.6 2012.66 1518.36 Q2010.23 1519.13 2007.46 1520.68 L2007.46 1515.95 Q2010.28 1514.82 2012.73 1514.24 Q2015.19 1513.66 2017.22 1513.66 Q2022.59 1513.66 2025.79 1516.35 Q2028.98 1519.03 2028.98 1523.52 Q2028.98 1525.65 2028.17 1527.57 Q2027.39 1529.47 2025.28 1532.07 Q2024.7 1532.74 2021.6 1535.95 Q2018.5 1539.15 2012.85 1544.91 Z\" fill=\"#000000\" fill-rule=\"nonzero\" fill-opacity=\"1\" /><path clip-path=\"url(#clip850)\" d=\"M2123.12 1544.91 L2130.75 1544.91 L2130.75 1518.55 L2122.44 1520.21 L2122.44 1515.95 L2130.71 1514.29 L2135.38 1514.29 L2135.38 1544.91 L2143.02 1544.91 L2143.02 1548.85 L2123.12 1548.85 L2123.12 1544.91 Z\" fill=\"#000000\" fill-rule=\"nonzero\" fill-opacity=\"1\" /><path clip-path=\"url(#clip850)\" d=\"M2166.63 1530.21 Q2169.99 1530.93 2171.87 1533.2 Q2173.76 1535.47 2173.76 1538.8 Q2173.76 1543.92 2170.25 1546.72 Q2166.73 1549.52 2160.25 1549.52 Q2158.07 1549.52 2155.75 1549.08 Q2153.46 1548.66 2151.01 1547.81 L2151.01 1543.29 Q2152.95 1544.43 2155.27 1545.01 Q2157.58 1545.58 2160.11 1545.58 Q2164.5 1545.58 2166.8 1543.85 Q2169.11 1542.11 2169.11 1538.8 Q2169.11 1535.75 2166.96 1534.03 Q2164.83 1532.3 2161.01 1532.3 L2156.98 1532.3 L2156.98 1528.45 L2161.19 1528.45 Q2164.64 1528.45 2166.47 1527.09 Q2168.3 1525.7 2168.3 1523.11 Q2168.3 1520.45 2166.4 1519.03 Q2164.53 1517.6 2161.01 1517.6 Q2159.09 1517.6 2156.89 1518.01 Q2154.69 1518.43 2152.05 1519.31 L2152.05 1515.14 Q2154.71 1514.4 2157.03 1514.03 Q2159.37 1513.66 2161.43 1513.66 Q2166.75 1513.66 2169.85 1516.09 Q2172.95 1518.5 2172.95 1522.62 Q2172.95 1525.49 2171.31 1527.48 Q2169.67 1529.45 2166.63 1530.21 Z\" fill=\"#000000\" fill-rule=\"nonzero\" fill-opacity=\"1\" /><path clip-path=\"url(#clip850)\" d=\"M2266.67 1544.91 L2274.31 1544.91 L2274.31 1518.55 L2266 1520.21 L2266 1515.95 L2274.26 1514.29 L2278.94 1514.29 L2278.94 1544.91 L2286.58 1544.91 L2286.58 1548.85 L2266.67 1548.85 L2266.67 1544.91 Z\" fill=\"#000000\" fill-rule=\"nonzero\" fill-opacity=\"1\" /><path clip-path=\"url(#clip850)\" d=\"M2308.87 1518.36 L2297.06 1536.81 L2308.87 1536.81 L2308.87 1518.36 M2307.64 1514.29 L2313.52 1514.29 L2313.52 1536.81 L2318.45 1536.81 L2318.45 1540.7 L2313.52 1540.7 L2313.52 1548.85 L2308.87 1548.85 L2308.87 1540.7 L2293.27 1540.7 L2293.27 1536.19 L2307.64 1514.29 Z\" fill=\"#000000\" fill-rule=\"nonzero\" fill-opacity=\"1\" /><polyline clip-path=\"url(#clip850)\" style=\"stroke:#000000; stroke-linecap:round; stroke-linejoin:round; stroke-width:4; stroke-opacity:1; fill:none\" points=\"214.002,1486.45 214.002,47.2441 \"/>\n",
       "<polyline clip-path=\"url(#clip850)\" style=\"stroke:#000000; stroke-linecap:round; stroke-linejoin:round; stroke-width:4; stroke-opacity:1; fill:none\" points=\"214.002,1397.28 232.9,1397.28 \"/>\n",
       "<polyline clip-path=\"url(#clip850)\" style=\"stroke:#000000; stroke-linecap:round; stroke-linejoin:round; stroke-width:4; stroke-opacity:1; fill:none\" points=\"214.002,1288.66 232.9,1288.66 \"/>\n",
       "<polyline clip-path=\"url(#clip850)\" style=\"stroke:#000000; stroke-linecap:round; stroke-linejoin:round; stroke-width:4; stroke-opacity:1; fill:none\" points=\"214.002,1180.03 232.9,1180.03 \"/>\n",
       "<polyline clip-path=\"url(#clip850)\" style=\"stroke:#000000; stroke-linecap:round; stroke-linejoin:round; stroke-width:4; stroke-opacity:1; fill:none\" points=\"214.002,1071.41 232.9,1071.41 \"/>\n",
       "<polyline clip-path=\"url(#clip850)\" style=\"stroke:#000000; stroke-linecap:round; stroke-linejoin:round; stroke-width:4; stroke-opacity:1; fill:none\" points=\"214.002,962.784 232.9,962.784 \"/>\n",
       "<polyline clip-path=\"url(#clip850)\" style=\"stroke:#000000; stroke-linecap:round; stroke-linejoin:round; stroke-width:4; stroke-opacity:1; fill:none\" points=\"214.002,854.159 232.9,854.159 \"/>\n",
       "<polyline clip-path=\"url(#clip850)\" style=\"stroke:#000000; stroke-linecap:round; stroke-linejoin:round; stroke-width:4; stroke-opacity:1; fill:none\" points=\"214.002,745.534 232.9,745.534 \"/>\n",
       "<polyline clip-path=\"url(#clip850)\" style=\"stroke:#000000; stroke-linecap:round; stroke-linejoin:round; stroke-width:4; stroke-opacity:1; fill:none\" points=\"214.002,636.91 232.9,636.91 \"/>\n",
       "<polyline clip-path=\"url(#clip850)\" style=\"stroke:#000000; stroke-linecap:round; stroke-linejoin:round; stroke-width:4; stroke-opacity:1; fill:none\" points=\"214.002,528.285 232.9,528.285 \"/>\n",
       "<polyline clip-path=\"url(#clip850)\" style=\"stroke:#000000; stroke-linecap:round; stroke-linejoin:round; stroke-width:4; stroke-opacity:1; fill:none\" points=\"214.002,419.66 232.9,419.66 \"/>\n",
       "<polyline clip-path=\"url(#clip850)\" style=\"stroke:#000000; stroke-linecap:round; stroke-linejoin:round; stroke-width:4; stroke-opacity:1; fill:none\" points=\"214.002,311.035 232.9,311.035 \"/>\n",
       "<polyline clip-path=\"url(#clip850)\" style=\"stroke:#000000; stroke-linecap:round; stroke-linejoin:round; stroke-width:4; stroke-opacity:1; fill:none\" points=\"214.002,202.41 232.9,202.41 \"/>\n",
       "<polyline clip-path=\"url(#clip850)\" style=\"stroke:#000000; stroke-linecap:round; stroke-linejoin:round; stroke-width:4; stroke-opacity:1; fill:none\" points=\"214.002,93.7851 232.9,93.7851 \"/>\n",
       "<path clip-path=\"url(#clip850)\" d=\"M51.6634 1417.08 L59.3023 1417.08 L59.3023 1390.71 L50.9921 1392.38 L50.9921 1388.12 L59.256 1386.45 L63.9319 1386.45 L63.9319 1417.08 L71.5707 1417.08 L71.5707 1421.01 L51.6634 1421.01 L51.6634 1417.08 Z\" fill=\"#000000\" fill-rule=\"nonzero\" fill-opacity=\"1\" /><path clip-path=\"url(#clip850)\" d=\"M91.0151 1389.53 Q87.404 1389.53 85.5753 1393.09 Q83.7697 1396.64 83.7697 1403.77 Q83.7697 1410.87 85.5753 1414.44 Q87.404 1417.98 91.0151 1417.98 Q94.6493 1417.98 96.4548 1414.44 Q98.2835 1410.87 98.2835 1403.77 Q98.2835 1396.64 96.4548 1393.09 Q94.6493 1389.53 91.0151 1389.53 M91.0151 1385.83 Q96.8252 1385.83 99.8808 1390.43 Q102.959 1395.02 102.959 1403.77 Q102.959 1412.49 99.8808 1417.1 Q96.8252 1421.68 91.0151 1421.68 Q85.2049 1421.68 82.1262 1417.1 Q79.0707 1412.49 79.0707 1403.77 Q79.0707 1395.02 82.1262 1390.43 Q85.2049 1385.83 91.0151 1385.83 Z\" fill=\"#000000\" fill-rule=\"nonzero\" fill-opacity=\"1\" /><path clip-path=\"url(#clip850)\" d=\"M102.959 1379.93 L127.071 1379.93 L127.071 1383.12 L102.959 1383.12 L102.959 1379.93 Z\" fill=\"#000000\" fill-rule=\"nonzero\" fill-opacity=\"1\" /><path clip-path=\"url(#clip850)\" d=\"M135.929 1390.4 L142.136 1390.4 L142.136 1368.98 L135.384 1370.34 L135.384 1366.88 L142.098 1365.52 L145.898 1365.52 L145.898 1390.4 L152.104 1390.4 L152.104 1393.6 L135.929 1393.6 L135.929 1390.4 Z\" fill=\"#000000\" fill-rule=\"nonzero\" fill-opacity=\"1\" /><path clip-path=\"url(#clip850)\" d=\"M170.216 1368.83 L160.624 1383.82 L170.216 1383.82 L170.216 1368.83 M169.219 1365.52 L173.996 1365.52 L173.996 1383.82 L178.002 1383.82 L178.002 1386.98 L173.996 1386.98 L173.996 1393.6 L170.216 1393.6 L170.216 1386.98 L157.54 1386.98 L157.54 1383.31 L169.219 1365.52 Z\" fill=\"#000000\" fill-rule=\"nonzero\" fill-opacity=\"1\" /><path clip-path=\"url(#clip850)\" d=\"M52.585 1308.45 L60.2238 1308.45 L60.2238 1282.09 L51.9137 1283.75 L51.9137 1279.49 L60.1776 1277.83 L64.8535 1277.83 L64.8535 1308.45 L72.4923 1308.45 L72.4923 1312.39 L52.585 1312.39 L52.585 1308.45 Z\" fill=\"#000000\" fill-rule=\"nonzero\" fill-opacity=\"1\" /><path clip-path=\"url(#clip850)\" d=\"M91.9366 1280.91 Q88.3255 1280.91 86.4969 1284.47 Q84.6913 1288.01 84.6913 1295.14 Q84.6913 1302.25 86.4969 1305.81 Q88.3255 1309.35 91.9366 1309.35 Q95.5709 1309.35 97.3764 1305.81 Q99.2051 1302.25 99.2051 1295.14 Q99.2051 1288.01 97.3764 1284.47 Q95.5709 1280.91 91.9366 1280.91 M91.9366 1277.2 Q97.7468 1277.2 100.802 1281.81 Q103.881 1286.39 103.881 1295.14 Q103.881 1303.87 100.802 1308.47 Q97.7468 1313.06 91.9366 1313.06 Q86.1265 1313.06 83.0478 1308.47 Q79.9923 1303.87 79.9923 1295.14 Q79.9923 1286.39 83.0478 1281.81 Q86.1265 1277.2 91.9366 1277.2 Z\" fill=\"#000000\" fill-rule=\"nonzero\" fill-opacity=\"1\" /><path clip-path=\"url(#clip850)\" d=\"M103.881 1271.3 L127.993 1271.3 L127.993 1274.5 L103.881 1274.5 L103.881 1271.3 Z\" fill=\"#000000\" fill-rule=\"nonzero\" fill-opacity=\"1\" /><path clip-path=\"url(#clip850)\" d=\"M136.851 1281.78 L143.058 1281.78 L143.058 1260.36 L136.306 1261.71 L136.306 1258.25 L143.02 1256.9 L146.819 1256.9 L146.819 1281.78 L153.026 1281.78 L153.026 1284.98 L136.851 1284.98 L136.851 1281.78 Z\" fill=\"#000000\" fill-rule=\"nonzero\" fill-opacity=\"1\" /><path clip-path=\"url(#clip850)\" d=\"M172.21 1269.84 Q174.937 1270.42 176.46 1272.26 Q178.002 1274.11 178.002 1276.81 Q178.002 1280.97 175.144 1283.25 Q172.285 1285.52 167.019 1285.52 Q165.251 1285.52 163.37 1285.16 Q161.508 1284.83 159.514 1284.13 L159.514 1280.46 Q161.094 1281.38 162.975 1281.85 Q164.856 1282.32 166.906 1282.32 Q170.479 1282.32 172.341 1280.91 Q174.222 1279.5 174.222 1276.81 Q174.222 1274.33 172.473 1272.94 Q170.743 1271.53 167.639 1271.53 L164.367 1271.53 L164.367 1268.41 L167.79 1268.41 Q170.592 1268.41 172.078 1267.3 Q173.564 1266.17 173.564 1264.06 Q173.564 1261.9 172.022 1260.75 Q170.498 1259.59 167.639 1259.59 Q166.078 1259.59 164.292 1259.92 Q162.505 1260.26 160.361 1260.98 L160.361 1257.59 Q162.524 1256.99 164.404 1256.69 Q166.304 1256.39 167.978 1256.39 Q172.304 1256.39 174.824 1258.36 Q177.344 1260.32 177.344 1263.67 Q177.344 1266 176.009 1267.62 Q174.673 1269.22 172.21 1269.84 Z\" fill=\"#000000\" fill-rule=\"nonzero\" fill-opacity=\"1\" /><path clip-path=\"url(#clip850)\" d=\"M53.3561 1199.83 L60.995 1199.83 L60.995 1173.46 L52.6848 1175.13 L52.6848 1170.87 L60.9487 1169.2 L65.6246 1169.2 L65.6246 1199.83 L73.2634 1199.83 L73.2634 1203.76 L53.3561 1203.76 L53.3561 1199.83 Z\" fill=\"#000000\" fill-rule=\"nonzero\" fill-opacity=\"1\" /><path clip-path=\"url(#clip850)\" d=\"M92.7078 1172.28 Q89.0967 1172.28 87.268 1175.85 Q85.4624 1179.39 85.4624 1186.52 Q85.4624 1193.62 87.268 1197.19 Q89.0967 1200.73 92.7078 1200.73 Q96.342 1200.73 98.1475 1197.19 Q99.9762 1193.62 99.9762 1186.52 Q99.9762 1179.39 98.1475 1175.85 Q96.342 1172.28 92.7078 1172.28 M92.7078 1168.58 Q98.5179 1168.58 101.573 1173.18 Q104.652 1177.77 104.652 1186.52 Q104.652 1195.24 101.573 1199.85 Q98.5179 1204.43 92.7078 1204.43 Q86.8976 1204.43 83.8189 1199.85 Q80.7634 1195.24 80.7634 1186.52 Q80.7634 1177.77 83.8189 1173.18 Q86.8976 1168.58 92.7078 1168.58 Z\" fill=\"#000000\" fill-rule=\"nonzero\" fill-opacity=\"1\" /><path clip-path=\"url(#clip850)\" d=\"M104.652 1162.68 L128.764 1162.68 L128.764 1165.88 L104.652 1165.88 L104.652 1162.68 Z\" fill=\"#000000\" fill-rule=\"nonzero\" fill-opacity=\"1\" /><path clip-path=\"url(#clip850)\" d=\"M137.622 1173.15 L143.829 1173.15 L143.829 1151.73 L137.077 1153.09 L137.077 1149.63 L143.791 1148.27 L147.59 1148.27 L147.59 1173.15 L153.797 1173.15 L153.797 1176.35 L137.622 1176.35 L137.622 1173.15 Z\" fill=\"#000000\" fill-rule=\"nonzero\" fill-opacity=\"1\" /><path clip-path=\"url(#clip850)\" d=\"M164.743 1173.15 L178.002 1173.15 L178.002 1176.35 L160.173 1176.35 L160.173 1173.15 Q162.336 1170.92 166.06 1167.15 Q169.802 1163.37 170.761 1162.28 Q172.586 1160.23 173.3 1158.82 Q174.034 1157.39 174.034 1156.02 Q174.034 1153.78 172.454 1152.37 Q170.893 1150.96 168.373 1150.96 Q166.586 1150.96 164.593 1151.58 Q162.618 1152.2 160.361 1153.46 L160.361 1149.63 Q162.655 1148.7 164.649 1148.23 Q166.643 1147.76 168.298 1147.76 Q172.661 1147.76 175.257 1149.95 Q177.852 1152.13 177.852 1155.78 Q177.852 1157.51 177.194 1159.07 Q176.554 1160.61 174.843 1162.72 Q174.373 1163.26 171.852 1165.88 Q169.332 1168.47 164.743 1173.15 Z\" fill=\"#000000\" fill-rule=\"nonzero\" fill-opacity=\"1\" /><path clip-path=\"url(#clip850)\" d=\"M53.0552 1091.2 L60.694 1091.2 L60.694 1064.84 L52.3839 1066.5 L52.3839 1062.24 L60.6477 1060.58 L65.3236 1060.58 L65.3236 1091.2 L72.9625 1091.2 L72.9625 1095.14 L53.0552 1095.14 L53.0552 1091.2 Z\" fill=\"#000000\" fill-rule=\"nonzero\" fill-opacity=\"1\" /><path clip-path=\"url(#clip850)\" d=\"M92.4068 1063.66 Q88.7957 1063.66 86.967 1067.22 Q85.1615 1070.76 85.1615 1077.89 Q85.1615 1085 86.967 1088.56 Q88.7957 1092.1 92.4068 1092.1 Q96.0411 1092.1 97.8466 1088.56 Q99.6753 1085 99.6753 1077.89 Q99.6753 1070.76 97.8466 1067.22 Q96.0411 1063.66 92.4068 1063.66 M92.4068 1059.95 Q98.217 1059.95 101.273 1064.56 Q104.351 1069.14 104.351 1077.89 Q104.351 1086.62 101.273 1091.22 Q98.217 1095.81 92.4068 1095.81 Q86.5967 1095.81 83.518 1091.22 Q80.4625 1086.62 80.4625 1077.89 Q80.4625 1069.14 83.518 1064.56 Q86.5967 1059.95 92.4068 1059.95 Z\" fill=\"#000000\" fill-rule=\"nonzero\" fill-opacity=\"1\" /><path clip-path=\"url(#clip850)\" d=\"M104.351 1054.05 L128.463 1054.05 L128.463 1057.25 L104.351 1057.25 L104.351 1054.05 Z\" fill=\"#000000\" fill-rule=\"nonzero\" fill-opacity=\"1\" /><path clip-path=\"url(#clip850)\" d=\"M137.321 1064.53 L143.528 1064.53 L143.528 1043.11 L136.776 1044.46 L136.776 1041 L143.49 1039.65 L147.289 1039.65 L147.289 1064.53 L153.496 1064.53 L153.496 1067.73 L137.321 1067.73 L137.321 1064.53 Z\" fill=\"#000000\" fill-rule=\"nonzero\" fill-opacity=\"1\" /><path clip-path=\"url(#clip850)\" d=\"M161.828 1064.53 L168.034 1064.53 L168.034 1043.11 L161.282 1044.46 L161.282 1041 L167.997 1039.65 L171.796 1039.65 L171.796 1064.53 L178.002 1064.53 L178.002 1067.73 L161.828 1067.73 L161.828 1064.53 Z\" fill=\"#000000\" fill-rule=\"nonzero\" fill-opacity=\"1\" /><path clip-path=\"url(#clip850)\" d=\"M52.0584 982.577 L59.6972 982.577 L59.6972 956.211 L51.3871 957.878 L51.3871 953.618 L59.6509 951.952 L64.3268 951.952 L64.3268 982.577 L71.9657 982.577 L71.9657 986.512 L52.0584 986.512 L52.0584 982.577 Z\" fill=\"#000000\" fill-rule=\"nonzero\" fill-opacity=\"1\" /><path clip-path=\"url(#clip850)\" d=\"M91.41 955.03 Q87.7989 955.03 85.9702 958.595 Q84.1647 962.137 84.1647 969.267 Q84.1647 976.373 85.9702 979.938 Q87.7989 983.479 91.41 983.479 Q95.0443 983.479 96.8498 979.938 Q98.6785 976.373 98.6785 969.267 Q98.6785 962.137 96.8498 958.595 Q95.0443 955.03 91.41 955.03 M91.41 951.327 Q97.2202 951.327 100.276 955.933 Q103.354 960.517 103.354 969.267 Q103.354 977.993 100.276 982.6 Q97.2202 987.183 91.41 987.183 Q85.5999 987.183 82.5212 982.6 Q79.4656 977.993 79.4656 969.267 Q79.4656 960.517 82.5212 955.933 Q85.5999 951.327 91.41 951.327 Z\" fill=\"#000000\" fill-rule=\"nonzero\" fill-opacity=\"1\" /><path clip-path=\"url(#clip850)\" d=\"M103.354 945.428 L127.466 945.428 L127.466 948.625 L103.354 948.625 L103.354 945.428 Z\" fill=\"#000000\" fill-rule=\"nonzero\" fill-opacity=\"1\" /><path clip-path=\"url(#clip850)\" d=\"M136.324 955.904 L142.531 955.904 L142.531 934.482 L135.779 935.836 L135.779 932.376 L142.493 931.021 L146.293 931.021 L146.293 955.904 L152.499 955.904 L152.499 959.101 L136.324 959.101 L136.324 955.904 Z\" fill=\"#000000\" fill-rule=\"nonzero\" fill-opacity=\"1\" /><path clip-path=\"url(#clip850)\" d=\"M168.298 933.523 Q165.364 933.523 163.878 936.419 Q162.411 939.297 162.411 945.09 Q162.411 950.864 163.878 953.76 Q165.364 956.638 168.298 956.638 Q171.25 956.638 172.717 953.76 Q174.203 950.864 174.203 945.09 Q174.203 939.297 172.717 936.419 Q171.25 933.523 168.298 933.523 M168.298 930.514 Q173.018 930.514 175.501 934.256 Q178.002 937.98 178.002 945.09 Q178.002 952.18 175.501 955.923 Q173.018 959.647 168.298 959.647 Q163.577 959.647 161.075 955.923 Q158.593 952.18 158.593 945.09 Q158.593 937.98 161.075 934.256 Q163.577 930.514 168.298 930.514 Z\" fill=\"#000000\" fill-rule=\"nonzero\" fill-opacity=\"1\" /><path clip-path=\"url(#clip850)\" d=\"M76.7154 873.952 L84.3542 873.952 L84.3542 847.586 L76.0441 849.253 L76.0441 844.994 L84.3079 843.327 L88.9838 843.327 L88.9838 873.952 L96.6227 873.952 L96.6227 877.887 L76.7154 877.887 L76.7154 873.952 Z\" fill=\"#000000\" fill-rule=\"nonzero\" fill-opacity=\"1\" /><path clip-path=\"url(#clip850)\" d=\"M116.067 846.406 Q112.456 846.406 110.627 849.97 Q108.822 853.512 108.822 860.642 Q108.822 867.748 110.627 871.313 Q112.456 874.855 116.067 874.855 Q119.701 874.855 121.507 871.313 Q123.335 867.748 123.335 860.642 Q123.335 853.512 121.507 849.97 Q119.701 846.406 116.067 846.406 M116.067 842.702 Q121.877 842.702 124.933 847.308 Q128.011 851.892 128.011 860.642 Q128.011 869.368 124.933 873.975 Q121.877 878.558 116.067 878.558 Q110.257 878.558 107.178 873.975 Q104.123 869.368 104.123 860.642 Q104.123 851.892 107.178 847.308 Q110.257 842.702 116.067 842.702 Z\" fill=\"#000000\" fill-rule=\"nonzero\" fill-opacity=\"1\" /><path clip-path=\"url(#clip850)\" d=\"M128.011 836.803 L152.123 836.803 L152.123 840.001 L128.011 840.001 L128.011 836.803 Z\" fill=\"#000000\" fill-rule=\"nonzero\" fill-opacity=\"1\" /><path clip-path=\"url(#clip850)\" d=\"M160.436 849.893 L160.436 846.433 Q161.865 847.11 163.332 847.467 Q164.799 847.825 166.21 847.825 Q169.972 847.825 171.946 845.304 Q173.94 842.765 174.222 837.612 Q173.131 839.229 171.457 840.095 Q169.783 840.96 167.752 840.96 Q163.539 840.96 161.075 838.421 Q158.63 835.863 158.63 831.443 Q158.63 827.117 161.188 824.503 Q163.746 821.889 167.997 821.889 Q172.868 821.889 175.426 825.631 Q178.002 829.355 178.002 836.465 Q178.002 843.104 174.843 847.072 Q171.702 851.022 166.379 851.022 Q164.95 851.022 163.483 850.74 Q162.016 850.458 160.436 849.893 M167.997 837.988 Q170.555 837.988 172.04 836.239 Q173.545 834.49 173.545 831.443 Q173.545 828.415 172.04 826.666 Q170.555 824.898 167.997 824.898 Q165.439 824.898 163.934 826.666 Q162.448 828.415 162.448 831.443 Q162.448 834.49 163.934 836.239 Q165.439 837.988 167.997 837.988 Z\" fill=\"#000000\" fill-rule=\"nonzero\" fill-opacity=\"1\" /><path clip-path=\"url(#clip850)\" d=\"M76.6401 765.327 L84.279 765.327 L84.279 738.961 L75.9688 740.628 L75.9688 736.369 L84.2327 734.702 L88.9086 734.702 L88.9086 765.327 L96.5474 765.327 L96.5474 769.262 L76.6401 769.262 L76.6401 765.327 Z\" fill=\"#000000\" fill-rule=\"nonzero\" fill-opacity=\"1\" /><path clip-path=\"url(#clip850)\" d=\"M115.992 737.781 Q112.381 737.781 110.552 741.346 Q108.746 744.887 108.746 752.017 Q108.746 759.123 110.552 762.688 Q112.381 766.23 115.992 766.23 Q119.626 766.23 121.432 762.688 Q123.26 759.123 123.26 752.017 Q123.26 744.887 121.432 741.346 Q119.626 737.781 115.992 737.781 M115.992 734.077 Q121.802 734.077 124.857 738.683 Q127.936 743.267 127.936 752.017 Q127.936 760.744 124.857 765.35 Q121.802 769.933 115.992 769.933 Q110.182 769.933 107.103 765.35 Q104.047 760.744 104.047 752.017 Q104.047 743.267 107.103 738.683 Q110.182 734.077 115.992 734.077 Z\" fill=\"#000000\" fill-rule=\"nonzero\" fill-opacity=\"1\" /><path clip-path=\"url(#clip850)\" d=\"M127.936 728.178 L152.048 728.178 L152.048 731.376 L127.936 731.376 L127.936 728.178 Z\" fill=\"#000000\" fill-rule=\"nonzero\" fill-opacity=\"1\" /><path clip-path=\"url(#clip850)\" d=\"M168.373 728.517 Q165.665 728.517 164.103 729.965 Q162.561 731.413 162.561 733.952 Q162.561 736.491 164.103 737.94 Q165.665 739.388 168.373 739.388 Q171.081 739.388 172.642 737.94 Q174.203 736.473 174.203 733.952 Q174.203 731.413 172.642 729.965 Q171.1 728.517 168.373 728.517 M164.574 726.899 Q162.129 726.298 160.756 724.624 Q159.402 722.95 159.402 720.542 Q159.402 717.176 161.79 715.22 Q164.198 713.264 168.373 713.264 Q172.567 713.264 174.956 715.22 Q177.344 717.176 177.344 720.542 Q177.344 722.95 175.971 724.624 Q174.617 726.298 172.191 726.899 Q174.937 727.539 176.46 729.401 Q178.002 731.263 178.002 733.952 Q178.002 738.034 175.501 740.215 Q173.018 742.397 168.373 742.397 Q163.727 742.397 161.226 740.215 Q158.743 738.034 158.743 733.952 Q158.743 731.263 160.286 729.401 Q161.828 727.539 164.574 726.899 M163.182 720.9 Q163.182 723.081 164.536 724.304 Q165.909 725.526 168.373 725.526 Q170.818 725.526 172.191 724.304 Q173.583 723.081 173.583 720.9 Q173.583 718.718 172.191 717.496 Q170.818 716.273 168.373 716.273 Q165.909 716.273 164.536 717.496 Q163.182 718.718 163.182 720.9 Z\" fill=\"#000000\" fill-rule=\"nonzero\" fill-opacity=\"1\" /><path clip-path=\"url(#clip850)\" d=\"M77.2984 656.702 L84.9373 656.702 L84.9373 630.336 L76.6271 632.003 L76.6271 627.744 L84.891 626.077 L89.5669 626.077 L89.5669 656.702 L97.2057 656.702 L97.2057 660.637 L77.2984 660.637 L77.2984 656.702 Z\" fill=\"#000000\" fill-rule=\"nonzero\" fill-opacity=\"1\" /><path clip-path=\"url(#clip850)\" d=\"M116.65 629.156 Q113.039 629.156 111.21 632.721 Q109.405 636.262 109.405 643.392 Q109.405 650.498 111.21 654.063 Q113.039 657.605 116.65 657.605 Q120.284 657.605 122.09 654.063 Q123.919 650.498 123.919 643.392 Q123.919 636.262 122.09 632.721 Q120.284 629.156 116.65 629.156 M116.65 625.452 Q122.46 625.452 125.516 630.059 Q128.594 634.642 128.594 643.392 Q128.594 652.119 125.516 656.725 Q122.46 661.308 116.65 661.308 Q110.84 661.308 107.761 656.725 Q104.706 652.119 104.706 643.392 Q104.706 634.642 107.761 630.059 Q110.84 625.452 116.65 625.452 Z\" fill=\"#000000\" fill-rule=\"nonzero\" fill-opacity=\"1\" /><path clip-path=\"url(#clip850)\" d=\"M128.594 619.553 L152.706 619.553 L152.706 622.751 L128.594 622.751 L128.594 619.553 Z\" fill=\"#000000\" fill-rule=\"nonzero\" fill-opacity=\"1\" /><path clip-path=\"url(#clip850)\" d=\"M159.947 605.147 L178.002 605.147 L178.002 606.764 L167.809 633.227 L163.84 633.227 L173.432 608.344 L159.947 608.344 L159.947 605.147 Z\" fill=\"#000000\" fill-rule=\"nonzero\" fill-opacity=\"1\" /><path clip-path=\"url(#clip850)\" d=\"M76.4333 548.077 L84.0721 548.077 L84.0721 521.711 L75.762 523.378 L75.762 519.119 L84.0258 517.452 L88.7017 517.452 L88.7017 548.077 L96.3406 548.077 L96.3406 552.012 L76.4333 552.012 L76.4333 548.077 Z\" fill=\"#000000\" fill-rule=\"nonzero\" fill-opacity=\"1\" /><path clip-path=\"url(#clip850)\" d=\"M115.785 520.531 Q112.174 520.531 110.345 524.096 Q108.54 527.637 108.54 534.767 Q108.54 541.873 110.345 545.438 Q112.174 548.98 115.785 548.98 Q119.419 548.98 121.225 545.438 Q123.053 541.873 123.053 534.767 Q123.053 527.637 121.225 524.096 Q119.419 520.531 115.785 520.531 M115.785 516.827 Q121.595 516.827 124.651 521.434 Q127.729 526.017 127.729 534.767 Q127.729 543.494 124.651 548.1 Q121.595 552.684 115.785 552.684 Q109.975 552.684 106.896 548.1 Q103.841 543.494 103.841 534.767 Q103.841 526.017 106.896 521.434 Q109.975 516.827 115.785 516.827 Z\" fill=\"#000000\" fill-rule=\"nonzero\" fill-opacity=\"1\" /><path clip-path=\"url(#clip850)\" d=\"M127.729 510.929 L151.841 510.929 L151.841 514.126 L127.729 514.126 L127.729 510.929 Z\" fill=\"#000000\" fill-rule=\"nonzero\" fill-opacity=\"1\" /><path clip-path=\"url(#clip850)\" d=\"M168.636 509.048 Q166.078 509.048 164.574 510.797 Q163.088 512.546 163.088 515.593 Q163.088 518.621 164.574 520.389 Q166.078 522.138 168.636 522.138 Q171.194 522.138 172.68 520.389 Q174.184 518.621 174.184 515.593 Q174.184 512.546 172.68 510.797 Q171.194 509.048 168.636 509.048 M176.178 497.143 L176.178 500.603 Q174.749 499.926 173.282 499.569 Q171.833 499.211 170.404 499.211 Q166.643 499.211 164.649 501.75 Q162.674 504.289 162.392 509.424 Q163.502 507.788 165.176 506.923 Q166.849 506.039 168.862 506.039 Q173.094 506.039 175.539 508.615 Q178.002 511.173 178.002 515.593 Q178.002 519.919 175.445 522.533 Q172.887 525.147 168.636 525.147 Q163.765 525.147 161.188 521.423 Q158.612 517.681 158.612 510.59 Q158.612 503.932 161.771 499.982 Q164.931 496.014 170.254 496.014 Q171.683 496.014 173.131 496.296 Q174.598 496.578 176.178 497.143 Z\" fill=\"#000000\" fill-rule=\"nonzero\" fill-opacity=\"1\" /><path clip-path=\"url(#clip850)\" d=\"M77.3736 439.452 L85.0125 439.452 L85.0125 413.087 L76.7023 414.753 L76.7023 410.494 L84.9662 408.827 L89.6421 408.827 L89.6421 439.452 L97.2809 439.452 L97.2809 443.387 L77.3736 443.387 L77.3736 439.452 Z\" fill=\"#000000\" fill-rule=\"nonzero\" fill-opacity=\"1\" /><path clip-path=\"url(#clip850)\" d=\"M116.725 411.906 Q113.114 411.906 111.285 415.471 Q109.48 419.013 109.48 426.142 Q109.48 433.249 111.285 436.813 Q113.114 440.355 116.725 440.355 Q120.36 440.355 122.165 436.813 Q123.994 433.249 123.994 426.142 Q123.994 419.013 122.165 415.471 Q120.36 411.906 116.725 411.906 M116.725 408.202 Q122.535 408.202 125.591 412.809 Q128.67 417.392 128.67 426.142 Q128.67 434.869 125.591 439.475 Q122.535 444.059 116.725 444.059 Q110.915 444.059 107.836 439.475 Q104.781 434.869 104.781 426.142 Q104.781 417.392 107.836 412.809 Q110.915 408.202 116.725 408.202 Z\" fill=\"#000000\" fill-rule=\"nonzero\" fill-opacity=\"1\" /><path clip-path=\"url(#clip850)\" d=\"M128.67 402.304 L152.781 402.304 L152.781 405.501 L128.67 405.501 L128.67 402.304 Z\" fill=\"#000000\" fill-rule=\"nonzero\" fill-opacity=\"1\" /><path clip-path=\"url(#clip850)\" d=\"M161.019 387.897 L175.934 387.897 L175.934 391.094 L164.498 391.094 L164.498 397.978 Q165.326 397.696 166.154 397.564 Q166.981 397.414 167.809 397.414 Q172.511 397.414 175.257 399.99 Q178.002 402.567 178.002 406.968 Q178.002 411.501 175.181 414.021 Q172.36 416.522 167.226 416.522 Q165.458 416.522 163.614 416.221 Q161.79 415.921 159.834 415.319 L159.834 411.501 Q161.527 412.422 163.332 412.874 Q165.138 413.325 167.15 413.325 Q170.404 413.325 172.304 411.614 Q174.203 409.902 174.203 406.968 Q174.203 404.034 172.304 402.323 Q170.404 400.611 167.15 400.611 Q165.627 400.611 164.103 400.95 Q162.599 401.288 161.019 402.003 L161.019 387.897 Z\" fill=\"#000000\" fill-rule=\"nonzero\" fill-opacity=\"1\" /><path clip-path=\"url(#clip850)\" d=\"M76.1699 330.827 L83.8088 330.827 L83.8088 304.462 L75.4986 306.128 L75.4986 301.869 L83.7625 300.202 L88.4384 300.202 L88.4384 330.827 L96.0772 330.827 L96.0772 334.762 L76.1699 334.762 L76.1699 330.827 Z\" fill=\"#000000\" fill-rule=\"nonzero\" fill-opacity=\"1\" /><path clip-path=\"url(#clip850)\" d=\"M115.522 303.281 Q111.91 303.281 110.082 306.846 Q108.276 310.388 108.276 317.517 Q108.276 324.624 110.082 328.188 Q111.91 331.73 115.522 331.73 Q119.156 331.73 120.961 328.188 Q122.79 324.624 122.79 317.517 Q122.79 310.388 120.961 306.846 Q119.156 303.281 115.522 303.281 M115.522 299.577 Q121.332 299.577 124.387 304.184 Q127.466 308.767 127.466 317.517 Q127.466 326.244 124.387 330.85 Q121.332 335.434 115.522 335.434 Q109.711 335.434 106.633 330.85 Q103.577 326.244 103.577 317.517 Q103.577 308.767 106.633 304.184 Q109.711 299.577 115.522 299.577 Z\" fill=\"#000000\" fill-rule=\"nonzero\" fill-opacity=\"1\" /><path clip-path=\"url(#clip850)\" d=\"M127.466 293.679 L151.578 293.679 L151.578 296.876 L127.466 296.876 L127.466 293.679 Z\" fill=\"#000000\" fill-rule=\"nonzero\" fill-opacity=\"1\" /><path clip-path=\"url(#clip850)\" d=\"M170.216 282.582 L160.624 297.572 L170.216 297.572 L170.216 282.582 M169.219 279.272 L173.996 279.272 L173.996 297.572 L178.002 297.572 L178.002 300.732 L173.996 300.732 L173.996 307.352 L170.216 307.352 L170.216 300.732 L157.54 300.732 L157.54 297.064 L169.219 279.272 Z\" fill=\"#000000\" fill-rule=\"nonzero\" fill-opacity=\"1\" /><path clip-path=\"url(#clip850)\" d=\"M77.0915 222.202 L84.7304 222.202 L84.7304 195.837 L76.4202 197.504 L76.4202 193.244 L84.6841 191.578 L89.36 191.578 L89.36 222.202 L96.9988 222.202 L96.9988 226.138 L77.0915 226.138 L77.0915 222.202 Z\" fill=\"#000000\" fill-rule=\"nonzero\" fill-opacity=\"1\" /><path clip-path=\"url(#clip850)\" d=\"M116.443 194.656 Q112.832 194.656 111.003 198.221 Q109.198 201.763 109.198 208.892 Q109.198 215.999 111.003 219.564 Q112.832 223.105 116.443 223.105 Q120.077 223.105 121.883 219.564 Q123.712 215.999 123.712 208.892 Q123.712 201.763 121.883 198.221 Q120.077 194.656 116.443 194.656 M116.443 190.953 Q122.253 190.953 125.309 195.559 Q128.388 200.142 128.388 208.892 Q128.388 217.619 125.309 222.226 Q122.253 226.809 116.443 226.809 Q110.633 226.809 107.554 222.226 Q104.499 217.619 104.499 208.892 Q104.499 200.142 107.554 195.559 Q110.633 190.953 116.443 190.953 Z\" fill=\"#000000\" fill-rule=\"nonzero\" fill-opacity=\"1\" /><path clip-path=\"url(#clip850)\" d=\"M128.388 185.054 L152.499 185.054 L152.499 188.251 L128.388 188.251 L128.388 185.054 Z\" fill=\"#000000\" fill-rule=\"nonzero\" fill-opacity=\"1\" /><path clip-path=\"url(#clip850)\" d=\"M172.21 183.587 Q174.937 184.17 176.46 186.013 Q178.002 187.856 178.002 190.565 Q178.002 194.721 175.144 196.997 Q172.285 199.273 167.019 199.273 Q165.251 199.273 163.37 198.915 Q161.508 198.577 159.514 197.881 L159.514 194.213 Q161.094 195.135 162.975 195.605 Q164.856 196.075 166.906 196.075 Q170.479 196.075 172.341 194.665 Q174.222 193.254 174.222 190.565 Q174.222 188.082 172.473 186.69 Q170.743 185.28 167.639 185.28 L164.367 185.28 L164.367 182.158 L167.79 182.158 Q170.592 182.158 172.078 181.048 Q173.564 179.919 173.564 177.813 Q173.564 175.65 172.022 174.503 Q170.498 173.337 167.639 173.337 Q166.078 173.337 164.292 173.675 Q162.505 174.014 160.361 174.728 L160.361 171.343 Q162.524 170.741 164.404 170.44 Q166.304 170.139 167.978 170.139 Q172.304 170.139 174.824 172.114 Q177.344 174.07 177.344 177.418 Q177.344 179.75 176.009 181.368 Q174.673 182.966 172.21 183.587 Z\" fill=\"#000000\" fill-rule=\"nonzero\" fill-opacity=\"1\" /><path clip-path=\"url(#clip850)\" d=\"M77.8626 113.578 L85.5015 113.578 L85.5015 87.212 L77.1913 88.8786 L77.1913 84.6194 L85.4552 82.9527 L90.1311 82.9527 L90.1311 113.578 L97.7699 113.578 L97.7699 117.513 L77.8626 117.513 L77.8626 113.578 Z\" fill=\"#000000\" fill-rule=\"nonzero\" fill-opacity=\"1\" /><path clip-path=\"url(#clip850)\" d=\"M117.214 86.0314 Q113.603 86.0314 111.774 89.5962 Q109.969 93.1379 109.969 100.267 Q109.969 107.374 111.774 110.939 Q113.603 114.48 117.214 114.48 Q120.849 114.48 122.654 110.939 Q124.483 107.374 124.483 100.267 Q124.483 93.1379 122.654 89.5962 Q120.849 86.0314 117.214 86.0314 M117.214 82.3277 Q123.024 82.3277 126.08 86.9342 Q129.159 91.5175 129.159 100.267 Q129.159 108.994 126.08 113.601 Q123.024 118.184 117.214 118.184 Q111.404 118.184 108.325 113.601 Q105.27 108.994 105.27 100.267 Q105.27 91.5175 108.325 86.9342 Q111.404 82.3277 117.214 82.3277 Z\" fill=\"#000000\" fill-rule=\"nonzero\" fill-opacity=\"1\" /><path clip-path=\"url(#clip850)\" d=\"M129.159 76.4291 L153.27 76.4291 L153.27 79.6264 L129.159 79.6264 L129.159 76.4291 Z\" fill=\"#000000\" fill-rule=\"nonzero\" fill-opacity=\"1\" /><path clip-path=\"url(#clip850)\" d=\"M164.743 86.905 L178.002 86.905 L178.002 90.1023 L160.173 90.1023 L160.173 86.905 Q162.336 84.6669 166.06 80.9053 Q169.802 77.125 170.761 76.0341 Q172.586 73.9841 173.3 72.5735 Q174.034 71.1441 174.034 69.7711 Q174.034 67.533 172.454 66.1224 Q170.893 64.7118 168.373 64.7118 Q166.586 64.7118 164.593 65.3325 Q162.618 65.9531 160.361 67.2133 L160.361 63.3765 Q162.655 62.4549 164.649 61.9847 Q166.643 61.5145 168.298 61.5145 Q172.661 61.5145 175.257 63.6962 Q177.852 65.8779 177.852 69.5266 Q177.852 71.2569 177.194 72.818 Q176.554 74.3602 174.843 76.4667 Q174.373 77.0121 171.852 79.6264 Q169.332 82.2219 164.743 86.905 Z\" fill=\"#000000\" fill-rule=\"nonzero\" fill-opacity=\"1\" /><circle clip-path=\"url(#clip852)\" cx=\"274.533\" cy=\"1440.84\" r=\"14.4\" fill=\"#009af9\" fill-rule=\"evenodd\" fill-opacity=\"1\" stroke=\"#000000\" stroke-opacity=\"1\" stroke-width=\"3.2\"/>\n",
       "<circle clip-path=\"url(#clip852)\" cx=\"418.654\" cy=\"1445.72\" r=\"14.4\" fill=\"#009af9\" fill-rule=\"evenodd\" fill-opacity=\"1\" stroke=\"#000000\" stroke-opacity=\"1\" stroke-width=\"3.2\"/>\n",
       "<circle clip-path=\"url(#clip852)\" cx=\"562.775\" cy=\"1307.53\" r=\"14.4\" fill=\"#009af9\" fill-rule=\"evenodd\" fill-opacity=\"1\" stroke=\"#000000\" stroke-opacity=\"1\" stroke-width=\"3.2\"/>\n",
       "<circle clip-path=\"url(#clip852)\" cx=\"706.896\" cy=\"1221.63\" r=\"14.4\" fill=\"#009af9\" fill-rule=\"evenodd\" fill-opacity=\"1\" stroke=\"#000000\" stroke-opacity=\"1\" stroke-width=\"3.2\"/>\n",
       "<circle clip-path=\"url(#clip852)\" cx=\"851.017\" cy=\"1215.06\" r=\"14.4\" fill=\"#009af9\" fill-rule=\"evenodd\" fill-opacity=\"1\" stroke=\"#000000\" stroke-opacity=\"1\" stroke-width=\"3.2\"/>\n",
       "<circle clip-path=\"url(#clip852)\" cx=\"995.137\" cy=\"1085.15\" r=\"14.4\" fill=\"#009af9\" fill-rule=\"evenodd\" fill-opacity=\"1\" stroke=\"#000000\" stroke-opacity=\"1\" stroke-width=\"3.2\"/>\n",
       "<circle clip-path=\"url(#clip852)\" cx=\"1139.26\" cy=\"889.094\" r=\"14.4\" fill=\"#009af9\" fill-rule=\"evenodd\" fill-opacity=\"1\" stroke=\"#000000\" stroke-opacity=\"1\" stroke-width=\"3.2\"/>\n",
       "<circle clip-path=\"url(#clip852)\" cx=\"1283.38\" cy=\"884.961\" r=\"14.4\" fill=\"#009af9\" fill-rule=\"evenodd\" fill-opacity=\"1\" stroke=\"#000000\" stroke-opacity=\"1\" stroke-width=\"3.2\"/>\n",
       "<circle clip-path=\"url(#clip852)\" cx=\"1427.5\" cy=\"688.398\" r=\"14.4\" fill=\"#009af9\" fill-rule=\"evenodd\" fill-opacity=\"1\" stroke=\"#000000\" stroke-opacity=\"1\" stroke-width=\"3.2\"/>\n",
       "<circle clip-path=\"url(#clip852)\" cx=\"1571.62\" cy=\"562.434\" r=\"14.4\" fill=\"#009af9\" fill-rule=\"evenodd\" fill-opacity=\"1\" stroke=\"#000000\" stroke-opacity=\"1\" stroke-width=\"3.2\"/>\n",
       "<circle clip-path=\"url(#clip852)\" cx=\"1715.74\" cy=\"534.143\" r=\"14.4\" fill=\"#009af9\" fill-rule=\"evenodd\" fill-opacity=\"1\" stroke=\"#000000\" stroke-opacity=\"1\" stroke-width=\"3.2\"/>\n",
       "<circle clip-path=\"url(#clip852)\" cx=\"1859.86\" cy=\"357.248\" r=\"14.4\" fill=\"#009af9\" fill-rule=\"evenodd\" fill-opacity=\"1\" stroke=\"#000000\" stroke-opacity=\"1\" stroke-width=\"3.2\"/>\n",
       "<circle clip-path=\"url(#clip852)\" cx=\"2003.98\" cy=\"244.68\" r=\"14.4\" fill=\"#009af9\" fill-rule=\"evenodd\" fill-opacity=\"1\" stroke=\"#000000\" stroke-opacity=\"1\" stroke-width=\"3.2\"/>\n",
       "<circle clip-path=\"url(#clip852)\" cx=\"2148.1\" cy=\"163.948\" r=\"14.4\" fill=\"#009af9\" fill-rule=\"evenodd\" fill-opacity=\"1\" stroke=\"#000000\" stroke-opacity=\"1\" stroke-width=\"3.2\"/>\n",
       "<circle clip-path=\"url(#clip852)\" cx=\"2292.23\" cy=\"87.9763\" r=\"14.4\" fill=\"#009af9\" fill-rule=\"evenodd\" fill-opacity=\"1\" stroke=\"#000000\" stroke-opacity=\"1\" stroke-width=\"3.2\"/>\n",
       "<path clip-path=\"url(#clip850)\" d=\"M2015.16 1438.47 L2281.46 1438.47 L2281.46 1334.79 L2015.16 1334.79  Z\" fill=\"#ffffff\" fill-rule=\"evenodd\" fill-opacity=\"1\"/>\n",
       "<polyline clip-path=\"url(#clip850)\" style=\"stroke:#000000; stroke-linecap:round; stroke-linejoin:round; stroke-width:4; stroke-opacity:1; fill:none\" points=\"2015.16,1438.47 2281.46,1438.47 2281.46,1334.79 2015.16,1334.79 2015.16,1438.47 \"/>\n",
       "<circle clip-path=\"url(#clip850)\" cx=\"2110.21\" cy=\"1386.63\" r=\"20.48\" fill=\"#009af9\" fill-rule=\"evenodd\" fill-opacity=\"1\" stroke=\"#000000\" stroke-opacity=\"1\" stroke-width=\"4.55111\"/>\n",
       "<path clip-path=\"url(#clip850)\" d=\"M2219.11 1406.32 Q2217.31 1410.95 2215.59 1412.36 Q2213.88 1413.78 2211.01 1413.78 L2207.61 1413.78 L2207.61 1410.21 L2210.11 1410.21 Q2211.87 1410.21 2212.84 1409.38 Q2213.81 1408.54 2214.99 1405.44 L2215.76 1403.5 L2205.27 1377.99 L2209.78 1377.99 L2217.89 1398.27 L2225.99 1377.99 L2230.5 1377.99 L2219.11 1406.32 Z\" fill=\"#000000\" fill-rule=\"nonzero\" fill-opacity=\"1\" /><path clip-path=\"url(#clip850)\" d=\"M2237.79 1399.98 L2245.43 1399.98 L2245.43 1373.61 L2237.12 1375.28 L2237.12 1371.02 L2245.39 1369.35 L2250.06 1369.35 L2250.06 1399.98 L2257.7 1399.98 L2257.7 1403.91 L2237.79 1403.91 L2237.79 1399.98 Z\" fill=\"#000000\" fill-rule=\"nonzero\" fill-opacity=\"1\" /></svg>\n"
      ]
     },
     "metadata": {},
     "output_type": "display_data"
    }
   ],
   "source": [
    "# TODO: Do a log-log plot for A with its 1,1 entry set to different ε and guess the growth rate.\n",
    "A = [1.0 1 1;\n",
    "     2   4 8;\n",
    "     1   4 9]\n",
    "\n",
    "B = [1, 2, 3]\n",
    "\n",
    "errs = zeros(15)\n",
    "for k in 1:15\n",
    "    ϵ = 10.0 ^ (1-k)\n",
    "    A[1,1] = ϵ\n",
    "    L, U = lu(A, NoPivot())\n",
    "    errs[k] = norm(A\\b - U\\(L\\b))\n",
    "end\n",
    "\n",
    "nanabs(x) = x == 0 ? NaN : abs(x)\n",
    "scatter(0:14, nanabs.(errs); yscale=:log10, xticks = 0:15, yticks= 10.0 .^ (-16:0), legend=:bottomright)\n",
    "    \n"
   ]
  },
  {
   "cell_type": "markdown",
   "metadata": {},
   "source": [
    "-----"
   ]
  },
  {
   "cell_type": "markdown",
   "metadata": {},
   "source": [
    "## III.2.2 PLU Factorisation"
   ]
  },
  {
   "cell_type": "markdown",
   "metadata": {},
   "source": [
    "In general it is necessary to use pivoting, a feature you have seen\n",
    "in Gaussian elimination but as Problem 1 demonstrates we need to do so even if we do not encounter\n",
    "a zero. This corresponds to a factorisation of the form\n",
    "$$\n",
    " A = P^⊤LU\n",
    "$$\n",
    "where $P$ is a permutation matrix, $L$ is lower triangular and $U$ is upper triangular.\n",
    "We compute this as follows, printing out the permutation:"
   ]
  },
  {
   "cell_type": "code",
   "execution_count": 10,
   "metadata": {},
   "outputs": [
    {
     "data": {
      "text/plain": [
       "3-element Vector{Int64}:\n",
       " 2\n",
       " 3\n",
       " 1"
      ]
     },
     "metadata": {},
     "output_type": "display_data"
    }
   ],
   "source": [
    "A = [0.1 1 1;\n",
    "     2   4 8;\n",
    "     1   4 9]\n",
    "\n",
    "L,U,σ = lu(A)\n",
    "σ"
   ]
  },
  {
   "cell_type": "markdown",
   "metadata": {},
   "source": [
    "The permutation matrix is encoded as a vector $σ$. More precisely, we have\n",
    "$$\n",
    "    P 𝐯 = 𝐯[σ]\n",
    "$$\n",
    "Thus we can solve a linear system by  first permuting the entries of the right-hand side:"
   ]
  },
  {
   "cell_type": "code",
   "execution_count": 11,
   "metadata": {},
   "outputs": [
    {
     "data": {
      "text/plain": [
       "3-element Vector{Int64}:\n",
       " 11\n",
       " 12\n",
       " 10"
      ]
     },
     "metadata": {},
     "output_type": "display_data"
    }
   ],
   "source": [
    "b = [10,11,12]\n",
    "b̃ = b[σ] # permute the entries to [b[2],b[3],b[1]]"
   ]
  },
  {
   "cell_type": "markdown",
   "metadata": {},
   "source": [
    "And then inverting $L$ and $U$ as before:"
   ]
  },
  {
   "cell_type": "code",
   "execution_count": 12,
   "metadata": {},
   "outputs": [
    {
     "data": {
      "text/plain": [
       "\u001b[32m\u001b[1mTest Passed\u001b[22m\u001b[39m"
      ]
     },
     "metadata": {},
     "output_type": "display_data"
    }
   ],
   "source": [
    "c = L \\ b̃ # invert L with forward substitution\n",
    "x = U \\ c # invert U with back substitution\n",
    "\n",
    "@test x == A \\ b # \\ also use PLU to do the solve so these exactly equal"
   ]
  },
  {
   "cell_type": "markdown",
   "metadata": {},
   "source": [
    "Note in the following problems we will see that PLU is _usually_ stable but not always.\n",
    "Fortunately the set of matrices where it fails to be accurate has extremely small measure.\n",
    "The big _open problem_ in numerical linear algebra is to turn this observation into a precise statement."
   ]
  },
  {
   "cell_type": "markdown",
   "metadata": {},
   "source": [
    "-----"
   ]
  },
  {
   "cell_type": "markdown",
   "metadata": {},
   "source": [
    "**Problem 2(a)** Complete the function  `badmatrix(n)` that returns the following $ℤ^{n × n}$ matrix:\n",
    "$$\n",
    "  B_n := \\begin{bmatrix}\n",
    "      1      &&&& 1  \\\\\n",
    "      -1 & 1       &&& 1   \\\\\n",
    "      ⋮ & ⋱ & ⋱   && ⋮    \\\\\n",
    "      -1 & ⋯ & -1 & 1 & 1 \\\\\n",
    "      -1 & ⋯ & -1 & -1 & 1\n",
    "  \\end{bmatrix}\n",
    "$$\n",
    "That is: all entries below the diagonal are $-1$ whilst the diagonal and last column are $1$."
   ]
  },
  {
   "cell_type": "code",
   "execution_count": 13,
   "metadata": {},
   "outputs": [
    {
     "data": {
      "text/plain": [
       "\u001b[32m\u001b[1mTest Passed\u001b[22m\u001b[39m"
      ]
     },
     "metadata": {},
     "output_type": "display_data"
    }
   ],
   "source": [
    "function badmatrix(n)\n",
    "    # TODO: make the \"bad matrix\" with `Int` entries defined above and return it\n",
    "    # SOLUTION\n",
    "    A = zeros(Int, n, n)\n",
    "    for k = 1:n\n",
    "        A[k,n] = 1\n",
    "    end\n",
    "    for j = 1:n-1\n",
    "        A[j,j] = 1\n",
    "        for k = j+1:n\n",
    "            A[k,j] = -1\n",
    "        end\n",
    "    end\n",
    "    A\n",
    "    # END\n",
    "end\n",
    "@test badmatrix(3) isa Matrix{Int}\n",
    "@test badmatrix(3) == [1 0 1; -1 1 1; -1 -1 1]"
   ]
  },
  {
   "cell_type": "markdown",
   "metadata": {},
   "source": [
    "**Problem 2(b)** Does `lu` use pivoting with `badmatrix(n)`? Does it use\n",
    "pivoting with a small random perturbation (created via `randn(n,n)`)?"
   ]
  },
  {
   "cell_type": "code",
   "execution_count": 14,
   "metadata": {},
   "outputs": [
    {
     "data": {
      "text/plain": [
       "5-element Vector{Int64}:\n",
       " 3\n",
       " 2\n",
       " 5\n",
       " 4\n",
       " 1"
      ]
     },
     "metadata": {},
     "output_type": "display_data"
    }
   ],
   "source": [
    "# TODO: Use `lu` on `badmatrix(n)` and a small perturbation to determine if it\n",
    "# is using pivoting.\n",
    "lu(badmatrix(5)).p # == 1:5, that is no pivoting has occurred\n",
    "lu(badmatrix(5) + eps()randn(5,5)).p # ≠ 1:5, we have pivoted"
   ]
  },
  {
   "cell_type": "markdown",
   "metadata": {},
   "source": [
    "**Problem 2(c)** We can test the accuracy of a method for inverting a matrix\n",
    "by applying the matrix and seeing how different it was from the input, eg.\n",
    "computing `norm(A*(A\\b) - b)`. This would be zero if everything was done with\n",
    "exact arithmetic. Plot the norm of this error for `b = randn(n)` for `bandmatrix(n)`\n",
    "and `badmatrix(n) + 1E-15*randn(n,n)` for `n = 25, 50, 75, 100` and\n",
    "compare the observed differences in accuracy of PLU."
   ]
  },
  {
   "cell_type": "code",
   "execution_count": 15,
   "metadata": {},
   "outputs": [
    {
     "data": {
      "image/png": "[encoded data removed]",
      "image/svg+xml": [
       "<?xml version=\"1.0\" encoding=\"utf-8\"?>\n",
       "<svg xmlns=\"http://www.w3.org/2000/svg\" xmlns:xlink=\"http://www.w3.org/1999/xlink\" width=\"600\" height=\"400\" viewBox=\"0 0 2400 1600\">\n",
       "<defs>\n",
       "  <clipPath id=\"clip890\">\n",
       "    <rect x=\"0\" y=\"0\" width=\"2400\" height=\"1600\"/>\n",
       "  </clipPath>\n",
       "</defs>\n",
       "<path clip-path=\"url(#clip890)\" d=\"M0 1600 L2400 1600 L2400 0 L0 0  Z\" fill=\"#ffffff\" fill-rule=\"evenodd\" fill-opacity=\"1\"/>\n",
       "<defs>\n",
       "  <clipPath id=\"clip891\">\n",
       "    <rect x=\"480\" y=\"0\" width=\"1681\" height=\"1600\"/>\n",
       "  </clipPath>\n",
       "</defs>\n",
       "<path clip-path=\"url(#clip890)\" d=\"M213.607 1486.45 L2352.76 1486.45 L2352.76 47.2441 L213.607 47.2441  Z\" fill=\"#ffffff\" fill-rule=\"evenodd\" fill-opacity=\"1\"/>\n",
       "<defs>\n",
       "  <clipPath id=\"clip892\">\n",
       "    <rect x=\"213\" y=\"47\" width=\"2140\" height=\"1440\"/>\n",
       "  </clipPath>\n",
       "</defs>\n",
       "<polyline clip-path=\"url(#clip892)\" style=\"stroke:#000000; stroke-linecap:round; stroke-linejoin:round; stroke-width:2; stroke-opacity:0.1; fill:none\" points=\"677.762,1486.45 677.762,47.2441 \"/>\n",
       "<polyline clip-path=\"url(#clip892)\" style=\"stroke:#000000; stroke-linecap:round; stroke-linejoin:round; stroke-width:2; stroke-opacity:0.1; fill:none\" points=\"1215.91,1486.45 1215.91,47.2441 \"/>\n",
       "<polyline clip-path=\"url(#clip892)\" style=\"stroke:#000000; stroke-linecap:round; stroke-linejoin:round; stroke-width:2; stroke-opacity:0.1; fill:none\" points=\"1754.06,1486.45 1754.06,47.2441 \"/>\n",
       "<polyline clip-path=\"url(#clip892)\" style=\"stroke:#000000; stroke-linecap:round; stroke-linejoin:round; stroke-width:2; stroke-opacity:0.1; fill:none\" points=\"2292.21,1486.45 2292.21,47.2441 \"/>\n",
       "<polyline clip-path=\"url(#clip892)\" style=\"stroke:#000000; stroke-linecap:round; stroke-linejoin:round; stroke-width:2; stroke-opacity:0.1; fill:none\" points=\"213.607,1134.74 2352.76,1134.74 \"/>\n",
       "<polyline clip-path=\"url(#clip892)\" style=\"stroke:#000000; stroke-linecap:round; stroke-linejoin:round; stroke-width:2; stroke-opacity:0.1; fill:none\" points=\"213.607,453.002 2352.76,453.002 \"/>\n",
       "<polyline clip-path=\"url(#clip890)\" style=\"stroke:#000000; stroke-linecap:round; stroke-linejoin:round; stroke-width:4; stroke-opacity:1; fill:none\" points=\"213.607,1486.45 2352.76,1486.45 \"/>\n",
       "<polyline clip-path=\"url(#clip890)\" style=\"stroke:#000000; stroke-linecap:round; stroke-linejoin:round; stroke-width:4; stroke-opacity:1; fill:none\" points=\"677.762,1486.45 677.762,1467.55 \"/>\n",
       "<polyline clip-path=\"url(#clip890)\" style=\"stroke:#000000; stroke-linecap:round; stroke-linejoin:round; stroke-width:4; stroke-opacity:1; fill:none\" points=\"1215.91,1486.45 1215.91,1467.55 \"/>\n",
       "<polyline clip-path=\"url(#clip890)\" style=\"stroke:#000000; stroke-linecap:round; stroke-linejoin:round; stroke-width:4; stroke-opacity:1; fill:none\" points=\"1754.06,1486.45 1754.06,1467.55 \"/>\n",
       "<polyline clip-path=\"url(#clip890)\" style=\"stroke:#000000; stroke-linecap:round; stroke-linejoin:round; stroke-width:4; stroke-opacity:1; fill:none\" points=\"2292.21,1486.45 2292.21,1467.55 \"/>\n",
       "<path clip-path=\"url(#clip890)\" d=\"M665.934 1518.36 L654.128 1536.81 L665.934 1536.81 L665.934 1518.36 M664.707 1514.29 L670.586 1514.29 L670.586 1536.81 L675.517 1536.81 L675.517 1540.7 L670.586 1540.7 L670.586 1548.85 L665.934 1548.85 L665.934 1540.7 L650.332 1540.7 L650.332 1536.19 L664.707 1514.29 Z\" fill=\"#000000\" fill-rule=\"nonzero\" fill-opacity=\"1\" /><path clip-path=\"url(#clip890)\" d=\"M693.248 1517.37 Q689.637 1517.37 687.809 1520.93 Q686.003 1524.47 686.003 1531.6 Q686.003 1538.71 687.809 1542.27 Q689.637 1545.82 693.248 1545.82 Q696.883 1545.82 698.688 1542.27 Q700.517 1538.71 700.517 1531.6 Q700.517 1524.47 698.688 1520.93 Q696.883 1517.37 693.248 1517.37 M693.248 1513.66 Q699.059 1513.66 702.114 1518.27 Q705.193 1522.85 705.193 1531.6 Q705.193 1540.33 702.114 1544.94 Q699.059 1549.52 693.248 1549.52 Q687.438 1549.52 684.36 1544.94 Q681.304 1540.33 681.304 1531.6 Q681.304 1522.85 684.36 1518.27 Q687.438 1513.66 693.248 1513.66 Z\" fill=\"#000000\" fill-rule=\"nonzero\" fill-opacity=\"1\" /><path clip-path=\"url(#clip890)\" d=\"M1201.32 1529.7 Q1198.17 1529.7 1196.32 1531.86 Q1194.49 1534.01 1194.49 1537.76 Q1194.49 1541.49 1196.32 1543.66 Q1198.17 1545.82 1201.32 1545.82 Q1204.47 1545.82 1206.29 1543.66 Q1208.15 1541.49 1208.15 1537.76 Q1208.15 1534.01 1206.29 1531.86 Q1204.47 1529.7 1201.32 1529.7 M1210.6 1515.05 L1210.6 1519.31 Q1208.84 1518.48 1207.04 1518.04 Q1205.25 1517.6 1203.49 1517.6 Q1198.86 1517.6 1196.41 1520.72 Q1193.98 1523.85 1193.63 1530.17 Q1195 1528.15 1197.06 1527.09 Q1199.12 1526 1201.6 1526 Q1206.8 1526 1209.81 1529.17 Q1212.85 1532.32 1212.85 1537.76 Q1212.85 1543.08 1209.7 1546.3 Q1206.55 1549.52 1201.32 1549.52 Q1195.32 1549.52 1192.15 1544.94 Q1188.98 1540.33 1188.98 1531.6 Q1188.98 1523.41 1192.87 1518.55 Q1196.76 1513.66 1203.31 1513.66 Q1205.07 1513.66 1206.85 1514.01 Q1208.66 1514.36 1210.6 1515.05 Z\" fill=\"#000000\" fill-rule=\"nonzero\" fill-opacity=\"1\" /><path clip-path=\"url(#clip890)\" d=\"M1230.9 1517.37 Q1227.29 1517.37 1225.46 1520.93 Q1223.66 1524.47 1223.66 1531.6 Q1223.66 1538.71 1225.46 1542.27 Q1227.29 1545.82 1230.9 1545.82 Q1234.54 1545.82 1236.34 1542.27 Q1238.17 1538.71 1238.17 1531.6 Q1238.17 1524.47 1236.34 1520.93 Q1234.54 1517.37 1230.9 1517.37 M1230.9 1513.66 Q1236.71 1513.66 1239.77 1518.27 Q1242.85 1522.85 1242.85 1531.6 Q1242.85 1540.33 1239.77 1544.94 Q1236.71 1549.52 1230.9 1549.52 Q1225.09 1549.52 1222.01 1544.94 Q1218.96 1540.33 1218.96 1531.6 Q1218.96 1522.85 1222.01 1518.27 Q1225.09 1513.66 1230.9 1513.66 Z\" fill=\"#000000\" fill-rule=\"nonzero\" fill-opacity=\"1\" /><path clip-path=\"url(#clip890)\" d=\"M1738.94 1532.44 Q1735.6 1532.44 1733.68 1534.22 Q1731.78 1536 1731.78 1539.13 Q1731.78 1542.25 1733.68 1544.03 Q1735.6 1545.82 1738.94 1545.82 Q1742.27 1545.82 1744.19 1544.03 Q1746.11 1542.23 1746.11 1539.13 Q1746.11 1536 1744.19 1534.22 Q1742.29 1532.44 1738.94 1532.44 M1734.26 1530.45 Q1731.25 1529.7 1729.56 1527.64 Q1727.89 1525.58 1727.89 1522.62 Q1727.89 1518.48 1730.83 1516.07 Q1733.8 1513.66 1738.94 1513.66 Q1744.1 1513.66 1747.04 1516.07 Q1749.98 1518.48 1749.98 1522.62 Q1749.98 1525.58 1748.29 1527.64 Q1746.62 1529.7 1743.64 1530.45 Q1747.01 1531.23 1748.89 1533.52 Q1750.79 1535.82 1750.79 1539.13 Q1750.79 1544.15 1747.71 1546.83 Q1744.65 1549.52 1738.94 1549.52 Q1733.22 1549.52 1730.14 1546.83 Q1727.08 1544.15 1727.08 1539.13 Q1727.08 1535.82 1728.98 1533.52 Q1730.88 1531.23 1734.26 1530.45 M1732.55 1523.06 Q1732.55 1525.75 1734.21 1527.25 Q1735.9 1528.76 1738.94 1528.76 Q1741.95 1528.76 1743.64 1527.25 Q1745.35 1525.75 1745.35 1523.06 Q1745.35 1520.38 1743.64 1518.87 Q1741.95 1517.37 1738.94 1517.37 Q1735.9 1517.37 1734.21 1518.87 Q1732.55 1520.38 1732.55 1523.06 Z\" fill=\"#000000\" fill-rule=\"nonzero\" fill-opacity=\"1\" /><path clip-path=\"url(#clip890)\" d=\"M1769.1 1517.37 Q1765.49 1517.37 1763.66 1520.93 Q1761.85 1524.47 1761.85 1531.6 Q1761.85 1538.71 1763.66 1542.27 Q1765.49 1545.82 1769.1 1545.82 Q1772.73 1545.82 1774.54 1542.27 Q1776.37 1538.71 1776.37 1531.6 Q1776.37 1524.47 1774.54 1520.93 Q1772.73 1517.37 1769.1 1517.37 M1769.1 1513.66 Q1774.91 1513.66 1777.96 1518.27 Q1781.04 1522.85 1781.04 1531.6 Q1781.04 1540.33 1777.96 1544.94 Q1774.91 1549.52 1769.1 1549.52 Q1763.29 1549.52 1760.21 1544.94 Q1757.15 1540.33 1757.15 1531.6 Q1757.15 1522.85 1760.21 1518.27 Q1763.29 1513.66 1769.1 1513.66 Z\" fill=\"#000000\" fill-rule=\"nonzero\" fill-opacity=\"1\" /><path clip-path=\"url(#clip890)\" d=\"M2251.82 1544.91 L2259.46 1544.91 L2259.46 1518.55 L2251.15 1520.21 L2251.15 1515.95 L2259.41 1514.29 L2264.09 1514.29 L2264.09 1544.91 L2271.73 1544.91 L2271.73 1548.85 L2251.82 1548.85 L2251.82 1544.91 Z\" fill=\"#000000\" fill-rule=\"nonzero\" fill-opacity=\"1\" /><path clip-path=\"url(#clip890)\" d=\"M2291.17 1517.37 Q2287.56 1517.37 2285.73 1520.93 Q2283.93 1524.47 2283.93 1531.6 Q2283.93 1538.71 2285.73 1542.27 Q2287.56 1545.82 2291.17 1545.82 Q2294.81 1545.82 2296.61 1542.27 Q2298.44 1538.71 2298.44 1531.6 Q2298.44 1524.47 2296.61 1520.93 Q2294.81 1517.37 2291.17 1517.37 M2291.17 1513.66 Q2296.98 1513.66 2300.04 1518.27 Q2303.12 1522.85 2303.12 1531.6 Q2303.12 1540.33 2300.04 1544.94 Q2296.98 1549.52 2291.17 1549.52 Q2285.36 1549.52 2282.28 1544.94 Q2279.23 1540.33 2279.23 1531.6 Q2279.23 1522.85 2282.28 1518.27 Q2285.36 1513.66 2291.17 1513.66 Z\" fill=\"#000000\" fill-rule=\"nonzero\" fill-opacity=\"1\" /><path clip-path=\"url(#clip890)\" d=\"M2321.33 1517.37 Q2317.72 1517.37 2315.89 1520.93 Q2314.09 1524.47 2314.09 1531.6 Q2314.09 1538.71 2315.89 1542.27 Q2317.72 1545.82 2321.33 1545.82 Q2324.97 1545.82 2326.77 1542.27 Q2328.6 1538.71 2328.6 1531.6 Q2328.6 1524.47 2326.77 1520.93 Q2324.97 1517.37 2321.33 1517.37 M2321.33 1513.66 Q2327.14 1513.66 2330.2 1518.27 Q2333.28 1522.85 2333.28 1531.6 Q2333.28 1540.33 2330.2 1544.94 Q2327.14 1549.52 2321.33 1549.52 Q2315.52 1549.52 2312.45 1544.94 Q2309.39 1540.33 2309.39 1531.6 Q2309.39 1522.85 2312.45 1518.27 Q2315.52 1513.66 2321.33 1513.66 Z\" fill=\"#000000\" fill-rule=\"nonzero\" fill-opacity=\"1\" /><polyline clip-path=\"url(#clip890)\" style=\"stroke:#000000; stroke-linecap:round; stroke-linejoin:round; stroke-width:4; stroke-opacity:1; fill:none\" points=\"213.607,1486.45 213.607,47.2441 \"/>\n",
       "<polyline clip-path=\"url(#clip890)\" style=\"stroke:#000000; stroke-linecap:round; stroke-linejoin:round; stroke-width:4; stroke-opacity:1; fill:none\" points=\"213.607,1134.74 232.505,1134.74 \"/>\n",
       "<polyline clip-path=\"url(#clip890)\" style=\"stroke:#000000; stroke-linecap:round; stroke-linejoin:round; stroke-width:4; stroke-opacity:1; fill:none\" points=\"213.607,453.002 232.505,453.002 \"/>\n",
       "<path clip-path=\"url(#clip890)\" d=\"M51.6634 1154.53 L59.3023 1154.53 L59.3023 1128.16 L50.9921 1129.83 L50.9921 1125.57 L59.256 1123.9 L63.9319 1123.9 L63.9319 1154.53 L71.5707 1154.53 L71.5707 1158.46 L51.6634 1158.46 L51.6634 1154.53 Z\" fill=\"#000000\" fill-rule=\"nonzero\" fill-opacity=\"1\" /><path clip-path=\"url(#clip890)\" d=\"M91.0151 1126.98 Q87.404 1126.98 85.5753 1130.55 Q83.7697 1134.09 83.7697 1141.22 Q83.7697 1148.33 85.5753 1151.89 Q87.404 1155.43 91.0151 1155.43 Q94.6493 1155.43 96.4548 1151.89 Q98.2835 1148.33 98.2835 1141.22 Q98.2835 1134.09 96.4548 1130.55 Q94.6493 1126.98 91.0151 1126.98 M91.0151 1123.28 Q96.8252 1123.28 99.8808 1127.89 Q102.959 1132.47 102.959 1141.22 Q102.959 1149.95 99.8808 1154.55 Q96.8252 1159.14 91.0151 1159.14 Q85.2049 1159.14 82.1262 1154.55 Q79.0707 1149.95 79.0707 1141.22 Q79.0707 1132.47 82.1262 1127.89 Q85.2049 1123.28 91.0151 1123.28 Z\" fill=\"#000000\" fill-rule=\"nonzero\" fill-opacity=\"1\" /><path clip-path=\"url(#clip890)\" d=\"M102.959 1117.38 L127.071 1117.38 L127.071 1120.58 L102.959 1120.58 L102.959 1117.38 Z\" fill=\"#000000\" fill-rule=\"nonzero\" fill-opacity=\"1\" /><path clip-path=\"url(#clip890)\" d=\"M135.929 1127.86 L142.136 1127.86 L142.136 1106.43 L135.384 1107.79 L135.384 1104.33 L142.098 1102.97 L145.898 1102.97 L145.898 1127.86 L152.104 1127.86 L152.104 1131.05 L135.929 1131.05 L135.929 1127.86 Z\" fill=\"#000000\" fill-rule=\"nonzero\" fill-opacity=\"1\" /><path clip-path=\"url(#clip890)\" d=\"M167.903 1105.48 Q164.969 1105.48 163.483 1108.37 Q162.016 1111.25 162.016 1117.04 Q162.016 1122.82 163.483 1125.71 Q164.969 1128.59 167.903 1128.59 Q170.855 1128.59 172.322 1125.71 Q173.808 1122.82 173.808 1117.04 Q173.808 1111.25 172.322 1108.37 Q170.855 1105.48 167.903 1105.48 M167.903 1102.47 Q172.623 1102.47 175.106 1106.21 Q177.607 1109.93 177.607 1117.04 Q177.607 1124.13 175.106 1127.88 Q172.623 1131.6 167.903 1131.6 Q163.182 1131.6 160.68 1127.88 Q158.198 1124.13 158.198 1117.04 Q158.198 1109.93 160.68 1106.21 Q163.182 1102.47 167.903 1102.47 Z\" fill=\"#000000\" fill-rule=\"nonzero\" fill-opacity=\"1\" /><path clip-path=\"url(#clip890)\" d=\"M106.902 472.795 L114.541 472.795 L114.541 446.429 L106.231 448.096 L106.231 443.836 L114.494 442.17 L119.17 442.17 L119.17 472.795 L126.809 472.795 L126.809 476.73 L106.902 476.73 L106.902 472.795 Z\" fill=\"#000000\" fill-rule=\"nonzero\" fill-opacity=\"1\" /><path clip-path=\"url(#clip890)\" d=\"M146.253 445.249 Q142.642 445.249 140.814 448.813 Q139.008 452.355 139.008 459.485 Q139.008 466.591 140.814 470.156 Q142.642 473.697 146.253 473.697 Q149.888 473.697 151.693 470.156 Q153.522 466.591 153.522 459.485 Q153.522 452.355 151.693 448.813 Q149.888 445.249 146.253 445.249 M146.253 441.545 Q152.064 441.545 155.119 446.151 Q158.198 450.735 158.198 459.485 Q158.198 468.211 155.119 472.818 Q152.064 477.401 146.253 477.401 Q140.443 477.401 137.365 472.818 Q134.309 468.211 134.309 459.485 Q134.309 450.735 137.365 446.151 Q140.443 441.545 146.253 441.545 Z\" fill=\"#000000\" fill-rule=\"nonzero\" fill-opacity=\"1\" /><path clip-path=\"url(#clip890)\" d=\"M167.903 423.741 Q164.969 423.741 163.483 426.637 Q162.016 429.515 162.016 435.308 Q162.016 441.082 163.483 443.978 Q164.969 446.856 167.903 446.856 Q170.855 446.856 172.322 443.978 Q173.808 441.082 173.808 435.308 Q173.808 429.515 172.322 426.637 Q170.855 423.741 167.903 423.741 M167.903 420.732 Q172.623 420.732 175.106 424.474 Q177.607 428.198 177.607 435.308 Q177.607 442.398 175.106 446.141 Q172.623 449.865 167.903 449.865 Q163.182 449.865 160.68 446.141 Q158.198 442.398 158.198 435.308 Q158.198 428.198 160.68 424.474 Q163.182 420.732 167.903 420.732 Z\" fill=\"#000000\" fill-rule=\"nonzero\" fill-opacity=\"1\" /><polyline clip-path=\"url(#clip892)\" style=\"stroke:#009af9; stroke-linecap:round; stroke-linejoin:round; stroke-width:4; stroke-opacity:1; fill:none\" points=\"274.149,1070.05 946.838,549.904 1619.53,87.9763 2292.21,296.625 \"/>\n",
       "<polyline clip-path=\"url(#clip892)\" style=\"stroke:#e26f46; stroke-linecap:round; stroke-linejoin:round; stroke-width:4; stroke-opacity:1; fill:none\" points=\"274.149,1445.72 946.838,1425.28 1619.53,1406.62 2292.21,1409.06 \"/>\n",
       "<path clip-path=\"url(#clip890)\" d=\"M1839.92 250.738 L2281.45 250.738 L2281.45 95.2176 L1839.92 95.2176  Z\" fill=\"#ffffff\" fill-rule=\"evenodd\" fill-opacity=\"1\"/>\n",
       "<polyline clip-path=\"url(#clip890)\" style=\"stroke:#000000; stroke-linecap:round; stroke-linejoin:round; stroke-width:4; stroke-opacity:1; fill:none\" points=\"1839.92,250.738 2281.45,250.738 2281.45,95.2176 1839.92,95.2176 1839.92,250.738 \"/>\n",
       "<polyline clip-path=\"url(#clip890)\" style=\"stroke:#009af9; stroke-linecap:round; stroke-linejoin:round; stroke-width:4; stroke-opacity:1; fill:none\" points=\"1863.69,147.058 2006.3,147.058 \"/>\n",
       "<path clip-path=\"url(#clip890)\" d=\"M2048.84 151.398 Q2048.84 146.699 2046.9 144.037 Q2044.98 141.352 2041.6 141.352 Q2038.22 141.352 2036.27 144.037 Q2034.35 146.699 2034.35 151.398 Q2034.35 156.097 2036.27 158.782 Q2038.22 161.444 2041.6 161.444 Q2044.98 161.444 2046.9 158.782 Q2048.84 156.097 2048.84 151.398 M2034.35 142.347 Q2035.69 140.032 2037.73 138.921 Q2039.79 137.787 2042.64 137.787 Q2047.36 137.787 2050.3 141.537 Q2053.26 145.287 2053.26 151.398 Q2053.26 157.509 2050.3 161.259 Q2047.36 165.009 2042.64 165.009 Q2039.79 165.009 2037.73 163.898 Q2035.69 162.763 2034.35 160.449 L2034.35 164.338 L2030.07 164.338 L2030.07 128.319 L2034.35 128.319 L2034.35 142.347 Z\" fill=\"#000000\" fill-rule=\"nonzero\" fill-opacity=\"1\" /><path clip-path=\"url(#clip890)\" d=\"M2072.1 151.305 Q2066.94 151.305 2064.95 152.486 Q2062.96 153.666 2062.96 156.514 Q2062.96 158.782 2064.44 160.125 Q2065.95 161.444 2068.52 161.444 Q2072.06 161.444 2074.19 158.944 Q2076.34 156.421 2076.34 152.254 L2076.34 151.305 L2072.1 151.305 M2080.6 149.546 L2080.6 164.338 L2076.34 164.338 L2076.34 160.402 Q2074.88 162.763 2072.71 163.898 Q2070.53 165.009 2067.38 165.009 Q2063.4 165.009 2061.04 162.787 Q2058.7 160.541 2058.7 156.791 Q2058.7 152.416 2061.62 150.194 Q2064.56 147.972 2070.37 147.972 L2076.34 147.972 L2076.34 147.555 Q2076.34 144.615 2074.4 143.018 Q2072.48 141.398 2068.98 141.398 Q2066.76 141.398 2064.65 141.93 Q2062.54 142.463 2060.6 143.527 L2060.6 139.592 Q2062.94 138.69 2065.14 138.25 Q2067.34 137.787 2069.42 137.787 Q2075.04 137.787 2077.82 140.703 Q2080.6 143.62 2080.6 149.546 Z\" fill=\"#000000\" fill-rule=\"nonzero\" fill-opacity=\"1\" /><path clip-path=\"url(#clip890)\" d=\"M2106.43 142.347 L2106.43 128.319 L2110.69 128.319 L2110.69 164.338 L2106.43 164.338 L2106.43 160.449 Q2105.09 162.763 2103.03 163.898 Q2100.99 165.009 2098.12 165.009 Q2093.42 165.009 2090.46 161.259 Q2087.52 157.509 2087.52 151.398 Q2087.52 145.287 2090.46 141.537 Q2093.42 137.787 2098.12 137.787 Q2100.99 137.787 2103.03 138.921 Q2105.09 140.032 2106.43 142.347 M2091.92 151.398 Q2091.92 156.097 2093.84 158.782 Q2095.79 161.444 2099.16 161.444 Q2102.54 161.444 2104.49 158.782 Q2106.43 156.097 2106.43 151.398 Q2106.43 146.699 2104.49 144.037 Q2102.54 141.352 2099.16 141.352 Q2095.79 141.352 2093.84 144.037 Q2091.92 146.699 2091.92 151.398 Z\" fill=\"#000000\" fill-rule=\"nonzero\" fill-opacity=\"1\" /><polyline clip-path=\"url(#clip890)\" style=\"stroke:#e26f46; stroke-linecap:round; stroke-linejoin:round; stroke-width:4; stroke-opacity:1; fill:none\" points=\"1863.69,198.898 2006.3,198.898 \"/>\n",
       "<path clip-path=\"url(#clip890)\" d=\"M2034.35 212.289 L2034.35 226.039 L2030.07 226.039 L2030.07 190.252 L2034.35 190.252 L2034.35 194.187 Q2035.69 191.872 2037.73 190.761 Q2039.79 189.627 2042.64 189.627 Q2047.36 189.627 2050.3 193.377 Q2053.26 197.127 2053.26 203.238 Q2053.26 209.349 2050.3 213.099 Q2047.36 216.849 2042.64 216.849 Q2039.79 216.849 2037.73 215.738 Q2035.69 214.603 2034.35 212.289 M2048.84 203.238 Q2048.84 198.539 2046.9 195.877 Q2044.98 193.192 2041.6 193.192 Q2038.22 193.192 2036.27 195.877 Q2034.35 198.539 2034.35 203.238 Q2034.35 207.937 2036.27 210.622 Q2038.22 213.284 2041.6 213.284 Q2044.98 213.284 2046.9 210.622 Q2048.84 207.937 2048.84 203.238 Z\" fill=\"#000000\" fill-rule=\"nonzero\" fill-opacity=\"1\" /><path clip-path=\"url(#clip890)\" d=\"M2082.5 202.15 L2082.5 204.233 L2062.92 204.233 Q2063.19 208.631 2065.55 210.946 Q2067.94 213.238 2072.17 213.238 Q2074.63 213.238 2076.92 212.636 Q2079.23 212.034 2081.5 210.83 L2081.5 214.858 Q2079.21 215.83 2076.8 216.34 Q2074.4 216.849 2071.92 216.849 Q2065.72 216.849 2062.08 213.238 Q2058.47 209.627 2058.47 203.469 Q2058.47 197.104 2061.9 193.377 Q2065.35 189.627 2071.18 189.627 Q2076.41 189.627 2079.44 193.006 Q2082.5 196.363 2082.5 202.15 M2078.24 200.9 Q2078.19 197.405 2076.27 195.321 Q2074.37 193.238 2071.23 193.238 Q2067.66 193.238 2065.51 195.252 Q2063.38 197.266 2063.05 200.923 L2078.24 200.9 Z\" fill=\"#000000\" fill-rule=\"nonzero\" fill-opacity=\"1\" /><path clip-path=\"url(#clip890)\" d=\"M2104.51 194.233 Q2103.79 193.817 2102.94 193.631 Q2102.1 193.423 2101.09 193.423 Q2097.48 193.423 2095.53 195.784 Q2093.61 198.122 2093.61 202.52 L2093.61 216.178 L2089.33 216.178 L2089.33 190.252 L2093.61 190.252 L2093.61 194.28 Q2094.95 191.918 2097.1 190.784 Q2099.26 189.627 2102.34 189.627 Q2102.78 189.627 2103.31 189.696 Q2103.84 189.743 2104.49 189.858 L2104.51 194.233 Z\" fill=\"#000000\" fill-rule=\"nonzero\" fill-opacity=\"1\" /><path clip-path=\"url(#clip890)\" d=\"M2113.19 182.891 L2113.19 190.252 L2121.97 190.252 L2121.97 193.562 L2113.19 193.562 L2113.19 207.636 Q2113.19 210.807 2114.05 211.71 Q2114.93 212.613 2117.59 212.613 L2121.97 212.613 L2121.97 216.178 L2117.59 216.178 Q2112.66 216.178 2110.79 214.349 Q2108.91 212.497 2108.91 207.636 L2108.91 193.562 L2105.79 193.562 L2105.79 190.252 L2108.91 190.252 L2108.91 182.891 L2113.19 182.891 Z\" fill=\"#000000\" fill-rule=\"nonzero\" fill-opacity=\"1\" /><path clip-path=\"url(#clip890)\" d=\"M2127.13 205.946 L2127.13 190.252 L2131.39 190.252 L2131.39 205.784 Q2131.39 209.465 2132.82 211.316 Q2134.26 213.145 2137.13 213.145 Q2140.58 213.145 2142.57 210.946 Q2144.58 208.747 2144.58 204.951 L2144.58 190.252 L2148.84 190.252 L2148.84 216.178 L2144.58 216.178 L2144.58 212.196 Q2143.03 214.557 2140.97 215.715 Q2138.93 216.849 2136.22 216.849 Q2131.76 216.849 2129.44 214.071 Q2127.13 211.293 2127.13 205.946 M2137.85 189.627 L2137.85 189.627 Z\" fill=\"#000000\" fill-rule=\"nonzero\" fill-opacity=\"1\" /><path clip-path=\"url(#clip890)\" d=\"M2172.64 194.233 Q2171.92 193.817 2171.06 193.631 Q2170.23 193.423 2169.21 193.423 Q2165.6 193.423 2163.66 195.784 Q2161.73 198.122 2161.73 202.52 L2161.73 216.178 L2157.45 216.178 L2157.45 190.252 L2161.73 190.252 L2161.73 194.28 Q2163.08 191.918 2165.23 190.784 Q2167.38 189.627 2170.46 189.627 Q2170.9 189.627 2171.43 189.696 Q2171.97 189.743 2172.61 189.858 L2172.64 194.233 Z\" fill=\"#000000\" fill-rule=\"nonzero\" fill-opacity=\"1\" /><path clip-path=\"url(#clip890)\" d=\"M2195.72 203.238 Q2195.72 198.539 2193.77 195.877 Q2191.85 193.192 2188.47 193.192 Q2185.09 193.192 2183.15 195.877 Q2181.22 198.539 2181.22 203.238 Q2181.22 207.937 2183.15 210.622 Q2185.09 213.284 2188.47 213.284 Q2191.85 213.284 2193.77 210.622 Q2195.72 207.937 2195.72 203.238 M2181.22 194.187 Q2182.57 191.872 2184.6 190.761 Q2186.66 189.627 2189.51 189.627 Q2194.23 189.627 2197.17 193.377 Q2200.14 197.127 2200.14 203.238 Q2200.14 209.349 2197.17 213.099 Q2194.23 216.849 2189.51 216.849 Q2186.66 216.849 2184.6 215.738 Q2182.57 214.603 2181.22 212.289 L2181.22 216.178 L2176.94 216.178 L2176.94 180.159 L2181.22 180.159 L2181.22 194.187 Z\" fill=\"#000000\" fill-rule=\"nonzero\" fill-opacity=\"1\" /><path clip-path=\"url(#clip890)\" d=\"M2229.37 202.15 L2229.37 204.233 L2209.79 204.233 Q2210.07 208.631 2212.43 210.946 Q2214.81 213.238 2219.05 213.238 Q2221.5 213.238 2223.79 212.636 Q2226.11 212.034 2228.38 210.83 L2228.38 214.858 Q2226.09 215.83 2223.68 216.34 Q2221.27 216.849 2218.79 216.849 Q2212.59 216.849 2208.96 213.238 Q2205.34 209.627 2205.34 203.469 Q2205.34 197.104 2208.77 193.377 Q2212.22 189.627 2218.05 189.627 Q2223.28 189.627 2226.32 193.006 Q2229.37 196.363 2229.37 202.15 M2225.11 200.9 Q2225.07 197.405 2223.15 195.321 Q2221.25 193.238 2218.1 193.238 Q2214.53 193.238 2212.38 195.252 Q2210.25 197.266 2209.93 200.923 L2225.11 200.9 Z\" fill=\"#000000\" fill-rule=\"nonzero\" fill-opacity=\"1\" /><path clip-path=\"url(#clip890)\" d=\"M2253.42 194.187 L2253.42 180.159 L2257.68 180.159 L2257.68 216.178 L2253.42 216.178 L2253.42 212.289 Q2252.08 214.603 2250.02 215.738 Q2247.98 216.849 2245.11 216.849 Q2240.41 216.849 2237.45 213.099 Q2234.51 209.349 2234.51 203.238 Q2234.51 197.127 2237.45 193.377 Q2240.41 189.627 2245.11 189.627 Q2247.98 189.627 2250.02 190.761 Q2252.08 191.872 2253.42 194.187 M2238.91 203.238 Q2238.91 207.937 2240.83 210.622 Q2242.78 213.284 2246.15 213.284 Q2249.53 213.284 2251.48 210.622 Q2253.42 207.937 2253.42 203.238 Q2253.42 198.539 2251.48 195.877 Q2249.53 193.192 2246.15 193.192 Q2242.78 193.192 2240.83 195.877 Q2238.91 198.539 2238.91 203.238 Z\" fill=\"#000000\" fill-rule=\"nonzero\" fill-opacity=\"1\" /></svg>\n"
      ],
      "text/html": [
       "<?xml version=\"1.0\" encoding=\"utf-8\"?>\n",
       "<svg xmlns=\"http://www.w3.org/2000/svg\" xmlns:xlink=\"http://www.w3.org/1999/xlink\" width=\"600\" height=\"400\" viewBox=\"0 0 2400 1600\">\n",
       "<defs>\n",
       "  <clipPath id=\"clip940\">\n",
       "    <rect x=\"0\" y=\"0\" width=\"2400\" height=\"1600\"/>\n",
       "  </clipPath>\n",
       "</defs>\n",
       "<path clip-path=\"url(#clip940)\" d=\"M0 1600 L2400 1600 L2400 0 L0 0  Z\" fill=\"#ffffff\" fill-rule=\"evenodd\" fill-opacity=\"1\"/>\n",
       "<defs>\n",
       "  <clipPath id=\"clip941\">\n",
       "    <rect x=\"480\" y=\"0\" width=\"1681\" height=\"1600\"/>\n",
       "  </clipPath>\n",
       "</defs>\n",
       "<path clip-path=\"url(#clip940)\" d=\"M213.607 1486.45 L2352.76 1486.45 L2352.76 47.2441 L213.607 47.2441  Z\" fill=\"#ffffff\" fill-rule=\"evenodd\" fill-opacity=\"1\"/>\n",
       "<defs>\n",
       "  <clipPath id=\"clip942\">\n",
       "    <rect x=\"213\" y=\"47\" width=\"2140\" height=\"1440\"/>\n",
       "  </clipPath>\n",
       "</defs>\n",
       "<polyline clip-path=\"url(#clip942)\" style=\"stroke:#000000; stroke-linecap:round; stroke-linejoin:round; stroke-width:2; stroke-opacity:0.1; fill:none\" points=\"677.762,1486.45 677.762,47.2441 \"/>\n",
       "<polyline clip-path=\"url(#clip942)\" style=\"stroke:#000000; stroke-linecap:round; stroke-linejoin:round; stroke-width:2; stroke-opacity:0.1; fill:none\" points=\"1215.91,1486.45 1215.91,47.2441 \"/>\n",
       "<polyline clip-path=\"url(#clip942)\" style=\"stroke:#000000; stroke-linecap:round; stroke-linejoin:round; stroke-width:2; stroke-opacity:0.1; fill:none\" points=\"1754.06,1486.45 1754.06,47.2441 \"/>\n",
       "<polyline clip-path=\"url(#clip942)\" style=\"stroke:#000000; stroke-linecap:round; stroke-linejoin:round; stroke-width:2; stroke-opacity:0.1; fill:none\" points=\"2292.21,1486.45 2292.21,47.2441 \"/>\n",
       "<polyline clip-path=\"url(#clip942)\" style=\"stroke:#000000; stroke-linecap:round; stroke-linejoin:round; stroke-width:2; stroke-opacity:0.1; fill:none\" points=\"213.607,1134.74 2352.76,1134.74 \"/>\n",
       "<polyline clip-path=\"url(#clip942)\" style=\"stroke:#000000; stroke-linecap:round; stroke-linejoin:round; stroke-width:2; stroke-opacity:0.1; fill:none\" points=\"213.607,453.002 2352.76,453.002 \"/>\n",
       "<polyline clip-path=\"url(#clip940)\" style=\"stroke:#000000; stroke-linecap:round; stroke-linejoin:round; stroke-width:4; stroke-opacity:1; fill:none\" points=\"213.607,1486.45 2352.76,1486.45 \"/>\n",
       "<polyline clip-path=\"url(#clip940)\" style=\"stroke:#000000; stroke-linecap:round; stroke-linejoin:round; stroke-width:4; stroke-opacity:1; fill:none\" points=\"677.762,1486.45 677.762,1467.55 \"/>\n",
       "<polyline clip-path=\"url(#clip940)\" style=\"stroke:#000000; stroke-linecap:round; stroke-linejoin:round; stroke-width:4; stroke-opacity:1; fill:none\" points=\"1215.91,1486.45 1215.91,1467.55 \"/>\n",
       "<polyline clip-path=\"url(#clip940)\" style=\"stroke:#000000; stroke-linecap:round; stroke-linejoin:round; stroke-width:4; stroke-opacity:1; fill:none\" points=\"1754.06,1486.45 1754.06,1467.55 \"/>\n",
       "<polyline clip-path=\"url(#clip940)\" style=\"stroke:#000000; stroke-linecap:round; stroke-linejoin:round; stroke-width:4; stroke-opacity:1; fill:none\" points=\"2292.21,1486.45 2292.21,1467.55 \"/>\n",
       "<path clip-path=\"url(#clip940)\" d=\"M665.934 1518.36 L654.128 1536.81 L665.934 1536.81 L665.934 1518.36 M664.707 1514.29 L670.586 1514.29 L670.586 1536.81 L675.517 1536.81 L675.517 1540.7 L670.586 1540.7 L670.586 1548.85 L665.934 1548.85 L665.934 1540.7 L650.332 1540.7 L650.332 1536.19 L664.707 1514.29 Z\" fill=\"#000000\" fill-rule=\"nonzero\" fill-opacity=\"1\" /><path clip-path=\"url(#clip940)\" d=\"M693.248 1517.37 Q689.637 1517.37 687.809 1520.93 Q686.003 1524.47 686.003 1531.6 Q686.003 1538.71 687.809 1542.27 Q689.637 1545.82 693.248 1545.82 Q696.883 1545.82 698.688 1542.27 Q700.517 1538.71 700.517 1531.6 Q700.517 1524.47 698.688 1520.93 Q696.883 1517.37 693.248 1517.37 M693.248 1513.66 Q699.059 1513.66 702.114 1518.27 Q705.193 1522.85 705.193 1531.6 Q705.193 1540.33 702.114 1544.94 Q699.059 1549.52 693.248 1549.52 Q687.438 1549.52 684.36 1544.94 Q681.304 1540.33 681.304 1531.6 Q681.304 1522.85 684.36 1518.27 Q687.438 1513.66 693.248 1513.66 Z\" fill=\"#000000\" fill-rule=\"nonzero\" fill-opacity=\"1\" /><path clip-path=\"url(#clip940)\" d=\"M1201.32 1529.7 Q1198.17 1529.7 1196.32 1531.86 Q1194.49 1534.01 1194.49 1537.76 Q1194.49 1541.49 1196.32 1543.66 Q1198.17 1545.82 1201.32 1545.82 Q1204.47 1545.82 1206.29 1543.66 Q1208.15 1541.49 1208.15 1537.76 Q1208.15 1534.01 1206.29 1531.86 Q1204.47 1529.7 1201.32 1529.7 M1210.6 1515.05 L1210.6 1519.31 Q1208.84 1518.48 1207.04 1518.04 Q1205.25 1517.6 1203.49 1517.6 Q1198.86 1517.6 1196.41 1520.72 Q1193.98 1523.85 1193.63 1530.17 Q1195 1528.15 1197.06 1527.09 Q1199.12 1526 1201.6 1526 Q1206.8 1526 1209.81 1529.17 Q1212.85 1532.32 1212.85 1537.76 Q1212.85 1543.08 1209.7 1546.3 Q1206.55 1549.52 1201.32 1549.52 Q1195.32 1549.52 1192.15 1544.94 Q1188.98 1540.33 1188.98 1531.6 Q1188.98 1523.41 1192.87 1518.55 Q1196.76 1513.66 1203.31 1513.66 Q1205.07 1513.66 1206.85 1514.01 Q1208.66 1514.36 1210.6 1515.05 Z\" fill=\"#000000\" fill-rule=\"nonzero\" fill-opacity=\"1\" /><path clip-path=\"url(#clip940)\" d=\"M1230.9 1517.37 Q1227.29 1517.37 1225.46 1520.93 Q1223.66 1524.47 1223.66 1531.6 Q1223.66 1538.71 1225.46 1542.27 Q1227.29 1545.82 1230.9 1545.82 Q1234.54 1545.82 1236.34 1542.27 Q1238.17 1538.71 1238.17 1531.6 Q1238.17 1524.47 1236.34 1520.93 Q1234.54 1517.37 1230.9 1517.37 M1230.9 1513.66 Q1236.71 1513.66 1239.77 1518.27 Q1242.85 1522.85 1242.85 1531.6 Q1242.85 1540.33 1239.77 1544.94 Q1236.71 1549.52 1230.9 1549.52 Q1225.09 1549.52 1222.01 1544.94 Q1218.96 1540.33 1218.96 1531.6 Q1218.96 1522.85 1222.01 1518.27 Q1225.09 1513.66 1230.9 1513.66 Z\" fill=\"#000000\" fill-rule=\"nonzero\" fill-opacity=\"1\" /><path clip-path=\"url(#clip940)\" d=\"M1738.94 1532.44 Q1735.6 1532.44 1733.68 1534.22 Q1731.78 1536 1731.78 1539.13 Q1731.78 1542.25 1733.68 1544.03 Q1735.6 1545.82 1738.94 1545.82 Q1742.27 1545.82 1744.19 1544.03 Q1746.11 1542.23 1746.11 1539.13 Q1746.11 1536 1744.19 1534.22 Q1742.29 1532.44 1738.94 1532.44 M1734.26 1530.45 Q1731.25 1529.7 1729.56 1527.64 Q1727.89 1525.58 1727.89 1522.62 Q1727.89 1518.48 1730.83 1516.07 Q1733.8 1513.66 1738.94 1513.66 Q1744.1 1513.66 1747.04 1516.07 Q1749.98 1518.48 1749.98 1522.62 Q1749.98 1525.58 1748.29 1527.64 Q1746.62 1529.7 1743.64 1530.45 Q1747.01 1531.23 1748.89 1533.52 Q1750.79 1535.82 1750.79 1539.13 Q1750.79 1544.15 1747.71 1546.83 Q1744.65 1549.52 1738.94 1549.52 Q1733.22 1549.52 1730.14 1546.83 Q1727.08 1544.15 1727.08 1539.13 Q1727.08 1535.82 1728.98 1533.52 Q1730.88 1531.23 1734.26 1530.45 M1732.55 1523.06 Q1732.55 1525.75 1734.21 1527.25 Q1735.9 1528.76 1738.94 1528.76 Q1741.95 1528.76 1743.64 1527.25 Q1745.35 1525.75 1745.35 1523.06 Q1745.35 1520.38 1743.64 1518.87 Q1741.95 1517.37 1738.94 1517.37 Q1735.9 1517.37 1734.21 1518.87 Q1732.55 1520.38 1732.55 1523.06 Z\" fill=\"#000000\" fill-rule=\"nonzero\" fill-opacity=\"1\" /><path clip-path=\"url(#clip940)\" d=\"M1769.1 1517.37 Q1765.49 1517.37 1763.66 1520.93 Q1761.85 1524.47 1761.85 1531.6 Q1761.85 1538.71 1763.66 1542.27 Q1765.49 1545.82 1769.1 1545.82 Q1772.73 1545.82 1774.54 1542.27 Q1776.37 1538.71 1776.37 1531.6 Q1776.37 1524.47 1774.54 1520.93 Q1772.73 1517.37 1769.1 1517.37 M1769.1 1513.66 Q1774.91 1513.66 1777.96 1518.27 Q1781.04 1522.85 1781.04 1531.6 Q1781.04 1540.33 1777.96 1544.94 Q1774.91 1549.52 1769.1 1549.52 Q1763.29 1549.52 1760.21 1544.94 Q1757.15 1540.33 1757.15 1531.6 Q1757.15 1522.85 1760.21 1518.27 Q1763.29 1513.66 1769.1 1513.66 Z\" fill=\"#000000\" fill-rule=\"nonzero\" fill-opacity=\"1\" /><path clip-path=\"url(#clip940)\" d=\"M2251.82 1544.91 L2259.46 1544.91 L2259.46 1518.55 L2251.15 1520.21 L2251.15 1515.95 L2259.41 1514.29 L2264.09 1514.29 L2264.09 1544.91 L2271.73 1544.91 L2271.73 1548.85 L2251.82 1548.85 L2251.82 1544.91 Z\" fill=\"#000000\" fill-rule=\"nonzero\" fill-opacity=\"1\" /><path clip-path=\"url(#clip940)\" d=\"M2291.17 1517.37 Q2287.56 1517.37 2285.73 1520.93 Q2283.93 1524.47 2283.93 1531.6 Q2283.93 1538.71 2285.73 1542.27 Q2287.56 1545.82 2291.17 1545.82 Q2294.81 1545.82 2296.61 1542.27 Q2298.44 1538.71 2298.44 1531.6 Q2298.44 1524.47 2296.61 1520.93 Q2294.81 1517.37 2291.17 1517.37 M2291.17 1513.66 Q2296.98 1513.66 2300.04 1518.27 Q2303.12 1522.85 2303.12 1531.6 Q2303.12 1540.33 2300.04 1544.94 Q2296.98 1549.52 2291.17 1549.52 Q2285.36 1549.52 2282.28 1544.94 Q2279.23 1540.33 2279.23 1531.6 Q2279.23 1522.85 2282.28 1518.27 Q2285.36 1513.66 2291.17 1513.66 Z\" fill=\"#000000\" fill-rule=\"nonzero\" fill-opacity=\"1\" /><path clip-path=\"url(#clip940)\" d=\"M2321.33 1517.37 Q2317.72 1517.37 2315.89 1520.93 Q2314.09 1524.47 2314.09 1531.6 Q2314.09 1538.71 2315.89 1542.27 Q2317.72 1545.82 2321.33 1545.82 Q2324.97 1545.82 2326.77 1542.27 Q2328.6 1538.71 2328.6 1531.6 Q2328.6 1524.47 2326.77 1520.93 Q2324.97 1517.37 2321.33 1517.37 M2321.33 1513.66 Q2327.14 1513.66 2330.2 1518.27 Q2333.28 1522.85 2333.28 1531.6 Q2333.28 1540.33 2330.2 1544.94 Q2327.14 1549.52 2321.33 1549.52 Q2315.52 1549.52 2312.45 1544.94 Q2309.39 1540.33 2309.39 1531.6 Q2309.39 1522.85 2312.45 1518.27 Q2315.52 1513.66 2321.33 1513.66 Z\" fill=\"#000000\" fill-rule=\"nonzero\" fill-opacity=\"1\" /><polyline clip-path=\"url(#clip940)\" style=\"stroke:#000000; stroke-linecap:round; stroke-linejoin:round; stroke-width:4; stroke-opacity:1; fill:none\" points=\"213.607,1486.45 213.607,47.2441 \"/>\n",
       "<polyline clip-path=\"url(#clip940)\" style=\"stroke:#000000; stroke-linecap:round; stroke-linejoin:round; stroke-width:4; stroke-opacity:1; fill:none\" points=\"213.607,1134.74 232.505,1134.74 \"/>\n",
       "<polyline clip-path=\"url(#clip940)\" style=\"stroke:#000000; stroke-linecap:round; stroke-linejoin:round; stroke-width:4; stroke-opacity:1; fill:none\" points=\"213.607,453.002 232.505,453.002 \"/>\n",
       "<path clip-path=\"url(#clip940)\" d=\"M51.6634 1154.53 L59.3023 1154.53 L59.3023 1128.16 L50.9921 1129.83 L50.9921 1125.57 L59.256 1123.9 L63.9319 1123.9 L63.9319 1154.53 L71.5707 1154.53 L71.5707 1158.46 L51.6634 1158.46 L51.6634 1154.53 Z\" fill=\"#000000\" fill-rule=\"nonzero\" fill-opacity=\"1\" /><path clip-path=\"url(#clip940)\" d=\"M91.0151 1126.98 Q87.404 1126.98 85.5753 1130.55 Q83.7697 1134.09 83.7697 1141.22 Q83.7697 1148.33 85.5753 1151.89 Q87.404 1155.43 91.0151 1155.43 Q94.6493 1155.43 96.4548 1151.89 Q98.2835 1148.33 98.2835 1141.22 Q98.2835 1134.09 96.4548 1130.55 Q94.6493 1126.98 91.0151 1126.98 M91.0151 1123.28 Q96.8252 1123.28 99.8808 1127.89 Q102.959 1132.47 102.959 1141.22 Q102.959 1149.95 99.8808 1154.55 Q96.8252 1159.14 91.0151 1159.14 Q85.2049 1159.14 82.1262 1154.55 Q79.0707 1149.95 79.0707 1141.22 Q79.0707 1132.47 82.1262 1127.89 Q85.2049 1123.28 91.0151 1123.28 Z\" fill=\"#000000\" fill-rule=\"nonzero\" fill-opacity=\"1\" /><path clip-path=\"url(#clip940)\" d=\"M102.959 1117.38 L127.071 1117.38 L127.071 1120.58 L102.959 1120.58 L102.959 1117.38 Z\" fill=\"#000000\" fill-rule=\"nonzero\" fill-opacity=\"1\" /><path clip-path=\"url(#clip940)\" d=\"M135.929 1127.86 L142.136 1127.86 L142.136 1106.43 L135.384 1107.79 L135.384 1104.33 L142.098 1102.97 L145.898 1102.97 L145.898 1127.86 L152.104 1127.86 L152.104 1131.05 L135.929 1131.05 L135.929 1127.86 Z\" fill=\"#000000\" fill-rule=\"nonzero\" fill-opacity=\"1\" /><path clip-path=\"url(#clip940)\" d=\"M167.903 1105.48 Q164.969 1105.48 163.483 1108.37 Q162.016 1111.25 162.016 1117.04 Q162.016 1122.82 163.483 1125.71 Q164.969 1128.59 167.903 1128.59 Q170.855 1128.59 172.322 1125.71 Q173.808 1122.82 173.808 1117.04 Q173.808 1111.25 172.322 1108.37 Q170.855 1105.48 167.903 1105.48 M167.903 1102.47 Q172.623 1102.47 175.106 1106.21 Q177.607 1109.93 177.607 1117.04 Q177.607 1124.13 175.106 1127.88 Q172.623 1131.6 167.903 1131.6 Q163.182 1131.6 160.68 1127.88 Q158.198 1124.13 158.198 1117.04 Q158.198 1109.93 160.68 1106.21 Q163.182 1102.47 167.903 1102.47 Z\" fill=\"#000000\" fill-rule=\"nonzero\" fill-opacity=\"1\" /><path clip-path=\"url(#clip940)\" d=\"M106.902 472.795 L114.541 472.795 L114.541 446.429 L106.231 448.096 L106.231 443.836 L114.494 442.17 L119.17 442.17 L119.17 472.795 L126.809 472.795 L126.809 476.73 L106.902 476.73 L106.902 472.795 Z\" fill=\"#000000\" fill-rule=\"nonzero\" fill-opacity=\"1\" /><path clip-path=\"url(#clip940)\" d=\"M146.253 445.249 Q142.642 445.249 140.814 448.813 Q139.008 452.355 139.008 459.485 Q139.008 466.591 140.814 470.156 Q142.642 473.697 146.253 473.697 Q149.888 473.697 151.693 470.156 Q153.522 466.591 153.522 459.485 Q153.522 452.355 151.693 448.813 Q149.888 445.249 146.253 445.249 M146.253 441.545 Q152.064 441.545 155.119 446.151 Q158.198 450.735 158.198 459.485 Q158.198 468.211 155.119 472.818 Q152.064 477.401 146.253 477.401 Q140.443 477.401 137.365 472.818 Q134.309 468.211 134.309 459.485 Q134.309 450.735 137.365 446.151 Q140.443 441.545 146.253 441.545 Z\" fill=\"#000000\" fill-rule=\"nonzero\" fill-opacity=\"1\" /><path clip-path=\"url(#clip940)\" d=\"M167.903 423.741 Q164.969 423.741 163.483 426.637 Q162.016 429.515 162.016 435.308 Q162.016 441.082 163.483 443.978 Q164.969 446.856 167.903 446.856 Q170.855 446.856 172.322 443.978 Q173.808 441.082 173.808 435.308 Q173.808 429.515 172.322 426.637 Q170.855 423.741 167.903 423.741 M167.903 420.732 Q172.623 420.732 175.106 424.474 Q177.607 428.198 177.607 435.308 Q177.607 442.398 175.106 446.141 Q172.623 449.865 167.903 449.865 Q163.182 449.865 160.68 446.141 Q158.198 442.398 158.198 435.308 Q158.198 428.198 160.68 424.474 Q163.182 420.732 167.903 420.732 Z\" fill=\"#000000\" fill-rule=\"nonzero\" fill-opacity=\"1\" /><polyline clip-path=\"url(#clip942)\" style=\"stroke:#009af9; stroke-linecap:round; stroke-linejoin:round; stroke-width:4; stroke-opacity:1; fill:none\" points=\"274.149,1070.05 946.838,549.904 1619.53,87.9763 2292.21,296.625 \"/>\n",
       "<polyline clip-path=\"url(#clip942)\" style=\"stroke:#e26f46; stroke-linecap:round; stroke-linejoin:round; stroke-width:4; stroke-opacity:1; fill:none\" points=\"274.149,1445.72 946.838,1425.28 1619.53,1406.62 2292.21,1409.06 \"/>\n",
       "<path clip-path=\"url(#clip940)\" d=\"M1839.92 250.738 L2281.45 250.738 L2281.45 95.2176 L1839.92 95.2176  Z\" fill=\"#ffffff\" fill-rule=\"evenodd\" fill-opacity=\"1\"/>\n",
       "<polyline clip-path=\"url(#clip940)\" style=\"stroke:#000000; stroke-linecap:round; stroke-linejoin:round; stroke-width:4; stroke-opacity:1; fill:none\" points=\"1839.92,250.738 2281.45,250.738 2281.45,95.2176 1839.92,95.2176 1839.92,250.738 \"/>\n",
       "<polyline clip-path=\"url(#clip940)\" style=\"stroke:#009af9; stroke-linecap:round; stroke-linejoin:round; stroke-width:4; stroke-opacity:1; fill:none\" points=\"1863.69,147.058 2006.3,147.058 \"/>\n",
       "<path clip-path=\"url(#clip940)\" d=\"M2048.84 151.398 Q2048.84 146.699 2046.9 144.037 Q2044.98 141.352 2041.6 141.352 Q2038.22 141.352 2036.27 144.037 Q2034.35 146.699 2034.35 151.398 Q2034.35 156.097 2036.27 158.782 Q2038.22 161.444 2041.6 161.444 Q2044.98 161.444 2046.9 158.782 Q2048.84 156.097 2048.84 151.398 M2034.35 142.347 Q2035.69 140.032 2037.73 138.921 Q2039.79 137.787 2042.64 137.787 Q2047.36 137.787 2050.3 141.537 Q2053.26 145.287 2053.26 151.398 Q2053.26 157.509 2050.3 161.259 Q2047.36 165.009 2042.64 165.009 Q2039.79 165.009 2037.73 163.898 Q2035.69 162.763 2034.35 160.449 L2034.35 164.338 L2030.07 164.338 L2030.07 128.319 L2034.35 128.319 L2034.35 142.347 Z\" fill=\"#000000\" fill-rule=\"nonzero\" fill-opacity=\"1\" /><path clip-path=\"url(#clip940)\" d=\"M2072.1 151.305 Q2066.94 151.305 2064.95 152.486 Q2062.96 153.666 2062.96 156.514 Q2062.96 158.782 2064.44 160.125 Q2065.95 161.444 2068.52 161.444 Q2072.06 161.444 2074.19 158.944 Q2076.34 156.421 2076.34 152.254 L2076.34 151.305 L2072.1 151.305 M2080.6 149.546 L2080.6 164.338 L2076.34 164.338 L2076.34 160.402 Q2074.88 162.763 2072.71 163.898 Q2070.53 165.009 2067.38 165.009 Q2063.4 165.009 2061.04 162.787 Q2058.7 160.541 2058.7 156.791 Q2058.7 152.416 2061.62 150.194 Q2064.56 147.972 2070.37 147.972 L2076.34 147.972 L2076.34 147.555 Q2076.34 144.615 2074.4 143.018 Q2072.48 141.398 2068.98 141.398 Q2066.76 141.398 2064.65 141.93 Q2062.54 142.463 2060.6 143.527 L2060.6 139.592 Q2062.94 138.69 2065.14 138.25 Q2067.34 137.787 2069.42 137.787 Q2075.04 137.787 2077.82 140.703 Q2080.6 143.62 2080.6 149.546 Z\" fill=\"#000000\" fill-rule=\"nonzero\" fill-opacity=\"1\" /><path clip-path=\"url(#clip940)\" d=\"M2106.43 142.347 L2106.43 128.319 L2110.69 128.319 L2110.69 164.338 L2106.43 164.338 L2106.43 160.449 Q2105.09 162.763 2103.03 163.898 Q2100.99 165.009 2098.12 165.009 Q2093.42 165.009 2090.46 161.259 Q2087.52 157.509 2087.52 151.398 Q2087.52 145.287 2090.46 141.537 Q2093.42 137.787 2098.12 137.787 Q2100.99 137.787 2103.03 138.921 Q2105.09 140.032 2106.43 142.347 M2091.92 151.398 Q2091.92 156.097 2093.84 158.782 Q2095.79 161.444 2099.16 161.444 Q2102.54 161.444 2104.49 158.782 Q2106.43 156.097 2106.43 151.398 Q2106.43 146.699 2104.49 144.037 Q2102.54 141.352 2099.16 141.352 Q2095.79 141.352 2093.84 144.037 Q2091.92 146.699 2091.92 151.398 Z\" fill=\"#000000\" fill-rule=\"nonzero\" fill-opacity=\"1\" /><polyline clip-path=\"url(#clip940)\" style=\"stroke:#e26f46; stroke-linecap:round; stroke-linejoin:round; stroke-width:4; stroke-opacity:1; fill:none\" points=\"1863.69,198.898 2006.3,198.898 \"/>\n",
       "<path clip-path=\"url(#clip940)\" d=\"M2034.35 212.289 L2034.35 226.039 L2030.07 226.039 L2030.07 190.252 L2034.35 190.252 L2034.35 194.187 Q2035.69 191.872 2037.73 190.761 Q2039.79 189.627 2042.64 189.627 Q2047.36 189.627 2050.3 193.377 Q2053.26 197.127 2053.26 203.238 Q2053.26 209.349 2050.3 213.099 Q2047.36 216.849 2042.64 216.849 Q2039.79 216.849 2037.73 215.738 Q2035.69 214.603 2034.35 212.289 M2048.84 203.238 Q2048.84 198.539 2046.9 195.877 Q2044.98 193.192 2041.6 193.192 Q2038.22 193.192 2036.27 195.877 Q2034.35 198.539 2034.35 203.238 Q2034.35 207.937 2036.27 210.622 Q2038.22 213.284 2041.6 213.284 Q2044.98 213.284 2046.9 210.622 Q2048.84 207.937 2048.84 203.238 Z\" fill=\"#000000\" fill-rule=\"nonzero\" fill-opacity=\"1\" /><path clip-path=\"url(#clip940)\" d=\"M2082.5 202.15 L2082.5 204.233 L2062.92 204.233 Q2063.19 208.631 2065.55 210.946 Q2067.94 213.238 2072.17 213.238 Q2074.63 213.238 2076.92 212.636 Q2079.23 212.034 2081.5 210.83 L2081.5 214.858 Q2079.21 215.83 2076.8 216.34 Q2074.4 216.849 2071.92 216.849 Q2065.72 216.849 2062.08 213.238 Q2058.47 209.627 2058.47 203.469 Q2058.47 197.104 2061.9 193.377 Q2065.35 189.627 2071.18 189.627 Q2076.41 189.627 2079.44 193.006 Q2082.5 196.363 2082.5 202.15 M2078.24 200.9 Q2078.19 197.405 2076.27 195.321 Q2074.37 193.238 2071.23 193.238 Q2067.66 193.238 2065.51 195.252 Q2063.38 197.266 2063.05 200.923 L2078.24 200.9 Z\" fill=\"#000000\" fill-rule=\"nonzero\" fill-opacity=\"1\" /><path clip-path=\"url(#clip940)\" d=\"M2104.51 194.233 Q2103.79 193.817 2102.94 193.631 Q2102.1 193.423 2101.09 193.423 Q2097.48 193.423 2095.53 195.784 Q2093.61 198.122 2093.61 202.52 L2093.61 216.178 L2089.33 216.178 L2089.33 190.252 L2093.61 190.252 L2093.61 194.28 Q2094.95 191.918 2097.1 190.784 Q2099.26 189.627 2102.34 189.627 Q2102.78 189.627 2103.31 189.696 Q2103.84 189.743 2104.49 189.858 L2104.51 194.233 Z\" fill=\"#000000\" fill-rule=\"nonzero\" fill-opacity=\"1\" /><path clip-path=\"url(#clip940)\" d=\"M2113.19 182.891 L2113.19 190.252 L2121.97 190.252 L2121.97 193.562 L2113.19 193.562 L2113.19 207.636 Q2113.19 210.807 2114.05 211.71 Q2114.93 212.613 2117.59 212.613 L2121.97 212.613 L2121.97 216.178 L2117.59 216.178 Q2112.66 216.178 2110.79 214.349 Q2108.91 212.497 2108.91 207.636 L2108.91 193.562 L2105.79 193.562 L2105.79 190.252 L2108.91 190.252 L2108.91 182.891 L2113.19 182.891 Z\" fill=\"#000000\" fill-rule=\"nonzero\" fill-opacity=\"1\" /><path clip-path=\"url(#clip940)\" d=\"M2127.13 205.946 L2127.13 190.252 L2131.39 190.252 L2131.39 205.784 Q2131.39 209.465 2132.82 211.316 Q2134.26 213.145 2137.13 213.145 Q2140.58 213.145 2142.57 210.946 Q2144.58 208.747 2144.58 204.951 L2144.58 190.252 L2148.84 190.252 L2148.84 216.178 L2144.58 216.178 L2144.58 212.196 Q2143.03 214.557 2140.97 215.715 Q2138.93 216.849 2136.22 216.849 Q2131.76 216.849 2129.44 214.071 Q2127.13 211.293 2127.13 205.946 M2137.85 189.627 L2137.85 189.627 Z\" fill=\"#000000\" fill-rule=\"nonzero\" fill-opacity=\"1\" /><path clip-path=\"url(#clip940)\" d=\"M2172.64 194.233 Q2171.92 193.817 2171.06 193.631 Q2170.23 193.423 2169.21 193.423 Q2165.6 193.423 2163.66 195.784 Q2161.73 198.122 2161.73 202.52 L2161.73 216.178 L2157.45 216.178 L2157.45 190.252 L2161.73 190.252 L2161.73 194.28 Q2163.08 191.918 2165.23 190.784 Q2167.38 189.627 2170.46 189.627 Q2170.9 189.627 2171.43 189.696 Q2171.97 189.743 2172.61 189.858 L2172.64 194.233 Z\" fill=\"#000000\" fill-rule=\"nonzero\" fill-opacity=\"1\" /><path clip-path=\"url(#clip940)\" d=\"M2195.72 203.238 Q2195.72 198.539 2193.77 195.877 Q2191.85 193.192 2188.47 193.192 Q2185.09 193.192 2183.15 195.877 Q2181.22 198.539 2181.22 203.238 Q2181.22 207.937 2183.15 210.622 Q2185.09 213.284 2188.47 213.284 Q2191.85 213.284 2193.77 210.622 Q2195.72 207.937 2195.72 203.238 M2181.22 194.187 Q2182.57 191.872 2184.6 190.761 Q2186.66 189.627 2189.51 189.627 Q2194.23 189.627 2197.17 193.377 Q2200.14 197.127 2200.14 203.238 Q2200.14 209.349 2197.17 213.099 Q2194.23 216.849 2189.51 216.849 Q2186.66 216.849 2184.6 215.738 Q2182.57 214.603 2181.22 212.289 L2181.22 216.178 L2176.94 216.178 L2176.94 180.159 L2181.22 180.159 L2181.22 194.187 Z\" fill=\"#000000\" fill-rule=\"nonzero\" fill-opacity=\"1\" /><path clip-path=\"url(#clip940)\" d=\"M2229.37 202.15 L2229.37 204.233 L2209.79 204.233 Q2210.07 208.631 2212.43 210.946 Q2214.81 213.238 2219.05 213.238 Q2221.5 213.238 2223.79 212.636 Q2226.11 212.034 2228.38 210.83 L2228.38 214.858 Q2226.09 215.83 2223.68 216.34 Q2221.27 216.849 2218.79 216.849 Q2212.59 216.849 2208.96 213.238 Q2205.34 209.627 2205.34 203.469 Q2205.34 197.104 2208.77 193.377 Q2212.22 189.627 2218.05 189.627 Q2223.28 189.627 2226.32 193.006 Q2229.37 196.363 2229.37 202.15 M2225.11 200.9 Q2225.07 197.405 2223.15 195.321 Q2221.25 193.238 2218.1 193.238 Q2214.53 193.238 2212.38 195.252 Q2210.25 197.266 2209.93 200.923 L2225.11 200.9 Z\" fill=\"#000000\" fill-rule=\"nonzero\" fill-opacity=\"1\" /><path clip-path=\"url(#clip940)\" d=\"M2253.42 194.187 L2253.42 180.159 L2257.68 180.159 L2257.68 216.178 L2253.42 216.178 L2253.42 212.289 Q2252.08 214.603 2250.02 215.738 Q2247.98 216.849 2245.11 216.849 Q2240.41 216.849 2237.45 213.099 Q2234.51 209.349 2234.51 203.238 Q2234.51 197.127 2237.45 193.377 Q2240.41 189.627 2245.11 189.627 Q2247.98 189.627 2250.02 190.761 Q2252.08 191.872 2253.42 194.187 M2238.91 203.238 Q2238.91 207.937 2240.83 210.622 Q2242.78 213.284 2246.15 213.284 Q2249.53 213.284 2251.48 210.622 Q2253.42 207.937 2253.42 203.238 Q2253.42 198.539 2251.48 195.877 Q2249.53 193.192 2246.15 193.192 Q2242.78 193.192 2240.83 195.877 Q2238.91 198.539 2238.91 203.238 Z\" fill=\"#000000\" fill-rule=\"nonzero\" fill-opacity=\"1\" /></svg>\n"
      ]
     },
     "metadata": {},
     "output_type": "display_data"
    }
   ],
   "source": [
    "# TODO: plot the error norm(A*(A\\b) - b) for the perturbed and unperturbed badmatrix(n).\n",
    "# What do you observe?\n",
    "baderrs = zeros(4)\n",
    "perterrs = zeros(4)\n",
    "\n",
    "for k = 1:4\n",
    "    n = 25k\n",
    "    b = randn(n)\n",
    "    A = badmatrix(n)\n",
    "    Ã = A + 1E-15*randn(n,n)\n",
    "    baderrs[k] = norm(A * (A \\ b) - b)\n",
    "    perterrs[k] = norm(Ã * (Ã \\ b) - b)\n",
    "end\n",
    "\n",
    "plot(25:25:100, baderrs; label=\"bad\", yscale=:log10)\n",
    "plot!(25:25:100, perterrs; label=\"perturbed\")\n"
   ]
  },
  {
   "cell_type": "markdown",
   "metadata": {},
   "source": [
    "-----"
   ]
  },
  {
   "cell_type": "markdown",
   "metadata": {},
   "source": [
    "## III.3 Cholesky factorisation"
   ]
  },
  {
   "cell_type": "markdown",
   "metadata": {},
   "source": [
    "The Cholesky factorisation is a special case of LU factorisation for the case\n",
    "when a matrix is symmetric positive definite (SPD). Hidden in the proof that a Cholesky factorisation\n",
    "exists if and only if the matrix is SPD is a simple algorithm for computing it:"
   ]
  },
  {
   "cell_type": "code",
   "execution_count": 16,
   "metadata": {},
   "outputs": [
    {
     "data": {
      "text/plain": [
       "\u001b[32m\u001b[1mTest Passed\u001b[22m\u001b[39m"
      ]
     },
     "metadata": {},
     "output_type": "display_data"
    }
   ],
   "source": [
    "function mycholesky(A)\n",
    "    T = eltype(A)\n",
    "    m,n = size(A)\n",
    "    if n ≠ m\n",
    "        error(\"Matrix must be square\")\n",
    "    end\n",
    "    if A ≠ A'\n",
    "        error(\"Matrix must be symmetric\")\n",
    "    end\n",
    "\n",
    "    L = LowerTriangular(zeros(T,n,n)) # a lower triangular matrix that at the end will satisfy L'L\n",
    "    Aⱼ = copy(A)\n",
    "    for j = 1:n\n",
    "        α,𝐯 = Aⱼ[1,1],Aⱼ[2:end,1]\n",
    "        if α ≤ 0\n",
    "            error(\"Matrix is not SPD\") # this error would be a proof that the matrix is not SPD, if done rigorously\n",
    "        end\n",
    "        L[j,j] = sqrt(α)\n",
    "        L[j+1:end,j] = 𝐯/sqrt(α)\n",
    "\n",
    "        # induction part\n",
    "        K = Aⱼ[2:end,2:end] # drop first row and column of A\n",
    "        Aⱼ = K - 𝐯*𝐯'/α\n",
    "    end\n",
    "    L\n",
    "end\n",
    "\n",
    "A = Symmetric(rand(100,100) + 100I) # Symmetric takes in a matrix and produces a symmetric version using the upper-triangular part.\n",
    "L = mycholesky(A)\n",
    "@test A ≈ L*L'"
   ]
  },
  {
   "cell_type": "markdown",
   "metadata": {},
   "source": [
    "With exact arithmetic algorithm succeeds if and only if $A$ is symmetric positive definite.\n",
    "With floating point errors this is not necessarily the case. (One could run it with interval arithmetic\n",
    "but that would only prove a matrix is SPD if the algorithm succeeded, failure could be caused by\n",
    "rounding.)"
   ]
  },
  {
   "cell_type": "markdown",
   "metadata": {},
   "source": [
    "In practice one would normally use the inbuilt `cholesky` function as follows:"
   ]
  },
  {
   "cell_type": "code",
   "execution_count": 17,
   "metadata": {},
   "outputs": [
    {
     "data": {
      "text/plain": [
       "\u001b[32m\u001b[1mTest Passed\u001b[22m\u001b[39m"
      ]
     },
     "metadata": {},
     "output_type": "display_data"
    }
   ],
   "source": [
    "L̃ = cholesky(A).L\n",
    "@test L̃ ≈ L # our implementation matches (approximately) the high-performance implementation."
   ]
  },
  {
   "cell_type": "markdown",
   "metadata": {},
   "source": [
    "In the following problem we consider a Cholesky factorisation for tridiagonal matrices. Since we are assuming the\n",
    "matrix is symmetric, we will use a special type `SymTridiagonal` that captures the symmetry.\n",
    "In particular, `SymTridiagonal(dv, ev) == Tridiagonal(ev, dv, ev)`."
   ]
  },
  {
   "cell_type": "markdown",
   "metadata": {},
   "source": [
    "-----"
   ]
  },
  {
   "cell_type": "markdown",
   "metadata": {},
   "source": [
    "**Problem 3** Use `mycholesky` or `cholesky` to deduce if the following matrices are SPD.\n",
    "$$\n",
    "\\begin{bmatrix} 1 & -1  \\\\\n",
    "-1 & 3\n",
    "\\end{bmatrix}, \\begin{bmatrix} 1 & 2 & 2  \\\\\n",
    "2 & 1 & 2\\\\\n",
    "2 & 2 & 1\n",
    "\\end{bmatrix}, \\begin{bmatrix} 3 & 2 & 1  \\\\\n",
    "2 & 4 & 2\\\\\n",
    "1 & 2 & 5\n",
    "\\end{bmatrix},\n",
    "\\begin{bmatrix} 4 & 2 & 2 & 1  \\\\\n",
    "2 & 4 & 2 & 2\\\\\n",
    "2 & 2 & 4 & 2 \\\\\n",
    "1 & 2 & 2 & 4\n",
    "\\end{bmatrix}\n",
    "$$"
   ]
  },
  {
   "cell_type": "code",
   "execution_count": 20,
   "metadata": {},
   "outputs": [
    {
     "ename": "PosDefException",
     "evalue": "PosDefException: matrix is not positive definite; Factorization failed.",
     "output_type": "error",
     "traceback": [
      "PosDefException: matrix is not positive definite; Factorization failed.\n",
      "\n",
      "Stacktrace:\n",
      "  [1] checkpositivedefinite\n",
      "    @ C:\\Users\\charu\\AppData\\Local\\Programs\\Julia-1.11.3\\share\\julia\\stdlib\\v1.11\\LinearAlgebra\\src\\factorization.jl:68 [inlined]\n",
      "  [2] #cholesky!#163\n",
      "    @ C:\\Users\\charu\\AppData\\Local\\Programs\\Julia-1.11.3\\share\\julia\\stdlib\\v1.11\\LinearAlgebra\\src\\cholesky.jl:269 [inlined]\n",
      "  [3] cholesky!\n",
      "    @ C:\\Users\\charu\\AppData\\Local\\Programs\\Julia-1.11.3\\share\\julia\\stdlib\\v1.11\\LinearAlgebra\\src\\cholesky.jl:267 [inlined]\n",
      "  [4] #cholesky!#164\n",
      "    @ C:\\Users\\charu\\AppData\\Local\\Programs\\Julia-1.11.3\\share\\julia\\stdlib\\v1.11\\LinearAlgebra\\src\\cholesky.jl:301 [inlined]\n",
      "  [5] cholesky! (repeats 2 times)\n",
      "    @ C:\\Users\\charu\\AppData\\Local\\Programs\\Julia-1.11.3\\share\\julia\\stdlib\\v1.11\\LinearAlgebra\\src\\cholesky.jl:295 [inlined]\n",
      "  [6] _cholesky\n",
      "    @ C:\\Users\\charu\\AppData\\Local\\Programs\\Julia-1.11.3\\share\\julia\\stdlib\\v1.11\\LinearAlgebra\\src\\cholesky.jl:411 [inlined]\n",
      "  [7] cholesky(A::Matrix{Int64}, ::NoPivot; check::Bool)\n",
      "    @ LinearAlgebra C:\\Users\\charu\\AppData\\Local\\Programs\\Julia-1.11.3\\share\\julia\\stdlib\\v1.11\\LinearAlgebra\\src\\cholesky.jl:401\n",
      "  [8] cholesky\n",
      "    @ C:\\Users\\charu\\AppData\\Local\\Programs\\Julia-1.11.3\\share\\julia\\stdlib\\v1.11\\LinearAlgebra\\src\\cholesky.jl:401 [inlined]\n",
      "  [9] cholesky(A::Matrix{Int64})\n",
      "    @ LinearAlgebra C:\\Users\\charu\\AppData\\Local\\Programs\\Julia-1.11.3\\share\\julia\\stdlib\\v1.11\\LinearAlgebra\\src\\cholesky.jl:401\n",
      " [10] top-level scope\n",
      "    @ c:\\Users\\charu\\OneDrive\\Documents\\GitHub\\MATH50003NumericalAnalysis\\labs\\jl_notebook_cell_df34fa98e69747e1a8f8a730347b8e2f_Y101sZmlsZQ==.jl:3"
     ]
    }
   ],
   "source": [
    "# TODO: Check if you got PS5 Q1 correct using a computer to do the Cholesky factorisation.\n",
    "cholesky([1 -1; -1 3]) # succeeds so is SPD\n",
    "cholesky([1 2 2; 2 1 2; 2 2 1]) # throws an error so not SPD\n",
    "cholesky([3 2 1; 2 4 2; 1 2 5]) # succeeds so is SPD\n",
    "cholesky([4 2 2 1; 2 4 2 2; 2 2 4 2; 1 2 2 4]) # succeeds so is SPD\n"
   ]
  },
  {
   "cell_type": "markdown",
   "metadata": {},
   "source": [
    "**Problem 4** Complete the following\n",
    "implementation of `mycholesky` to return a `Bidiagonal` cholesky factor in $O(n)$ operations."
   ]
  },
  {
   "cell_type": "code",
   "execution_count": 21,
   "metadata": {},
   "outputs": [
    {
     "data": {
      "text/plain": [
       "\u001b[32m\u001b[1mTest Passed\u001b[22m\u001b[39m"
      ]
     },
     "metadata": {},
     "output_type": "display_data"
    }
   ],
   "source": [
    "# return a Bidiagonal L such that L'L == A (up to machine precision)\n",
    "# You are allowed to change A\n",
    "\n",
    "\n",
    "function mycholesky(A::SymTridiagonal)\n",
    "    d = A.dv # diagonal entries of A\n",
    "    u = A.ev # sub/super-diagonal entries of A\n",
    "    T = float(eltype(A)) # return type, make float in case A has Ints\n",
    "    n = length(d)\n",
    "    ld = zeros(T, n) # diagonal entries of L\n",
    "    ll = zeros(T, n-1) # sub-diagonal entries of L\n",
    "\n",
    "    # TODO: populate the diagonal entries ld and the sub-diagonal entries ll\n",
    "    # of L so that L*L' ≈ A\n",
    "    # SOLUTION\n",
    "    ld[1] = sqrt(d[1])\n",
    "    for k = 1:n-1\n",
    "        ll[k] = u[k]/ld[k]\n",
    "        ld[k+1] = sqrt(d[k+1]-ll[k]^2)\n",
    "    end\n",
    "    # END\n",
    "\n",
    "    Bidiagonal(ld, ll, :L)\n",
    "end\n",
    "\n",
    "n = 1000\n",
    "A = SymTridiagonal(2*ones(n),-ones(n-1))\n",
    "L = mycholesky(A)\n",
    "@test L isa Bidiagonal\n",
    "@test L*L' ≈ A"
   ]
  },
  {
   "cell_type": "markdown",
   "metadata": {},
   "source": [
    "---\n",
    "\n",
    "*This notebook was generated using [Literate.jl](https://github.com/fredrikekre/Literate.jl).*"
   ]
  }
 ],
 "metadata": {
  "kernelspec": {
   "display_name": "Julia 1.11.3",
   "language": "julia",
   "name": "julia-1.11"
  },
  "language_info": {
   "file_extension": ".jl",
   "mimetype": "application/julia",
   "name": "julia",
   "version": "1.11.3"
  }
 },
 "nbformat": 4,
 "nbformat_minor": 3
}
