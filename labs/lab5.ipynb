{
 "cells": [
  {
   "cell_type": "markdown",
   "metadata": {},
   "source": [
    "# MATH50003 (2024–25)\n",
    "# Lab 5: III.2 LU Factorisation and III.3 Cholesky Factorisation"
   ]
  },
  {
   "cell_type": "markdown",
   "metadata": {},
   "source": [
    "In this lab we explore using LU, PLU and Cholesky factorisations, and\n",
    "implement algorithms for computing a Cholesky factorisation. We explore\n",
    "stability properties of these different factorisations, and see that the\n",
    "Cholesky factorisation is a robust way of determining if a matrix is symmetric\n",
    "postive definite."
   ]
  },
  {
   "cell_type": "markdown",
   "metadata": {},
   "source": [
    "**Learning Outcomes**\n",
    "\n",
    "Mathematical knowledge:\n",
    "\n",
    "1. LU and PLU factorisations\n",
    "2. Cholesky and reverse Cholesky factorisations, including for banded matrices."
   ]
  },
  {
   "cell_type": "markdown",
   "metadata": {},
   "source": [
    "Coding knowledge:\n",
    "\n",
    "1. Using the `lu` and `cholesky` functions."
   ]
  },
  {
   "cell_type": "markdown",
   "metadata": {},
   "source": [
    "We load the following packages:"
   ]
  },
  {
   "cell_type": "code",
   "execution_count": 1,
   "metadata": {},
   "outputs": [],
   "source": [
    "using LinearAlgebra, Plots, Test"
   ]
  },
  {
   "cell_type": "markdown",
   "metadata": {},
   "source": [
    "### III.2 LU and PLU Factorisations"
   ]
  },
  {
   "cell_type": "markdown",
   "metadata": {},
   "source": [
    "LU, PLU and Cholesky factorisations are closely related\n",
    "matrix factorisations that reduce a square matrix to a product of\n",
    "lower and upper triangular matrices, possibly with a permutation matrix.\n",
    "We will only focus on the practical usage of LU and PLU, without digging into the\n",
    "details of implementation."
   ]
  },
  {
   "cell_type": "markdown",
   "metadata": {},
   "source": [
    "### III.2.1 LU Factorisation"
   ]
  },
  {
   "cell_type": "markdown",
   "metadata": {},
   "source": [
    "If $A ∈ 𝔽^{n × n}$ is a square matrix where $𝔽$ is a field ($ℝ$ or $ℂ$)\n",
    "then we can sometimes find lower and upper triangular matrices $L,U ∈ 𝔽^{n × n}$ such that\n",
    "$$\n",
    "A = LU.\n",
    "$$\n",
    "This is equivalent to Gaussian elimination but we will only focus on practical usage in this lab.\n",
    "This factorisation can be computed using the `lu` function, but as the default is a PLU factorisation we add a flag\n",
    "telling it not to use pivoting/permutations:"
   ]
  },
  {
   "cell_type": "code",
   "execution_count": 2,
   "metadata": {},
   "outputs": [
    {
     "data": {
      "text/plain": [
       "LU{Float64, Matrix{Float64}, Vector{Int64}}\n",
       "L factor:\n",
       "3×3 Matrix{Float64}:\n",
       " 1.0  0.0  0.0\n",
       " 2.0  1.0  0.0\n",
       " 1.0  1.5  1.0\n",
       "U factor:\n",
       "3×3 Matrix{Float64}:\n",
       " 1.0  1.0   1.0\n",
       " 0.0  2.0   6.0\n",
       " 0.0  0.0  -1.0"
      ]
     },
     "metadata": {},
     "output_type": "display_data"
    }
   ],
   "source": [
    "A = [1.0 1 1;\n",
    "     2   4 8;\n",
    "     1   4 9]\n",
    "\n",
    "L,U = lu(A, NoPivot()) # NoPivot is a flag that tells lu to not use permutations"
   ]
  },
  {
   "cell_type": "markdown",
   "metadata": {},
   "source": [
    "This matches what we derived by hand in the notes and indeed:"
   ]
  },
  {
   "cell_type": "code",
   "execution_count": 3,
   "metadata": {},
   "outputs": [
    {
     "data": {
      "text/plain": [
       "\u001b[32m\u001b[1mTest Passed\u001b[22m\u001b[39m"
      ]
     },
     "metadata": {},
     "output_type": "display_data"
    }
   ],
   "source": [
    "@test A ≈ L*U"
   ]
  },
  {
   "cell_type": "markdown",
   "metadata": {},
   "source": [
    "We can use an LU factorisation to reduce solving a linear system to inverting triangular matrices:"
   ]
  },
  {
   "cell_type": "code",
   "execution_count": 4,
   "metadata": {},
   "outputs": [
    {
     "data": {
      "text/plain": [
       "\u001b[32m\u001b[1mTest Passed\u001b[22m\u001b[39m"
      ]
     },
     "metadata": {},
     "output_type": "display_data"
    }
   ],
   "source": [
    "b = randn(3)\n",
    "c = L \\ b # computed using forward elimination (even though L is a Matrix, \\ detects it is lower triangular)\n",
    "x = U \\ c # computed using back substitution\n",
    "@test A \\ b ≈ x"
   ]
  },
  {
   "cell_type": "markdown",
   "metadata": {},
   "source": [
    "If a matrix has a zero on a pivot we know by equivalence to Gaussian elimination that an LU factorisation\n",
    "does not exist:"
   ]
  },
  {
   "cell_type": "code",
   "execution_count": 5,
   "metadata": {},
   "outputs": [
    {
     "ename": "ZeroPivotException",
     "evalue": "ZeroPivotException: factorization encountered one or more zero pivots. Consider switching to a pivoted LU factorization.",
     "output_type": "error",
     "traceback": [
      "ZeroPivotException: factorization encountered one or more zero pivots. Consider switching to a pivoted LU factorization.\n",
      "\n",
      "Stacktrace:\n",
      " [1] checknozeropivot\n",
      "   @ C:\\Users\\charu\\AppData\\Local\\Programs\\Julia-1.11.2\\share\\julia\\stdlib\\v1.11\\LinearAlgebra\\src\\factorization.jl:70 [inlined]\n",
      " [2] _check_lu_success\n",
      "   @ C:\\Users\\charu\\AppData\\Local\\Programs\\Julia-1.11.2\\share\\julia\\stdlib\\v1.11\\LinearAlgebra\\src\\lu.jl:82 [inlined]\n",
      " [3] generic_lufact!(A::Matrix{Float64}, pivot::NoPivot; check::Bool, allowsingular::Bool)\n",
      "   @ LinearAlgebra C:\\Users\\charu\\AppData\\Local\\Programs\\Julia-1.11.2\\share\\julia\\stdlib\\v1.11\\LinearAlgebra\\src\\lu.jl:214\n",
      " [4] generic_lufact!\n",
      "   @ C:\\Users\\charu\\AppData\\Local\\Programs\\Julia-1.11.2\\share\\julia\\stdlib\\v1.11\\LinearAlgebra\\src\\lu.jl:152 [inlined]\n",
      " [5] lu!\n",
      "   @ C:\\Users\\charu\\AppData\\Local\\Programs\\Julia-1.11.2\\share\\julia\\stdlib\\v1.11\\LinearAlgebra\\src\\lu.jl:151 [inlined]\n",
      " [6] _lu\n",
      "   @ C:\\Users\\charu\\AppData\\Local\\Programs\\Julia-1.11.2\\share\\julia\\stdlib\\v1.11\\LinearAlgebra\\src\\lu.jl:347 [inlined]\n",
      " [7] lu(A::Matrix{Float64}, args::NoPivot; kwargs::@Kwargs{})\n",
      "   @ LinearAlgebra C:\\Users\\charu\\AppData\\Local\\Programs\\Julia-1.11.2\\share\\julia\\stdlib\\v1.11\\LinearAlgebra\\src\\lu.jl:341\n",
      " [8] lu(A::Matrix{Float64}, args::NoPivot)\n",
      "   @ LinearAlgebra C:\\Users\\charu\\AppData\\Local\\Programs\\Julia-1.11.2\\share\\julia\\stdlib\\v1.11\\LinearAlgebra\\src\\lu.jl:341\n",
      " [9] top-level scope\n",
      "   @ c:\\Users\\charu\\Documents\\GitHub\\MATH50003NumericalAnalysis\\labs\\jl_notebook_cell_df34fa98e69747e1a8f8a730347b8e2f_X22sZmlsZQ==.jl:2"
     ]
    }
   ],
   "source": [
    "A[1,1] = 0\n",
    "lu(A, NoPivot()) # throws an error"
   ]
  },
  {
   "cell_type": "markdown",
   "metadata": {},
   "source": [
    "But even if it has a very small but non-zero entry we get huge errors:"
   ]
  },
  {
   "cell_type": "code",
   "execution_count": 6,
   "metadata": {},
   "outputs": [
    {
     "data": {
      "text/plain": [
       "LU{Float64, Matrix{Float64}, Vector{Int64}}\n",
       "L factor:\n",
       "3×3 Matrix{Float64}:\n",
       " 1.0     0.0  0.0\n",
       " 2.0e14  1.0  0.0\n",
       " 1.0e14  0.5  1.0\n",
       "U factor:\n",
       "3×3 Matrix{Float64}:\n",
       " 1.0e-14   1.0      1.0\n",
       " 0.0      -2.0e14  -2.0e14\n",
       " 0.0       0.0      3.0"
      ]
     },
     "metadata": {},
     "output_type": "display_data"
    }
   ],
   "source": [
    "A[1,1] = 1E-14\n",
    "L,U = lu(A, NoPivot()) # Succeeds but suddenly U is on order of 2E14!"
   ]
  },
  {
   "cell_type": "code",
   "execution_count": 7,
   "metadata": {},
   "outputs": [
    {
     "data": {
      "text/plain": [
       "0.016549447732834583"
      ]
     },
     "metadata": {},
     "output_type": "display_data"
    }
   ],
   "source": [
    "norm(A \\ b - U\\(L\\b)) # Very large error! A \\ b uses pivoting now."
   ]
  },
  {
   "cell_type": "markdown",
   "metadata": {},
   "source": [
    "**WARNING** The parantheses are important: algebra is left-associative so had we written `U\\L\\b` this would have been interpreted as\n",
    "`(U\\L) \\ b` which would have meant `inv(inv(U)*L)*b == L \\ (U*b)`."
   ]
  },
  {
   "cell_type": "markdown",
   "metadata": {},
   "source": [
    "-----"
   ]
  },
  {
   "cell_type": "markdown",
   "metadata": {},
   "source": [
    "**Problem 1** For `A` defined above, consider setting  `A[1,1] = ε` for `ε = 10.0 ^ (-k)` for `k = 0,…,14`\n",
    "with the right-hand side `b = [1,2,3]`.\n",
    "Plot, scaling the $y$-axis logarithmically, the growth rate in the error of using LU compared to `\\`.\n",
    "Make a conjecture on how the error grows as $k → ∞$.\n",
    "Hint: you can either allocate a vector of errors that is populated in a for-loop or write a simple comprehension."
   ]
  },
  {
   "cell_type": "code",
   "execution_count": 13,
   "metadata": {},
   "outputs": [
    {
     "data": {
      "image/png": "[encoded data removed]",
      "image/svg+xml": [
       "<?xml version=\"1.0\" encoding=\"utf-8\"?>\n",
       "<svg xmlns=\"http://www.w3.org/2000/svg\" xmlns:xlink=\"http://www.w3.org/1999/xlink\" width=\"600\" height=\"400\" viewBox=\"0 0 2400 1600\">\n",
       "<defs>\n",
       "  <clipPath id=\"clip340\">\n",
       "    <rect x=\"0\" y=\"0\" width=\"2400\" height=\"1600\"/>\n",
       "  </clipPath>\n",
       "</defs>\n",
       "<path clip-path=\"url(#clip340)\" d=\"M0 1600 L2400 1600 L2400 0 L0 0  Z\" fill=\"#ffffff\" fill-rule=\"evenodd\" fill-opacity=\"1\"/>\n",
       "<defs>\n",
       "  <clipPath id=\"clip341\">\n",
       "    <rect x=\"480\" y=\"0\" width=\"1681\" height=\"1600\"/>\n",
       "  </clipPath>\n",
       "</defs>\n",
       "<path clip-path=\"url(#clip340)\" d=\"M214.002 1486.45 L2352.76 1486.45 L2352.76 47.2441 L214.002 47.2441  Z\" fill=\"#ffffff\" fill-rule=\"evenodd\" fill-opacity=\"1\"/>\n",
       "<defs>\n",
       "  <clipPath id=\"clip342\">\n",
       "    <rect x=\"214\" y=\"47\" width=\"2140\" height=\"1440\"/>\n",
       "  </clipPath>\n",
       "</defs>\n",
       "<polyline clip-path=\"url(#clip342)\" style=\"stroke:#000000; stroke-linecap:round; stroke-linejoin:round; stroke-width:2; stroke-opacity:0.1; fill:none\" points=\"274.533,1486.45 274.533,47.2441 \"/>\n",
       "<polyline clip-path=\"url(#clip342)\" style=\"stroke:#000000; stroke-linecap:round; stroke-linejoin:round; stroke-width:2; stroke-opacity:0.1; fill:none\" points=\"418.654,1486.45 418.654,47.2441 \"/>\n",
       "<polyline clip-path=\"url(#clip342)\" style=\"stroke:#000000; stroke-linecap:round; stroke-linejoin:round; stroke-width:2; stroke-opacity:0.1; fill:none\" points=\"562.775,1486.45 562.775,47.2441 \"/>\n",
       "<polyline clip-path=\"url(#clip342)\" style=\"stroke:#000000; stroke-linecap:round; stroke-linejoin:round; stroke-width:2; stroke-opacity:0.1; fill:none\" points=\"706.896,1486.45 706.896,47.2441 \"/>\n",
       "<polyline clip-path=\"url(#clip342)\" style=\"stroke:#000000; stroke-linecap:round; stroke-linejoin:round; stroke-width:2; stroke-opacity:0.1; fill:none\" points=\"851.017,1486.45 851.017,47.2441 \"/>\n",
       "<polyline clip-path=\"url(#clip342)\" style=\"stroke:#000000; stroke-linecap:round; stroke-linejoin:round; stroke-width:2; stroke-opacity:0.1; fill:none\" points=\"995.137,1486.45 995.137,47.2441 \"/>\n",
       "<polyline clip-path=\"url(#clip342)\" style=\"stroke:#000000; stroke-linecap:round; stroke-linejoin:round; stroke-width:2; stroke-opacity:0.1; fill:none\" points=\"1139.26,1486.45 1139.26,47.2441 \"/>\n",
       "<polyline clip-path=\"url(#clip342)\" style=\"stroke:#000000; stroke-linecap:round; stroke-linejoin:round; stroke-width:2; stroke-opacity:0.1; fill:none\" points=\"1283.38,1486.45 1283.38,47.2441 \"/>\n",
       "<polyline clip-path=\"url(#clip342)\" style=\"stroke:#000000; stroke-linecap:round; stroke-linejoin:round; stroke-width:2; stroke-opacity:0.1; fill:none\" points=\"1427.5,1486.45 1427.5,47.2441 \"/>\n",
       "<polyline clip-path=\"url(#clip342)\" style=\"stroke:#000000; stroke-linecap:round; stroke-linejoin:round; stroke-width:2; stroke-opacity:0.1; fill:none\" points=\"1571.62,1486.45 1571.62,47.2441 \"/>\n",
       "<polyline clip-path=\"url(#clip342)\" style=\"stroke:#000000; stroke-linecap:round; stroke-linejoin:round; stroke-width:2; stroke-opacity:0.1; fill:none\" points=\"1715.74,1486.45 1715.74,47.2441 \"/>\n",
       "<polyline clip-path=\"url(#clip342)\" style=\"stroke:#000000; stroke-linecap:round; stroke-linejoin:round; stroke-width:2; stroke-opacity:0.1; fill:none\" points=\"1859.86,1486.45 1859.86,47.2441 \"/>\n",
       "<polyline clip-path=\"url(#clip342)\" style=\"stroke:#000000; stroke-linecap:round; stroke-linejoin:round; stroke-width:2; stroke-opacity:0.1; fill:none\" points=\"2003.98,1486.45 2003.98,47.2441 \"/>\n",
       "<polyline clip-path=\"url(#clip342)\" style=\"stroke:#000000; stroke-linecap:round; stroke-linejoin:round; stroke-width:2; stroke-opacity:0.1; fill:none\" points=\"2148.1,1486.45 2148.1,47.2441 \"/>\n",
       "<polyline clip-path=\"url(#clip342)\" style=\"stroke:#000000; stroke-linecap:round; stroke-linejoin:round; stroke-width:2; stroke-opacity:0.1; fill:none\" points=\"2292.23,1486.45 2292.23,47.2441 \"/>\n",
       "<polyline clip-path=\"url(#clip342)\" style=\"stroke:#000000; stroke-linecap:round; stroke-linejoin:round; stroke-width:2; stroke-opacity:0.1; fill:none\" points=\"214.002,1425.94 2352.76,1425.94 \"/>\n",
       "<polyline clip-path=\"url(#clip342)\" style=\"stroke:#000000; stroke-linecap:round; stroke-linejoin:round; stroke-width:2; stroke-opacity:0.1; fill:none\" points=\"214.002,1324.73 2352.76,1324.73 \"/>\n",
       "<polyline clip-path=\"url(#clip342)\" style=\"stroke:#000000; stroke-linecap:round; stroke-linejoin:round; stroke-width:2; stroke-opacity:0.1; fill:none\" points=\"214.002,1223.51 2352.76,1223.51 \"/>\n",
       "<polyline clip-path=\"url(#clip342)\" style=\"stroke:#000000; stroke-linecap:round; stroke-linejoin:round; stroke-width:2; stroke-opacity:0.1; fill:none\" points=\"214.002,1122.29 2352.76,1122.29 \"/>\n",
       "<polyline clip-path=\"url(#clip342)\" style=\"stroke:#000000; stroke-linecap:round; stroke-linejoin:round; stroke-width:2; stroke-opacity:0.1; fill:none\" points=\"214.002,1021.08 2352.76,1021.08 \"/>\n",
       "<polyline clip-path=\"url(#clip342)\" style=\"stroke:#000000; stroke-linecap:round; stroke-linejoin:round; stroke-width:2; stroke-opacity:0.1; fill:none\" points=\"214.002,919.859 2352.76,919.859 \"/>\n",
       "<polyline clip-path=\"url(#clip342)\" style=\"stroke:#000000; stroke-linecap:round; stroke-linejoin:round; stroke-width:2; stroke-opacity:0.1; fill:none\" points=\"214.002,818.641 2352.76,818.641 \"/>\n",
       "<polyline clip-path=\"url(#clip342)\" style=\"stroke:#000000; stroke-linecap:round; stroke-linejoin:round; stroke-width:2; stroke-opacity:0.1; fill:none\" points=\"214.002,717.424 2352.76,717.424 \"/>\n",
       "<polyline clip-path=\"url(#clip342)\" style=\"stroke:#000000; stroke-linecap:round; stroke-linejoin:round; stroke-width:2; stroke-opacity:0.1; fill:none\" points=\"214.002,616.207 2352.76,616.207 \"/>\n",
       "<polyline clip-path=\"url(#clip342)\" style=\"stroke:#000000; stroke-linecap:round; stroke-linejoin:round; stroke-width:2; stroke-opacity:0.1; fill:none\" points=\"214.002,514.99 2352.76,514.99 \"/>\n",
       "<polyline clip-path=\"url(#clip342)\" style=\"stroke:#000000; stroke-linecap:round; stroke-linejoin:round; stroke-width:2; stroke-opacity:0.1; fill:none\" points=\"214.002,413.773 2352.76,413.773 \"/>\n",
       "<polyline clip-path=\"url(#clip342)\" style=\"stroke:#000000; stroke-linecap:round; stroke-linejoin:round; stroke-width:2; stroke-opacity:0.1; fill:none\" points=\"214.002,312.555 2352.76,312.555 \"/>\n",
       "<polyline clip-path=\"url(#clip342)\" style=\"stroke:#000000; stroke-linecap:round; stroke-linejoin:round; stroke-width:2; stroke-opacity:0.1; fill:none\" points=\"214.002,211.338 2352.76,211.338 \"/>\n",
       "<polyline clip-path=\"url(#clip342)\" style=\"stroke:#000000; stroke-linecap:round; stroke-linejoin:round; stroke-width:2; stroke-opacity:0.1; fill:none\" points=\"214.002,110.121 2352.76,110.121 \"/>\n",
       "<polyline clip-path=\"url(#clip340)\" style=\"stroke:#000000; stroke-linecap:round; stroke-linejoin:round; stroke-width:4; stroke-opacity:1; fill:none\" points=\"214.002,1486.45 2352.76,1486.45 \"/>\n",
       "<polyline clip-path=\"url(#clip340)\" style=\"stroke:#000000; stroke-linecap:round; stroke-linejoin:round; stroke-width:4; stroke-opacity:1; fill:none\" points=\"274.533,1486.45 274.533,1467.55 \"/>\n",
       "<polyline clip-path=\"url(#clip340)\" style=\"stroke:#000000; stroke-linecap:round; stroke-linejoin:round; stroke-width:4; stroke-opacity:1; fill:none\" points=\"418.654,1486.45 418.654,1467.55 \"/>\n",
       "<polyline clip-path=\"url(#clip340)\" style=\"stroke:#000000; stroke-linecap:round; stroke-linejoin:round; stroke-width:4; stroke-opacity:1; fill:none\" points=\"562.775,1486.45 562.775,1467.55 \"/>\n",
       "<polyline clip-path=\"url(#clip340)\" style=\"stroke:#000000; stroke-linecap:round; stroke-linejoin:round; stroke-width:4; stroke-opacity:1; fill:none\" points=\"706.896,1486.45 706.896,1467.55 \"/>\n",
       "<polyline clip-path=\"url(#clip340)\" style=\"stroke:#000000; stroke-linecap:round; stroke-linejoin:round; stroke-width:4; stroke-opacity:1; fill:none\" points=\"851.017,1486.45 851.017,1467.55 \"/>\n",
       "<polyline clip-path=\"url(#clip340)\" style=\"stroke:#000000; stroke-linecap:round; stroke-linejoin:round; stroke-width:4; stroke-opacity:1; fill:none\" points=\"995.137,1486.45 995.137,1467.55 \"/>\n",
       "<polyline clip-path=\"url(#clip340)\" style=\"stroke:#000000; stroke-linecap:round; stroke-linejoin:round; stroke-width:4; stroke-opacity:1; fill:none\" points=\"1139.26,1486.45 1139.26,1467.55 \"/>\n",
       "<polyline clip-path=\"url(#clip340)\" style=\"stroke:#000000; stroke-linecap:round; stroke-linejoin:round; stroke-width:4; stroke-opacity:1; fill:none\" points=\"1283.38,1486.45 1283.38,1467.55 \"/>\n",
       "<polyline clip-path=\"url(#clip340)\" style=\"stroke:#000000; stroke-linecap:round; stroke-linejoin:round; stroke-width:4; stroke-opacity:1; fill:none\" points=\"1427.5,1486.45 1427.5,1467.55 \"/>\n",
       "<polyline clip-path=\"url(#clip340)\" style=\"stroke:#000000; stroke-linecap:round; stroke-linejoin:round; stroke-width:4; stroke-opacity:1; fill:none\" points=\"1571.62,1486.45 1571.62,1467.55 \"/>\n",
       "<polyline clip-path=\"url(#clip340)\" style=\"stroke:#000000; stroke-linecap:round; stroke-linejoin:round; stroke-width:4; stroke-opacity:1; fill:none\" points=\"1715.74,1486.45 1715.74,1467.55 \"/>\n",
       "<polyline clip-path=\"url(#clip340)\" style=\"stroke:#000000; stroke-linecap:round; stroke-linejoin:round; stroke-width:4; stroke-opacity:1; fill:none\" points=\"1859.86,1486.45 1859.86,1467.55 \"/>\n",
       "<polyline clip-path=\"url(#clip340)\" style=\"stroke:#000000; stroke-linecap:round; stroke-linejoin:round; stroke-width:4; stroke-opacity:1; fill:none\" points=\"2003.98,1486.45 2003.98,1467.55 \"/>\n",
       "<polyline clip-path=\"url(#clip340)\" style=\"stroke:#000000; stroke-linecap:round; stroke-linejoin:round; stroke-width:4; stroke-opacity:1; fill:none\" points=\"2148.1,1486.45 2148.1,1467.55 \"/>\n",
       "<polyline clip-path=\"url(#clip340)\" style=\"stroke:#000000; stroke-linecap:round; stroke-linejoin:round; stroke-width:4; stroke-opacity:1; fill:none\" points=\"2292.23,1486.45 2292.23,1467.55 \"/>\n",
       "<path clip-path=\"url(#clip340)\" d=\"M274.533 1517.37 Q270.922 1517.37 269.093 1520.93 Q267.288 1524.47 267.288 1531.6 Q267.288 1538.71 269.093 1542.27 Q270.922 1545.82 274.533 1545.82 Q278.167 1545.82 279.973 1542.27 Q281.802 1538.71 281.802 1531.6 Q281.802 1524.47 279.973 1520.93 Q278.167 1517.37 274.533 1517.37 M274.533 1513.66 Q280.343 1513.66 283.399 1518.27 Q286.478 1522.85 286.478 1531.6 Q286.478 1540.33 283.399 1544.94 Q280.343 1549.52 274.533 1549.52 Q268.723 1549.52 265.644 1544.94 Q262.589 1540.33 262.589 1531.6 Q262.589 1522.85 265.644 1518.27 Q268.723 1513.66 274.533 1513.66 Z\" fill=\"#000000\" fill-rule=\"nonzero\" fill-opacity=\"1\" /><path clip-path=\"url(#clip340)\" d=\"M409.036 1544.91 L416.675 1544.91 L416.675 1518.55 L408.365 1520.21 L408.365 1515.95 L416.629 1514.29 L421.305 1514.29 L421.305 1544.91 L428.943 1544.91 L428.943 1548.85 L409.036 1548.85 L409.036 1544.91 Z\" fill=\"#000000\" fill-rule=\"nonzero\" fill-opacity=\"1\" /><path clip-path=\"url(#clip340)\" d=\"M557.428 1544.91 L573.747 1544.91 L573.747 1548.85 L551.803 1548.85 L551.803 1544.91 Q554.465 1542.16 559.048 1537.53 Q563.655 1532.88 564.835 1531.53 Q567.08 1529.01 567.96 1527.27 Q568.863 1525.51 568.863 1523.82 Q568.863 1521.07 566.918 1519.33 Q564.997 1517.6 561.895 1517.6 Q559.696 1517.6 557.243 1518.36 Q554.812 1519.13 552.034 1520.68 L552.034 1515.95 Q554.858 1514.82 557.312 1514.24 Q559.766 1513.66 561.803 1513.66 Q567.173 1513.66 570.367 1516.35 Q573.562 1519.03 573.562 1523.52 Q573.562 1525.65 572.752 1527.57 Q571.965 1529.47 569.858 1532.07 Q569.28 1532.74 566.178 1535.95 Q563.076 1539.15 557.428 1544.91 Z\" fill=\"#000000\" fill-rule=\"nonzero\" fill-opacity=\"1\" /><path clip-path=\"url(#clip340)\" d=\"M711.143 1530.21 Q714.5 1530.93 716.375 1533.2 Q718.273 1535.47 718.273 1538.8 Q718.273 1543.92 714.755 1546.72 Q711.236 1549.52 704.755 1549.52 Q702.579 1549.52 700.264 1549.08 Q697.972 1548.66 695.519 1547.81 L695.519 1543.29 Q697.463 1544.43 699.778 1545.01 Q702.093 1545.58 704.616 1545.58 Q709.014 1545.58 711.305 1543.85 Q713.62 1542.11 713.62 1538.8 Q713.62 1535.75 711.467 1534.03 Q709.338 1532.3 705.518 1532.3 L701.491 1532.3 L701.491 1528.45 L705.704 1528.45 Q709.153 1528.45 710.981 1527.09 Q712.81 1525.7 712.81 1523.11 Q712.81 1520.45 710.912 1519.03 Q709.037 1517.6 705.518 1517.6 Q703.597 1517.6 701.398 1518.01 Q699.199 1518.43 696.56 1519.31 L696.56 1515.14 Q699.222 1514.4 701.537 1514.03 Q703.875 1513.66 705.935 1513.66 Q711.259 1513.66 714.361 1516.09 Q717.463 1518.5 717.463 1522.62 Q717.463 1525.49 715.819 1527.48 Q714.176 1529.45 711.143 1530.21 Z\" fill=\"#000000\" fill-rule=\"nonzero\" fill-opacity=\"1\" /><path clip-path=\"url(#clip340)\" d=\"M854.026 1518.36 L842.22 1536.81 L854.026 1536.81 L854.026 1518.36 M852.799 1514.29 L858.679 1514.29 L858.679 1536.81 L863.609 1536.81 L863.609 1540.7 L858.679 1540.7 L858.679 1548.85 L854.026 1548.85 L854.026 1540.7 L838.424 1540.7 L838.424 1536.19 L852.799 1514.29 Z\" fill=\"#000000\" fill-rule=\"nonzero\" fill-opacity=\"1\" /><path clip-path=\"url(#clip340)\" d=\"M985.415 1514.29 L1003.77 1514.29 L1003.77 1518.22 L989.698 1518.22 L989.698 1526.7 Q990.716 1526.35 991.735 1526.19 Q992.753 1526 993.772 1526 Q999.559 1526 1002.94 1529.17 Q1006.32 1532.34 1006.32 1537.76 Q1006.32 1543.34 1002.85 1546.44 Q999.374 1549.52 993.054 1549.52 Q990.878 1549.52 988.61 1549.15 Q986.364 1548.78 983.957 1548.04 L983.957 1543.34 Q986.04 1544.47 988.263 1545.03 Q990.485 1545.58 992.962 1545.58 Q996.966 1545.58 999.304 1543.48 Q1001.64 1541.37 1001.64 1537.76 Q1001.64 1534.15 999.304 1532.04 Q996.966 1529.94 992.962 1529.94 Q991.087 1529.94 989.212 1530.35 Q987.36 1530.77 985.415 1531.65 L985.415 1514.29 Z\" fill=\"#000000\" fill-rule=\"nonzero\" fill-opacity=\"1\" /><path clip-path=\"url(#clip340)\" d=\"M1139.66 1529.7 Q1136.52 1529.7 1134.66 1531.86 Q1132.83 1534.01 1132.83 1537.76 Q1132.83 1541.49 1134.66 1543.66 Q1136.52 1545.82 1139.66 1545.82 Q1142.81 1545.82 1144.64 1543.66 Q1146.49 1541.49 1146.49 1537.76 Q1146.49 1534.01 1144.64 1531.86 Q1142.81 1529.7 1139.66 1529.7 M1148.95 1515.05 L1148.95 1519.31 Q1147.19 1518.48 1145.38 1518.04 Q1143.6 1517.6 1141.84 1517.6 Q1137.21 1517.6 1134.76 1520.72 Q1132.33 1523.85 1131.98 1530.17 Q1133.34 1528.15 1135.4 1527.09 Q1137.46 1526 1139.94 1526 Q1145.15 1526 1148.16 1529.17 Q1151.19 1532.32 1151.19 1537.76 Q1151.19 1543.08 1148.04 1546.3 Q1144.89 1549.52 1139.66 1549.52 Q1133.67 1549.52 1130.5 1544.94 Q1127.33 1540.33 1127.33 1531.6 Q1127.33 1523.41 1131.21 1518.55 Q1135.1 1513.66 1141.65 1513.66 Q1143.41 1513.66 1145.2 1514.01 Q1147 1514.36 1148.95 1515.05 Z\" fill=\"#000000\" fill-rule=\"nonzero\" fill-opacity=\"1\" /><path clip-path=\"url(#clip340)\" d=\"M1272.27 1514.29 L1294.49 1514.29 L1294.49 1516.28 L1281.94 1548.85 L1277.06 1548.85 L1288.87 1518.22 L1272.27 1518.22 L1272.27 1514.29 Z\" fill=\"#000000\" fill-rule=\"nonzero\" fill-opacity=\"1\" /><path clip-path=\"url(#clip340)\" d=\"M1427.5 1532.44 Q1424.17 1532.44 1422.25 1534.22 Q1420.35 1536 1420.35 1539.13 Q1420.35 1542.25 1422.25 1544.03 Q1424.17 1545.82 1427.5 1545.82 Q1430.83 1545.82 1432.75 1544.03 Q1434.68 1542.23 1434.68 1539.13 Q1434.68 1536 1432.75 1534.22 Q1430.86 1532.44 1427.5 1532.44 M1422.82 1530.45 Q1419.81 1529.7 1418.13 1527.64 Q1416.46 1525.58 1416.46 1522.62 Q1416.46 1518.48 1419.4 1516.07 Q1422.36 1513.66 1427.5 1513.66 Q1432.66 1513.66 1435.6 1516.07 Q1438.54 1518.48 1438.54 1522.62 Q1438.54 1525.58 1436.85 1527.64 Q1435.19 1529.7 1432.2 1530.45 Q1435.58 1531.23 1437.45 1533.52 Q1439.35 1535.82 1439.35 1539.13 Q1439.35 1544.15 1436.27 1546.83 Q1433.22 1549.52 1427.5 1549.52 Q1421.78 1549.52 1418.7 1546.83 Q1415.65 1544.15 1415.65 1539.13 Q1415.65 1535.82 1417.55 1533.52 Q1419.44 1531.23 1422.82 1530.45 M1421.11 1523.06 Q1421.11 1525.75 1422.78 1527.25 Q1424.47 1528.76 1427.5 1528.76 Q1430.51 1528.76 1432.2 1527.25 Q1433.91 1525.75 1433.91 1523.06 Q1433.91 1520.38 1432.2 1518.87 Q1430.51 1517.37 1427.5 1517.37 Q1424.47 1517.37 1422.78 1518.87 Q1421.11 1520.38 1421.11 1523.06 Z\" fill=\"#000000\" fill-rule=\"nonzero\" fill-opacity=\"1\" /><path clip-path=\"url(#clip340)\" d=\"M1561.92 1548.13 L1561.92 1543.87 Q1563.68 1544.7 1565.49 1545.14 Q1567.29 1545.58 1569.03 1545.58 Q1573.66 1545.58 1576.09 1542.48 Q1578.54 1539.36 1578.89 1533.01 Q1577.55 1535.01 1575.49 1536.07 Q1573.43 1537.13 1570.93 1537.13 Q1565.74 1537.13 1562.71 1534.01 Q1559.7 1530.86 1559.7 1525.42 Q1559.7 1520.1 1562.85 1516.88 Q1566 1513.66 1571.23 1513.66 Q1577.22 1513.66 1580.37 1518.27 Q1583.54 1522.85 1583.54 1531.6 Q1583.54 1539.77 1579.65 1544.66 Q1575.79 1549.52 1569.24 1549.52 Q1567.48 1549.52 1565.67 1549.17 Q1563.87 1548.82 1561.92 1548.13 M1571.23 1533.48 Q1574.38 1533.48 1576.2 1531.32 Q1578.06 1529.17 1578.06 1525.42 Q1578.06 1521.7 1576.2 1519.54 Q1574.38 1517.37 1571.23 1517.37 Q1568.08 1517.37 1566.23 1519.54 Q1564.4 1521.7 1564.4 1525.42 Q1564.4 1529.17 1566.23 1531.32 Q1568.08 1533.48 1571.23 1533.48 Z\" fill=\"#000000\" fill-rule=\"nonzero\" fill-opacity=\"1\" /><path clip-path=\"url(#clip340)\" d=\"M1690.43 1544.91 L1698.07 1544.91 L1698.07 1518.55 L1689.76 1520.21 L1689.76 1515.95 L1698.02 1514.29 L1702.7 1514.29 L1702.7 1544.91 L1710.34 1544.91 L1710.34 1548.85 L1690.43 1548.85 L1690.43 1544.91 Z\" fill=\"#000000\" fill-rule=\"nonzero\" fill-opacity=\"1\" /><path clip-path=\"url(#clip340)\" d=\"M1729.78 1517.37 Q1726.17 1517.37 1724.34 1520.93 Q1722.54 1524.47 1722.54 1531.6 Q1722.54 1538.71 1724.34 1542.27 Q1726.17 1545.82 1729.78 1545.82 Q1733.42 1545.82 1735.22 1542.27 Q1737.05 1538.71 1737.05 1531.6 Q1737.05 1524.47 1735.22 1520.93 Q1733.42 1517.37 1729.78 1517.37 M1729.78 1513.66 Q1735.59 1513.66 1738.65 1518.27 Q1741.73 1522.85 1741.73 1531.6 Q1741.73 1540.33 1738.65 1544.94 Q1735.59 1549.52 1729.78 1549.52 Q1723.97 1549.52 1720.89 1544.94 Q1717.84 1540.33 1717.84 1531.6 Q1717.84 1522.85 1720.89 1518.27 Q1723.97 1513.66 1729.78 1513.66 Z\" fill=\"#000000\" fill-rule=\"nonzero\" fill-opacity=\"1\" /><path clip-path=\"url(#clip340)\" d=\"M1835.16 1544.91 L1842.8 1544.91 L1842.8 1518.55 L1834.49 1520.21 L1834.49 1515.95 L1842.76 1514.29 L1847.43 1514.29 L1847.43 1544.91 L1855.07 1544.91 L1855.07 1548.85 L1835.16 1548.85 L1835.16 1544.91 Z\" fill=\"#000000\" fill-rule=\"nonzero\" fill-opacity=\"1\" /><path clip-path=\"url(#clip340)\" d=\"M1865.33 1544.91 L1872.96 1544.91 L1872.96 1518.55 L1864.65 1520.21 L1864.65 1515.95 L1872.92 1514.29 L1877.59 1514.29 L1877.59 1544.91 L1885.23 1544.91 L1885.23 1548.85 L1865.33 1548.85 L1865.33 1544.91 Z\" fill=\"#000000\" fill-rule=\"nonzero\" fill-opacity=\"1\" /><path clip-path=\"url(#clip340)\" d=\"M1979.47 1544.91 L1987.11 1544.91 L1987.11 1518.55 L1978.8 1520.21 L1978.8 1515.95 L1987.06 1514.29 L1991.74 1514.29 L1991.74 1544.91 L1999.38 1544.91 L1999.38 1548.85 L1979.47 1548.85 L1979.47 1544.91 Z\" fill=\"#000000\" fill-rule=\"nonzero\" fill-opacity=\"1\" /><path clip-path=\"url(#clip340)\" d=\"M2012.85 1544.91 L2029.17 1544.91 L2029.17 1548.85 L2007.22 1548.85 L2007.22 1544.91 Q2009.89 1542.16 2014.47 1537.53 Q2019.08 1532.88 2020.26 1531.53 Q2022.5 1529.01 2023.38 1527.27 Q2024.28 1525.51 2024.28 1523.82 Q2024.28 1521.07 2022.34 1519.33 Q2020.42 1517.6 2017.32 1517.6 Q2015.12 1517.6 2012.66 1518.36 Q2010.23 1519.13 2007.46 1520.68 L2007.46 1515.95 Q2010.28 1514.82 2012.73 1514.24 Q2015.19 1513.66 2017.22 1513.66 Q2022.59 1513.66 2025.79 1516.35 Q2028.98 1519.03 2028.98 1523.52 Q2028.98 1525.65 2028.17 1527.57 Q2027.39 1529.47 2025.28 1532.07 Q2024.7 1532.74 2021.6 1535.95 Q2018.5 1539.15 2012.85 1544.91 Z\" fill=\"#000000\" fill-rule=\"nonzero\" fill-opacity=\"1\" /><path clip-path=\"url(#clip340)\" d=\"M2123.12 1544.91 L2130.75 1544.91 L2130.75 1518.55 L2122.44 1520.21 L2122.44 1515.95 L2130.71 1514.29 L2135.38 1514.29 L2135.38 1544.91 L2143.02 1544.91 L2143.02 1548.85 L2123.12 1548.85 L2123.12 1544.91 Z\" fill=\"#000000\" fill-rule=\"nonzero\" fill-opacity=\"1\" /><path clip-path=\"url(#clip340)\" d=\"M2166.63 1530.21 Q2169.99 1530.93 2171.87 1533.2 Q2173.76 1535.47 2173.76 1538.8 Q2173.76 1543.92 2170.25 1546.72 Q2166.73 1549.52 2160.25 1549.52 Q2158.07 1549.52 2155.75 1549.08 Q2153.46 1548.66 2151.01 1547.81 L2151.01 1543.29 Q2152.95 1544.43 2155.27 1545.01 Q2157.58 1545.58 2160.11 1545.58 Q2164.5 1545.58 2166.8 1543.85 Q2169.11 1542.11 2169.11 1538.8 Q2169.11 1535.75 2166.96 1534.03 Q2164.83 1532.3 2161.01 1532.3 L2156.98 1532.3 L2156.98 1528.45 L2161.19 1528.45 Q2164.64 1528.45 2166.47 1527.09 Q2168.3 1525.7 2168.3 1523.11 Q2168.3 1520.45 2166.4 1519.03 Q2164.53 1517.6 2161.01 1517.6 Q2159.09 1517.6 2156.89 1518.01 Q2154.69 1518.43 2152.05 1519.31 L2152.05 1515.14 Q2154.71 1514.4 2157.03 1514.03 Q2159.37 1513.66 2161.43 1513.66 Q2166.75 1513.66 2169.85 1516.09 Q2172.95 1518.5 2172.95 1522.62 Q2172.95 1525.49 2171.31 1527.48 Q2169.67 1529.45 2166.63 1530.21 Z\" fill=\"#000000\" fill-rule=\"nonzero\" fill-opacity=\"1\" /><path clip-path=\"url(#clip340)\" d=\"M2266.67 1544.91 L2274.31 1544.91 L2274.31 1518.55 L2266 1520.21 L2266 1515.95 L2274.26 1514.29 L2278.94 1514.29 L2278.94 1544.91 L2286.58 1544.91 L2286.58 1548.85 L2266.67 1548.85 L2266.67 1544.91 Z\" fill=\"#000000\" fill-rule=\"nonzero\" fill-opacity=\"1\" /><path clip-path=\"url(#clip340)\" d=\"M2308.87 1518.36 L2297.06 1536.81 L2308.87 1536.81 L2308.87 1518.36 M2307.64 1514.29 L2313.52 1514.29 L2313.52 1536.81 L2318.45 1536.81 L2318.45 1540.7 L2313.52 1540.7 L2313.52 1548.85 L2308.87 1548.85 L2308.87 1540.7 L2293.27 1540.7 L2293.27 1536.19 L2307.64 1514.29 Z\" fill=\"#000000\" fill-rule=\"nonzero\" fill-opacity=\"1\" /><polyline clip-path=\"url(#clip340)\" style=\"stroke:#000000; stroke-linecap:round; stroke-linejoin:round; stroke-width:4; stroke-opacity:1; fill:none\" points=\"214.002,1486.45 214.002,47.2441 \"/>\n",
       "<polyline clip-path=\"url(#clip340)\" style=\"stroke:#000000; stroke-linecap:round; stroke-linejoin:round; stroke-width:4; stroke-opacity:1; fill:none\" points=\"214.002,1425.94 232.9,1425.94 \"/>\n",
       "<polyline clip-path=\"url(#clip340)\" style=\"stroke:#000000; stroke-linecap:round; stroke-linejoin:round; stroke-width:4; stroke-opacity:1; fill:none\" points=\"214.002,1324.73 232.9,1324.73 \"/>\n",
       "<polyline clip-path=\"url(#clip340)\" style=\"stroke:#000000; stroke-linecap:round; stroke-linejoin:round; stroke-width:4; stroke-opacity:1; fill:none\" points=\"214.002,1223.51 232.9,1223.51 \"/>\n",
       "<polyline clip-path=\"url(#clip340)\" style=\"stroke:#000000; stroke-linecap:round; stroke-linejoin:round; stroke-width:4; stroke-opacity:1; fill:none\" points=\"214.002,1122.29 232.9,1122.29 \"/>\n",
       "<polyline clip-path=\"url(#clip340)\" style=\"stroke:#000000; stroke-linecap:round; stroke-linejoin:round; stroke-width:4; stroke-opacity:1; fill:none\" points=\"214.002,1021.08 232.9,1021.08 \"/>\n",
       "<polyline clip-path=\"url(#clip340)\" style=\"stroke:#000000; stroke-linecap:round; stroke-linejoin:round; stroke-width:4; stroke-opacity:1; fill:none\" points=\"214.002,919.859 232.9,919.859 \"/>\n",
       "<polyline clip-path=\"url(#clip340)\" style=\"stroke:#000000; stroke-linecap:round; stroke-linejoin:round; stroke-width:4; stroke-opacity:1; fill:none\" points=\"214.002,818.641 232.9,818.641 \"/>\n",
       "<polyline clip-path=\"url(#clip340)\" style=\"stroke:#000000; stroke-linecap:round; stroke-linejoin:round; stroke-width:4; stroke-opacity:1; fill:none\" points=\"214.002,717.424 232.9,717.424 \"/>\n",
       "<polyline clip-path=\"url(#clip340)\" style=\"stroke:#000000; stroke-linecap:round; stroke-linejoin:round; stroke-width:4; stroke-opacity:1; fill:none\" points=\"214.002,616.207 232.9,616.207 \"/>\n",
       "<polyline clip-path=\"url(#clip340)\" style=\"stroke:#000000; stroke-linecap:round; stroke-linejoin:round; stroke-width:4; stroke-opacity:1; fill:none\" points=\"214.002,514.99 232.9,514.99 \"/>\n",
       "<polyline clip-path=\"url(#clip340)\" style=\"stroke:#000000; stroke-linecap:round; stroke-linejoin:round; stroke-width:4; stroke-opacity:1; fill:none\" points=\"214.002,413.773 232.9,413.773 \"/>\n",
       "<polyline clip-path=\"url(#clip340)\" style=\"stroke:#000000; stroke-linecap:round; stroke-linejoin:round; stroke-width:4; stroke-opacity:1; fill:none\" points=\"214.002,312.555 232.9,312.555 \"/>\n",
       "<polyline clip-path=\"url(#clip340)\" style=\"stroke:#000000; stroke-linecap:round; stroke-linejoin:round; stroke-width:4; stroke-opacity:1; fill:none\" points=\"214.002,211.338 232.9,211.338 \"/>\n",
       "<polyline clip-path=\"url(#clip340)\" style=\"stroke:#000000; stroke-linecap:round; stroke-linejoin:round; stroke-width:4; stroke-opacity:1; fill:none\" points=\"214.002,110.121 232.9,110.121 \"/>\n",
       "<path clip-path=\"url(#clip340)\" d=\"M52.8671 1445.74 L60.506 1445.74 L60.506 1419.37 L52.1958 1421.04 L52.1958 1416.78 L60.4597 1415.11 L65.1356 1415.11 L65.1356 1445.74 L72.7744 1445.74 L72.7744 1449.67 L52.8671 1449.67 L52.8671 1445.74 Z\" fill=\"#000000\" fill-rule=\"nonzero\" fill-opacity=\"1\" /><path clip-path=\"url(#clip340)\" d=\"M92.2188 1418.19 Q88.6077 1418.19 86.779 1421.76 Q84.9734 1425.3 84.9734 1432.43 Q84.9734 1439.53 86.779 1443.1 Q88.6077 1446.64 92.2188 1446.64 Q95.853 1446.64 97.6585 1443.1 Q99.4872 1439.53 99.4872 1432.43 Q99.4872 1425.3 97.6585 1421.76 Q95.853 1418.19 92.2188 1418.19 M92.2188 1414.49 Q98.0289 1414.49 101.084 1419.09 Q104.163 1423.68 104.163 1432.43 Q104.163 1441.15 101.084 1445.76 Q98.0289 1450.34 92.2188 1450.34 Q86.4086 1450.34 83.3299 1445.76 Q80.2744 1441.15 80.2744 1432.43 Q80.2744 1423.68 83.3299 1419.09 Q86.4086 1414.49 92.2188 1414.49 Z\" fill=\"#000000\" fill-rule=\"nonzero\" fill-opacity=\"1\" /><path clip-path=\"url(#clip340)\" d=\"M104.163 1408.59 L128.275 1408.59 L128.275 1411.79 L104.163 1411.79 L104.163 1408.59 Z\" fill=\"#000000\" fill-rule=\"nonzero\" fill-opacity=\"1\" /><path clip-path=\"url(#clip340)\" d=\"M137.133 1419.06 L143.34 1419.06 L143.34 1397.64 L136.588 1399 L136.588 1395.54 L143.302 1394.18 L147.101 1394.18 L147.101 1419.06 L153.308 1419.06 L153.308 1422.26 L137.133 1422.26 L137.133 1419.06 Z\" fill=\"#000000\" fill-rule=\"nonzero\" fill-opacity=\"1\" /><path clip-path=\"url(#clip340)\" d=\"M161.019 1394.18 L175.934 1394.18 L175.934 1397.38 L164.498 1397.38 L164.498 1404.26 Q165.326 1403.98 166.154 1403.85 Q166.981 1403.7 167.809 1403.7 Q172.511 1403.7 175.257 1406.28 Q178.002 1408.85 178.002 1413.25 Q178.002 1417.79 175.181 1420.31 Q172.36 1422.81 167.226 1422.81 Q165.458 1422.81 163.614 1422.51 Q161.79 1422.21 159.834 1421.6 L159.834 1417.79 Q161.527 1418.71 163.332 1419.16 Q165.138 1419.61 167.15 1419.61 Q170.404 1419.61 172.304 1417.9 Q174.203 1416.19 174.203 1413.25 Q174.203 1410.32 172.304 1408.61 Q170.404 1406.9 167.15 1406.9 Q165.627 1406.9 164.103 1407.23 Q162.599 1407.57 161.019 1408.29 L161.019 1394.18 Z\" fill=\"#000000\" fill-rule=\"nonzero\" fill-opacity=\"1\" /><path clip-path=\"url(#clip340)\" d=\"M51.6634 1344.52 L59.3023 1344.52 L59.3023 1318.15 L50.9921 1319.82 L50.9921 1315.56 L59.256 1313.9 L63.9319 1313.9 L63.9319 1344.52 L71.5707 1344.52 L71.5707 1348.46 L51.6634 1348.46 L51.6634 1344.52 Z\" fill=\"#000000\" fill-rule=\"nonzero\" fill-opacity=\"1\" /><path clip-path=\"url(#clip340)\" d=\"M91.0151 1316.97 Q87.404 1316.97 85.5753 1320.54 Q83.7697 1324.08 83.7697 1331.21 Q83.7697 1338.32 85.5753 1341.88 Q87.404 1345.42 91.0151 1345.42 Q94.6493 1345.42 96.4548 1341.88 Q98.2835 1338.32 98.2835 1331.21 Q98.2835 1324.08 96.4548 1320.54 Q94.6493 1316.97 91.0151 1316.97 M91.0151 1313.27 Q96.8252 1313.27 99.8808 1317.88 Q102.959 1322.46 102.959 1331.21 Q102.959 1339.94 99.8808 1344.54 Q96.8252 1349.13 91.0151 1349.13 Q85.2049 1349.13 82.1262 1344.54 Q79.0707 1339.94 79.0707 1331.21 Q79.0707 1322.46 82.1262 1317.88 Q85.2049 1313.27 91.0151 1313.27 Z\" fill=\"#000000\" fill-rule=\"nonzero\" fill-opacity=\"1\" /><path clip-path=\"url(#clip340)\" d=\"M102.959 1307.37 L127.071 1307.37 L127.071 1310.57 L102.959 1310.57 L102.959 1307.37 Z\" fill=\"#000000\" fill-rule=\"nonzero\" fill-opacity=\"1\" /><path clip-path=\"url(#clip340)\" d=\"M135.929 1317.85 L142.136 1317.85 L142.136 1296.43 L135.384 1297.78 L135.384 1294.32 L142.098 1292.96 L145.898 1292.96 L145.898 1317.85 L152.104 1317.85 L152.104 1321.04 L135.929 1321.04 L135.929 1317.85 Z\" fill=\"#000000\" fill-rule=\"nonzero\" fill-opacity=\"1\" /><path clip-path=\"url(#clip340)\" d=\"M170.216 1296.27 L160.624 1311.26 L170.216 1311.26 L170.216 1296.27 M169.219 1292.96 L173.996 1292.96 L173.996 1311.26 L178.002 1311.26 L178.002 1314.42 L173.996 1314.42 L173.996 1321.04 L170.216 1321.04 L170.216 1314.42 L157.54 1314.42 L157.54 1310.76 L169.219 1292.96 Z\" fill=\"#000000\" fill-rule=\"nonzero\" fill-opacity=\"1\" /><path clip-path=\"url(#clip340)\" d=\"M52.585 1243.3 L60.2238 1243.3 L60.2238 1216.94 L51.9137 1218.6 L51.9137 1214.34 L60.1776 1212.68 L64.8535 1212.68 L64.8535 1243.3 L72.4923 1243.3 L72.4923 1247.24 L52.585 1247.24 L52.585 1243.3 Z\" fill=\"#000000\" fill-rule=\"nonzero\" fill-opacity=\"1\" /><path clip-path=\"url(#clip340)\" d=\"M91.9366 1215.76 Q88.3255 1215.76 86.4969 1219.32 Q84.6913 1222.86 84.6913 1229.99 Q84.6913 1237.1 86.4969 1240.66 Q88.3255 1244.21 91.9366 1244.21 Q95.5709 1244.21 97.3764 1240.66 Q99.2051 1237.1 99.2051 1229.99 Q99.2051 1222.86 97.3764 1219.32 Q95.5709 1215.76 91.9366 1215.76 M91.9366 1212.05 Q97.7468 1212.05 100.802 1216.66 Q103.881 1221.24 103.881 1229.99 Q103.881 1238.72 100.802 1243.33 Q97.7468 1247.91 91.9366 1247.91 Q86.1265 1247.91 83.0478 1243.33 Q79.9923 1238.72 79.9923 1229.99 Q79.9923 1221.24 83.0478 1216.66 Q86.1265 1212.05 91.9366 1212.05 Z\" fill=\"#000000\" fill-rule=\"nonzero\" fill-opacity=\"1\" /><path clip-path=\"url(#clip340)\" d=\"M103.881 1206.15 L127.993 1206.15 L127.993 1209.35 L103.881 1209.35 L103.881 1206.15 Z\" fill=\"#000000\" fill-rule=\"nonzero\" fill-opacity=\"1\" /><path clip-path=\"url(#clip340)\" d=\"M136.851 1216.63 L143.058 1216.63 L143.058 1195.21 L136.306 1196.56 L136.306 1193.1 L143.02 1191.75 L146.819 1191.75 L146.819 1216.63 L153.026 1216.63 L153.026 1219.83 L136.851 1219.83 L136.851 1216.63 Z\" fill=\"#000000\" fill-rule=\"nonzero\" fill-opacity=\"1\" /><path clip-path=\"url(#clip340)\" d=\"M172.21 1204.69 Q174.937 1205.27 176.46 1207.11 Q178.002 1208.96 178.002 1211.66 Q178.002 1215.82 175.144 1218.1 Q172.285 1220.37 167.019 1220.37 Q165.251 1220.37 163.37 1220.02 Q161.508 1219.68 159.514 1218.98 L159.514 1215.31 Q161.094 1216.24 162.975 1216.71 Q164.856 1217.18 166.906 1217.18 Q170.479 1217.18 172.341 1215.76 Q174.222 1214.35 174.222 1211.66 Q174.222 1209.18 172.473 1207.79 Q170.743 1206.38 167.639 1206.38 L164.367 1206.38 L164.367 1203.26 L167.79 1203.26 Q170.592 1203.26 172.078 1202.15 Q173.564 1201.02 173.564 1198.91 Q173.564 1196.75 172.022 1195.6 Q170.498 1194.44 167.639 1194.44 Q166.078 1194.44 164.292 1194.78 Q162.505 1195.11 160.361 1195.83 L160.361 1192.44 Q162.524 1191.84 164.404 1191.54 Q166.304 1191.24 167.978 1191.24 Q172.304 1191.24 174.824 1193.21 Q177.344 1195.17 177.344 1198.52 Q177.344 1200.85 176.009 1202.47 Q174.673 1204.07 172.21 1204.69 Z\" fill=\"#000000\" fill-rule=\"nonzero\" fill-opacity=\"1\" /><path clip-path=\"url(#clip340)\" d=\"M53.3561 1142.09 L60.995 1142.09 L60.995 1115.72 L52.6848 1117.39 L52.6848 1113.13 L60.9487 1111.46 L65.6246 1111.46 L65.6246 1142.09 L73.2634 1142.09 L73.2634 1146.02 L53.3561 1146.02 L53.3561 1142.09 Z\" fill=\"#000000\" fill-rule=\"nonzero\" fill-opacity=\"1\" /><path clip-path=\"url(#clip340)\" d=\"M92.7078 1114.54 Q89.0967 1114.54 87.268 1118.1 Q85.4624 1121.65 85.4624 1128.78 Q85.4624 1135.88 87.268 1139.45 Q89.0967 1142.99 92.7078 1142.99 Q96.342 1142.99 98.1475 1139.45 Q99.9762 1135.88 99.9762 1128.78 Q99.9762 1121.65 98.1475 1118.1 Q96.342 1114.54 92.7078 1114.54 M92.7078 1110.84 Q98.5179 1110.84 101.573 1115.44 Q104.652 1120.03 104.652 1128.78 Q104.652 1137.5 101.573 1142.11 Q98.5179 1146.69 92.7078 1146.69 Q86.8976 1146.69 83.8189 1142.11 Q80.7634 1137.5 80.7634 1128.78 Q80.7634 1120.03 83.8189 1115.44 Q86.8976 1110.84 92.7078 1110.84 Z\" fill=\"#000000\" fill-rule=\"nonzero\" fill-opacity=\"1\" /><path clip-path=\"url(#clip340)\" d=\"M104.652 1104.94 L128.764 1104.94 L128.764 1108.13 L104.652 1108.13 L104.652 1104.94 Z\" fill=\"#000000\" fill-rule=\"nonzero\" fill-opacity=\"1\" /><path clip-path=\"url(#clip340)\" d=\"M137.622 1115.41 L143.829 1115.41 L143.829 1093.99 L137.077 1095.35 L137.077 1091.88 L143.791 1090.53 L147.59 1090.53 L147.59 1115.41 L153.797 1115.41 L153.797 1118.61 L137.622 1118.61 L137.622 1115.41 Z\" fill=\"#000000\" fill-rule=\"nonzero\" fill-opacity=\"1\" /><path clip-path=\"url(#clip340)\" d=\"M164.743 1115.41 L178.002 1115.41 L178.002 1118.61 L160.173 1118.61 L160.173 1115.41 Q162.336 1113.17 166.06 1109.41 Q169.802 1105.63 170.761 1104.54 Q172.586 1102.49 173.3 1101.08 Q174.034 1099.65 174.034 1098.28 Q174.034 1096.04 172.454 1094.63 Q170.893 1093.22 168.373 1093.22 Q166.586 1093.22 164.593 1093.84 Q162.618 1094.46 160.361 1095.72 L160.361 1091.88 Q162.655 1090.96 164.649 1090.49 Q166.643 1090.02 168.298 1090.02 Q172.661 1090.02 175.257 1092.2 Q177.852 1094.39 177.852 1098.03 Q177.852 1099.76 177.194 1101.33 Q176.554 1102.87 174.843 1104.97 Q174.373 1105.52 171.852 1108.13 Q169.332 1110.73 164.743 1115.41 Z\" fill=\"#000000\" fill-rule=\"nonzero\" fill-opacity=\"1\" /><path clip-path=\"url(#clip340)\" d=\"M53.0552 1040.87 L60.694 1040.87 L60.694 1014.5 L52.3839 1016.17 L52.3839 1011.91 L60.6477 1010.24 L65.3236 1010.24 L65.3236 1040.87 L72.9625 1040.87 L72.9625 1044.8 L53.0552 1044.8 L53.0552 1040.87 Z\" fill=\"#000000\" fill-rule=\"nonzero\" fill-opacity=\"1\" /><path clip-path=\"url(#clip340)\" d=\"M92.4068 1013.32 Q88.7957 1013.32 86.967 1016.89 Q85.1615 1020.43 85.1615 1027.56 Q85.1615 1034.66 86.967 1038.23 Q88.7957 1041.77 92.4068 1041.77 Q96.0411 1041.77 97.8466 1038.23 Q99.6753 1034.66 99.6753 1027.56 Q99.6753 1020.43 97.8466 1016.89 Q96.0411 1013.32 92.4068 1013.32 M92.4068 1009.62 Q98.217 1009.62 101.273 1014.22 Q104.351 1018.81 104.351 1027.56 Q104.351 1036.28 101.273 1040.89 Q98.217 1045.47 92.4068 1045.47 Q86.5967 1045.47 83.518 1040.89 Q80.4625 1036.28 80.4625 1027.56 Q80.4625 1018.81 83.518 1014.22 Q86.5967 1009.62 92.4068 1009.62 Z\" fill=\"#000000\" fill-rule=\"nonzero\" fill-opacity=\"1\" /><path clip-path=\"url(#clip340)\" d=\"M104.351 1003.72 L128.463 1003.72 L128.463 1006.92 L104.351 1006.92 L104.351 1003.72 Z\" fill=\"#000000\" fill-rule=\"nonzero\" fill-opacity=\"1\" /><path clip-path=\"url(#clip340)\" d=\"M137.321 1014.2 L143.528 1014.2 L143.528 992.774 L136.776 994.128 L136.776 990.667 L143.49 989.313 L147.289 989.313 L147.289 1014.2 L153.496 1014.2 L153.496 1017.39 L137.321 1017.39 L137.321 1014.2 Z\" fill=\"#000000\" fill-rule=\"nonzero\" fill-opacity=\"1\" /><path clip-path=\"url(#clip340)\" d=\"M161.828 1014.2 L168.034 1014.2 L168.034 992.774 L161.282 994.128 L161.282 990.667 L167.997 989.313 L171.796 989.313 L171.796 1014.2 L178.002 1014.2 L178.002 1017.39 L161.828 1017.39 L161.828 1014.2 Z\" fill=\"#000000\" fill-rule=\"nonzero\" fill-opacity=\"1\" /><path clip-path=\"url(#clip340)\" d=\"M52.0584 939.651 L59.6972 939.651 L59.6972 913.285 L51.3871 914.952 L51.3871 910.693 L59.6509 909.026 L64.3268 909.026 L64.3268 939.651 L71.9657 939.651 L71.9657 943.586 L52.0584 943.586 L52.0584 939.651 Z\" fill=\"#000000\" fill-rule=\"nonzero\" fill-opacity=\"1\" /><path clip-path=\"url(#clip340)\" d=\"M91.41 912.105 Q87.7989 912.105 85.9702 915.67 Q84.1647 919.211 84.1647 926.341 Q84.1647 933.447 85.9702 937.012 Q87.7989 940.554 91.41 940.554 Q95.0443 940.554 96.8498 937.012 Q98.6785 933.447 98.6785 926.341 Q98.6785 919.211 96.8498 915.67 Q95.0443 912.105 91.41 912.105 M91.41 908.401 Q97.2202 908.401 100.276 913.008 Q103.354 917.591 103.354 926.341 Q103.354 935.068 100.276 939.674 Q97.2202 944.257 91.41 944.257 Q85.5999 944.257 82.5212 939.674 Q79.4656 935.068 79.4656 926.341 Q79.4656 917.591 82.5212 913.008 Q85.5999 908.401 91.41 908.401 Z\" fill=\"#000000\" fill-rule=\"nonzero\" fill-opacity=\"1\" /><path clip-path=\"url(#clip340)\" d=\"M103.354 902.503 L127.466 902.503 L127.466 905.7 L103.354 905.7 L103.354 902.503 Z\" fill=\"#000000\" fill-rule=\"nonzero\" fill-opacity=\"1\" /><path clip-path=\"url(#clip340)\" d=\"M136.324 912.978 L142.531 912.978 L142.531 891.556 L135.779 892.911 L135.779 889.45 L142.493 888.096 L146.293 888.096 L146.293 912.978 L152.499 912.978 L152.499 916.176 L136.324 916.176 L136.324 912.978 Z\" fill=\"#000000\" fill-rule=\"nonzero\" fill-opacity=\"1\" /><path clip-path=\"url(#clip340)\" d=\"M168.298 890.597 Q165.364 890.597 163.878 893.494 Q162.411 896.371 162.411 902.164 Q162.411 907.938 163.878 910.834 Q165.364 913.712 168.298 913.712 Q171.25 913.712 172.717 910.834 Q174.203 907.938 174.203 902.164 Q174.203 896.371 172.717 893.494 Q171.25 890.597 168.298 890.597 M168.298 887.588 Q173.018 887.588 175.501 891.331 Q178.002 895.055 178.002 902.164 Q178.002 909.255 175.501 912.997 Q173.018 916.721 168.298 916.721 Q163.577 916.721 161.075 912.997 Q158.593 909.255 158.593 902.164 Q158.593 895.055 161.075 891.331 Q163.577 887.588 168.298 887.588 Z\" fill=\"#000000\" fill-rule=\"nonzero\" fill-opacity=\"1\" /><path clip-path=\"url(#clip340)\" d=\"M76.7154 838.434 L84.3542 838.434 L84.3542 812.068 L76.0441 813.735 L76.0441 809.476 L84.3079 807.809 L88.9838 807.809 L88.9838 838.434 L96.6227 838.434 L96.6227 842.369 L76.7154 842.369 L76.7154 838.434 Z\" fill=\"#000000\" fill-rule=\"nonzero\" fill-opacity=\"1\" /><path clip-path=\"url(#clip340)\" d=\"M116.067 810.888 Q112.456 810.888 110.627 814.452 Q108.822 817.994 108.822 825.124 Q108.822 832.23 110.627 835.795 Q112.456 839.337 116.067 839.337 Q119.701 839.337 121.507 835.795 Q123.335 832.23 123.335 825.124 Q123.335 817.994 121.507 814.452 Q119.701 810.888 116.067 810.888 M116.067 807.184 Q121.877 807.184 124.933 811.79 Q128.011 816.374 128.011 825.124 Q128.011 833.851 124.933 838.457 Q121.877 843.04 116.067 843.04 Q110.257 843.04 107.178 838.457 Q104.123 833.851 104.123 825.124 Q104.123 816.374 107.178 811.79 Q110.257 807.184 116.067 807.184 Z\" fill=\"#000000\" fill-rule=\"nonzero\" fill-opacity=\"1\" /><path clip-path=\"url(#clip340)\" d=\"M128.011 801.285 L152.123 801.285 L152.123 804.483 L128.011 804.483 L128.011 801.285 Z\" fill=\"#000000\" fill-rule=\"nonzero\" fill-opacity=\"1\" /><path clip-path=\"url(#clip340)\" d=\"M160.436 814.376 L160.436 810.915 Q161.865 811.592 163.332 811.949 Q164.799 812.307 166.21 812.307 Q169.972 812.307 171.946 809.786 Q173.94 807.247 174.222 802.094 Q173.131 803.712 171.457 804.577 Q169.783 805.442 167.752 805.442 Q163.539 805.442 161.075 802.903 Q158.63 800.345 158.63 795.925 Q158.63 791.599 161.188 788.985 Q163.746 786.371 167.997 786.371 Q172.868 786.371 175.426 790.114 Q178.002 793.837 178.002 800.947 Q178.002 807.586 174.843 811.554 Q171.702 815.504 166.379 815.504 Q164.95 815.504 163.483 815.222 Q162.016 814.94 160.436 814.376 M167.997 802.47 Q170.555 802.47 172.04 800.721 Q173.545 798.972 173.545 795.925 Q173.545 792.897 172.04 791.148 Q170.555 789.38 167.997 789.38 Q165.439 789.38 163.934 791.148 Q162.448 792.897 162.448 795.925 Q162.448 798.972 163.934 800.721 Q165.439 802.47 167.997 802.47 Z\" fill=\"#000000\" fill-rule=\"nonzero\" fill-opacity=\"1\" /><path clip-path=\"url(#clip340)\" d=\"M76.6401 737.217 L84.279 737.217 L84.279 710.851 L75.9688 712.518 L75.9688 708.258 L84.2327 706.592 L88.9086 706.592 L88.9086 737.217 L96.5474 737.217 L96.5474 741.152 L76.6401 741.152 L76.6401 737.217 Z\" fill=\"#000000\" fill-rule=\"nonzero\" fill-opacity=\"1\" /><path clip-path=\"url(#clip340)\" d=\"M115.992 709.67 Q112.381 709.67 110.552 713.235 Q108.746 716.777 108.746 723.907 Q108.746 731.013 110.552 734.578 Q112.381 738.119 115.992 738.119 Q119.626 738.119 121.432 734.578 Q123.26 731.013 123.26 723.907 Q123.26 716.777 121.432 713.235 Q119.626 709.67 115.992 709.67 M115.992 705.967 Q121.802 705.967 124.857 710.573 Q127.936 715.157 127.936 723.907 Q127.936 732.633 124.857 737.24 Q121.802 741.823 115.992 741.823 Q110.182 741.823 107.103 737.24 Q104.047 732.633 104.047 723.907 Q104.047 715.157 107.103 710.573 Q110.182 705.967 115.992 705.967 Z\" fill=\"#000000\" fill-rule=\"nonzero\" fill-opacity=\"1\" /><path clip-path=\"url(#clip340)\" d=\"M127.936 700.068 L152.048 700.068 L152.048 703.265 L127.936 703.265 L127.936 700.068 Z\" fill=\"#000000\" fill-rule=\"nonzero\" fill-opacity=\"1\" /><path clip-path=\"url(#clip340)\" d=\"M168.373 700.407 Q165.665 700.407 164.103 701.855 Q162.561 703.303 162.561 705.842 Q162.561 708.381 164.103 709.829 Q165.665 711.278 168.373 711.278 Q171.081 711.278 172.642 709.829 Q174.203 708.362 174.203 705.842 Q174.203 703.303 172.642 701.855 Q171.1 700.407 168.373 700.407 M164.574 698.789 Q162.129 698.187 160.756 696.513 Q159.402 694.84 159.402 692.432 Q159.402 689.066 161.79 687.11 Q164.198 685.154 168.373 685.154 Q172.567 685.154 174.956 687.11 Q177.344 689.066 177.344 692.432 Q177.344 694.84 175.971 696.513 Q174.617 698.187 172.191 698.789 Q174.937 699.429 176.46 701.291 Q178.002 703.153 178.002 705.842 Q178.002 709.923 175.501 712.105 Q173.018 714.287 168.373 714.287 Q163.727 714.287 161.226 712.105 Q158.743 709.923 158.743 705.842 Q158.743 703.153 160.286 701.291 Q161.828 699.429 164.574 698.789 M163.182 692.79 Q163.182 694.971 164.536 696.194 Q165.909 697.416 168.373 697.416 Q170.818 697.416 172.191 696.194 Q173.583 694.971 173.583 692.79 Q173.583 690.608 172.191 689.385 Q170.818 688.163 168.373 688.163 Q165.909 688.163 164.536 689.385 Q163.182 690.608 163.182 692.79 Z\" fill=\"#000000\" fill-rule=\"nonzero\" fill-opacity=\"1\" /><path clip-path=\"url(#clip340)\" d=\"M77.2984 635.999 L84.9373 635.999 L84.9373 609.634 L76.6271 611.3 L76.6271 607.041 L84.891 605.375 L89.5669 605.375 L89.5669 635.999 L97.2057 635.999 L97.2057 639.935 L77.2984 639.935 L77.2984 635.999 Z\" fill=\"#000000\" fill-rule=\"nonzero\" fill-opacity=\"1\" /><path clip-path=\"url(#clip340)\" d=\"M116.65 608.453 Q113.039 608.453 111.21 612.018 Q109.405 615.56 109.405 622.689 Q109.405 629.796 111.21 633.361 Q113.039 636.902 116.65 636.902 Q120.284 636.902 122.09 633.361 Q123.919 629.796 123.919 622.689 Q123.919 615.56 122.09 612.018 Q120.284 608.453 116.65 608.453 M116.65 604.75 Q122.46 604.75 125.516 609.356 Q128.594 613.939 128.594 622.689 Q128.594 631.416 125.516 636.023 Q122.46 640.606 116.65 640.606 Q110.84 640.606 107.761 636.023 Q104.706 631.416 104.706 622.689 Q104.706 613.939 107.761 609.356 Q110.84 604.75 116.65 604.75 Z\" fill=\"#000000\" fill-rule=\"nonzero\" fill-opacity=\"1\" /><path clip-path=\"url(#clip340)\" d=\"M128.594 598.851 L152.706 598.851 L152.706 602.048 L128.594 602.048 L128.594 598.851 Z\" fill=\"#000000\" fill-rule=\"nonzero\" fill-opacity=\"1\" /><path clip-path=\"url(#clip340)\" d=\"M159.947 584.444 L178.002 584.444 L178.002 586.062 L167.809 612.524 L163.84 612.524 L173.432 587.641 L159.947 587.641 L159.947 584.444 Z\" fill=\"#000000\" fill-rule=\"nonzero\" fill-opacity=\"1\" /><path clip-path=\"url(#clip340)\" d=\"M76.4333 534.782 L84.0721 534.782 L84.0721 508.417 L75.762 510.083 L75.762 505.824 L84.0258 504.157 L88.7017 504.157 L88.7017 534.782 L96.3406 534.782 L96.3406 538.717 L76.4333 538.717 L76.4333 534.782 Z\" fill=\"#000000\" fill-rule=\"nonzero\" fill-opacity=\"1\" /><path clip-path=\"url(#clip340)\" d=\"M115.785 507.236 Q112.174 507.236 110.345 510.801 Q108.54 514.342 108.54 521.472 Q108.54 528.579 110.345 532.143 Q112.174 535.685 115.785 535.685 Q119.419 535.685 121.225 532.143 Q123.053 528.579 123.053 521.472 Q123.053 514.342 121.225 510.801 Q119.419 507.236 115.785 507.236 M115.785 503.532 Q121.595 503.532 124.651 508.139 Q127.729 512.722 127.729 521.472 Q127.729 530.199 124.651 534.805 Q121.595 539.389 115.785 539.389 Q109.975 539.389 106.896 534.805 Q103.841 530.199 103.841 521.472 Q103.841 512.722 106.896 508.139 Q109.975 503.532 115.785 503.532 Z\" fill=\"#000000\" fill-rule=\"nonzero\" fill-opacity=\"1\" /><path clip-path=\"url(#clip340)\" d=\"M127.729 497.634 L151.841 497.634 L151.841 500.831 L127.729 500.831 L127.729 497.634 Z\" fill=\"#000000\" fill-rule=\"nonzero\" fill-opacity=\"1\" /><path clip-path=\"url(#clip340)\" d=\"M168.636 495.753 Q166.078 495.753 164.574 497.502 Q163.088 499.251 163.088 502.298 Q163.088 505.326 164.574 507.094 Q166.078 508.843 168.636 508.843 Q171.194 508.843 172.68 507.094 Q174.184 505.326 174.184 502.298 Q174.184 499.251 172.68 497.502 Q171.194 495.753 168.636 495.753 M176.178 483.848 L176.178 487.308 Q174.749 486.631 173.282 486.274 Q171.833 485.916 170.404 485.916 Q166.643 485.916 164.649 488.456 Q162.674 490.995 162.392 496.129 Q163.502 494.493 165.176 493.628 Q166.849 492.744 168.862 492.744 Q173.094 492.744 175.539 495.32 Q178.002 497.878 178.002 502.298 Q178.002 506.624 175.445 509.238 Q172.887 511.852 168.636 511.852 Q163.765 511.852 161.188 508.128 Q158.612 504.386 158.612 497.295 Q158.612 490.637 161.771 486.688 Q164.931 482.719 170.254 482.719 Q171.683 482.719 173.131 483.001 Q174.598 483.283 176.178 483.848 Z\" fill=\"#000000\" fill-rule=\"nonzero\" fill-opacity=\"1\" /><path clip-path=\"url(#clip340)\" d=\"M77.3736 433.565 L85.0125 433.565 L85.0125 407.199 L76.7023 408.866 L76.7023 404.607 L84.9662 402.94 L89.6421 402.94 L89.6421 433.565 L97.2809 433.565 L97.2809 437.5 L77.3736 437.5 L77.3736 433.565 Z\" fill=\"#000000\" fill-rule=\"nonzero\" fill-opacity=\"1\" /><path clip-path=\"url(#clip340)\" d=\"M116.725 406.019 Q113.114 406.019 111.285 409.584 Q109.48 413.125 109.48 420.255 Q109.48 427.361 111.285 430.926 Q113.114 434.468 116.725 434.468 Q120.36 434.468 122.165 430.926 Q123.994 427.361 123.994 420.255 Q123.994 413.125 122.165 409.584 Q120.36 406.019 116.725 406.019 M116.725 402.315 Q122.535 402.315 125.591 406.922 Q128.67 411.505 128.67 420.255 Q128.67 428.982 125.591 433.588 Q122.535 438.171 116.725 438.171 Q110.915 438.171 107.836 433.588 Q104.781 428.982 104.781 420.255 Q104.781 411.505 107.836 406.922 Q110.915 402.315 116.725 402.315 Z\" fill=\"#000000\" fill-rule=\"nonzero\" fill-opacity=\"1\" /><path clip-path=\"url(#clip340)\" d=\"M128.67 396.417 L152.781 396.417 L152.781 399.614 L128.67 399.614 L128.67 396.417 Z\" fill=\"#000000\" fill-rule=\"nonzero\" fill-opacity=\"1\" /><path clip-path=\"url(#clip340)\" d=\"M161.019 382.01 L175.934 382.01 L175.934 385.207 L164.498 385.207 L164.498 392.091 Q165.326 391.809 166.154 391.677 Q166.981 391.526 167.809 391.526 Q172.511 391.526 175.257 394.103 Q178.002 396.68 178.002 401.081 Q178.002 405.614 175.181 408.134 Q172.36 410.635 167.226 410.635 Q165.458 410.635 163.614 410.334 Q161.79 410.033 159.834 409.431 L159.834 405.614 Q161.527 406.535 163.332 406.986 Q165.138 407.438 167.15 407.438 Q170.404 407.438 172.304 405.726 Q174.203 404.015 174.203 401.081 Q174.203 398.147 172.304 396.435 Q170.404 394.724 167.15 394.724 Q165.627 394.724 164.103 395.062 Q162.599 395.401 161.019 396.116 L161.019 382.01 Z\" fill=\"#000000\" fill-rule=\"nonzero\" fill-opacity=\"1\" /><path clip-path=\"url(#clip340)\" d=\"M76.1699 332.348 L83.8088 332.348 L83.8088 305.982 L75.4986 307.649 L75.4986 303.39 L83.7625 301.723 L88.4384 301.723 L88.4384 332.348 L96.0772 332.348 L96.0772 336.283 L76.1699 336.283 L76.1699 332.348 Z\" fill=\"#000000\" fill-rule=\"nonzero\" fill-opacity=\"1\" /><path clip-path=\"url(#clip340)\" d=\"M115.522 304.802 Q111.91 304.802 110.082 308.366 Q108.276 311.908 108.276 319.038 Q108.276 326.144 110.082 329.709 Q111.91 333.251 115.522 333.251 Q119.156 333.251 120.961 329.709 Q122.79 326.144 122.79 319.038 Q122.79 311.908 120.961 308.366 Q119.156 304.802 115.522 304.802 M115.522 301.098 Q121.332 301.098 124.387 305.704 Q127.466 310.288 127.466 319.038 Q127.466 327.764 124.387 332.371 Q121.332 336.954 115.522 336.954 Q109.711 336.954 106.633 332.371 Q103.577 327.764 103.577 319.038 Q103.577 310.288 106.633 305.704 Q109.711 301.098 115.522 301.098 Z\" fill=\"#000000\" fill-rule=\"nonzero\" fill-opacity=\"1\" /><path clip-path=\"url(#clip340)\" d=\"M127.466 295.199 L151.578 295.199 L151.578 298.397 L127.466 298.397 L127.466 295.199 Z\" fill=\"#000000\" fill-rule=\"nonzero\" fill-opacity=\"1\" /><path clip-path=\"url(#clip340)\" d=\"M170.216 284.103 L160.624 299.093 L170.216 299.093 L170.216 284.103 M169.219 280.793 L173.996 280.793 L173.996 299.093 L178.002 299.093 L178.002 302.252 L173.996 302.252 L173.996 308.873 L170.216 308.873 L170.216 302.252 L157.54 302.252 L157.54 298.585 L169.219 280.793 Z\" fill=\"#000000\" fill-rule=\"nonzero\" fill-opacity=\"1\" /><path clip-path=\"url(#clip340)\" d=\"M77.0915 231.131 L84.7304 231.131 L84.7304 204.765 L76.4202 206.432 L76.4202 202.172 L84.6841 200.506 L89.36 200.506 L89.36 231.131 L96.9988 231.131 L96.9988 235.066 L77.0915 235.066 L77.0915 231.131 Z\" fill=\"#000000\" fill-rule=\"nonzero\" fill-opacity=\"1\" /><path clip-path=\"url(#clip340)\" d=\"M116.443 203.584 Q112.832 203.584 111.003 207.149 Q109.198 210.691 109.198 217.82 Q109.198 224.927 111.003 228.492 Q112.832 232.033 116.443 232.033 Q120.077 232.033 121.883 228.492 Q123.712 224.927 123.712 217.82 Q123.712 210.691 121.883 207.149 Q120.077 203.584 116.443 203.584 M116.443 199.881 Q122.253 199.881 125.309 204.487 Q128.388 209.071 128.388 217.82 Q128.388 226.547 125.309 231.154 Q122.253 235.737 116.443 235.737 Q110.633 235.737 107.554 231.154 Q104.499 226.547 104.499 217.82 Q104.499 209.071 107.554 204.487 Q110.633 199.881 116.443 199.881 Z\" fill=\"#000000\" fill-rule=\"nonzero\" fill-opacity=\"1\" /><path clip-path=\"url(#clip340)\" d=\"M128.388 193.982 L152.499 193.982 L152.499 197.179 L128.388 197.179 L128.388 193.982 Z\" fill=\"#000000\" fill-rule=\"nonzero\" fill-opacity=\"1\" /><path clip-path=\"url(#clip340)\" d=\"M172.21 192.515 Q174.937 193.098 176.46 194.941 Q178.002 196.784 178.002 199.493 Q178.002 203.649 175.144 205.925 Q172.285 208.201 167.019 208.201 Q165.251 208.201 163.37 207.843 Q161.508 207.505 159.514 206.809 L159.514 203.141 Q161.094 204.063 162.975 204.533 Q164.856 205.003 166.906 205.003 Q170.479 205.003 172.341 203.593 Q174.222 202.182 174.222 199.493 Q174.222 197.01 172.473 195.618 Q170.743 194.208 167.639 194.208 L164.367 194.208 L164.367 191.086 L167.79 191.086 Q170.592 191.086 172.078 189.976 Q173.564 188.848 173.564 186.741 Q173.564 184.578 172.022 183.431 Q170.498 182.265 167.639 182.265 Q166.078 182.265 164.292 182.603 Q162.505 182.942 160.361 183.657 L160.361 180.271 Q162.524 179.669 164.404 179.368 Q166.304 179.068 167.978 179.068 Q172.304 179.068 174.824 181.042 Q177.344 182.998 177.344 186.346 Q177.344 188.678 176.009 190.296 Q174.673 191.894 172.21 192.515 Z\" fill=\"#000000\" fill-rule=\"nonzero\" fill-opacity=\"1\" /><path clip-path=\"url(#clip340)\" d=\"M77.8626 129.913 L85.5015 129.913 L85.5015 103.548 L77.1913 105.214 L77.1913 100.955 L85.4552 99.2885 L90.1311 99.2885 L90.1311 129.913 L97.7699 129.913 L97.7699 133.849 L77.8626 133.849 L77.8626 129.913 Z\" fill=\"#000000\" fill-rule=\"nonzero\" fill-opacity=\"1\" /><path clip-path=\"url(#clip340)\" d=\"M117.214 102.367 Q113.603 102.367 111.774 105.932 Q109.969 109.474 109.969 116.603 Q109.969 123.71 111.774 127.274 Q113.603 130.816 117.214 130.816 Q120.849 130.816 122.654 127.274 Q124.483 123.71 124.483 116.603 Q124.483 109.474 122.654 105.932 Q120.849 102.367 117.214 102.367 M117.214 98.6635 Q123.024 98.6635 126.08 103.27 Q129.159 107.853 129.159 116.603 Q129.159 125.33 126.08 129.937 Q123.024 134.52 117.214 134.52 Q111.404 134.52 108.325 129.937 Q105.27 125.33 105.27 116.603 Q105.27 107.853 108.325 103.27 Q111.404 98.6635 117.214 98.6635 Z\" fill=\"#000000\" fill-rule=\"nonzero\" fill-opacity=\"1\" /><path clip-path=\"url(#clip340)\" d=\"M129.159 92.7649 L153.27 92.7649 L153.27 95.9622 L129.159 95.9622 L129.159 92.7649 Z\" fill=\"#000000\" fill-rule=\"nonzero\" fill-opacity=\"1\" /><path clip-path=\"url(#clip340)\" d=\"M164.743 103.241 L178.002 103.241 L178.002 106.438 L160.173 106.438 L160.173 103.241 Q162.336 101.003 166.06 97.2411 Q169.802 93.4608 170.761 92.3699 Q172.586 90.3199 173.3 88.9093 Q174.034 87.4799 174.034 86.1069 Q174.034 83.8688 172.454 82.4582 Q170.893 81.0476 168.373 81.0476 Q166.586 81.0476 164.593 81.6683 Q162.618 82.289 160.361 83.5491 L160.361 79.7123 Q162.655 78.7907 164.649 78.3205 Q166.643 77.8503 168.298 77.8503 Q172.661 77.8503 175.257 80.032 Q177.852 82.2137 177.852 85.8624 Q177.852 87.5927 177.194 89.1538 Q176.554 90.696 174.843 92.8025 Q174.373 93.3479 171.852 95.9622 Q169.332 98.5577 164.743 103.241 Z\" fill=\"#000000\" fill-rule=\"nonzero\" fill-opacity=\"1\" /><circle clip-path=\"url(#clip342)\" cx=\"418.654\" cy=\"1445.72\" r=\"14.4\" fill=\"#009af9\" fill-rule=\"evenodd\" fill-opacity=\"1\" stroke=\"#000000\" stroke-opacity=\"1\" stroke-width=\"3.2\"/>\n",
       "<circle clip-path=\"url(#clip342)\" cx=\"562.775\" cy=\"1311.65\" r=\"14.4\" fill=\"#009af9\" fill-rule=\"evenodd\" fill-opacity=\"1\" stroke=\"#000000\" stroke-opacity=\"1\" stroke-width=\"3.2\"/>\n",
       "<circle clip-path=\"url(#clip342)\" cx=\"706.896\" cy=\"1238.14\" r=\"14.4\" fill=\"#009af9\" fill-rule=\"evenodd\" fill-opacity=\"1\" stroke=\"#000000\" stroke-opacity=\"1\" stroke-width=\"3.2\"/>\n",
       "<circle clip-path=\"url(#clip342)\" cx=\"851.017\" cy=\"1079.14\" r=\"14.4\" fill=\"#009af9\" fill-rule=\"evenodd\" fill-opacity=\"1\" stroke=\"#000000\" stroke-opacity=\"1\" stroke-width=\"3.2\"/>\n",
       "<circle clip-path=\"url(#clip342)\" cx=\"995.137\" cy=\"991.567\" r=\"14.4\" fill=\"#009af9\" fill-rule=\"evenodd\" fill-opacity=\"1\" stroke=\"#000000\" stroke-opacity=\"1\" stroke-width=\"3.2\"/>\n",
       "<circle clip-path=\"url(#clip342)\" cx=\"1139.26\" cy=\"932.146\" r=\"14.4\" fill=\"#009af9\" fill-rule=\"evenodd\" fill-opacity=\"1\" stroke=\"#000000\" stroke-opacity=\"1\" stroke-width=\"3.2\"/>\n",
       "<circle clip-path=\"url(#clip342)\" cx=\"1283.38\" cy=\"791.541\" r=\"14.4\" fill=\"#009af9\" fill-rule=\"evenodd\" fill-opacity=\"1\" stroke=\"#000000\" stroke-opacity=\"1\" stroke-width=\"3.2\"/>\n",
       "<circle clip-path=\"url(#clip342)\" cx=\"1427.5\" cy=\"713.945\" r=\"14.4\" fill=\"#009af9\" fill-rule=\"evenodd\" fill-opacity=\"1\" stroke=\"#000000\" stroke-opacity=\"1\" stroke-width=\"3.2\"/>\n",
       "<circle clip-path=\"url(#clip342)\" cx=\"1571.62\" cy=\"624.495\" r=\"14.4\" fill=\"#009af9\" fill-rule=\"evenodd\" fill-opacity=\"1\" stroke=\"#000000\" stroke-opacity=\"1\" stroke-width=\"3.2\"/>\n",
       "<circle clip-path=\"url(#clip342)\" cx=\"1715.74\" cy=\"468.552\" r=\"14.4\" fill=\"#009af9\" fill-rule=\"evenodd\" fill-opacity=\"1\" stroke=\"#000000\" stroke-opacity=\"1\" stroke-width=\"3.2\"/>\n",
       "<circle clip-path=\"url(#clip342)\" cx=\"1859.86\" cy=\"360.913\" r=\"14.4\" fill=\"#009af9\" fill-rule=\"evenodd\" fill-opacity=\"1\" stroke=\"#000000\" stroke-opacity=\"1\" stroke-width=\"3.2\"/>\n",
       "<circle clip-path=\"url(#clip342)\" cx=\"2003.98\" cy=\"267.229\" r=\"14.4\" fill=\"#009af9\" fill-rule=\"evenodd\" fill-opacity=\"1\" stroke=\"#000000\" stroke-opacity=\"1\" stroke-width=\"3.2\"/>\n",
       "<circle clip-path=\"url(#clip342)\" cx=\"2148.1\" cy=\"258.358\" r=\"14.4\" fill=\"#009af9\" fill-rule=\"evenodd\" fill-opacity=\"1\" stroke=\"#000000\" stroke-opacity=\"1\" stroke-width=\"3.2\"/>\n",
       "<circle clip-path=\"url(#clip342)\" cx=\"2292.23\" cy=\"87.9763\" r=\"14.4\" fill=\"#009af9\" fill-rule=\"evenodd\" fill-opacity=\"1\" stroke=\"#000000\" stroke-opacity=\"1\" stroke-width=\"3.2\"/>\n",
       "<path clip-path=\"url(#clip340)\" d=\"M2015.16 1438.47 L2281.46 1438.47 L2281.46 1334.79 L2015.16 1334.79  Z\" fill=\"#ffffff\" fill-rule=\"evenodd\" fill-opacity=\"1\"/>\n",
       "<polyline clip-path=\"url(#clip340)\" style=\"stroke:#000000; stroke-linecap:round; stroke-linejoin:round; stroke-width:4; stroke-opacity:1; fill:none\" points=\"2015.16,1438.47 2281.46,1438.47 2281.46,1334.79 2015.16,1334.79 2015.16,1438.47 \"/>\n",
       "<circle clip-path=\"url(#clip340)\" cx=\"2110.21\" cy=\"1386.63\" r=\"20.48\" fill=\"#009af9\" fill-rule=\"evenodd\" fill-opacity=\"1\" stroke=\"#000000\" stroke-opacity=\"1\" stroke-width=\"4.55111\"/>\n",
       "<path clip-path=\"url(#clip340)\" d=\"M2219.11 1406.32 Q2217.31 1410.95 2215.59 1412.36 Q2213.88 1413.78 2211.01 1413.78 L2207.61 1413.78 L2207.61 1410.21 L2210.11 1410.21 Q2211.87 1410.21 2212.84 1409.38 Q2213.81 1408.54 2214.99 1405.44 L2215.76 1403.5 L2205.27 1377.99 L2209.78 1377.99 L2217.89 1398.27 L2225.99 1377.99 L2230.5 1377.99 L2219.11 1406.32 Z\" fill=\"#000000\" fill-rule=\"nonzero\" fill-opacity=\"1\" /><path clip-path=\"url(#clip340)\" d=\"M2237.79 1399.98 L2245.43 1399.98 L2245.43 1373.61 L2237.12 1375.28 L2237.12 1371.02 L2245.39 1369.35 L2250.06 1369.35 L2250.06 1399.98 L2257.7 1399.98 L2257.7 1403.91 L2237.79 1403.91 L2237.79 1399.98 Z\" fill=\"#000000\" fill-rule=\"nonzero\" fill-opacity=\"1\" /></svg>\n"
      ],
      "text/html": [
       "<?xml version=\"1.0\" encoding=\"utf-8\"?>\n",
       "<svg xmlns=\"http://www.w3.org/2000/svg\" xmlns:xlink=\"http://www.w3.org/1999/xlink\" width=\"600\" height=\"400\" viewBox=\"0 0 2400 1600\">\n",
       "<defs>\n",
       "  <clipPath id=\"clip390\">\n",
       "    <rect x=\"0\" y=\"0\" width=\"2400\" height=\"1600\"/>\n",
       "  </clipPath>\n",
       "</defs>\n",
       "<path clip-path=\"url(#clip390)\" d=\"M0 1600 L2400 1600 L2400 0 L0 0  Z\" fill=\"#ffffff\" fill-rule=\"evenodd\" fill-opacity=\"1\"/>\n",
       "<defs>\n",
       "  <clipPath id=\"clip391\">\n",
       "    <rect x=\"480\" y=\"0\" width=\"1681\" height=\"1600\"/>\n",
       "  </clipPath>\n",
       "</defs>\n",
       "<path clip-path=\"url(#clip390)\" d=\"M214.002 1486.45 L2352.76 1486.45 L2352.76 47.2441 L214.002 47.2441  Z\" fill=\"#ffffff\" fill-rule=\"evenodd\" fill-opacity=\"1\"/>\n",
       "<defs>\n",
       "  <clipPath id=\"clip392\">\n",
       "    <rect x=\"214\" y=\"47\" width=\"2140\" height=\"1440\"/>\n",
       "  </clipPath>\n",
       "</defs>\n",
       "<polyline clip-path=\"url(#clip392)\" style=\"stroke:#000000; stroke-linecap:round; stroke-linejoin:round; stroke-width:2; stroke-opacity:0.1; fill:none\" points=\"274.533,1486.45 274.533,47.2441 \"/>\n",
       "<polyline clip-path=\"url(#clip392)\" style=\"stroke:#000000; stroke-linecap:round; stroke-linejoin:round; stroke-width:2; stroke-opacity:0.1; fill:none\" points=\"418.654,1486.45 418.654,47.2441 \"/>\n",
       "<polyline clip-path=\"url(#clip392)\" style=\"stroke:#000000; stroke-linecap:round; stroke-linejoin:round; stroke-width:2; stroke-opacity:0.1; fill:none\" points=\"562.775,1486.45 562.775,47.2441 \"/>\n",
       "<polyline clip-path=\"url(#clip392)\" style=\"stroke:#000000; stroke-linecap:round; stroke-linejoin:round; stroke-width:2; stroke-opacity:0.1; fill:none\" points=\"706.896,1486.45 706.896,47.2441 \"/>\n",
       "<polyline clip-path=\"url(#clip392)\" style=\"stroke:#000000; stroke-linecap:round; stroke-linejoin:round; stroke-width:2; stroke-opacity:0.1; fill:none\" points=\"851.017,1486.45 851.017,47.2441 \"/>\n",
       "<polyline clip-path=\"url(#clip392)\" style=\"stroke:#000000; stroke-linecap:round; stroke-linejoin:round; stroke-width:2; stroke-opacity:0.1; fill:none\" points=\"995.137,1486.45 995.137,47.2441 \"/>\n",
       "<polyline clip-path=\"url(#clip392)\" style=\"stroke:#000000; stroke-linecap:round; stroke-linejoin:round; stroke-width:2; stroke-opacity:0.1; fill:none\" points=\"1139.26,1486.45 1139.26,47.2441 \"/>\n",
       "<polyline clip-path=\"url(#clip392)\" style=\"stroke:#000000; stroke-linecap:round; stroke-linejoin:round; stroke-width:2; stroke-opacity:0.1; fill:none\" points=\"1283.38,1486.45 1283.38,47.2441 \"/>\n",
       "<polyline clip-path=\"url(#clip392)\" style=\"stroke:#000000; stroke-linecap:round; stroke-linejoin:round; stroke-width:2; stroke-opacity:0.1; fill:none\" points=\"1427.5,1486.45 1427.5,47.2441 \"/>\n",
       "<polyline clip-path=\"url(#clip392)\" style=\"stroke:#000000; stroke-linecap:round; stroke-linejoin:round; stroke-width:2; stroke-opacity:0.1; fill:none\" points=\"1571.62,1486.45 1571.62,47.2441 \"/>\n",
       "<polyline clip-path=\"url(#clip392)\" style=\"stroke:#000000; stroke-linecap:round; stroke-linejoin:round; stroke-width:2; stroke-opacity:0.1; fill:none\" points=\"1715.74,1486.45 1715.74,47.2441 \"/>\n",
       "<polyline clip-path=\"url(#clip392)\" style=\"stroke:#000000; stroke-linecap:round; stroke-linejoin:round; stroke-width:2; stroke-opacity:0.1; fill:none\" points=\"1859.86,1486.45 1859.86,47.2441 \"/>\n",
       "<polyline clip-path=\"url(#clip392)\" style=\"stroke:#000000; stroke-linecap:round; stroke-linejoin:round; stroke-width:2; stroke-opacity:0.1; fill:none\" points=\"2003.98,1486.45 2003.98,47.2441 \"/>\n",
       "<polyline clip-path=\"url(#clip392)\" style=\"stroke:#000000; stroke-linecap:round; stroke-linejoin:round; stroke-width:2; stroke-opacity:0.1; fill:none\" points=\"2148.1,1486.45 2148.1,47.2441 \"/>\n",
       "<polyline clip-path=\"url(#clip392)\" style=\"stroke:#000000; stroke-linecap:round; stroke-linejoin:round; stroke-width:2; stroke-opacity:0.1; fill:none\" points=\"2292.23,1486.45 2292.23,47.2441 \"/>\n",
       "<polyline clip-path=\"url(#clip392)\" style=\"stroke:#000000; stroke-linecap:round; stroke-linejoin:round; stroke-width:2; stroke-opacity:0.1; fill:none\" points=\"214.002,1425.94 2352.76,1425.94 \"/>\n",
       "<polyline clip-path=\"url(#clip392)\" style=\"stroke:#000000; stroke-linecap:round; stroke-linejoin:round; stroke-width:2; stroke-opacity:0.1; fill:none\" points=\"214.002,1324.73 2352.76,1324.73 \"/>\n",
       "<polyline clip-path=\"url(#clip392)\" style=\"stroke:#000000; stroke-linecap:round; stroke-linejoin:round; stroke-width:2; stroke-opacity:0.1; fill:none\" points=\"214.002,1223.51 2352.76,1223.51 \"/>\n",
       "<polyline clip-path=\"url(#clip392)\" style=\"stroke:#000000; stroke-linecap:round; stroke-linejoin:round; stroke-width:2; stroke-opacity:0.1; fill:none\" points=\"214.002,1122.29 2352.76,1122.29 \"/>\n",
       "<polyline clip-path=\"url(#clip392)\" style=\"stroke:#000000; stroke-linecap:round; stroke-linejoin:round; stroke-width:2; stroke-opacity:0.1; fill:none\" points=\"214.002,1021.08 2352.76,1021.08 \"/>\n",
       "<polyline clip-path=\"url(#clip392)\" style=\"stroke:#000000; stroke-linecap:round; stroke-linejoin:round; stroke-width:2; stroke-opacity:0.1; fill:none\" points=\"214.002,919.859 2352.76,919.859 \"/>\n",
       "<polyline clip-path=\"url(#clip392)\" style=\"stroke:#000000; stroke-linecap:round; stroke-linejoin:round; stroke-width:2; stroke-opacity:0.1; fill:none\" points=\"214.002,818.641 2352.76,818.641 \"/>\n",
       "<polyline clip-path=\"url(#clip392)\" style=\"stroke:#000000; stroke-linecap:round; stroke-linejoin:round; stroke-width:2; stroke-opacity:0.1; fill:none\" points=\"214.002,717.424 2352.76,717.424 \"/>\n",
       "<polyline clip-path=\"url(#clip392)\" style=\"stroke:#000000; stroke-linecap:round; stroke-linejoin:round; stroke-width:2; stroke-opacity:0.1; fill:none\" points=\"214.002,616.207 2352.76,616.207 \"/>\n",
       "<polyline clip-path=\"url(#clip392)\" style=\"stroke:#000000; stroke-linecap:round; stroke-linejoin:round; stroke-width:2; stroke-opacity:0.1; fill:none\" points=\"214.002,514.99 2352.76,514.99 \"/>\n",
       "<polyline clip-path=\"url(#clip392)\" style=\"stroke:#000000; stroke-linecap:round; stroke-linejoin:round; stroke-width:2; stroke-opacity:0.1; fill:none\" points=\"214.002,413.773 2352.76,413.773 \"/>\n",
       "<polyline clip-path=\"url(#clip392)\" style=\"stroke:#000000; stroke-linecap:round; stroke-linejoin:round; stroke-width:2; stroke-opacity:0.1; fill:none\" points=\"214.002,312.555 2352.76,312.555 \"/>\n",
       "<polyline clip-path=\"url(#clip392)\" style=\"stroke:#000000; stroke-linecap:round; stroke-linejoin:round; stroke-width:2; stroke-opacity:0.1; fill:none\" points=\"214.002,211.338 2352.76,211.338 \"/>\n",
       "<polyline clip-path=\"url(#clip392)\" style=\"stroke:#000000; stroke-linecap:round; stroke-linejoin:round; stroke-width:2; stroke-opacity:0.1; fill:none\" points=\"214.002,110.121 2352.76,110.121 \"/>\n",
       "<polyline clip-path=\"url(#clip390)\" style=\"stroke:#000000; stroke-linecap:round; stroke-linejoin:round; stroke-width:4; stroke-opacity:1; fill:none\" points=\"214.002,1486.45 2352.76,1486.45 \"/>\n",
       "<polyline clip-path=\"url(#clip390)\" style=\"stroke:#000000; stroke-linecap:round; stroke-linejoin:round; stroke-width:4; stroke-opacity:1; fill:none\" points=\"274.533,1486.45 274.533,1467.55 \"/>\n",
       "<polyline clip-path=\"url(#clip390)\" style=\"stroke:#000000; stroke-linecap:round; stroke-linejoin:round; stroke-width:4; stroke-opacity:1; fill:none\" points=\"418.654,1486.45 418.654,1467.55 \"/>\n",
       "<polyline clip-path=\"url(#clip390)\" style=\"stroke:#000000; stroke-linecap:round; stroke-linejoin:round; stroke-width:4; stroke-opacity:1; fill:none\" points=\"562.775,1486.45 562.775,1467.55 \"/>\n",
       "<polyline clip-path=\"url(#clip390)\" style=\"stroke:#000000; stroke-linecap:round; stroke-linejoin:round; stroke-width:4; stroke-opacity:1; fill:none\" points=\"706.896,1486.45 706.896,1467.55 \"/>\n",
       "<polyline clip-path=\"url(#clip390)\" style=\"stroke:#000000; stroke-linecap:round; stroke-linejoin:round; stroke-width:4; stroke-opacity:1; fill:none\" points=\"851.017,1486.45 851.017,1467.55 \"/>\n",
       "<polyline clip-path=\"url(#clip390)\" style=\"stroke:#000000; stroke-linecap:round; stroke-linejoin:round; stroke-width:4; stroke-opacity:1; fill:none\" points=\"995.137,1486.45 995.137,1467.55 \"/>\n",
       "<polyline clip-path=\"url(#clip390)\" style=\"stroke:#000000; stroke-linecap:round; stroke-linejoin:round; stroke-width:4; stroke-opacity:1; fill:none\" points=\"1139.26,1486.45 1139.26,1467.55 \"/>\n",
       "<polyline clip-path=\"url(#clip390)\" style=\"stroke:#000000; stroke-linecap:round; stroke-linejoin:round; stroke-width:4; stroke-opacity:1; fill:none\" points=\"1283.38,1486.45 1283.38,1467.55 \"/>\n",
       "<polyline clip-path=\"url(#clip390)\" style=\"stroke:#000000; stroke-linecap:round; stroke-linejoin:round; stroke-width:4; stroke-opacity:1; fill:none\" points=\"1427.5,1486.45 1427.5,1467.55 \"/>\n",
       "<polyline clip-path=\"url(#clip390)\" style=\"stroke:#000000; stroke-linecap:round; stroke-linejoin:round; stroke-width:4; stroke-opacity:1; fill:none\" points=\"1571.62,1486.45 1571.62,1467.55 \"/>\n",
       "<polyline clip-path=\"url(#clip390)\" style=\"stroke:#000000; stroke-linecap:round; stroke-linejoin:round; stroke-width:4; stroke-opacity:1; fill:none\" points=\"1715.74,1486.45 1715.74,1467.55 \"/>\n",
       "<polyline clip-path=\"url(#clip390)\" style=\"stroke:#000000; stroke-linecap:round; stroke-linejoin:round; stroke-width:4; stroke-opacity:1; fill:none\" points=\"1859.86,1486.45 1859.86,1467.55 \"/>\n",
       "<polyline clip-path=\"url(#clip390)\" style=\"stroke:#000000; stroke-linecap:round; stroke-linejoin:round; stroke-width:4; stroke-opacity:1; fill:none\" points=\"2003.98,1486.45 2003.98,1467.55 \"/>\n",
       "<polyline clip-path=\"url(#clip390)\" style=\"stroke:#000000; stroke-linecap:round; stroke-linejoin:round; stroke-width:4; stroke-opacity:1; fill:none\" points=\"2148.1,1486.45 2148.1,1467.55 \"/>\n",
       "<polyline clip-path=\"url(#clip390)\" style=\"stroke:#000000; stroke-linecap:round; stroke-linejoin:round; stroke-width:4; stroke-opacity:1; fill:none\" points=\"2292.23,1486.45 2292.23,1467.55 \"/>\n",
       "<path clip-path=\"url(#clip390)\" d=\"M274.533 1517.37 Q270.922 1517.37 269.093 1520.93 Q267.288 1524.47 267.288 1531.6 Q267.288 1538.71 269.093 1542.27 Q270.922 1545.82 274.533 1545.82 Q278.167 1545.82 279.973 1542.27 Q281.802 1538.71 281.802 1531.6 Q281.802 1524.47 279.973 1520.93 Q278.167 1517.37 274.533 1517.37 M274.533 1513.66 Q280.343 1513.66 283.399 1518.27 Q286.478 1522.85 286.478 1531.6 Q286.478 1540.33 283.399 1544.94 Q280.343 1549.52 274.533 1549.52 Q268.723 1549.52 265.644 1544.94 Q262.589 1540.33 262.589 1531.6 Q262.589 1522.85 265.644 1518.27 Q268.723 1513.66 274.533 1513.66 Z\" fill=\"#000000\" fill-rule=\"nonzero\" fill-opacity=\"1\" /><path clip-path=\"url(#clip390)\" d=\"M409.036 1544.91 L416.675 1544.91 L416.675 1518.55 L408.365 1520.21 L408.365 1515.95 L416.629 1514.29 L421.305 1514.29 L421.305 1544.91 L428.943 1544.91 L428.943 1548.85 L409.036 1548.85 L409.036 1544.91 Z\" fill=\"#000000\" fill-rule=\"nonzero\" fill-opacity=\"1\" /><path clip-path=\"url(#clip390)\" d=\"M557.428 1544.91 L573.747 1544.91 L573.747 1548.85 L551.803 1548.85 L551.803 1544.91 Q554.465 1542.16 559.048 1537.53 Q563.655 1532.88 564.835 1531.53 Q567.08 1529.01 567.96 1527.27 Q568.863 1525.51 568.863 1523.82 Q568.863 1521.07 566.918 1519.33 Q564.997 1517.6 561.895 1517.6 Q559.696 1517.6 557.243 1518.36 Q554.812 1519.13 552.034 1520.68 L552.034 1515.95 Q554.858 1514.82 557.312 1514.24 Q559.766 1513.66 561.803 1513.66 Q567.173 1513.66 570.367 1516.35 Q573.562 1519.03 573.562 1523.52 Q573.562 1525.65 572.752 1527.57 Q571.965 1529.47 569.858 1532.07 Q569.28 1532.74 566.178 1535.95 Q563.076 1539.15 557.428 1544.91 Z\" fill=\"#000000\" fill-rule=\"nonzero\" fill-opacity=\"1\" /><path clip-path=\"url(#clip390)\" d=\"M711.143 1530.21 Q714.5 1530.93 716.375 1533.2 Q718.273 1535.47 718.273 1538.8 Q718.273 1543.92 714.755 1546.72 Q711.236 1549.52 704.755 1549.52 Q702.579 1549.52 700.264 1549.08 Q697.972 1548.66 695.519 1547.81 L695.519 1543.29 Q697.463 1544.43 699.778 1545.01 Q702.093 1545.58 704.616 1545.58 Q709.014 1545.58 711.305 1543.85 Q713.62 1542.11 713.62 1538.8 Q713.62 1535.75 711.467 1534.03 Q709.338 1532.3 705.518 1532.3 L701.491 1532.3 L701.491 1528.45 L705.704 1528.45 Q709.153 1528.45 710.981 1527.09 Q712.81 1525.7 712.81 1523.11 Q712.81 1520.45 710.912 1519.03 Q709.037 1517.6 705.518 1517.6 Q703.597 1517.6 701.398 1518.01 Q699.199 1518.43 696.56 1519.31 L696.56 1515.14 Q699.222 1514.4 701.537 1514.03 Q703.875 1513.66 705.935 1513.66 Q711.259 1513.66 714.361 1516.09 Q717.463 1518.5 717.463 1522.62 Q717.463 1525.49 715.819 1527.48 Q714.176 1529.45 711.143 1530.21 Z\" fill=\"#000000\" fill-rule=\"nonzero\" fill-opacity=\"1\" /><path clip-path=\"url(#clip390)\" d=\"M854.026 1518.36 L842.22 1536.81 L854.026 1536.81 L854.026 1518.36 M852.799 1514.29 L858.679 1514.29 L858.679 1536.81 L863.609 1536.81 L863.609 1540.7 L858.679 1540.7 L858.679 1548.85 L854.026 1548.85 L854.026 1540.7 L838.424 1540.7 L838.424 1536.19 L852.799 1514.29 Z\" fill=\"#000000\" fill-rule=\"nonzero\" fill-opacity=\"1\" /><path clip-path=\"url(#clip390)\" d=\"M985.415 1514.29 L1003.77 1514.29 L1003.77 1518.22 L989.698 1518.22 L989.698 1526.7 Q990.716 1526.35 991.735 1526.19 Q992.753 1526 993.772 1526 Q999.559 1526 1002.94 1529.17 Q1006.32 1532.34 1006.32 1537.76 Q1006.32 1543.34 1002.85 1546.44 Q999.374 1549.52 993.054 1549.52 Q990.878 1549.52 988.61 1549.15 Q986.364 1548.78 983.957 1548.04 L983.957 1543.34 Q986.04 1544.47 988.263 1545.03 Q990.485 1545.58 992.962 1545.58 Q996.966 1545.58 999.304 1543.48 Q1001.64 1541.37 1001.64 1537.76 Q1001.64 1534.15 999.304 1532.04 Q996.966 1529.94 992.962 1529.94 Q991.087 1529.94 989.212 1530.35 Q987.36 1530.77 985.415 1531.65 L985.415 1514.29 Z\" fill=\"#000000\" fill-rule=\"nonzero\" fill-opacity=\"1\" /><path clip-path=\"url(#clip390)\" d=\"M1139.66 1529.7 Q1136.52 1529.7 1134.66 1531.86 Q1132.83 1534.01 1132.83 1537.76 Q1132.83 1541.49 1134.66 1543.66 Q1136.52 1545.82 1139.66 1545.82 Q1142.81 1545.82 1144.64 1543.66 Q1146.49 1541.49 1146.49 1537.76 Q1146.49 1534.01 1144.64 1531.86 Q1142.81 1529.7 1139.66 1529.7 M1148.95 1515.05 L1148.95 1519.31 Q1147.19 1518.48 1145.38 1518.04 Q1143.6 1517.6 1141.84 1517.6 Q1137.21 1517.6 1134.76 1520.72 Q1132.33 1523.85 1131.98 1530.17 Q1133.34 1528.15 1135.4 1527.09 Q1137.46 1526 1139.94 1526 Q1145.15 1526 1148.16 1529.17 Q1151.19 1532.32 1151.19 1537.76 Q1151.19 1543.08 1148.04 1546.3 Q1144.89 1549.52 1139.66 1549.52 Q1133.67 1549.52 1130.5 1544.94 Q1127.33 1540.33 1127.33 1531.6 Q1127.33 1523.41 1131.21 1518.55 Q1135.1 1513.66 1141.65 1513.66 Q1143.41 1513.66 1145.2 1514.01 Q1147 1514.36 1148.95 1515.05 Z\" fill=\"#000000\" fill-rule=\"nonzero\" fill-opacity=\"1\" /><path clip-path=\"url(#clip390)\" d=\"M1272.27 1514.29 L1294.49 1514.29 L1294.49 1516.28 L1281.94 1548.85 L1277.06 1548.85 L1288.87 1518.22 L1272.27 1518.22 L1272.27 1514.29 Z\" fill=\"#000000\" fill-rule=\"nonzero\" fill-opacity=\"1\" /><path clip-path=\"url(#clip390)\" d=\"M1427.5 1532.44 Q1424.17 1532.44 1422.25 1534.22 Q1420.35 1536 1420.35 1539.13 Q1420.35 1542.25 1422.25 1544.03 Q1424.17 1545.82 1427.5 1545.82 Q1430.83 1545.82 1432.75 1544.03 Q1434.68 1542.23 1434.68 1539.13 Q1434.68 1536 1432.75 1534.22 Q1430.86 1532.44 1427.5 1532.44 M1422.82 1530.45 Q1419.81 1529.7 1418.13 1527.64 Q1416.46 1525.58 1416.46 1522.62 Q1416.46 1518.48 1419.4 1516.07 Q1422.36 1513.66 1427.5 1513.66 Q1432.66 1513.66 1435.6 1516.07 Q1438.54 1518.48 1438.54 1522.62 Q1438.54 1525.58 1436.85 1527.64 Q1435.19 1529.7 1432.2 1530.45 Q1435.58 1531.23 1437.45 1533.52 Q1439.35 1535.82 1439.35 1539.13 Q1439.35 1544.15 1436.27 1546.83 Q1433.22 1549.52 1427.5 1549.52 Q1421.78 1549.52 1418.7 1546.83 Q1415.65 1544.15 1415.65 1539.13 Q1415.65 1535.82 1417.55 1533.52 Q1419.44 1531.23 1422.82 1530.45 M1421.11 1523.06 Q1421.11 1525.75 1422.78 1527.25 Q1424.47 1528.76 1427.5 1528.76 Q1430.51 1528.76 1432.2 1527.25 Q1433.91 1525.75 1433.91 1523.06 Q1433.91 1520.38 1432.2 1518.87 Q1430.51 1517.37 1427.5 1517.37 Q1424.47 1517.37 1422.78 1518.87 Q1421.11 1520.38 1421.11 1523.06 Z\" fill=\"#000000\" fill-rule=\"nonzero\" fill-opacity=\"1\" /><path clip-path=\"url(#clip390)\" d=\"M1561.92 1548.13 L1561.92 1543.87 Q1563.68 1544.7 1565.49 1545.14 Q1567.29 1545.58 1569.03 1545.58 Q1573.66 1545.58 1576.09 1542.48 Q1578.54 1539.36 1578.89 1533.01 Q1577.55 1535.01 1575.49 1536.07 Q1573.43 1537.13 1570.93 1537.13 Q1565.74 1537.13 1562.71 1534.01 Q1559.7 1530.86 1559.7 1525.42 Q1559.7 1520.1 1562.85 1516.88 Q1566 1513.66 1571.23 1513.66 Q1577.22 1513.66 1580.37 1518.27 Q1583.54 1522.85 1583.54 1531.6 Q1583.54 1539.77 1579.65 1544.66 Q1575.79 1549.52 1569.24 1549.52 Q1567.48 1549.52 1565.67 1549.17 Q1563.87 1548.82 1561.92 1548.13 M1571.23 1533.48 Q1574.38 1533.48 1576.2 1531.32 Q1578.06 1529.17 1578.06 1525.42 Q1578.06 1521.7 1576.2 1519.54 Q1574.38 1517.37 1571.23 1517.37 Q1568.08 1517.37 1566.23 1519.54 Q1564.4 1521.7 1564.4 1525.42 Q1564.4 1529.17 1566.23 1531.32 Q1568.08 1533.48 1571.23 1533.48 Z\" fill=\"#000000\" fill-rule=\"nonzero\" fill-opacity=\"1\" /><path clip-path=\"url(#clip390)\" d=\"M1690.43 1544.91 L1698.07 1544.91 L1698.07 1518.55 L1689.76 1520.21 L1689.76 1515.95 L1698.02 1514.29 L1702.7 1514.29 L1702.7 1544.91 L1710.34 1544.91 L1710.34 1548.85 L1690.43 1548.85 L1690.43 1544.91 Z\" fill=\"#000000\" fill-rule=\"nonzero\" fill-opacity=\"1\" /><path clip-path=\"url(#clip390)\" d=\"M1729.78 1517.37 Q1726.17 1517.37 1724.34 1520.93 Q1722.54 1524.47 1722.54 1531.6 Q1722.54 1538.71 1724.34 1542.27 Q1726.17 1545.82 1729.78 1545.82 Q1733.42 1545.82 1735.22 1542.27 Q1737.05 1538.71 1737.05 1531.6 Q1737.05 1524.47 1735.22 1520.93 Q1733.42 1517.37 1729.78 1517.37 M1729.78 1513.66 Q1735.59 1513.66 1738.65 1518.27 Q1741.73 1522.85 1741.73 1531.6 Q1741.73 1540.33 1738.65 1544.94 Q1735.59 1549.52 1729.78 1549.52 Q1723.97 1549.52 1720.89 1544.94 Q1717.84 1540.33 1717.84 1531.6 Q1717.84 1522.85 1720.89 1518.27 Q1723.97 1513.66 1729.78 1513.66 Z\" fill=\"#000000\" fill-rule=\"nonzero\" fill-opacity=\"1\" /><path clip-path=\"url(#clip390)\" d=\"M1835.16 1544.91 L1842.8 1544.91 L1842.8 1518.55 L1834.49 1520.21 L1834.49 1515.95 L1842.76 1514.29 L1847.43 1514.29 L1847.43 1544.91 L1855.07 1544.91 L1855.07 1548.85 L1835.16 1548.85 L1835.16 1544.91 Z\" fill=\"#000000\" fill-rule=\"nonzero\" fill-opacity=\"1\" /><path clip-path=\"url(#clip390)\" d=\"M1865.33 1544.91 L1872.96 1544.91 L1872.96 1518.55 L1864.65 1520.21 L1864.65 1515.95 L1872.92 1514.29 L1877.59 1514.29 L1877.59 1544.91 L1885.23 1544.91 L1885.23 1548.85 L1865.33 1548.85 L1865.33 1544.91 Z\" fill=\"#000000\" fill-rule=\"nonzero\" fill-opacity=\"1\" /><path clip-path=\"url(#clip390)\" d=\"M1979.47 1544.91 L1987.11 1544.91 L1987.11 1518.55 L1978.8 1520.21 L1978.8 1515.95 L1987.06 1514.29 L1991.74 1514.29 L1991.74 1544.91 L1999.38 1544.91 L1999.38 1548.85 L1979.47 1548.85 L1979.47 1544.91 Z\" fill=\"#000000\" fill-rule=\"nonzero\" fill-opacity=\"1\" /><path clip-path=\"url(#clip390)\" d=\"M2012.85 1544.91 L2029.17 1544.91 L2029.17 1548.85 L2007.22 1548.85 L2007.22 1544.91 Q2009.89 1542.16 2014.47 1537.53 Q2019.08 1532.88 2020.26 1531.53 Q2022.5 1529.01 2023.38 1527.27 Q2024.28 1525.51 2024.28 1523.82 Q2024.28 1521.07 2022.34 1519.33 Q2020.42 1517.6 2017.32 1517.6 Q2015.12 1517.6 2012.66 1518.36 Q2010.23 1519.13 2007.46 1520.68 L2007.46 1515.95 Q2010.28 1514.82 2012.73 1514.24 Q2015.19 1513.66 2017.22 1513.66 Q2022.59 1513.66 2025.79 1516.35 Q2028.98 1519.03 2028.98 1523.52 Q2028.98 1525.65 2028.17 1527.57 Q2027.39 1529.47 2025.28 1532.07 Q2024.7 1532.74 2021.6 1535.95 Q2018.5 1539.15 2012.85 1544.91 Z\" fill=\"#000000\" fill-rule=\"nonzero\" fill-opacity=\"1\" /><path clip-path=\"url(#clip390)\" d=\"M2123.12 1544.91 L2130.75 1544.91 L2130.75 1518.55 L2122.44 1520.21 L2122.44 1515.95 L2130.71 1514.29 L2135.38 1514.29 L2135.38 1544.91 L2143.02 1544.91 L2143.02 1548.85 L2123.12 1548.85 L2123.12 1544.91 Z\" fill=\"#000000\" fill-rule=\"nonzero\" fill-opacity=\"1\" /><path clip-path=\"url(#clip390)\" d=\"M2166.63 1530.21 Q2169.99 1530.93 2171.87 1533.2 Q2173.76 1535.47 2173.76 1538.8 Q2173.76 1543.92 2170.25 1546.72 Q2166.73 1549.52 2160.25 1549.52 Q2158.07 1549.52 2155.75 1549.08 Q2153.46 1548.66 2151.01 1547.81 L2151.01 1543.29 Q2152.95 1544.43 2155.27 1545.01 Q2157.58 1545.58 2160.11 1545.58 Q2164.5 1545.58 2166.8 1543.85 Q2169.11 1542.11 2169.11 1538.8 Q2169.11 1535.75 2166.96 1534.03 Q2164.83 1532.3 2161.01 1532.3 L2156.98 1532.3 L2156.98 1528.45 L2161.19 1528.45 Q2164.64 1528.45 2166.47 1527.09 Q2168.3 1525.7 2168.3 1523.11 Q2168.3 1520.45 2166.4 1519.03 Q2164.53 1517.6 2161.01 1517.6 Q2159.09 1517.6 2156.89 1518.01 Q2154.69 1518.43 2152.05 1519.31 L2152.05 1515.14 Q2154.71 1514.4 2157.03 1514.03 Q2159.37 1513.66 2161.43 1513.66 Q2166.75 1513.66 2169.85 1516.09 Q2172.95 1518.5 2172.95 1522.62 Q2172.95 1525.49 2171.31 1527.48 Q2169.67 1529.45 2166.63 1530.21 Z\" fill=\"#000000\" fill-rule=\"nonzero\" fill-opacity=\"1\" /><path clip-path=\"url(#clip390)\" d=\"M2266.67 1544.91 L2274.31 1544.91 L2274.31 1518.55 L2266 1520.21 L2266 1515.95 L2274.26 1514.29 L2278.94 1514.29 L2278.94 1544.91 L2286.58 1544.91 L2286.58 1548.85 L2266.67 1548.85 L2266.67 1544.91 Z\" fill=\"#000000\" fill-rule=\"nonzero\" fill-opacity=\"1\" /><path clip-path=\"url(#clip390)\" d=\"M2308.87 1518.36 L2297.06 1536.81 L2308.87 1536.81 L2308.87 1518.36 M2307.64 1514.29 L2313.52 1514.29 L2313.52 1536.81 L2318.45 1536.81 L2318.45 1540.7 L2313.52 1540.7 L2313.52 1548.85 L2308.87 1548.85 L2308.87 1540.7 L2293.27 1540.7 L2293.27 1536.19 L2307.64 1514.29 Z\" fill=\"#000000\" fill-rule=\"nonzero\" fill-opacity=\"1\" /><polyline clip-path=\"url(#clip390)\" style=\"stroke:#000000; stroke-linecap:round; stroke-linejoin:round; stroke-width:4; stroke-opacity:1; fill:none\" points=\"214.002,1486.45 214.002,47.2441 \"/>\n",
       "<polyline clip-path=\"url(#clip390)\" style=\"stroke:#000000; stroke-linecap:round; stroke-linejoin:round; stroke-width:4; stroke-opacity:1; fill:none\" points=\"214.002,1425.94 232.9,1425.94 \"/>\n",
       "<polyline clip-path=\"url(#clip390)\" style=\"stroke:#000000; stroke-linecap:round; stroke-linejoin:round; stroke-width:4; stroke-opacity:1; fill:none\" points=\"214.002,1324.73 232.9,1324.73 \"/>\n",
       "<polyline clip-path=\"url(#clip390)\" style=\"stroke:#000000; stroke-linecap:round; stroke-linejoin:round; stroke-width:4; stroke-opacity:1; fill:none\" points=\"214.002,1223.51 232.9,1223.51 \"/>\n",
       "<polyline clip-path=\"url(#clip390)\" style=\"stroke:#000000; stroke-linecap:round; stroke-linejoin:round; stroke-width:4; stroke-opacity:1; fill:none\" points=\"214.002,1122.29 232.9,1122.29 \"/>\n",
       "<polyline clip-path=\"url(#clip390)\" style=\"stroke:#000000; stroke-linecap:round; stroke-linejoin:round; stroke-width:4; stroke-opacity:1; fill:none\" points=\"214.002,1021.08 232.9,1021.08 \"/>\n",
       "<polyline clip-path=\"url(#clip390)\" style=\"stroke:#000000; stroke-linecap:round; stroke-linejoin:round; stroke-width:4; stroke-opacity:1; fill:none\" points=\"214.002,919.859 232.9,919.859 \"/>\n",
       "<polyline clip-path=\"url(#clip390)\" style=\"stroke:#000000; stroke-linecap:round; stroke-linejoin:round; stroke-width:4; stroke-opacity:1; fill:none\" points=\"214.002,818.641 232.9,818.641 \"/>\n",
       "<polyline clip-path=\"url(#clip390)\" style=\"stroke:#000000; stroke-linecap:round; stroke-linejoin:round; stroke-width:4; stroke-opacity:1; fill:none\" points=\"214.002,717.424 232.9,717.424 \"/>\n",
       "<polyline clip-path=\"url(#clip390)\" style=\"stroke:#000000; stroke-linecap:round; stroke-linejoin:round; stroke-width:4; stroke-opacity:1; fill:none\" points=\"214.002,616.207 232.9,616.207 \"/>\n",
       "<polyline clip-path=\"url(#clip390)\" style=\"stroke:#000000; stroke-linecap:round; stroke-linejoin:round; stroke-width:4; stroke-opacity:1; fill:none\" points=\"214.002,514.99 232.9,514.99 \"/>\n",
       "<polyline clip-path=\"url(#clip390)\" style=\"stroke:#000000; stroke-linecap:round; stroke-linejoin:round; stroke-width:4; stroke-opacity:1; fill:none\" points=\"214.002,413.773 232.9,413.773 \"/>\n",
       "<polyline clip-path=\"url(#clip390)\" style=\"stroke:#000000; stroke-linecap:round; stroke-linejoin:round; stroke-width:4; stroke-opacity:1; fill:none\" points=\"214.002,312.555 232.9,312.555 \"/>\n",
       "<polyline clip-path=\"url(#clip390)\" style=\"stroke:#000000; stroke-linecap:round; stroke-linejoin:round; stroke-width:4; stroke-opacity:1; fill:none\" points=\"214.002,211.338 232.9,211.338 \"/>\n",
       "<polyline clip-path=\"url(#clip390)\" style=\"stroke:#000000; stroke-linecap:round; stroke-linejoin:round; stroke-width:4; stroke-opacity:1; fill:none\" points=\"214.002,110.121 232.9,110.121 \"/>\n",
       "<path clip-path=\"url(#clip390)\" d=\"M52.8671 1445.74 L60.506 1445.74 L60.506 1419.37 L52.1958 1421.04 L52.1958 1416.78 L60.4597 1415.11 L65.1356 1415.11 L65.1356 1445.74 L72.7744 1445.74 L72.7744 1449.67 L52.8671 1449.67 L52.8671 1445.74 Z\" fill=\"#000000\" fill-rule=\"nonzero\" fill-opacity=\"1\" /><path clip-path=\"url(#clip390)\" d=\"M92.2188 1418.19 Q88.6077 1418.19 86.779 1421.76 Q84.9734 1425.3 84.9734 1432.43 Q84.9734 1439.53 86.779 1443.1 Q88.6077 1446.64 92.2188 1446.64 Q95.853 1446.64 97.6585 1443.1 Q99.4872 1439.53 99.4872 1432.43 Q99.4872 1425.3 97.6585 1421.76 Q95.853 1418.19 92.2188 1418.19 M92.2188 1414.49 Q98.0289 1414.49 101.084 1419.09 Q104.163 1423.68 104.163 1432.43 Q104.163 1441.15 101.084 1445.76 Q98.0289 1450.34 92.2188 1450.34 Q86.4086 1450.34 83.3299 1445.76 Q80.2744 1441.15 80.2744 1432.43 Q80.2744 1423.68 83.3299 1419.09 Q86.4086 1414.49 92.2188 1414.49 Z\" fill=\"#000000\" fill-rule=\"nonzero\" fill-opacity=\"1\" /><path clip-path=\"url(#clip390)\" d=\"M104.163 1408.59 L128.275 1408.59 L128.275 1411.79 L104.163 1411.79 L104.163 1408.59 Z\" fill=\"#000000\" fill-rule=\"nonzero\" fill-opacity=\"1\" /><path clip-path=\"url(#clip390)\" d=\"M137.133 1419.06 L143.34 1419.06 L143.34 1397.64 L136.588 1399 L136.588 1395.54 L143.302 1394.18 L147.101 1394.18 L147.101 1419.06 L153.308 1419.06 L153.308 1422.26 L137.133 1422.26 L137.133 1419.06 Z\" fill=\"#000000\" fill-rule=\"nonzero\" fill-opacity=\"1\" /><path clip-path=\"url(#clip390)\" d=\"M161.019 1394.18 L175.934 1394.18 L175.934 1397.38 L164.498 1397.38 L164.498 1404.26 Q165.326 1403.98 166.154 1403.85 Q166.981 1403.7 167.809 1403.7 Q172.511 1403.7 175.257 1406.28 Q178.002 1408.85 178.002 1413.25 Q178.002 1417.79 175.181 1420.31 Q172.36 1422.81 167.226 1422.81 Q165.458 1422.81 163.614 1422.51 Q161.79 1422.21 159.834 1421.6 L159.834 1417.79 Q161.527 1418.71 163.332 1419.16 Q165.138 1419.61 167.15 1419.61 Q170.404 1419.61 172.304 1417.9 Q174.203 1416.19 174.203 1413.25 Q174.203 1410.32 172.304 1408.61 Q170.404 1406.9 167.15 1406.9 Q165.627 1406.9 164.103 1407.23 Q162.599 1407.57 161.019 1408.29 L161.019 1394.18 Z\" fill=\"#000000\" fill-rule=\"nonzero\" fill-opacity=\"1\" /><path clip-path=\"url(#clip390)\" d=\"M51.6634 1344.52 L59.3023 1344.52 L59.3023 1318.15 L50.9921 1319.82 L50.9921 1315.56 L59.256 1313.9 L63.9319 1313.9 L63.9319 1344.52 L71.5707 1344.52 L71.5707 1348.46 L51.6634 1348.46 L51.6634 1344.52 Z\" fill=\"#000000\" fill-rule=\"nonzero\" fill-opacity=\"1\" /><path clip-path=\"url(#clip390)\" d=\"M91.0151 1316.97 Q87.404 1316.97 85.5753 1320.54 Q83.7697 1324.08 83.7697 1331.21 Q83.7697 1338.32 85.5753 1341.88 Q87.404 1345.42 91.0151 1345.42 Q94.6493 1345.42 96.4548 1341.88 Q98.2835 1338.32 98.2835 1331.21 Q98.2835 1324.08 96.4548 1320.54 Q94.6493 1316.97 91.0151 1316.97 M91.0151 1313.27 Q96.8252 1313.27 99.8808 1317.88 Q102.959 1322.46 102.959 1331.21 Q102.959 1339.94 99.8808 1344.54 Q96.8252 1349.13 91.0151 1349.13 Q85.2049 1349.13 82.1262 1344.54 Q79.0707 1339.94 79.0707 1331.21 Q79.0707 1322.46 82.1262 1317.88 Q85.2049 1313.27 91.0151 1313.27 Z\" fill=\"#000000\" fill-rule=\"nonzero\" fill-opacity=\"1\" /><path clip-path=\"url(#clip390)\" d=\"M102.959 1307.37 L127.071 1307.37 L127.071 1310.57 L102.959 1310.57 L102.959 1307.37 Z\" fill=\"#000000\" fill-rule=\"nonzero\" fill-opacity=\"1\" /><path clip-path=\"url(#clip390)\" d=\"M135.929 1317.85 L142.136 1317.85 L142.136 1296.43 L135.384 1297.78 L135.384 1294.32 L142.098 1292.96 L145.898 1292.96 L145.898 1317.85 L152.104 1317.85 L152.104 1321.04 L135.929 1321.04 L135.929 1317.85 Z\" fill=\"#000000\" fill-rule=\"nonzero\" fill-opacity=\"1\" /><path clip-path=\"url(#clip390)\" d=\"M170.216 1296.27 L160.624 1311.26 L170.216 1311.26 L170.216 1296.27 M169.219 1292.96 L173.996 1292.96 L173.996 1311.26 L178.002 1311.26 L178.002 1314.42 L173.996 1314.42 L173.996 1321.04 L170.216 1321.04 L170.216 1314.42 L157.54 1314.42 L157.54 1310.76 L169.219 1292.96 Z\" fill=\"#000000\" fill-rule=\"nonzero\" fill-opacity=\"1\" /><path clip-path=\"url(#clip390)\" d=\"M52.585 1243.3 L60.2238 1243.3 L60.2238 1216.94 L51.9137 1218.6 L51.9137 1214.34 L60.1776 1212.68 L64.8535 1212.68 L64.8535 1243.3 L72.4923 1243.3 L72.4923 1247.24 L52.585 1247.24 L52.585 1243.3 Z\" fill=\"#000000\" fill-rule=\"nonzero\" fill-opacity=\"1\" /><path clip-path=\"url(#clip390)\" d=\"M91.9366 1215.76 Q88.3255 1215.76 86.4969 1219.32 Q84.6913 1222.86 84.6913 1229.99 Q84.6913 1237.1 86.4969 1240.66 Q88.3255 1244.21 91.9366 1244.21 Q95.5709 1244.21 97.3764 1240.66 Q99.2051 1237.1 99.2051 1229.99 Q99.2051 1222.86 97.3764 1219.32 Q95.5709 1215.76 91.9366 1215.76 M91.9366 1212.05 Q97.7468 1212.05 100.802 1216.66 Q103.881 1221.24 103.881 1229.99 Q103.881 1238.72 100.802 1243.33 Q97.7468 1247.91 91.9366 1247.91 Q86.1265 1247.91 83.0478 1243.33 Q79.9923 1238.72 79.9923 1229.99 Q79.9923 1221.24 83.0478 1216.66 Q86.1265 1212.05 91.9366 1212.05 Z\" fill=\"#000000\" fill-rule=\"nonzero\" fill-opacity=\"1\" /><path clip-path=\"url(#clip390)\" d=\"M103.881 1206.15 L127.993 1206.15 L127.993 1209.35 L103.881 1209.35 L103.881 1206.15 Z\" fill=\"#000000\" fill-rule=\"nonzero\" fill-opacity=\"1\" /><path clip-path=\"url(#clip390)\" d=\"M136.851 1216.63 L143.058 1216.63 L143.058 1195.21 L136.306 1196.56 L136.306 1193.1 L143.02 1191.75 L146.819 1191.75 L146.819 1216.63 L153.026 1216.63 L153.026 1219.83 L136.851 1219.83 L136.851 1216.63 Z\" fill=\"#000000\" fill-rule=\"nonzero\" fill-opacity=\"1\" /><path clip-path=\"url(#clip390)\" d=\"M172.21 1204.69 Q174.937 1205.27 176.46 1207.11 Q178.002 1208.96 178.002 1211.66 Q178.002 1215.82 175.144 1218.1 Q172.285 1220.37 167.019 1220.37 Q165.251 1220.37 163.37 1220.02 Q161.508 1219.68 159.514 1218.98 L159.514 1215.31 Q161.094 1216.24 162.975 1216.71 Q164.856 1217.18 166.906 1217.18 Q170.479 1217.18 172.341 1215.76 Q174.222 1214.35 174.222 1211.66 Q174.222 1209.18 172.473 1207.79 Q170.743 1206.38 167.639 1206.38 L164.367 1206.38 L164.367 1203.26 L167.79 1203.26 Q170.592 1203.26 172.078 1202.15 Q173.564 1201.02 173.564 1198.91 Q173.564 1196.75 172.022 1195.6 Q170.498 1194.44 167.639 1194.44 Q166.078 1194.44 164.292 1194.78 Q162.505 1195.11 160.361 1195.83 L160.361 1192.44 Q162.524 1191.84 164.404 1191.54 Q166.304 1191.24 167.978 1191.24 Q172.304 1191.24 174.824 1193.21 Q177.344 1195.17 177.344 1198.52 Q177.344 1200.85 176.009 1202.47 Q174.673 1204.07 172.21 1204.69 Z\" fill=\"#000000\" fill-rule=\"nonzero\" fill-opacity=\"1\" /><path clip-path=\"url(#clip390)\" d=\"M53.3561 1142.09 L60.995 1142.09 L60.995 1115.72 L52.6848 1117.39 L52.6848 1113.13 L60.9487 1111.46 L65.6246 1111.46 L65.6246 1142.09 L73.2634 1142.09 L73.2634 1146.02 L53.3561 1146.02 L53.3561 1142.09 Z\" fill=\"#000000\" fill-rule=\"nonzero\" fill-opacity=\"1\" /><path clip-path=\"url(#clip390)\" d=\"M92.7078 1114.54 Q89.0967 1114.54 87.268 1118.1 Q85.4624 1121.65 85.4624 1128.78 Q85.4624 1135.88 87.268 1139.45 Q89.0967 1142.99 92.7078 1142.99 Q96.342 1142.99 98.1475 1139.45 Q99.9762 1135.88 99.9762 1128.78 Q99.9762 1121.65 98.1475 1118.1 Q96.342 1114.54 92.7078 1114.54 M92.7078 1110.84 Q98.5179 1110.84 101.573 1115.44 Q104.652 1120.03 104.652 1128.78 Q104.652 1137.5 101.573 1142.11 Q98.5179 1146.69 92.7078 1146.69 Q86.8976 1146.69 83.8189 1142.11 Q80.7634 1137.5 80.7634 1128.78 Q80.7634 1120.03 83.8189 1115.44 Q86.8976 1110.84 92.7078 1110.84 Z\" fill=\"#000000\" fill-rule=\"nonzero\" fill-opacity=\"1\" /><path clip-path=\"url(#clip390)\" d=\"M104.652 1104.94 L128.764 1104.94 L128.764 1108.13 L104.652 1108.13 L104.652 1104.94 Z\" fill=\"#000000\" fill-rule=\"nonzero\" fill-opacity=\"1\" /><path clip-path=\"url(#clip390)\" d=\"M137.622 1115.41 L143.829 1115.41 L143.829 1093.99 L137.077 1095.35 L137.077 1091.88 L143.791 1090.53 L147.59 1090.53 L147.59 1115.41 L153.797 1115.41 L153.797 1118.61 L137.622 1118.61 L137.622 1115.41 Z\" fill=\"#000000\" fill-rule=\"nonzero\" fill-opacity=\"1\" /><path clip-path=\"url(#clip390)\" d=\"M164.743 1115.41 L178.002 1115.41 L178.002 1118.61 L160.173 1118.61 L160.173 1115.41 Q162.336 1113.17 166.06 1109.41 Q169.802 1105.63 170.761 1104.54 Q172.586 1102.49 173.3 1101.08 Q174.034 1099.65 174.034 1098.28 Q174.034 1096.04 172.454 1094.63 Q170.893 1093.22 168.373 1093.22 Q166.586 1093.22 164.593 1093.84 Q162.618 1094.46 160.361 1095.72 L160.361 1091.88 Q162.655 1090.96 164.649 1090.49 Q166.643 1090.02 168.298 1090.02 Q172.661 1090.02 175.257 1092.2 Q177.852 1094.39 177.852 1098.03 Q177.852 1099.76 177.194 1101.33 Q176.554 1102.87 174.843 1104.97 Q174.373 1105.52 171.852 1108.13 Q169.332 1110.73 164.743 1115.41 Z\" fill=\"#000000\" fill-rule=\"nonzero\" fill-opacity=\"1\" /><path clip-path=\"url(#clip390)\" d=\"M53.0552 1040.87 L60.694 1040.87 L60.694 1014.5 L52.3839 1016.17 L52.3839 1011.91 L60.6477 1010.24 L65.3236 1010.24 L65.3236 1040.87 L72.9625 1040.87 L72.9625 1044.8 L53.0552 1044.8 L53.0552 1040.87 Z\" fill=\"#000000\" fill-rule=\"nonzero\" fill-opacity=\"1\" /><path clip-path=\"url(#clip390)\" d=\"M92.4068 1013.32 Q88.7957 1013.32 86.967 1016.89 Q85.1615 1020.43 85.1615 1027.56 Q85.1615 1034.66 86.967 1038.23 Q88.7957 1041.77 92.4068 1041.77 Q96.0411 1041.77 97.8466 1038.23 Q99.6753 1034.66 99.6753 1027.56 Q99.6753 1020.43 97.8466 1016.89 Q96.0411 1013.32 92.4068 1013.32 M92.4068 1009.62 Q98.217 1009.62 101.273 1014.22 Q104.351 1018.81 104.351 1027.56 Q104.351 1036.28 101.273 1040.89 Q98.217 1045.47 92.4068 1045.47 Q86.5967 1045.47 83.518 1040.89 Q80.4625 1036.28 80.4625 1027.56 Q80.4625 1018.81 83.518 1014.22 Q86.5967 1009.62 92.4068 1009.62 Z\" fill=\"#000000\" fill-rule=\"nonzero\" fill-opacity=\"1\" /><path clip-path=\"url(#clip390)\" d=\"M104.351 1003.72 L128.463 1003.72 L128.463 1006.92 L104.351 1006.92 L104.351 1003.72 Z\" fill=\"#000000\" fill-rule=\"nonzero\" fill-opacity=\"1\" /><path clip-path=\"url(#clip390)\" d=\"M137.321 1014.2 L143.528 1014.2 L143.528 992.774 L136.776 994.128 L136.776 990.667 L143.49 989.313 L147.289 989.313 L147.289 1014.2 L153.496 1014.2 L153.496 1017.39 L137.321 1017.39 L137.321 1014.2 Z\" fill=\"#000000\" fill-rule=\"nonzero\" fill-opacity=\"1\" /><path clip-path=\"url(#clip390)\" d=\"M161.828 1014.2 L168.034 1014.2 L168.034 992.774 L161.282 994.128 L161.282 990.667 L167.997 989.313 L171.796 989.313 L171.796 1014.2 L178.002 1014.2 L178.002 1017.39 L161.828 1017.39 L161.828 1014.2 Z\" fill=\"#000000\" fill-rule=\"nonzero\" fill-opacity=\"1\" /><path clip-path=\"url(#clip390)\" d=\"M52.0584 939.651 L59.6972 939.651 L59.6972 913.285 L51.3871 914.952 L51.3871 910.693 L59.6509 909.026 L64.3268 909.026 L64.3268 939.651 L71.9657 939.651 L71.9657 943.586 L52.0584 943.586 L52.0584 939.651 Z\" fill=\"#000000\" fill-rule=\"nonzero\" fill-opacity=\"1\" /><path clip-path=\"url(#clip390)\" d=\"M91.41 912.105 Q87.7989 912.105 85.9702 915.67 Q84.1647 919.211 84.1647 926.341 Q84.1647 933.447 85.9702 937.012 Q87.7989 940.554 91.41 940.554 Q95.0443 940.554 96.8498 937.012 Q98.6785 933.447 98.6785 926.341 Q98.6785 919.211 96.8498 915.67 Q95.0443 912.105 91.41 912.105 M91.41 908.401 Q97.2202 908.401 100.276 913.008 Q103.354 917.591 103.354 926.341 Q103.354 935.068 100.276 939.674 Q97.2202 944.257 91.41 944.257 Q85.5999 944.257 82.5212 939.674 Q79.4656 935.068 79.4656 926.341 Q79.4656 917.591 82.5212 913.008 Q85.5999 908.401 91.41 908.401 Z\" fill=\"#000000\" fill-rule=\"nonzero\" fill-opacity=\"1\" /><path clip-path=\"url(#clip390)\" d=\"M103.354 902.503 L127.466 902.503 L127.466 905.7 L103.354 905.7 L103.354 902.503 Z\" fill=\"#000000\" fill-rule=\"nonzero\" fill-opacity=\"1\" /><path clip-path=\"url(#clip390)\" d=\"M136.324 912.978 L142.531 912.978 L142.531 891.556 L135.779 892.911 L135.779 889.45 L142.493 888.096 L146.293 888.096 L146.293 912.978 L152.499 912.978 L152.499 916.176 L136.324 916.176 L136.324 912.978 Z\" fill=\"#000000\" fill-rule=\"nonzero\" fill-opacity=\"1\" /><path clip-path=\"url(#clip390)\" d=\"M168.298 890.597 Q165.364 890.597 163.878 893.494 Q162.411 896.371 162.411 902.164 Q162.411 907.938 163.878 910.834 Q165.364 913.712 168.298 913.712 Q171.25 913.712 172.717 910.834 Q174.203 907.938 174.203 902.164 Q174.203 896.371 172.717 893.494 Q171.25 890.597 168.298 890.597 M168.298 887.588 Q173.018 887.588 175.501 891.331 Q178.002 895.055 178.002 902.164 Q178.002 909.255 175.501 912.997 Q173.018 916.721 168.298 916.721 Q163.577 916.721 161.075 912.997 Q158.593 909.255 158.593 902.164 Q158.593 895.055 161.075 891.331 Q163.577 887.588 168.298 887.588 Z\" fill=\"#000000\" fill-rule=\"nonzero\" fill-opacity=\"1\" /><path clip-path=\"url(#clip390)\" d=\"M76.7154 838.434 L84.3542 838.434 L84.3542 812.068 L76.0441 813.735 L76.0441 809.476 L84.3079 807.809 L88.9838 807.809 L88.9838 838.434 L96.6227 838.434 L96.6227 842.369 L76.7154 842.369 L76.7154 838.434 Z\" fill=\"#000000\" fill-rule=\"nonzero\" fill-opacity=\"1\" /><path clip-path=\"url(#clip390)\" d=\"M116.067 810.888 Q112.456 810.888 110.627 814.452 Q108.822 817.994 108.822 825.124 Q108.822 832.23 110.627 835.795 Q112.456 839.337 116.067 839.337 Q119.701 839.337 121.507 835.795 Q123.335 832.23 123.335 825.124 Q123.335 817.994 121.507 814.452 Q119.701 810.888 116.067 810.888 M116.067 807.184 Q121.877 807.184 124.933 811.79 Q128.011 816.374 128.011 825.124 Q128.011 833.851 124.933 838.457 Q121.877 843.04 116.067 843.04 Q110.257 843.04 107.178 838.457 Q104.123 833.851 104.123 825.124 Q104.123 816.374 107.178 811.79 Q110.257 807.184 116.067 807.184 Z\" fill=\"#000000\" fill-rule=\"nonzero\" fill-opacity=\"1\" /><path clip-path=\"url(#clip390)\" d=\"M128.011 801.285 L152.123 801.285 L152.123 804.483 L128.011 804.483 L128.011 801.285 Z\" fill=\"#000000\" fill-rule=\"nonzero\" fill-opacity=\"1\" /><path clip-path=\"url(#clip390)\" d=\"M160.436 814.376 L160.436 810.915 Q161.865 811.592 163.332 811.949 Q164.799 812.307 166.21 812.307 Q169.972 812.307 171.946 809.786 Q173.94 807.247 174.222 802.094 Q173.131 803.712 171.457 804.577 Q169.783 805.442 167.752 805.442 Q163.539 805.442 161.075 802.903 Q158.63 800.345 158.63 795.925 Q158.63 791.599 161.188 788.985 Q163.746 786.371 167.997 786.371 Q172.868 786.371 175.426 790.114 Q178.002 793.837 178.002 800.947 Q178.002 807.586 174.843 811.554 Q171.702 815.504 166.379 815.504 Q164.95 815.504 163.483 815.222 Q162.016 814.94 160.436 814.376 M167.997 802.47 Q170.555 802.47 172.04 800.721 Q173.545 798.972 173.545 795.925 Q173.545 792.897 172.04 791.148 Q170.555 789.38 167.997 789.38 Q165.439 789.38 163.934 791.148 Q162.448 792.897 162.448 795.925 Q162.448 798.972 163.934 800.721 Q165.439 802.47 167.997 802.47 Z\" fill=\"#000000\" fill-rule=\"nonzero\" fill-opacity=\"1\" /><path clip-path=\"url(#clip390)\" d=\"M76.6401 737.217 L84.279 737.217 L84.279 710.851 L75.9688 712.518 L75.9688 708.258 L84.2327 706.592 L88.9086 706.592 L88.9086 737.217 L96.5474 737.217 L96.5474 741.152 L76.6401 741.152 L76.6401 737.217 Z\" fill=\"#000000\" fill-rule=\"nonzero\" fill-opacity=\"1\" /><path clip-path=\"url(#clip390)\" d=\"M115.992 709.67 Q112.381 709.67 110.552 713.235 Q108.746 716.777 108.746 723.907 Q108.746 731.013 110.552 734.578 Q112.381 738.119 115.992 738.119 Q119.626 738.119 121.432 734.578 Q123.26 731.013 123.26 723.907 Q123.26 716.777 121.432 713.235 Q119.626 709.67 115.992 709.67 M115.992 705.967 Q121.802 705.967 124.857 710.573 Q127.936 715.157 127.936 723.907 Q127.936 732.633 124.857 737.24 Q121.802 741.823 115.992 741.823 Q110.182 741.823 107.103 737.24 Q104.047 732.633 104.047 723.907 Q104.047 715.157 107.103 710.573 Q110.182 705.967 115.992 705.967 Z\" fill=\"#000000\" fill-rule=\"nonzero\" fill-opacity=\"1\" /><path clip-path=\"url(#clip390)\" d=\"M127.936 700.068 L152.048 700.068 L152.048 703.265 L127.936 703.265 L127.936 700.068 Z\" fill=\"#000000\" fill-rule=\"nonzero\" fill-opacity=\"1\" /><path clip-path=\"url(#clip390)\" d=\"M168.373 700.407 Q165.665 700.407 164.103 701.855 Q162.561 703.303 162.561 705.842 Q162.561 708.381 164.103 709.829 Q165.665 711.278 168.373 711.278 Q171.081 711.278 172.642 709.829 Q174.203 708.362 174.203 705.842 Q174.203 703.303 172.642 701.855 Q171.1 700.407 168.373 700.407 M164.574 698.789 Q162.129 698.187 160.756 696.513 Q159.402 694.84 159.402 692.432 Q159.402 689.066 161.79 687.11 Q164.198 685.154 168.373 685.154 Q172.567 685.154 174.956 687.11 Q177.344 689.066 177.344 692.432 Q177.344 694.84 175.971 696.513 Q174.617 698.187 172.191 698.789 Q174.937 699.429 176.46 701.291 Q178.002 703.153 178.002 705.842 Q178.002 709.923 175.501 712.105 Q173.018 714.287 168.373 714.287 Q163.727 714.287 161.226 712.105 Q158.743 709.923 158.743 705.842 Q158.743 703.153 160.286 701.291 Q161.828 699.429 164.574 698.789 M163.182 692.79 Q163.182 694.971 164.536 696.194 Q165.909 697.416 168.373 697.416 Q170.818 697.416 172.191 696.194 Q173.583 694.971 173.583 692.79 Q173.583 690.608 172.191 689.385 Q170.818 688.163 168.373 688.163 Q165.909 688.163 164.536 689.385 Q163.182 690.608 163.182 692.79 Z\" fill=\"#000000\" fill-rule=\"nonzero\" fill-opacity=\"1\" /><path clip-path=\"url(#clip390)\" d=\"M77.2984 635.999 L84.9373 635.999 L84.9373 609.634 L76.6271 611.3 L76.6271 607.041 L84.891 605.375 L89.5669 605.375 L89.5669 635.999 L97.2057 635.999 L97.2057 639.935 L77.2984 639.935 L77.2984 635.999 Z\" fill=\"#000000\" fill-rule=\"nonzero\" fill-opacity=\"1\" /><path clip-path=\"url(#clip390)\" d=\"M116.65 608.453 Q113.039 608.453 111.21 612.018 Q109.405 615.56 109.405 622.689 Q109.405 629.796 111.21 633.361 Q113.039 636.902 116.65 636.902 Q120.284 636.902 122.09 633.361 Q123.919 629.796 123.919 622.689 Q123.919 615.56 122.09 612.018 Q120.284 608.453 116.65 608.453 M116.65 604.75 Q122.46 604.75 125.516 609.356 Q128.594 613.939 128.594 622.689 Q128.594 631.416 125.516 636.023 Q122.46 640.606 116.65 640.606 Q110.84 640.606 107.761 636.023 Q104.706 631.416 104.706 622.689 Q104.706 613.939 107.761 609.356 Q110.84 604.75 116.65 604.75 Z\" fill=\"#000000\" fill-rule=\"nonzero\" fill-opacity=\"1\" /><path clip-path=\"url(#clip390)\" d=\"M128.594 598.851 L152.706 598.851 L152.706 602.048 L128.594 602.048 L128.594 598.851 Z\" fill=\"#000000\" fill-rule=\"nonzero\" fill-opacity=\"1\" /><path clip-path=\"url(#clip390)\" d=\"M159.947 584.444 L178.002 584.444 L178.002 586.062 L167.809 612.524 L163.84 612.524 L173.432 587.641 L159.947 587.641 L159.947 584.444 Z\" fill=\"#000000\" fill-rule=\"nonzero\" fill-opacity=\"1\" /><path clip-path=\"url(#clip390)\" d=\"M76.4333 534.782 L84.0721 534.782 L84.0721 508.417 L75.762 510.083 L75.762 505.824 L84.0258 504.157 L88.7017 504.157 L88.7017 534.782 L96.3406 534.782 L96.3406 538.717 L76.4333 538.717 L76.4333 534.782 Z\" fill=\"#000000\" fill-rule=\"nonzero\" fill-opacity=\"1\" /><path clip-path=\"url(#clip390)\" d=\"M115.785 507.236 Q112.174 507.236 110.345 510.801 Q108.54 514.342 108.54 521.472 Q108.54 528.579 110.345 532.143 Q112.174 535.685 115.785 535.685 Q119.419 535.685 121.225 532.143 Q123.053 528.579 123.053 521.472 Q123.053 514.342 121.225 510.801 Q119.419 507.236 115.785 507.236 M115.785 503.532 Q121.595 503.532 124.651 508.139 Q127.729 512.722 127.729 521.472 Q127.729 530.199 124.651 534.805 Q121.595 539.389 115.785 539.389 Q109.975 539.389 106.896 534.805 Q103.841 530.199 103.841 521.472 Q103.841 512.722 106.896 508.139 Q109.975 503.532 115.785 503.532 Z\" fill=\"#000000\" fill-rule=\"nonzero\" fill-opacity=\"1\" /><path clip-path=\"url(#clip390)\" d=\"M127.729 497.634 L151.841 497.634 L151.841 500.831 L127.729 500.831 L127.729 497.634 Z\" fill=\"#000000\" fill-rule=\"nonzero\" fill-opacity=\"1\" /><path clip-path=\"url(#clip390)\" d=\"M168.636 495.753 Q166.078 495.753 164.574 497.502 Q163.088 499.251 163.088 502.298 Q163.088 505.326 164.574 507.094 Q166.078 508.843 168.636 508.843 Q171.194 508.843 172.68 507.094 Q174.184 505.326 174.184 502.298 Q174.184 499.251 172.68 497.502 Q171.194 495.753 168.636 495.753 M176.178 483.848 L176.178 487.308 Q174.749 486.631 173.282 486.274 Q171.833 485.916 170.404 485.916 Q166.643 485.916 164.649 488.456 Q162.674 490.995 162.392 496.129 Q163.502 494.493 165.176 493.628 Q166.849 492.744 168.862 492.744 Q173.094 492.744 175.539 495.32 Q178.002 497.878 178.002 502.298 Q178.002 506.624 175.445 509.238 Q172.887 511.852 168.636 511.852 Q163.765 511.852 161.188 508.128 Q158.612 504.386 158.612 497.295 Q158.612 490.637 161.771 486.688 Q164.931 482.719 170.254 482.719 Q171.683 482.719 173.131 483.001 Q174.598 483.283 176.178 483.848 Z\" fill=\"#000000\" fill-rule=\"nonzero\" fill-opacity=\"1\" /><path clip-path=\"url(#clip390)\" d=\"M77.3736 433.565 L85.0125 433.565 L85.0125 407.199 L76.7023 408.866 L76.7023 404.607 L84.9662 402.94 L89.6421 402.94 L89.6421 433.565 L97.2809 433.565 L97.2809 437.5 L77.3736 437.5 L77.3736 433.565 Z\" fill=\"#000000\" fill-rule=\"nonzero\" fill-opacity=\"1\" /><path clip-path=\"url(#clip390)\" d=\"M116.725 406.019 Q113.114 406.019 111.285 409.584 Q109.48 413.125 109.48 420.255 Q109.48 427.361 111.285 430.926 Q113.114 434.468 116.725 434.468 Q120.36 434.468 122.165 430.926 Q123.994 427.361 123.994 420.255 Q123.994 413.125 122.165 409.584 Q120.36 406.019 116.725 406.019 M116.725 402.315 Q122.535 402.315 125.591 406.922 Q128.67 411.505 128.67 420.255 Q128.67 428.982 125.591 433.588 Q122.535 438.171 116.725 438.171 Q110.915 438.171 107.836 433.588 Q104.781 428.982 104.781 420.255 Q104.781 411.505 107.836 406.922 Q110.915 402.315 116.725 402.315 Z\" fill=\"#000000\" fill-rule=\"nonzero\" fill-opacity=\"1\" /><path clip-path=\"url(#clip390)\" d=\"M128.67 396.417 L152.781 396.417 L152.781 399.614 L128.67 399.614 L128.67 396.417 Z\" fill=\"#000000\" fill-rule=\"nonzero\" fill-opacity=\"1\" /><path clip-path=\"url(#clip390)\" d=\"M161.019 382.01 L175.934 382.01 L175.934 385.207 L164.498 385.207 L164.498 392.091 Q165.326 391.809 166.154 391.677 Q166.981 391.526 167.809 391.526 Q172.511 391.526 175.257 394.103 Q178.002 396.68 178.002 401.081 Q178.002 405.614 175.181 408.134 Q172.36 410.635 167.226 410.635 Q165.458 410.635 163.614 410.334 Q161.79 410.033 159.834 409.431 L159.834 405.614 Q161.527 406.535 163.332 406.986 Q165.138 407.438 167.15 407.438 Q170.404 407.438 172.304 405.726 Q174.203 404.015 174.203 401.081 Q174.203 398.147 172.304 396.435 Q170.404 394.724 167.15 394.724 Q165.627 394.724 164.103 395.062 Q162.599 395.401 161.019 396.116 L161.019 382.01 Z\" fill=\"#000000\" fill-rule=\"nonzero\" fill-opacity=\"1\" /><path clip-path=\"url(#clip390)\" d=\"M76.1699 332.348 L83.8088 332.348 L83.8088 305.982 L75.4986 307.649 L75.4986 303.39 L83.7625 301.723 L88.4384 301.723 L88.4384 332.348 L96.0772 332.348 L96.0772 336.283 L76.1699 336.283 L76.1699 332.348 Z\" fill=\"#000000\" fill-rule=\"nonzero\" fill-opacity=\"1\" /><path clip-path=\"url(#clip390)\" d=\"M115.522 304.802 Q111.91 304.802 110.082 308.366 Q108.276 311.908 108.276 319.038 Q108.276 326.144 110.082 329.709 Q111.91 333.251 115.522 333.251 Q119.156 333.251 120.961 329.709 Q122.79 326.144 122.79 319.038 Q122.79 311.908 120.961 308.366 Q119.156 304.802 115.522 304.802 M115.522 301.098 Q121.332 301.098 124.387 305.704 Q127.466 310.288 127.466 319.038 Q127.466 327.764 124.387 332.371 Q121.332 336.954 115.522 336.954 Q109.711 336.954 106.633 332.371 Q103.577 327.764 103.577 319.038 Q103.577 310.288 106.633 305.704 Q109.711 301.098 115.522 301.098 Z\" fill=\"#000000\" fill-rule=\"nonzero\" fill-opacity=\"1\" /><path clip-path=\"url(#clip390)\" d=\"M127.466 295.199 L151.578 295.199 L151.578 298.397 L127.466 298.397 L127.466 295.199 Z\" fill=\"#000000\" fill-rule=\"nonzero\" fill-opacity=\"1\" /><path clip-path=\"url(#clip390)\" d=\"M170.216 284.103 L160.624 299.093 L170.216 299.093 L170.216 284.103 M169.219 280.793 L173.996 280.793 L173.996 299.093 L178.002 299.093 L178.002 302.252 L173.996 302.252 L173.996 308.873 L170.216 308.873 L170.216 302.252 L157.54 302.252 L157.54 298.585 L169.219 280.793 Z\" fill=\"#000000\" fill-rule=\"nonzero\" fill-opacity=\"1\" /><path clip-path=\"url(#clip390)\" d=\"M77.0915 231.131 L84.7304 231.131 L84.7304 204.765 L76.4202 206.432 L76.4202 202.172 L84.6841 200.506 L89.36 200.506 L89.36 231.131 L96.9988 231.131 L96.9988 235.066 L77.0915 235.066 L77.0915 231.131 Z\" fill=\"#000000\" fill-rule=\"nonzero\" fill-opacity=\"1\" /><path clip-path=\"url(#clip390)\" d=\"M116.443 203.584 Q112.832 203.584 111.003 207.149 Q109.198 210.691 109.198 217.82 Q109.198 224.927 111.003 228.492 Q112.832 232.033 116.443 232.033 Q120.077 232.033 121.883 228.492 Q123.712 224.927 123.712 217.82 Q123.712 210.691 121.883 207.149 Q120.077 203.584 116.443 203.584 M116.443 199.881 Q122.253 199.881 125.309 204.487 Q128.388 209.071 128.388 217.82 Q128.388 226.547 125.309 231.154 Q122.253 235.737 116.443 235.737 Q110.633 235.737 107.554 231.154 Q104.499 226.547 104.499 217.82 Q104.499 209.071 107.554 204.487 Q110.633 199.881 116.443 199.881 Z\" fill=\"#000000\" fill-rule=\"nonzero\" fill-opacity=\"1\" /><path clip-path=\"url(#clip390)\" d=\"M128.388 193.982 L152.499 193.982 L152.499 197.179 L128.388 197.179 L128.388 193.982 Z\" fill=\"#000000\" fill-rule=\"nonzero\" fill-opacity=\"1\" /><path clip-path=\"url(#clip390)\" d=\"M172.21 192.515 Q174.937 193.098 176.46 194.941 Q178.002 196.784 178.002 199.493 Q178.002 203.649 175.144 205.925 Q172.285 208.201 167.019 208.201 Q165.251 208.201 163.37 207.843 Q161.508 207.505 159.514 206.809 L159.514 203.141 Q161.094 204.063 162.975 204.533 Q164.856 205.003 166.906 205.003 Q170.479 205.003 172.341 203.593 Q174.222 202.182 174.222 199.493 Q174.222 197.01 172.473 195.618 Q170.743 194.208 167.639 194.208 L164.367 194.208 L164.367 191.086 L167.79 191.086 Q170.592 191.086 172.078 189.976 Q173.564 188.848 173.564 186.741 Q173.564 184.578 172.022 183.431 Q170.498 182.265 167.639 182.265 Q166.078 182.265 164.292 182.603 Q162.505 182.942 160.361 183.657 L160.361 180.271 Q162.524 179.669 164.404 179.368 Q166.304 179.068 167.978 179.068 Q172.304 179.068 174.824 181.042 Q177.344 182.998 177.344 186.346 Q177.344 188.678 176.009 190.296 Q174.673 191.894 172.21 192.515 Z\" fill=\"#000000\" fill-rule=\"nonzero\" fill-opacity=\"1\" /><path clip-path=\"url(#clip390)\" d=\"M77.8626 129.913 L85.5015 129.913 L85.5015 103.548 L77.1913 105.214 L77.1913 100.955 L85.4552 99.2885 L90.1311 99.2885 L90.1311 129.913 L97.7699 129.913 L97.7699 133.849 L77.8626 133.849 L77.8626 129.913 Z\" fill=\"#000000\" fill-rule=\"nonzero\" fill-opacity=\"1\" /><path clip-path=\"url(#clip390)\" d=\"M117.214 102.367 Q113.603 102.367 111.774 105.932 Q109.969 109.474 109.969 116.603 Q109.969 123.71 111.774 127.274 Q113.603 130.816 117.214 130.816 Q120.849 130.816 122.654 127.274 Q124.483 123.71 124.483 116.603 Q124.483 109.474 122.654 105.932 Q120.849 102.367 117.214 102.367 M117.214 98.6635 Q123.024 98.6635 126.08 103.27 Q129.159 107.853 129.159 116.603 Q129.159 125.33 126.08 129.937 Q123.024 134.52 117.214 134.52 Q111.404 134.52 108.325 129.937 Q105.27 125.33 105.27 116.603 Q105.27 107.853 108.325 103.27 Q111.404 98.6635 117.214 98.6635 Z\" fill=\"#000000\" fill-rule=\"nonzero\" fill-opacity=\"1\" /><path clip-path=\"url(#clip390)\" d=\"M129.159 92.7649 L153.27 92.7649 L153.27 95.9622 L129.159 95.9622 L129.159 92.7649 Z\" fill=\"#000000\" fill-rule=\"nonzero\" fill-opacity=\"1\" /><path clip-path=\"url(#clip390)\" d=\"M164.743 103.241 L178.002 103.241 L178.002 106.438 L160.173 106.438 L160.173 103.241 Q162.336 101.003 166.06 97.2411 Q169.802 93.4608 170.761 92.3699 Q172.586 90.3199 173.3 88.9093 Q174.034 87.4799 174.034 86.1069 Q174.034 83.8688 172.454 82.4582 Q170.893 81.0476 168.373 81.0476 Q166.586 81.0476 164.593 81.6683 Q162.618 82.289 160.361 83.5491 L160.361 79.7123 Q162.655 78.7907 164.649 78.3205 Q166.643 77.8503 168.298 77.8503 Q172.661 77.8503 175.257 80.032 Q177.852 82.2137 177.852 85.8624 Q177.852 87.5927 177.194 89.1538 Q176.554 90.696 174.843 92.8025 Q174.373 93.3479 171.852 95.9622 Q169.332 98.5577 164.743 103.241 Z\" fill=\"#000000\" fill-rule=\"nonzero\" fill-opacity=\"1\" /><circle clip-path=\"url(#clip392)\" cx=\"418.654\" cy=\"1445.72\" r=\"14.4\" fill=\"#009af9\" fill-rule=\"evenodd\" fill-opacity=\"1\" stroke=\"#000000\" stroke-opacity=\"1\" stroke-width=\"3.2\"/>\n",
       "<circle clip-path=\"url(#clip392)\" cx=\"562.775\" cy=\"1311.65\" r=\"14.4\" fill=\"#009af9\" fill-rule=\"evenodd\" fill-opacity=\"1\" stroke=\"#000000\" stroke-opacity=\"1\" stroke-width=\"3.2\"/>\n",
       "<circle clip-path=\"url(#clip392)\" cx=\"706.896\" cy=\"1238.14\" r=\"14.4\" fill=\"#009af9\" fill-rule=\"evenodd\" fill-opacity=\"1\" stroke=\"#000000\" stroke-opacity=\"1\" stroke-width=\"3.2\"/>\n",
       "<circle clip-path=\"url(#clip392)\" cx=\"851.017\" cy=\"1079.14\" r=\"14.4\" fill=\"#009af9\" fill-rule=\"evenodd\" fill-opacity=\"1\" stroke=\"#000000\" stroke-opacity=\"1\" stroke-width=\"3.2\"/>\n",
       "<circle clip-path=\"url(#clip392)\" cx=\"995.137\" cy=\"991.567\" r=\"14.4\" fill=\"#009af9\" fill-rule=\"evenodd\" fill-opacity=\"1\" stroke=\"#000000\" stroke-opacity=\"1\" stroke-width=\"3.2\"/>\n",
       "<circle clip-path=\"url(#clip392)\" cx=\"1139.26\" cy=\"932.146\" r=\"14.4\" fill=\"#009af9\" fill-rule=\"evenodd\" fill-opacity=\"1\" stroke=\"#000000\" stroke-opacity=\"1\" stroke-width=\"3.2\"/>\n",
       "<circle clip-path=\"url(#clip392)\" cx=\"1283.38\" cy=\"791.541\" r=\"14.4\" fill=\"#009af9\" fill-rule=\"evenodd\" fill-opacity=\"1\" stroke=\"#000000\" stroke-opacity=\"1\" stroke-width=\"3.2\"/>\n",
       "<circle clip-path=\"url(#clip392)\" cx=\"1427.5\" cy=\"713.945\" r=\"14.4\" fill=\"#009af9\" fill-rule=\"evenodd\" fill-opacity=\"1\" stroke=\"#000000\" stroke-opacity=\"1\" stroke-width=\"3.2\"/>\n",
       "<circle clip-path=\"url(#clip392)\" cx=\"1571.62\" cy=\"624.495\" r=\"14.4\" fill=\"#009af9\" fill-rule=\"evenodd\" fill-opacity=\"1\" stroke=\"#000000\" stroke-opacity=\"1\" stroke-width=\"3.2\"/>\n",
       "<circle clip-path=\"url(#clip392)\" cx=\"1715.74\" cy=\"468.552\" r=\"14.4\" fill=\"#009af9\" fill-rule=\"evenodd\" fill-opacity=\"1\" stroke=\"#000000\" stroke-opacity=\"1\" stroke-width=\"3.2\"/>\n",
       "<circle clip-path=\"url(#clip392)\" cx=\"1859.86\" cy=\"360.913\" r=\"14.4\" fill=\"#009af9\" fill-rule=\"evenodd\" fill-opacity=\"1\" stroke=\"#000000\" stroke-opacity=\"1\" stroke-width=\"3.2\"/>\n",
       "<circle clip-path=\"url(#clip392)\" cx=\"2003.98\" cy=\"267.229\" r=\"14.4\" fill=\"#009af9\" fill-rule=\"evenodd\" fill-opacity=\"1\" stroke=\"#000000\" stroke-opacity=\"1\" stroke-width=\"3.2\"/>\n",
       "<circle clip-path=\"url(#clip392)\" cx=\"2148.1\" cy=\"258.358\" r=\"14.4\" fill=\"#009af9\" fill-rule=\"evenodd\" fill-opacity=\"1\" stroke=\"#000000\" stroke-opacity=\"1\" stroke-width=\"3.2\"/>\n",
       "<circle clip-path=\"url(#clip392)\" cx=\"2292.23\" cy=\"87.9763\" r=\"14.4\" fill=\"#009af9\" fill-rule=\"evenodd\" fill-opacity=\"1\" stroke=\"#000000\" stroke-opacity=\"1\" stroke-width=\"3.2\"/>\n",
       "<path clip-path=\"url(#clip390)\" d=\"M2015.16 1438.47 L2281.46 1438.47 L2281.46 1334.79 L2015.16 1334.79  Z\" fill=\"#ffffff\" fill-rule=\"evenodd\" fill-opacity=\"1\"/>\n",
       "<polyline clip-path=\"url(#clip390)\" style=\"stroke:#000000; stroke-linecap:round; stroke-linejoin:round; stroke-width:4; stroke-opacity:1; fill:none\" points=\"2015.16,1438.47 2281.46,1438.47 2281.46,1334.79 2015.16,1334.79 2015.16,1438.47 \"/>\n",
       "<circle clip-path=\"url(#clip390)\" cx=\"2110.21\" cy=\"1386.63\" r=\"20.48\" fill=\"#009af9\" fill-rule=\"evenodd\" fill-opacity=\"1\" stroke=\"#000000\" stroke-opacity=\"1\" stroke-width=\"4.55111\"/>\n",
       "<path clip-path=\"url(#clip390)\" d=\"M2219.11 1406.32 Q2217.31 1410.95 2215.59 1412.36 Q2213.88 1413.78 2211.01 1413.78 L2207.61 1413.78 L2207.61 1410.21 L2210.11 1410.21 Q2211.87 1410.21 2212.84 1409.38 Q2213.81 1408.54 2214.99 1405.44 L2215.76 1403.5 L2205.27 1377.99 L2209.78 1377.99 L2217.89 1398.27 L2225.99 1377.99 L2230.5 1377.99 L2219.11 1406.32 Z\" fill=\"#000000\" fill-rule=\"nonzero\" fill-opacity=\"1\" /><path clip-path=\"url(#clip390)\" d=\"M2237.79 1399.98 L2245.43 1399.98 L2245.43 1373.61 L2237.12 1375.28 L2237.12 1371.02 L2245.39 1369.35 L2250.06 1369.35 L2250.06 1399.98 L2257.7 1399.98 L2257.7 1403.91 L2237.79 1403.91 L2237.79 1399.98 Z\" fill=\"#000000\" fill-rule=\"nonzero\" fill-opacity=\"1\" /></svg>\n"
      ]
     },
     "metadata": {},
     "output_type": "display_data"
    }
   ],
   "source": [
    "# TODO: Do a log-log plot for A with its 1,1 entry set to different ε and guess the growth rate.\n",
    "A = [1.0 1 1;\n",
    "     2   4 8;\n",
    "     1   4 9]\n",
    "\n",
    "B = [1, 2, 3]\n",
    "\n",
    "errs = zeros(15)\n",
    "for k in 1:15\n",
    "    ϵ = 10.0 ^ (1-k)\n",
    "    A[1,1] = ϵ\n",
    "    L, U = lu(A, NoPivot())\n",
    "    errs[k] = norm(A\\b - U\\(L\\b))\n",
    "end\n",
    "\n",
    "nanabs(x) = x == 0 ? NaN : abs(x)\n",
    "scatter(0:14, nanabs.(errs); yscale=:log10, xticks = 0:15, yticks= 10.0 .^ (-16:0), legend=:bottomright)\n",
    "    \n"
   ]
  },
  {
   "cell_type": "markdown",
   "metadata": {},
   "source": [
    "-----"
   ]
  },
  {
   "cell_type": "markdown",
   "metadata": {},
   "source": [
    "## III.2.2 PLU Factorisation"
   ]
  },
  {
   "cell_type": "markdown",
   "metadata": {},
   "source": [
    "In general it is necessary to use pivoting, a feature you have seen\n",
    "in Gaussian elimination but as Problem 1 demonstrates we need to do so even if we do not encounter\n",
    "a zero. This corresponds to a factorisation of the form\n",
    "$$\n",
    " A = P^⊤LU\n",
    "$$\n",
    "where $P$ is a permutation matrix, $L$ is lower triangular and $U$ is upper triangular.\n",
    "We compute this as follows, printing out the permutation:"
   ]
  },
  {
   "cell_type": "code",
   "execution_count": 14,
   "metadata": {},
   "outputs": [
    {
     "data": {
      "text/plain": [
       "3-element Vector{Int64}:\n",
       " 2\n",
       " 3\n",
       " 1"
      ]
     },
     "metadata": {},
     "output_type": "display_data"
    }
   ],
   "source": [
    "A = [0.1 1 1;\n",
    "     2   4 8;\n",
    "     1   4 9]\n",
    "\n",
    "L,U,σ = lu(A)\n",
    "σ"
   ]
  },
  {
   "cell_type": "markdown",
   "metadata": {},
   "source": [
    "The permutation matrix is encoded as a vector $σ$. More precisely, we have\n",
    "$$\n",
    "    P 𝐯 = 𝐯[σ]\n",
    "$$\n",
    "Thus we can solve a linear system by  first permuting the entries of the right-hand side:"
   ]
  },
  {
   "cell_type": "code",
   "execution_count": 15,
   "metadata": {},
   "outputs": [
    {
     "data": {
      "text/plain": [
       "3-element Vector{Int64}:\n",
       " 11\n",
       " 12\n",
       " 10"
      ]
     },
     "metadata": {},
     "output_type": "display_data"
    }
   ],
   "source": [
    "b = [10,11,12]\n",
    "b̃ = b[σ] # permute the entries to [b[2],b[3],b[1]]"
   ]
  },
  {
   "cell_type": "markdown",
   "metadata": {},
   "source": [
    "And then inverting $L$ and $U$ as before:"
   ]
  },
  {
   "cell_type": "code",
   "execution_count": 16,
   "metadata": {},
   "outputs": [
    {
     "name": "stdout",
     "output_type": "stream",
     "text": [
      "\u001b[91m\u001b[1mTest Failed\u001b[22m\u001b[39m at \u001b[39m\u001b[1mc:\\Users\\charu\\Documents\\GitHub\\MATH50003NumericalAnalysis\\labs\\jl_notebook_cell_df34fa98e69747e1a8f8a730347b8e2f_X43sZmlsZQ==.jl:4\u001b[22m\n",
      "  Expression: x == A \\ b\n",
      "   Evaluated: [-5.892857142857142, 15.482142857142854, -4.8928571428571415] == [-5.892857142857139, 15.48214285714285, -4.892857142857141]\n",
      "\n"
     ]
    },
    {
     "ename": "Test.FallbackTestSetException",
     "evalue": "Test.FallbackTestSetException(\"There was an error during testing\")",
     "output_type": "error",
     "traceback": [
      "Test.FallbackTestSetException(\"There was an error during testing\")\n",
      "\n",
      "Stacktrace:\n",
      " [1] record(ts::Test.FallbackTestSet, t::Union{Test.Error, Test.Fail})\n",
      "   @ Test C:\\Users\\charu\\AppData\\Local\\Programs\\Julia-1.11.2\\share\\julia\\stdlib\\v1.11\\Test\\src\\Test.jl:1026\n",
      " [2] do_test(result::Test.ExecutionResult, orig_expr::Any)\n",
      "   @ Test C:\\Users\\charu\\AppData\\Local\\Programs\\Julia-1.11.2\\share\\julia\\stdlib\\v1.11\\Test\\src\\Test.jl:712\n",
      " [3] macro expansion\n",
      "   @ C:\\Users\\charu\\AppData\\Local\\Programs\\Julia-1.11.2\\share\\julia\\stdlib\\v1.11\\Test\\src\\Test.jl:679 [inlined]\n",
      " [4] top-level scope\n",
      "   @ c:\\Users\\charu\\Documents\\GitHub\\MATH50003NumericalAnalysis\\labs\\jl_notebook_cell_df34fa98e69747e1a8f8a730347b8e2f_X43sZmlsZQ==.jl:4"
     ]
    }
   ],
   "source": [
    "c = L \\ b̃ # invert L with forward substitution\n",
    "x = U \\ c # invert U with back substitution\n",
    "\n",
    "@test x == A \\ b # \\ also use PLU to do the solve so these exactly equal"
   ]
  },
  {
   "cell_type": "markdown",
   "metadata": {},
   "source": [
    "Note in the following problems we will see that PLU is _usually_ stable but not always.\n",
    "Fortunately the set of matrices where it fails to be accurate has extremely small measure.\n",
    "The big _open problem_ in numerical linear algebra is to turn this observation into a precise statement."
   ]
  },
  {
   "cell_type": "markdown",
   "metadata": {},
   "source": [
    "-----"
   ]
  },
  {
   "cell_type": "markdown",
   "metadata": {},
   "source": [
    "**Problem 2(a)** Complete the function  `badmatrix(n)` that returns the following $ℤ^{n × n}$ matrix:\n",
    "$$\n",
    "  B_n := \\begin{bmatrix}\n",
    "      1      &&&& 1  \\\\\n",
    "      -1 & 1       &&& 1   \\\\\n",
    "      ⋮ & ⋱ & ⋱   && ⋮    \\\\\n",
    "      -1 & ⋯ & -1 & 1 & 1 \\\\\n",
    "      -1 & ⋯ & -1 & -1 & 1\n",
    "  \\end{bmatrix}\n",
    "$$\n",
    "That is: all entries below the diagonal are $-1$ whilst the diagonal and last column are $1$."
   ]
  },
  {
   "cell_type": "code",
   "execution_count": 28,
   "metadata": {},
   "outputs": [
    {
     "data": {
      "text/plain": [
       "\u001b[32m\u001b[1mTest Passed\u001b[22m\u001b[39m"
      ]
     },
     "metadata": {},
     "output_type": "display_data"
    }
   ],
   "source": [
    "function badmatrix(n)\n",
    "    # TODO: make the \"bad matrix\" with `Int` entries defined above and return it\n",
    "    # SOLUTION\n",
    "    A = zeros(Int, n, n)\n",
    "    for k = 1:n\n",
    "        A[k,n] = 1\n",
    "    end\n",
    "    for j = 1:n-1\n",
    "        A[j,j] = 1\n",
    "        for k = j+1:n\n",
    "            A[k,j] = -1\n",
    "        end\n",
    "    end\n",
    "    A\n",
    "    # END\n",
    "end\n",
    "@test badmatrix(3) isa Matrix{Int}\n",
    "@test badmatrix(3) == [1 0 1; -1 1 1; -1 -1 1]"
   ]
  },
  {
   "cell_type": "markdown",
   "metadata": {},
   "source": [
    "**Problem 2(b)** Does `lu` use pivoting with `badmatrix(n)`? Does it use\n",
    "pivoting with a small random perturbation (created via `randn(n,n)`)?"
   ]
  },
  {
   "cell_type": "code",
   "execution_count": 31,
   "metadata": {},
   "outputs": [
    {
     "data": {
      "text/plain": [
       "5-element Vector{Int64}:\n",
       " 4\n",
       " 2\n",
       " 3\n",
       " 5\n",
       " 1"
      ]
     },
     "metadata": {},
     "output_type": "display_data"
    }
   ],
   "source": [
    "# TODO: Use `lu` on `badmatrix(n)` and a small perturbation to determine if it\n",
    "# is using pivoting.\n",
    "lu(badmatrix(5)).p # == 1:5, that is no pivoting has occurred\n",
    "lu(badmatrix(5) + eps()randn(5,5)).p # ≠ 1:5, we have pivoted"
   ]
  },
  {
   "cell_type": "markdown",
   "metadata": {},
   "source": [
    "**Problem 2(c)** We can test the accuracy of a method for inverting a matrix\n",
    "by applying the matrix and seeing how different it was from the input, eg.\n",
    "computing `norm(A*(A\\b) - b)`. This would be zero if everything was done with\n",
    "exact arithmetic. Plot the norm of this error for `b = randn(n)` for `bandmatrix(n)`\n",
    "and `badmatrix(n) + 1E-15*randn(n,n)` for `n = 25, 50, 75, 100` and\n",
    "compare the observed differences in accuracy of PLU."
   ]
  },
  {
   "cell_type": "code",
   "execution_count": null,
   "metadata": {},
   "outputs": [],
   "source": [
    "# TODO: plot the error norm(A*(A\\b) - b) for the perturbed and unperturbed badmatrix(n).\n",
    "# What do you observe?"
   ]
  },
  {
   "cell_type": "markdown",
   "metadata": {},
   "source": [
    "-----"
   ]
  },
  {
   "cell_type": "markdown",
   "metadata": {},
   "source": [
    "## III.3 Cholesky factorisation"
   ]
  },
  {
   "cell_type": "markdown",
   "metadata": {},
   "source": [
    "The Cholesky factorisation is a special case of LU factorisation for the case\n",
    "when a matrix is symmetric positive definite (SPD). Hidden in the proof that a Cholesky factorisation\n",
    "exists if and only if the matrix is SPD is a simple algorithm for computing it:"
   ]
  },
  {
   "cell_type": "code",
   "execution_count": null,
   "metadata": {},
   "outputs": [],
   "source": [
    "function mycholesky(A)\n",
    "    T = eltype(A)\n",
    "    m,n = size(A)\n",
    "    if n ≠ m\n",
    "        error(\"Matrix must be square\")\n",
    "    end\n",
    "    if A ≠ A'\n",
    "        error(\"Matrix must be symmetric\")\n",
    "    end\n",
    "\n",
    "    L = LowerTriangular(zeros(T,n,n)) # a lower triangular matrix that at the end will satisfy L'L\n",
    "    Aⱼ = copy(A)\n",
    "    for j = 1:n\n",
    "        α,𝐯 = Aⱼ[1,1],Aⱼ[2:end,1]\n",
    "        if α ≤ 0\n",
    "            error(\"Matrix is not SPD\") # this error would be a proof that the matrix is not SPD, if done rigorously\n",
    "        end\n",
    "        L[j,j] = sqrt(α)\n",
    "        L[j+1:end,j] = 𝐯/sqrt(α)\n",
    "\n",
    "        # induction part\n",
    "        K = Aⱼ[2:end,2:end] # drop first row and column of A\n",
    "        Aⱼ = K - 𝐯*𝐯'/α\n",
    "    end\n",
    "    L\n",
    "end\n",
    "\n",
    "A = Symmetric(rand(100,100) + 100I) # Symmetric takes in a matrix and produces a symmetric version using the upper-triangular part.\n",
    "L = mycholesky(A)\n",
    "@test A ≈ L*L'"
   ]
  },
  {
   "cell_type": "markdown",
   "metadata": {},
   "source": [
    "With exact arithmetic algorithm succeeds if and only if $A$ is symmetric positive definite.\n",
    "With floating point errors this is not necessarily the case. (One could run it with interval arithmetic\n",
    "but that would only prove a matrix is SPD if the algorithm succeeded, failure could be caused by\n",
    "rounding.)"
   ]
  },
  {
   "cell_type": "markdown",
   "metadata": {},
   "source": [
    "In practice one would normally use the inbuilt `cholesky` function as follows:"
   ]
  },
  {
   "cell_type": "code",
   "execution_count": null,
   "metadata": {},
   "outputs": [],
   "source": [
    "L̃ = cholesky(A).L\n",
    "@test L̃ ≈ L # our implementation matches (approximately) the high-performance implementation."
   ]
  },
  {
   "cell_type": "markdown",
   "metadata": {},
   "source": [
    "In the following problem we consider a Cholesky factorisation for tridiagonal matrices. Since we are assuming the\n",
    "matrix is symmetric, we will use a special type `SymTridiagonal` that captures the symmetry.\n",
    "In particular, `SymTridiagonal(dv, ev) == Tridiagonal(ev, dv, ev)`."
   ]
  },
  {
   "cell_type": "markdown",
   "metadata": {},
   "source": [
    "-----"
   ]
  },
  {
   "cell_type": "markdown",
   "metadata": {},
   "source": [
    "**Problem 3** Use `mycholesky` or `cholesky` to deduce if the following matrices are SPD.\n",
    "$$\n",
    "\\begin{bmatrix} 1 & -1  \\\\\n",
    "-1 & 3\n",
    "\\end{bmatrix}, \\begin{bmatrix} 1 & 2 & 2  \\\\\n",
    "2 & 1 & 2\\\\\n",
    "2 & 2 & 1\n",
    "\\end{bmatrix}, \\begin{bmatrix} 3 & 2 & 1  \\\\\n",
    "2 & 4 & 2\\\\\n",
    "1 & 2 & 5\n",
    "\\end{bmatrix},\n",
    "\\begin{bmatrix} 4 & 2 & 2 & 1  \\\\\n",
    "2 & 4 & 2 & 2\\\\\n",
    "2 & 2 & 4 & 2 \\\\\n",
    "1 & 2 & 2 & 4\n",
    "\\end{bmatrix}\n",
    "$$"
   ]
  },
  {
   "cell_type": "code",
   "execution_count": null,
   "metadata": {},
   "outputs": [],
   "source": [
    "# TODO: Check if you got PS5 Q1 correct using a computer to do the Cholesky factorisation."
   ]
  },
  {
   "cell_type": "markdown",
   "metadata": {},
   "source": [
    "**Problem 4** Complete the following\n",
    "implementation of `mycholesky` to return a `Bidiagonal` cholesky factor in $O(n)$ operations."
   ]
  },
  {
   "cell_type": "code",
   "execution_count": null,
   "metadata": {},
   "outputs": [],
   "source": [
    "# return a Bidiagonal L such that L'L == A (up to machine precision)\n",
    "# You are allowed to change A\n",
    "function mycholesky(A::SymTridiagonal)\n",
    "    d = A.dv # diagonal entries of A\n",
    "    u = A.ev # sub/super-diagonal entries of A\n",
    "    T = float(eltype(A)) # return type, make float in case A has Ints\n",
    "    n = length(d)\n",
    "    ld = zeros(T, n) # diagonal entries of L\n",
    "    ll = zeros(T, n-1) # sub-diagonal entries of L\n",
    "\n",
    "    # TODO: populate the diagonal entries ld and the sub-diagonal entries ll\n",
    "    # of L so that L*L' ≈ A\n",
    "\n",
    "\n",
    "    Bidiagonal(ld, ll, :L)\n",
    "end\n",
    "\n",
    "n = 1000\n",
    "A = SymTridiagonal(2*ones(n),-ones(n-1))\n",
    "L = mycholesky(A)\n",
    "@test L isa Bidiagonal\n",
    "@test L*L' ≈ A"
   ]
  },
  {
   "cell_type": "markdown",
   "metadata": {},
   "source": [
    "---\n",
    "\n",
    "*This notebook was generated using [Literate.jl](https://github.com/fredrikekre/Literate.jl).*"
   ]
  }
 ],
 "metadata": {
  "kernelspec": {
   "display_name": "Julia 1.11.2",
   "language": "julia",
   "name": "julia-1.11"
  },
  "language_info": {
   "file_extension": ".jl",
   "mimetype": "application/julia",
   "name": "julia",
   "version": "1.11.2"
  }
 },
 "nbformat": 4,
 "nbformat_minor": 3
}
